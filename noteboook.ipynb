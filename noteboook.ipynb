{
 "cells": [
  {
   "cell_type": "markdown",
   "id": "b3a39300",
   "metadata": {},
   "source": [
    "# Proyecto 1\n",
    "El Fondo de Población de las Naciones Unidas (UNFPA), en el marco de la Agenda 2030, busca \n",
    "aprovechar las opiniones ciudadanas para identificar problemáticas relacionadas con los \n",
    "Objetivos de Desarrollo Sostenible (ODS). En particular, se requiere un sistema capaz de analizar \n",
    "y clasificar textos en tres categorías:\n",
    "\n",
    "- **ODS 1**: Fin de la pobrez\n",
    "- **ODS 3**: Salud y bienestar\n",
    "- **ODS 4**: Educación de calidad\n",
    "\n",
    "El reto consiste en desarrollar un modelo de analítica de textos que reciba como entrada una \n",
    "opinión en lenguaje natural y prediga automáticamente a cuál ODS pertenece. Este modelo \n",
    "debe ser lo suficientemente robusto para manejar textos largos, con ruido (referencias, \n",
    "paréntesis, números) y en idioma español."
   ]
  },
  {
   "cell_type": "markdown",
   "id": "c4ff7786",
   "metadata": {},
   "source": [
    "## 1. Instalación e importanción de librerías.\n"
   ]
  },
  {
   "cell_type": "code",
   "execution_count": 22,
   "id": "31bac332",
   "metadata": {},
   "outputs": [],
   "source": [
    "# --- Instalación (mac) ---\n",
    "# !python3 -m pip install -U nltk spacy scikit-learn matplotlib seaborn unidecode\n",
    "# !python3 -m spacy download es_core_news_md\n",
    "# !python3 -m pip install openpyxl\n",
    "# python3 -m pip install openpyxl\n",
    "\n",
    "\n",
    "# --- Imports base ---\n",
    "import re, string, unicodedata\n",
    "import pandas as pd\n",
    "import numpy as np\n",
    "\n",
    "import matplotlib.pyplot as plt\n",
    "import seaborn as sns\n",
    "\n",
    "import nltk\n",
    "from nltk.corpus import stopwords\n",
    "from nltk.tokenize import word_tokenize, sent_tokenize\n",
    "# Si quisieras stemming en español (no recomendado para el pipeline final):\n",
    "# from nltk.stem import SnowballStemmer\n",
    "\n",
    "import spacy\n",
    "# Carga del modelo de spaCy en español \n",
    "nlp = spacy.load(\"es_core_news_md\")\n",
    "\n",
    "# Utilidad: solo úsalo DESPUÉS de lematizar si quieres una segunda versión sin acentos\n",
    "import unidecode\n",
    "\n",
    "# Sklearn: vectorización y modelos\n",
    "from sklearn.model_selection import train_test_split, GridSearchCV\n",
    "from sklearn.feature_extraction.text import TfidfVectorizer, CountVectorizer\n",
    "from sklearn.pipeline import Pipeline\n",
    "from sklearn.svm import LinearSVC\n",
    "from sklearn.ensemble import RandomForestClassifier, AdaBoostClassifier\n",
    "from sklearn.naive_bayes import MultinomialNB\n",
    "from sklearn.metrics import classification_report, confusion_matrix\n",
    "\n",
    "# NLTK data \n",
    "import nltk\n",
    "from nltk.tokenize import RegexpTokenizer\n",
    "from collections import Counter"
   ]
  },
  {
   "cell_type": "markdown",
   "id": "ac8e264a",
   "metadata": {},
   "source": [
    "## 2. Perfilamiento y entendimiento de los datos.\n",
    "\n",
    "En esta sección realizamos la **lectura** y un primer **análisis exploratorio** de los datos \n",
    "proporcionados para el proyecto. Contamos con dos archivos principales:\n",
    "\n",
    "- Datos_proyecto.xlsx → dataset principal de opiniones ciudadanas con sus etiquetas ODS.  \n",
    "- Datos de prueba_proyecto.xlsx → dataset de prueba para evaluar el modelo seleccionado.\n"
   ]
  },
  {
   "cell_type": "markdown",
   "id": "7c05fd1f",
   "metadata": {},
   "source": [
    "### Carga de datos"
   ]
  },
  {
   "cell_type": "code",
   "execution_count": 14,
   "id": "307bd9b5",
   "metadata": {},
   "outputs": [
    {
     "data": {
      "text/html": [
       "<div>\n",
       "<style scoped>\n",
       "    .dataframe tbody tr th:only-of-type {\n",
       "        vertical-align: middle;\n",
       "    }\n",
       "\n",
       "    .dataframe tbody tr th {\n",
       "        vertical-align: top;\n",
       "    }\n",
       "\n",
       "    .dataframe thead th {\n",
       "        text-align: right;\n",
       "    }\n",
       "</style>\n",
       "<table border=\"1\" class=\"dataframe\">\n",
       "  <thead>\n",
       "    <tr style=\"text-align: right;\">\n",
       "      <th></th>\n",
       "      <th>textos</th>\n",
       "      <th>labels</th>\n",
       "    </tr>\n",
       "  </thead>\n",
       "  <tbody>\n",
       "    <tr>\n",
       "      <th>0</th>\n",
       "      <td>\"Aprendizaje\" y \"educación\" se consideran sinó...</td>\n",
       "      <td>4</td>\n",
       "    </tr>\n",
       "    <tr>\n",
       "      <th>1</th>\n",
       "      <td>Para los niños más pequeños (bebés y niños peq...</td>\n",
       "      <td>4</td>\n",
       "    </tr>\n",
       "    <tr>\n",
       "      <th>2</th>\n",
       "      <td>Además, la formación de especialistas en medic...</td>\n",
       "      <td>3</td>\n",
       "    </tr>\n",
       "    <tr>\n",
       "      <th>3</th>\n",
       "      <td>En los países de la OCDE se tiende a pasar de ...</td>\n",
       "      <td>4</td>\n",
       "    </tr>\n",
       "    <tr>\n",
       "      <th>4</th>\n",
       "      <td>Este grupo se centró en las personas que padec...</td>\n",
       "      <td>3</td>\n",
       "    </tr>\n",
       "  </tbody>\n",
       "</table>\n",
       "</div>"
      ],
      "text/plain": [
       "                                              textos  labels\n",
       "0  \"Aprendizaje\" y \"educación\" se consideran sinó...       4\n",
       "1  Para los niños más pequeños (bebés y niños peq...       4\n",
       "2  Además, la formación de especialistas en medic...       3\n",
       "3  En los países de la OCDE se tiende a pasar de ...       4\n",
       "4  Este grupo se centró en las personas que padec...       3"
      ]
     },
     "execution_count": 14,
     "metadata": {},
     "output_type": "execute_result"
    }
   ],
   "source": [
    "# Lectura del dataset principal\n",
    "data = pd.read_excel(\"Datos_proyecto.xlsx\")\n",
    "\n",
    "# Asignación a una nueva variable para trabajar\n",
    "data_t = data.copy()\n",
    "\n",
    "# Vista inicial\n",
    "data_t.head()\n"
   ]
  },
  {
   "cell_type": "code",
   "execution_count": 15,
   "id": "6693a8fe",
   "metadata": {},
   "outputs": [
    {
     "name": "stdout",
     "output_type": "stream",
     "text": [
      "<class 'pandas.core.frame.DataFrame'>\n",
      "RangeIndex: 2424 entries, 0 to 2423\n",
      "Data columns (total 2 columns):\n",
      " #   Column  Non-Null Count  Dtype \n",
      "---  ------  --------------  ----- \n",
      " 0   textos  2424 non-null   object\n",
      " 1   labels  2424 non-null   int64 \n",
      "dtypes: int64(1), object(1)\n",
      "memory usage: 38.0+ KB\n",
      "\n",
      "Valores nulos por columna:\n",
      "textos    0\n",
      "labels    0\n",
      "dtype: int64\n",
      "\n",
      "Distribución de etiquetas (ODS):\n",
      "labels\n",
      "4    1025\n",
      "3     894\n",
      "1     505\n",
      "Name: count, dtype: int64\n"
     ]
    }
   ],
   "source": [
    "# Información general: filas, columnas, tipos de datos\n",
    "data_t.info()\n",
    "\n",
    "# Valores nulos\n",
    "print(\"\\nValores nulos por columna:\")\n",
    "print(data_t.isnull().sum())\n",
    "\n",
    "# Distribución de las etiquetas\n",
    "print(\"\\nDistribución de etiquetas (ODS):\")\n",
    "print(data_t['labels'].value_counts())\n"
   ]
  },
  {
   "cell_type": "code",
   "execution_count": 16,
   "id": "188d5345",
   "metadata": {},
   "outputs": [
    {
     "name": "stdout",
     "output_type": "stream",
     "text": [
      "\n",
      "Estadísticas de la longitud de los textos:\n",
      "count    2424.000000\n",
      "mean      107.924092\n",
      "std        35.575349\n",
      "min        41.000000\n",
      "25%        81.000000\n",
      "50%       102.000000\n",
      "75%       129.000000\n",
      "max       260.000000\n",
      "Name: longitud, dtype: float64\n"
     ]
    }
   ],
   "source": [
    "# Crear columna con longitud de cada texto (en palabras)\n",
    "data_t['longitud'] = data_t['textos'].apply(lambda x: len(str(x).split()))\n",
    "\n",
    "# Estadísticas descriptivas\n",
    "print(\"\\nEstadísticas de la longitud de los textos:\")\n",
    "print(data_t['longitud'].describe())\n",
    "\n"
   ]
  },
  {
   "cell_type": "code",
   "execution_count": 17,
   "id": "c4ded381",
   "metadata": {},
   "outputs": [
    {
     "name": "stderr",
     "output_type": "stream",
     "text": [
      "/var/folders/jq/wqkcvg155zg7f2xm3sy80x5h0000gn/T/ipykernel_69333/4150625362.py:2: FutureWarning: \n",
      "\n",
      "Passing `palette` without assigning `hue` is deprecated and will be removed in v0.14.0. Assign the `x` variable to `hue` and set `legend=False` for the same effect.\n",
      "\n",
      "  sns.countplot(x='labels', data=data_t, palette='Set2')\n"
     ]
    },
    {
     "data": {
      "image/png": "[encoded data removed]",
      "text/plain": [
       "<Figure size 640x480 with 1 Axes>"
      ]
     },
     "metadata": {},
     "output_type": "display_data"
    },
    {
     "data": {
      "image/png": "[encoded data removed]",
      "text/plain": [
       "<Figure size 640x480 with 1 Axes>"
      ]
     },
     "metadata": {},
     "output_type": "display_data"
    }
   ],
   "source": [
    "\n",
    "# Distribución de las etiquetas\n",
    "sns.countplot(x='labels', data=data_t, palette='Set2')\n",
    "plt.title(\"Distribución de opiniones por ODS\")\n",
    "plt.xlabel(\"ODS (1 = Pobreza, 3 = Salud, 4 = Educación)\")\n",
    "plt.ylabel(\"Cantidad de textos\")\n",
    "plt.show()\n",
    "\n",
    "# Histograma de longitudes de texto\n",
    "sns.histplot(data_t['longitud'], bins=30, kde=True)\n",
    "plt.title(\"Distribución de longitudes de los textos (en palabras)\")\n",
    "plt.xlabel(\"Número de palabras\")\n",
    "plt.ylabel(\"Frecuencia\")\n",
    "plt.show()\n"
   ]
  },
  {
   "cell_type": "markdown",
   "id": "74233fb0",
   "metadata": {},
   "source": [
    "## 3. Preparación de los datos\n",
    "En este paso aplicamos un pipeline de limpieza en español:\n",
    "- Normalización de texto\n",
    "- Tokenización con NLTK (RegexpTokenizer, no requiere punkt)\n",
    "- Eliminación de stopwords personalizadas\n",
    "- Lematización con spaCy\n",
    "- Generación de columnas procesadas\n"
   ]
  },
  {
   "cell_type": "markdown",
   "id": "c9214b8b",
   "metadata": {},
   "source": [
    "### 3.1 Definir stopwords y listas personalizadas\n",
    "Qué hace:\n",
    "- Crea una lista de palabras vacías en español y la adapta a el dominio.  \n",
    "- Quita conectores innecesarios (*además, sin embargo…*) y protege palabras críticas de ODS (*pobreza, salud, educación*).  \n",
    "\n",
    "Por qué:\n",
    "- Si eliminamos demasiado, el modelo pierde señal.  \n",
    "- Si dejamos ruido académico, el modelo aprende cosas irrelevantes.  \n",
    "\n",
    "Ejemplo: \n",
    "- Texto original: \"La educación, sin embargo, debe mejorar\"  \n",
    "- Tras stopwords personalizadas: [\"educación\", \"mejorar\"]\n"
   ]
  },
  {
   "cell_type": "code",
   "execution_count": 18,
   "id": "b277b437",
   "metadata": {},
   "outputs": [],
   "source": [
    "# spaCy en español (usa \"lg\" si lo tienes)\n",
    "nlp = spacy.load(\"es_core_news_md\")\n",
    "\n",
    "# Stopwords base español\n",
    "try:\n",
    "    nltk.data.find(\"corpora/stopwords\")\n",
    "except LookupError:\n",
    "    nltk.download(\"stopwords\")\n",
    "STOP_ES = set(stopwords.words(\"spanish\"))\n",
    "\n",
    "# Stopwords adicionales comunes en textos académicos\n",
    "STOP_EXTRA = {\n",
    "    \"ademas\",\"asimismo\",\"sin\",\"embargo\",\"no\",\"obstante\",\"por\",\"consiguiente\",\n",
    "    \"asi\",\"mismo\",\"tambien\",\"entre\",\"otros\",\"etc\",\"respecto\",\"dicho\",\"misma\",\n",
    "    \"mismo\",\"mismas\",\"mismos\",\"puede\",\"pueden\",\"debe\",\"deben\",\"debido\",\"cual\",\n",
    "    \"cuales\",\"cualquier\",\"cada\",\"dentro\",\"fuera\",\"segun\",\"con\",\"contra\",\"hacia\",\n",
    "    \"desde\",\"sobre\",\"tras\",\"mediante\"\n",
    "}\n",
    "\n",
    "# Palabras que NO debemos eliminar (clave para ODS)\n",
    "ALLOWLIST_ODS = {\n",
    "    \"ods\",\"pobreza\",\"salud\",\"educación\",\"educacion\",\"docente\",\"docentes\",\"escuela\",\"escolar\",\n",
    "    \"universidad\",\"primaria\",\"secundaria\",\"matrícula\",\"matricula\",\"hospital\",\"atención\",\"atencion\",\n",
    "    \"paciente\",\"mental\",\"prom\",\"prem\",\"epr\",\"currículo\",\"curriculo\",\"formación\",\"formacion\"\n",
    "}\n",
    "\n",
    "# Stopwords finales\n",
    "STOP_CUSTOM = (STOP_ES | STOP_EXTRA) - ALLOWLIST_ODS\n"
   ]
  },
  {
   "cell_type": "markdown",
   "id": "10251d5e",
   "metadata": {},
   "source": [
    "### 3.2 Funciones de limpieza (con RegexpTokenizer)\n",
    "\n",
    "a) normalize_text  \n",
    "- Qué hace: convierte a minúsculas, elimina URLs, citas (OCDE 2013), paréntesis y comillas raras.  \n",
    "- Por qué: evita que el modelo confunda tokens inútiles con información relevante.  \n",
    "- Ejemplo: \"Informe de la OCDE (2013)\" → \"informe de la ocde\"\n",
    "\n",
    "b) tokenize con RegexpTokenizer \n",
    "- Qué hace: divide en palabras usando solo caracteres alfabéticos.  \n",
    "- Por qué: quita números/puntuación que no ayudan.  \n",
    "- Ejemplo: \"la educación en 2013 fue clave\" → [\"la\",\"educación\",\"en\",\"fue\",\"clave\"]\n",
    "\n",
    "c) remove_stopwords\n",
    "- Qué hace: borra stopwords pero conserva palabras críticas (ALLOWLIST).  \n",
    "- Por qué: filtra ruido pero protege la semántica de ODS.  \n",
    "- Ejemplo: [\"la\",\"educación\",\"en\",\"fue\",\"clave\"] → [\"educación\",\"clave\"]\n",
    "\n",
    "d) lemmatize_es con spaCy  \n",
    "- Qué hace: reduce palabras a su forma mas basica.  \n",
    "- Por qué: unifica variaciones (*estudiantes → estudiante, aprendiendo → aprender*).  \n",
    "- Ejemplo: [\"estudiantes\",\"aprendiendo\",\"docentes\"] → [\"estudiante\",\"aprender\",\"docente\"]\n",
    "\n",
    "e) clean_pipeline \n",
    "- Qué hace: une todos los pasos en orden → normalizar → tokenizar → stopwords → lematizar.  \n",
    "- Por qué: garantiza consistencia en todo el dataset.  \n",
    "- Ejemplo: \"Los estudiantes estaban aprendiendo en la escuela\" → [\"estudiante\",\"aprender\",\"escuela\"]\n"
   ]
  },
  {
   "cell_type": "code",
   "execution_count": null,
   "id": "063e968b",
   "metadata": {},
   "outputs": [],
   "source": [
    "\n",
    "\n",
    "# Tokenizador sin punkt\n",
    "_tokenizer = RegexpTokenizer(r\"\\w+\")\n",
    "\n",
    "def normalize_text(text: str) -> str:\n",
    "    if not isinstance(text, str):\n",
    "        return \"\"\n",
    "    t = text.lower()\n",
    "    t = re.sub(r'(https?://\\S+)|(\\S+@\\S+)', ' ', t)   # URLs y correos\n",
    "    t = re.sub(r'\\([^)]*\\d{2,4}[^)]*\\)', ' ', t)      # referencias (OCDE, 2013)\n",
    "    t = re.sub(r'[“”\"«»´`]', ' ', t)                  # comillas raras\n",
    "    t = re.sub(r'\\s+', ' ', t)                        # espacios múltiples\n",
    "    return t.strip()\n",
    "\n",
    "def tokenize(text: str):\n",
    "    toks = _tokenizer.tokenize(str(text or \"\"))\n",
    "    return [t for t in toks if t.isalpha()]\n",
    "\n",
    "def remove_stopwords(tokens):\n",
    "    return [t for t in tokens if (t not in STOP_CUSTOM) or (t in ALLOWLIST_ODS)]\n",
    "\n",
    "def lemmatize_es(tokens):\n",
    "    doc = nlp(\" \".join(tokens))\n",
    "    lemmas = [t.lemma_ for t in doc if t.is_alpha]\n",
    "    lemmas = [l for l in lemmas if (l not in STOP_CUSTOM) or (l in ALLOWLIST_ODS)]\n",
    "    return lemmas\n",
    "\n",
    "def clean_pipeline(text: str):\n",
    "    t = normalize_text(text)\n",
    "    toks = tokenize(t)\n",
    "    toks = remove_stopwords(toks)\n",
    "    lemmas = lemmatize_es(toks)\n",
    "    return lemmas\n"
   ]
  },
  {
   "cell_type": "markdown",
   "id": "17934948",
   "metadata": {},
   "source": [
    "### 3.3 Aplicar el pipeline al dataset\n",
    "\n",
    "Qué hace: \n",
    "- Aplica clean_pipeline a cada fila de la columna textos.  \n",
    "- Genera columnas nuevas:  \n",
    "  - tokens: lista de palabras limpias.  \n",
    "  - texto_limpio: texto unido (para vectorización).  \n",
    "  - longitud_tokens: tamaño del texto procesado.  \n",
    "\n",
    "Por qué: \n",
    "- Necesitamos una vista humana (tokens), una vista lista para modelos (texto_limpio) y una métrica de control (longitud_tokens).  \n",
    "\n",
    "Ejemplo: \n",
    "- Entrada: \"Los estudiantes estaban aprendiendo en la escuela\" \n",
    "- Salida:  \n",
    "  - tokens → [\"estudiante\",\"aprender\",\"escuela\"]`  \n",
    "  - texto_limpio → \"estudiante aprender escuela\"`  \n",
    "  - longitud_tokens → 3\n"
   ]
  },
  {
   "cell_type": "code",
   "execution_count": 20,
   "id": "cabdceb8",
   "metadata": {},
   "outputs": [
    {
     "data": {
      "text/html": [
       "<div>\n",
       "<style scoped>\n",
       "    .dataframe tbody tr th:only-of-type {\n",
       "        vertical-align: middle;\n",
       "    }\n",
       "\n",
       "    .dataframe tbody tr th {\n",
       "        vertical-align: top;\n",
       "    }\n",
       "\n",
       "    .dataframe thead th {\n",
       "        text-align: right;\n",
       "    }\n",
       "</style>\n",
       "<table border=\"1\" class=\"dataframe\">\n",
       "  <thead>\n",
       "    <tr style=\"text-align: right;\">\n",
       "      <th></th>\n",
       "      <th>textos</th>\n",
       "      <th>labels</th>\n",
       "      <th>texto_limpio</th>\n",
       "      <th>longitud_tokens</th>\n",
       "    </tr>\n",
       "  </thead>\n",
       "  <tbody>\n",
       "    <tr>\n",
       "      <th>0</th>\n",
       "      <td>\"Aprendizaje\" y \"educación\" se consideran sinó...</td>\n",
       "      <td>4</td>\n",
       "      <td>aprendizaje educación considerar sinónimo esco...</td>\n",
       "      <td>25</td>\n",
       "    </tr>\n",
       "    <tr>\n",
       "      <th>1</th>\n",
       "      <td>Para los niños más pequeños (bebés y niños peq...</td>\n",
       "      <td>4</td>\n",
       "      <td>niño pequeño bebé niño pequeño capacitación es...</td>\n",
       "      <td>39</td>\n",
       "    </tr>\n",
       "    <tr>\n",
       "      <th>2</th>\n",
       "      <td>Además, la formación de especialistas en medic...</td>\n",
       "      <td>3</td>\n",
       "      <td>además formación especialista medicina general...</td>\n",
       "      <td>50</td>\n",
       "    </tr>\n",
       "    <tr>\n",
       "      <th>3</th>\n",
       "      <td>En los países de la OCDE se tiende a pasar de ...</td>\n",
       "      <td>4</td>\n",
       "      <td>país ocde tender pasar curso obligatorio optat...</td>\n",
       "      <td>55</td>\n",
       "    </tr>\n",
       "    <tr>\n",
       "      <th>4</th>\n",
       "      <td>Este grupo se centró en las personas que padec...</td>\n",
       "      <td>3</td>\n",
       "      <td>grupo centrar persona padecer trastorno mental...</td>\n",
       "      <td>52</td>\n",
       "    </tr>\n",
       "  </tbody>\n",
       "</table>\n",
       "</div>"
      ],
      "text/plain": [
       "                                              textos  labels  \\\n",
       "0  \"Aprendizaje\" y \"educación\" se consideran sinó...       4   \n",
       "1  Para los niños más pequeños (bebés y niños peq...       4   \n",
       "2  Además, la formación de especialistas en medic...       3   \n",
       "3  En los países de la OCDE se tiende a pasar de ...       4   \n",
       "4  Este grupo se centró en las personas que padec...       3   \n",
       "\n",
       "                                        texto_limpio  longitud_tokens  \n",
       "0  aprendizaje educación considerar sinónimo esco...               25  \n",
       "1  niño pequeño bebé niño pequeño capacitación es...               39  \n",
       "2  además formación especialista medicina general...               50  \n",
       "3  país ocde tender pasar curso obligatorio optat...               55  \n",
       "4  grupo centrar persona padecer trastorno mental...               52  "
      ]
     },
     "execution_count": 20,
     "metadata": {},
     "output_type": "execute_result"
    }
   ],
   "source": [
    "# Aplicar pipeline\n",
    "data_t[\"tokens\"] = data_t[\"textos\"].apply(clean_pipeline)\n",
    "\n",
    "# Columnas auxiliares\n",
    "data_t[\"texto_limpio\"] = data_t[\"tokens\"].apply(lambda xs: \" \".join(xs))\n",
    "data_t[\"longitud_tokens\"] = data_t[\"tokens\"].apply(len)\n",
    "\n",
    "# Vista previa\n",
    "data_t[[\"textos\",\"labels\",\"texto_limpio\",\"longitud_tokens\"]].head()\n"
   ]
  },
  {
   "cell_type": "markdown",
   "id": "a29eacf3",
   "metadata": {},
   "source": [
    "### 3.4 Chequeos básicos\n",
    "\n",
    "Qué hace: \n",
    "- Muestra info() y valores nulos → detecta problemas de integridad.  \n",
    "- Cuenta las etiquetas (labels) → revisa desbalance.  \n",
    "- Grafica histograma de longitudes → detecta outliers o textos vacíos.  \n",
    "\n",
    "Por qué: \n",
    "- Si tenemos muchos vacíos, el modelo se entrena mal.  \n",
    "- Si hay mucho desbalance (ej. más ODS 4 que ODS 1), necesitaremos técnicas de balanceo o métricas ajustadas.  \n",
    "\n",
    "Ejemplo:\n",
    "- Histograma muestra que la mayoría de textos tienen entre 30–100 tokens.  \n",
    "- Distribución de etiquetas muestra más ODS 4 que ODS 1/3.\n"
   ]
  },
  {
   "cell_type": "code",
   "execution_count": 21,
   "id": "c1e895b9",
   "metadata": {},
   "outputs": [
    {
     "name": "stdout",
     "output_type": "stream",
     "text": [
      "<class 'pandas.core.frame.DataFrame'>\n",
      "RangeIndex: 2424 entries, 0 to 2423\n",
      "Data columns (total 6 columns):\n",
      " #   Column           Non-Null Count  Dtype \n",
      "---  ------           --------------  ----- \n",
      " 0   textos           2424 non-null   object\n",
      " 1   labels           2424 non-null   int64 \n",
      " 2   longitud         2424 non-null   int64 \n",
      " 3   tokens           2424 non-null   object\n",
      " 4   texto_limpio     2424 non-null   object\n",
      " 5   longitud_tokens  2424 non-null   int64 \n",
      "dtypes: int64(3), object(3)\n",
      "memory usage: 113.8+ KB\n",
      "None\n",
      "\n",
      "Valores nulos por columna:\n",
      "textos             0\n",
      "labels             0\n",
      "longitud           0\n",
      "tokens             0\n",
      "texto_limpio       0\n",
      "longitud_tokens    0\n",
      "dtype: int64\n",
      "\n",
      "Distribución de etiquetas (ODS):\n",
      "labels\n",
      "4    1025\n",
      "3     894\n",
      "1     505\n",
      "Name: count, dtype: int64\n"
     ]
    },
    {
     "data": {
      "image/png": "[encoded data removed]",
      "text/plain": [
       "<Figure size 640x480 with 1 Axes>"
      ]
     },
     "metadata": {},
     "output_type": "display_data"
    }
   ],
   "source": [
    "# Información del dataset\n",
    "print(data_t.info())\n",
    "\n",
    "# Valores nulos\n",
    "print(\"\\nValores nulos por columna:\")\n",
    "print(data_t.isnull().sum())\n",
    "\n",
    "# Distribución de clases\n",
    "print(\"\\nDistribución de etiquetas (ODS):\")\n",
    "print(data_t['labels'].value_counts())\n",
    "\n",
    "# Distribución de longitudes\n",
    "import matplotlib.pyplot as plt\n",
    "import seaborn as sns\n",
    "\n",
    "sns.histplot(data_t[\"longitud_tokens\"], bins=30, kde=False)\n",
    "plt.title(\"Distribución de longitudes (tokens limpios)\")\n",
    "plt.xlabel(\"Número de tokens\")\n",
    "plt.ylabel(\"Frecuencia\")\n",
    "plt.show()\n"
   ]
  },
  {
   "cell_type": "markdown",
   "id": "138b7d9d",
   "metadata": {},
   "source": [
    "### 3.5 Explorar n-gramas clave\n",
    "\n",
    "Qué hace: \n",
    "- Extrae frases frecuentes por clase.  \n",
    "\n",
    "Por qué:\n",
    "- No ayuda a saber que conceptos aparecen mas en cada ODS.    "
   ]
  },
  {
   "cell_type": "code",
   "execution_count": 24,
   "id": "05a364cb",
   "metadata": {},
   "outputs": [
    {
     "name": "stdout",
     "output_type": "stream",
     "text": [
      "\n",
      "Top bigramas ODS 1:\n",
      "  pobreza infantil  (95)\n",
      "  tasa pobrezo  (80)\n",
      "  pobreza extremo  (52)\n",
      "  protección social  (47)\n",
      "  reducción pobreza  (46)\n",
      "\n",
      "Top bigramas ODS 3:\n",
      "  salud mental  (227)\n",
      "  atención primario  (206)\n",
      "  atención salud  (94)\n",
      "  sistema salud  (84)\n",
      "  servicio salud  (81)\n",
      "\n",
      "Top bigramas ODS 4:\n",
      "  sistema educativo  (116)\n",
      "  educación superior  (107)\n",
      "  secundario superior  (80)\n",
      "  educación secundario  (67)\n",
      "  educación terciario  (62)\n"
     ]
    }
   ],
   "source": [
    "\n",
    "def top_ngrams(texts, n=2, k=5):\n",
    "    counts = Counter()\n",
    "    for t in texts:\n",
    "        toks = t.split()\n",
    "        ngs = zip(*[toks[i:] for i in range(n)])\n",
    "        counts.update([\" \".join(g) for g in ngs])\n",
    "    return counts.most_common(k)\n",
    "\n",
    "for etiqueta in sorted(data_t[\"labels\"].unique()):\n",
    "    subset = data_t.loc[data_t[\"labels\"]==etiqueta, \"texto_limpio\"].tolist()\n",
    "    print(f\"\\nTop bigramas ODS {etiqueta}:\")\n",
    "    for g,c in top_ngrams(subset, n=2, k=5):\n",
    "        print(f\"  {g}  ({c})\")\n"
   ]
  }
 ],
 "metadata": {
  "kernelspec": {
   "display_name": "Python 3.9 (mushroom)",
   "language": "python",
   "name": "mushroom-env"
  },
  "language_info": {
   "codemirror_mode": {
    "name": "ipython",
    "version": 3
   },
   "file_extension": ".py",
   "mimetype": "text/x-python",
   "name": "python",
   "nbconvert_exporter": "python",
   "pygments_lexer": "ipython3",
   "version": "3.9.12"
  }
 },
 "nbformat": 4,
 "nbformat_minor": 5
}
