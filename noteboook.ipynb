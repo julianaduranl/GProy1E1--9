{
 "cells": [
  {
   "cell_type": "markdown",
   "id": "b3a39300",
   "metadata": {},
   "source": [
    "# Proyecto 1\n",
    "El Fondo de Población de las Naciones Unidas (UNFPA), en el marco de la Agenda 2030, busca \n",
    "aprovechar las opiniones ciudadanas para identificar problemáticas relacionadas con los \n",
    "Objetivos de Desarrollo Sostenible (ODS). En particular, se requiere un sistema capaz de analizar \n",
    "y clasificar textos en tres categorías:\n",
    "\n",
    "- **ODS 1**: Fin de la pobrez\n",
    "- **ODS 3**: Salud y bienestar\n",
    "- **ODS 4**: Educación de calidad\n",
    "\n",
    "El reto consiste en desarrollar un modelo de analítica de textos que reciba como entrada una \n",
    "opinión en lenguaje natural y prediga automáticamente a cuál ODS pertenece. Este modelo \n",
    "debe ser lo suficientemente robusto para manejar textos largos, con ruido (referencias, \n",
    "paréntesis, números) y en idioma español."
   ]
  },
  {
   "cell_type": "markdown",
   "id": "c4ff7786",
   "metadata": {},
   "source": [
    "## 1. Instalación e importanción de librerías.\n"
   ]
  },
  {
   "cell_type": "code",
<<<<<<< HEAD
   "execution_count": 38,
=======
   "execution_count": 5,
   "id": "03aaeb9d",
   "metadata": {},
   "outputs": [
    {
     "name": "stdout",
     "output_type": "stream",
     "text": [
      "Requirement already satisfied: spacy in /usr/local/lib/python3.13/site-packages (3.8.7)\n",
      "Requirement already satisfied: spacy-legacy<3.1.0,>=3.0.11 in /usr/local/lib/python3.13/site-packages (from spacy) (3.0.12)\n",
      "Requirement already satisfied: spacy-loggers<2.0.0,>=1.0.0 in /usr/local/lib/python3.13/site-packages (from spacy) (1.0.5)\n",
      "Requirement already satisfied: murmurhash<1.1.0,>=0.28.0 in /usr/local/lib/python3.13/site-packages (from spacy) (1.0.13)\n",
      "Requirement already satisfied: cymem<2.1.0,>=2.0.2 in /usr/local/lib/python3.13/site-packages (from spacy) (2.0.11)\n",
      "Requirement already satisfied: preshed<3.1.0,>=3.0.2 in /usr/local/lib/python3.13/site-packages (from spacy) (3.0.10)\n",
      "Requirement already satisfied: thinc<8.4.0,>=8.3.4 in /usr/local/lib/python3.13/site-packages (from spacy) (8.3.6)\n",
      "Requirement already satisfied: wasabi<1.2.0,>=0.9.1 in /usr/local/lib/python3.13/site-packages (from spacy) (1.1.3)\n",
      "Requirement already satisfied: srsly<3.0.0,>=2.4.3 in /usr/local/lib/python3.13/site-packages (from spacy) (2.5.1)\n",
      "Requirement already satisfied: catalogue<2.1.0,>=2.0.6 in /usr/local/lib/python3.13/site-packages (from spacy) (2.0.10)\n",
      "Requirement already satisfied: weasel<0.5.0,>=0.1.0 in /usr/local/lib/python3.13/site-packages (from spacy) (0.4.1)\n",
      "Requirement already satisfied: typer<1.0.0,>=0.3.0 in /usr/local/lib/python3.13/site-packages (from spacy) (0.17.4)\n",
      "Requirement already satisfied: tqdm<5.0.0,>=4.38.0 in /usr/local/lib/python3.13/site-packages (from spacy) (4.67.1)\n",
      "Requirement already satisfied: numpy>=1.19.0 in /usr/local/lib/python3.13/site-packages (from spacy) (2.3.2)\n",
      "Requirement already satisfied: requests<3.0.0,>=2.13.0 in /usr/local/lib/python3.13/site-packages (from spacy) (2.32.5)\n",
      "Requirement already satisfied: pydantic!=1.8,!=1.8.1,<3.0.0,>=1.7.4 in /usr/local/lib/python3.13/site-packages (from spacy) (2.11.7)\n",
      "Requirement already satisfied: jinja2 in /usr/local/lib/python3.13/site-packages (from spacy) (3.1.6)\n",
      "Requirement already satisfied: setuptools in /usr/local/lib/python3.13/site-packages (from spacy) (80.9.0)\n",
      "Requirement already satisfied: packaging>=20.0 in /usr/local/lib/python3.13/site-packages (from spacy) (25.0)\n",
      "Requirement already satisfied: langcodes<4.0.0,>=3.2.0 in /usr/local/lib/python3.13/site-packages (from spacy) (3.5.0)\n",
      "Requirement already satisfied: language-data>=1.2 in /usr/local/lib/python3.13/site-packages (from langcodes<4.0.0,>=3.2.0->spacy) (1.3.0)\n",
      "Requirement already satisfied: annotated-types>=0.6.0 in /usr/local/lib/python3.13/site-packages (from pydantic!=1.8,!=1.8.1,<3.0.0,>=1.7.4->spacy) (0.7.0)\n",
      "Requirement already satisfied: pydantic-core==2.33.2 in /usr/local/lib/python3.13/site-packages (from pydantic!=1.8,!=1.8.1,<3.0.0,>=1.7.4->spacy) (2.33.2)\n",
      "Requirement already satisfied: typing-extensions>=4.12.2 in /usr/local/lib/python3.13/site-packages (from pydantic!=1.8,!=1.8.1,<3.0.0,>=1.7.4->spacy) (4.15.0)\n",
      "Requirement already satisfied: typing-inspection>=0.4.0 in /usr/local/lib/python3.13/site-packages (from pydantic!=1.8,!=1.8.1,<3.0.0,>=1.7.4->spacy) (0.4.1)\n",
      "Requirement already satisfied: charset_normalizer<4,>=2 in /usr/local/lib/python3.13/site-packages (from requests<3.0.0,>=2.13.0->spacy) (3.4.3)\n",
      "Requirement already satisfied: idna<4,>=2.5 in /usr/local/lib/python3.13/site-packages (from requests<3.0.0,>=2.13.0->spacy) (3.10)\n",
      "Requirement already satisfied: urllib3<3,>=1.21.1 in /usr/local/lib/python3.13/site-packages (from requests<3.0.0,>=2.13.0->spacy) (2.5.0)\n",
      "Requirement already satisfied: certifi>=2017.4.17 in /usr/local/lib/python3.13/site-packages (from requests<3.0.0,>=2.13.0->spacy) (2025.8.3)\n",
      "Requirement already satisfied: blis<1.4.0,>=1.3.0 in /usr/local/lib/python3.13/site-packages (from thinc<8.4.0,>=8.3.4->spacy) (1.3.0)\n",
      "Requirement already satisfied: confection<1.0.0,>=0.0.1 in /usr/local/lib/python3.13/site-packages (from thinc<8.4.0,>=8.3.4->spacy) (0.1.5)\n",
      "Requirement already satisfied: click>=8.0.0 in /usr/local/lib/python3.13/site-packages (from typer<1.0.0,>=0.3.0->spacy) (8.2.1)\n",
      "Requirement already satisfied: shellingham>=1.3.0 in /usr/local/lib/python3.13/site-packages (from typer<1.0.0,>=0.3.0->spacy) (1.5.4)\n",
      "Requirement already satisfied: rich>=10.11.0 in /usr/local/lib/python3.13/site-packages (from typer<1.0.0,>=0.3.0->spacy) (14.1.0)\n",
      "Requirement already satisfied: cloudpathlib<1.0.0,>=0.7.0 in /usr/local/lib/python3.13/site-packages (from weasel<0.5.0,>=0.1.0->spacy) (0.22.0)\n",
      "Requirement already satisfied: smart-open<8.0.0,>=5.2.1 in /usr/local/lib/python3.13/site-packages (from weasel<0.5.0,>=0.1.0->spacy) (7.3.1)\n",
      "Requirement already satisfied: MarkupSafe>=2.0 in /usr/local/lib/python3.13/site-packages (from jinja2->spacy) (3.0.2)\n",
      "Requirement already satisfied: marisa-trie>=1.1.0 in /usr/local/lib/python3.13/site-packages (from language-data>=1.2->langcodes<4.0.0,>=3.2.0->spacy) (1.3.1)\n",
      "Requirement already satisfied: markdown-it-py>=2.2.0 in /usr/local/lib/python3.13/site-packages (from rich>=10.11.0->typer<1.0.0,>=0.3.0->spacy) (4.0.0)\n",
      "Requirement already satisfied: pygments<3.0.0,>=2.13.0 in /usr/local/lib/python3.13/site-packages (from rich>=10.11.0->typer<1.0.0,>=0.3.0->spacy) (2.19.2)\n",
      "Requirement already satisfied: wrapt in /usr/local/lib/python3.13/site-packages (from smart-open<8.0.0,>=5.2.1->weasel<0.5.0,>=0.1.0->spacy) (1.17.3)\n",
      "Requirement already satisfied: mdurl~=0.1 in /usr/local/lib/python3.13/site-packages (from markdown-it-py>=2.2.0->rich>=10.11.0->typer<1.0.0,>=0.3.0->spacy) (0.1.2)\n",
      "Collecting es-core-news-md==3.8.0\n",
      "  Downloading https://github.com/explosion/spacy-models/releases/download/es_core_news_md-3.8.0/es_core_news_md-3.8.0-py3-none-any.whl (42.3 MB)\n",
      "\u001b[2K     \u001b[90m━━━━━━━━━━━━━━━━━━━━━━━━━━━━━━━━━━━━━━━━\u001b[0m \u001b[32m42.3/42.3 MB\u001b[0m \u001b[31m5.4 MB/s\u001b[0m eta \u001b[36m0:00:00\u001b[0m00:01\u001b[0m00:01\u001b[0m\n",
      "\u001b[?25hInstalling collected packages: es-core-news-md\n",
      "Successfully installed es-core-news-md-3.8.0\n",
      "\u001b[38;5;2m✔ Download and installation successful\u001b[0m\n",
      "You can now load the package via spacy.load('es_core_news_md')\n"
     ]
    }
   ],
   "source": [
    "!/usr/local/opt/python@3.13/bin/python3.13 -m pip install -U spacy\n",
    "!/usr/local/opt/python@3.13/bin/python3.13 -m spacy download es_core_news_md\n"
   ]
  },
  {
   "cell_type": "code",
   "execution_count": 6,
>>>>>>> a8fe04ca27a073dbd0fa9b8c8c7b0a82fc980f07
   "id": "31bac332",
   "metadata": {},
   "outputs": [],
   "source": [
    "# --- Instalación (mac) ---\n",
    "# !python3 -m pip install -U nltk spacy scikit-learn matplotlib seaborn unidecode\n",
    "# !python3 -m spacy download es_core_news_md\n",
    "# !python3 -m pip install openpyxl\n",
    "# python3 -m pip install openpyxl\n",
    "\n",
    "\n",
    "# --- Imports base ---\n",
    "import re, string, unicodedata\n",
    "import pandas as pd\n",
    "import numpy as np\n",
    "\n",
    "import matplotlib.pyplot as plt\n",
    "import seaborn as sns\n",
    "\n",
    "import nltk\n",
    "from nltk.corpus import stopwords\n",
    "from nltk.tokenize import word_tokenize, sent_tokenize\n",
    "# Si quisieras stemming en español (no recomendado para el pipeline final):\n",
    "# from nltk.stem import SnowballStemmer\n",
    "\n",
    "import spacy\n",
    "# Carga del modelo de spaCy en español \n",
    "nlp = spacy.load(\"es_core_news_md\")\n",
    "\n",
    "# Utilidad: solo úsalo DESPUÉS de lematizar si quieres una segunda versión sin acentos\n",
    "import unidecode\n",
    "\n",
    "# Sklearn: vectorización y modelos\n",
    "from sklearn.model_selection import train_test_split, GridSearchCV\n",
    "from sklearn.feature_extraction.text import TfidfVectorizer, CountVectorizer\n",
    "from sklearn.pipeline import Pipeline\n",
    "from sklearn.svm import LinearSVC\n",
    "from sklearn.ensemble import RandomForestClassifier, AdaBoostClassifier\n",
    "from sklearn.naive_bayes import MultinomialNB\n",
    "from sklearn.metrics import classification_report, confusion_matrix\n",
    "\n",
    "# NLTK data \n",
    "import nltk\n",
    "from nltk.tokenize import RegexpTokenizer\n",
    "from collections import Counter"
   ]
  },
  {
   "cell_type": "markdown",
   "id": "ac8e264a",
   "metadata": {},
   "source": [
    "## 2. Perfilamiento y entendimiento de los datos.\n",
    "\n",
    "En esta sección realizamos la **lectura** y un primer **análisis exploratorio** de los datos \n",
    "proporcionados para el proyecto. Contamos con dos archivos principales:\n",
    "\n",
    "- Datos_proyecto.xlsx → dataset principal de opiniones ciudadanas con sus etiquetas ODS.  \n",
    "- Datos de prueba_proyecto.xlsx → dataset de prueba para evaluar el modelo seleccionado.\n"
   ]
  },
  {
   "cell_type": "markdown",
   "id": "7c05fd1f",
   "metadata": {},
   "source": [
    "### Carga de datos"
   ]
  },
  {
   "cell_type": "code",
<<<<<<< HEAD
   "execution_count": 39,
=======
   "execution_count": 7,
>>>>>>> a8fe04ca27a073dbd0fa9b8c8c7b0a82fc980f07
   "id": "307bd9b5",
   "metadata": {},
   "outputs": [
    {
     "data": {
      "text/html": [
       "<div>\n",
       "<style scoped>\n",
       "    .dataframe tbody tr th:only-of-type {\n",
       "        vertical-align: middle;\n",
       "    }\n",
       "\n",
       "    .dataframe tbody tr th {\n",
       "        vertical-align: top;\n",
       "    }\n",
       "\n",
       "    .dataframe thead th {\n",
       "        text-align: right;\n",
       "    }\n",
       "</style>\n",
       "<table border=\"1\" class=\"dataframe\">\n",
       "  <thead>\n",
       "    <tr style=\"text-align: right;\">\n",
       "      <th></th>\n",
       "      <th>textos</th>\n",
       "      <th>labels</th>\n",
       "    </tr>\n",
       "  </thead>\n",
       "  <tbody>\n",
       "    <tr>\n",
       "      <th>0</th>\n",
       "      <td>\"Aprendizaje\" y \"educación\" se consideran sinó...</td>\n",
       "      <td>4</td>\n",
       "    </tr>\n",
       "    <tr>\n",
       "      <th>1</th>\n",
       "      <td>Para los niños más pequeños (bebés y niños peq...</td>\n",
       "      <td>4</td>\n",
       "    </tr>\n",
       "    <tr>\n",
       "      <th>2</th>\n",
       "      <td>Además, la formación de especialistas en medic...</td>\n",
       "      <td>3</td>\n",
       "    </tr>\n",
       "    <tr>\n",
       "      <th>3</th>\n",
       "      <td>En los países de la OCDE se tiende a pasar de ...</td>\n",
       "      <td>4</td>\n",
       "    </tr>\n",
       "    <tr>\n",
       "      <th>4</th>\n",
       "      <td>Este grupo se centró en las personas que padec...</td>\n",
       "      <td>3</td>\n",
       "    </tr>\n",
       "  </tbody>\n",
       "</table>\n",
       "</div>"
      ],
      "text/plain": [
       "                                              textos  labels\n",
       "0  \"Aprendizaje\" y \"educación\" se consideran sinó...       4\n",
       "1  Para los niños más pequeños (bebés y niños peq...       4\n",
       "2  Además, la formación de especialistas en medic...       3\n",
       "3  En los países de la OCDE se tiende a pasar de ...       4\n",
       "4  Este grupo se centró en las personas que padec...       3"
      ]
     },
<<<<<<< HEAD
     "execution_count": 39,
=======
     "execution_count": 7,
>>>>>>> a8fe04ca27a073dbd0fa9b8c8c7b0a82fc980f07
     "metadata": {},
     "output_type": "execute_result"
    }
   ],
   "source": [
    "# Lectura del dataset principal\n",
    "data = pd.read_excel(\"Datos_proyecto.xlsx\")\n",
    "\n",
    "# Asignación a una nueva variable para trabajar\n",
    "data_t = data.copy()\n",
    "\n",
    "# Vista inicial\n",
    "data_t.head()\n"
   ]
  },
  {
   "cell_type": "code",
<<<<<<< HEAD
   "execution_count": 40,
=======
   "execution_count": 8,
>>>>>>> a8fe04ca27a073dbd0fa9b8c8c7b0a82fc980f07
   "id": "6693a8fe",
   "metadata": {},
   "outputs": [
    {
     "name": "stdout",
     "output_type": "stream",
     "text": [
      "<class 'pandas.core.frame.DataFrame'>\n",
      "RangeIndex: 2424 entries, 0 to 2423\n",
      "Data columns (total 2 columns):\n",
      " #   Column  Non-Null Count  Dtype \n",
      "---  ------  --------------  ----- \n",
      " 0   textos  2424 non-null   object\n",
      " 1   labels  2424 non-null   int64 \n",
      "dtypes: int64(1), object(1)\n",
      "memory usage: 38.0+ KB\n",
      "\n",
      "Valores nulos por columna:\n",
      "textos    0\n",
      "labels    0\n",
      "dtype: int64\n",
      "\n",
      "Distribución de etiquetas (ODS):\n",
      "labels\n",
      "4    1025\n",
      "3     894\n",
      "1     505\n",
      "Name: count, dtype: int64\n"
     ]
    }
   ],
   "source": [
    "# Información general: filas, columnas, tipos de datos\n",
    "data_t.info()\n",
    "\n",
    "# Valores nulos\n",
    "print(\"\\nValores nulos por columna:\")\n",
    "print(data_t.isnull().sum())\n",
    "\n",
    "# Distribución de las etiquetas\n",
    "print(\"\\nDistribución de etiquetas (ODS):\")\n",
    "print(data_t['labels'].value_counts())\n"
   ]
  },
  {
   "cell_type": "code",
<<<<<<< HEAD
   "execution_count": 41,
=======
   "execution_count": 9,
>>>>>>> a8fe04ca27a073dbd0fa9b8c8c7b0a82fc980f07
   "id": "188d5345",
   "metadata": {},
   "outputs": [
    {
     "name": "stdout",
     "output_type": "stream",
     "text": [
      "\n",
      "Estadísticas de la longitud de los textos:\n",
      "count    2424.000000\n",
      "mean      107.924092\n",
      "std        35.575349\n",
      "min        41.000000\n",
      "25%        81.000000\n",
      "50%       102.000000\n",
      "75%       129.000000\n",
      "max       260.000000\n",
      "Name: longitud, dtype: float64\n"
     ]
    }
   ],
   "source": [
    "# Crear columna con longitud de cada texto (en palabras)\n",
    "data_t['longitud'] = data_t['textos'].apply(lambda x: len(str(x).split()))\n",
    "\n",
    "# Estadísticas descriptivas\n",
    "print(\"\\nEstadísticas de la longitud de los textos:\")\n",
    "print(data_t['longitud'].describe())\n",
    "\n"
   ]
  },
  {
   "cell_type": "code",
<<<<<<< HEAD
   "execution_count": 42,
=======
   "execution_count": 10,
>>>>>>> a8fe04ca27a073dbd0fa9b8c8c7b0a82fc980f07
   "id": "c4ded381",
   "metadata": {},
   "outputs": [
    {
     "name": "stderr",
     "output_type": "stream",
     "text": [
      "/var/folders/51/pnrxxxgd4ws6bqxrl99t2nlh0000gn/T/ipykernel_77646/4150625362.py:2: FutureWarning: \n",
      "\n",
      "Passing `palette` without assigning `hue` is deprecated and will be removed in v0.14.0. Assign the `x` variable to `hue` and set `legend=False` for the same effect.\n",
      "\n",
      "  sns.countplot(x='labels', data=data_t, palette='Set2')\n"
     ]
    },
    {
     "data": {
      "image/png": "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",
      "text/plain": [
       "<Figure size 640x480 with 1 Axes>"
      ]
     },
     "metadata": {},
     "output_type": "display_data"
    },
    {
     "data": {
      "image/png": "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",
      "text/plain": [
       "<Figure size 640x480 with 1 Axes>"
      ]
     },
     "metadata": {},
     "output_type": "display_data"
    }
   ],
   "source": [
    "\n",
    "# Distribución de las etiquetas\n",
    "sns.countplot(x='labels', data=data_t, palette='Set2')\n",
    "plt.title(\"Distribución de opiniones por ODS\")\n",
    "plt.xlabel(\"ODS (1 = Pobreza, 3 = Salud, 4 = Educación)\")\n",
    "plt.ylabel(\"Cantidad de textos\")\n",
    "plt.show()\n",
    "\n",
    "# Histograma de longitudes de texto\n",
    "sns.histplot(data_t['longitud'], bins=30, kde=True)\n",
    "plt.title(\"Distribución de longitudes de los textos (en palabras)\")\n",
    "plt.xlabel(\"Número de palabras\")\n",
    "plt.ylabel(\"Frecuencia\")\n",
    "plt.show()\n"
   ]
  },
  {
   "cell_type": "markdown",
   "id": "74233fb0",
   "metadata": {},
   "source": [
    "## 3. Preparación de los datos\n",
    "En este paso aplicamos un pipeline de limpieza en español:\n",
    "- Normalización de texto\n",
    "- Tokenización con NLTK (RegexpTokenizer, no requiere punkt)\n",
    "- Eliminación de stopwords personalizadas\n",
    "- Lematización con spaCy\n",
    "- Generación de columnas procesadas\n"
   ]
  },
  {
   "cell_type": "markdown",
   "id": "c9214b8b",
   "metadata": {},
   "source": [
    "### 3.1 Definir stopwords y listas personalizadas\n",
    "Qué hace:\n",
    "- Crea una lista de palabras vacías en español y la adapta al dominio.  \n",
    "- Quita conectores innecesarios (*además, sin embargo…*) y protege palabras críticas de ODS (*pobreza, salud, educación*).  \n",
    "\n",
    "Por qué:\n",
    "- Si eliminamos demasiado, el modelo pierde señal.  \n",
    "- Si dejamos ruido académico, el modelo aprende cosas irrelevantes.  \n",
    "\n",
    "Ejemplo: \n",
    "- Texto original: \"La educación, sin embargo, debe mejorar\"  \n",
    "- Tras stopwords personalizadas: [\"educación\", \"mejorar\"]\n"
   ]
  },
  {
   "cell_type": "code",
<<<<<<< HEAD
   "execution_count": 43,
=======
   "execution_count": 11,
>>>>>>> a8fe04ca27a073dbd0fa9b8c8c7b0a82fc980f07
   "id": "b277b437",
   "metadata": {},
   "outputs": [
    {
     "name": "stderr",
     "output_type": "stream",
     "text": [
      "[nltk_data] Downloading package stopwords to\n",
      "[nltk_data]     /Users/anacristinarodriguez/nltk_data...\n",
      "[nltk_data]   Unzipping corpora/stopwords.zip.\n"
     ]
    }
   ],
   "source": [
    "# spaCy en español (usa \"lg\" si lo tienes)\n",
    "nlp = spacy.load(\"es_core_news_md\")\n",
    "\n",
    "# Stopwords base español\n",
    "try:\n",
    "    nltk.data.find(\"corpora/stopwords\")\n",
    "except LookupError:\n",
    "    nltk.download(\"stopwords\")\n",
    "STOP_ES = set(stopwords.words(\"spanish\"))\n",
    "\n",
    "# Stopwords adicionales comunes en textos académicos\n",
    "STOP_EXTRA = {\n",
    "    \"ademas\",\"asimismo\",\"sin\",\"embargo\",\"no\",\"obstante\",\"por\",\"consiguiente\",\n",
    "    \"asi\",\"mismo\",\"tambien\",\"entre\",\"otros\",\"etc\",\"respecto\",\"dicho\",\"misma\",\n",
    "    \"mismo\",\"mismas\",\"mismos\",\"puede\",\"pueden\",\"debe\",\"deben\",\"debido\",\"cual\",\n",
    "    \"cuales\",\"cualquier\",\"cada\",\"dentro\",\"fuera\",\"segun\",\"con\",\"contra\",\"hacia\",\n",
    "    \"desde\",\"sobre\",\"tras\",\"mediante\"\n",
    "}\n",
    "\n",
    "# Palabras que NO debemos eliminar (clave para ODS)\n",
    "ALLOWLIST_ODS = {\n",
    "    \"ods\",\"pobreza\",\"salud\",\"educación\",\"educacion\",\"docente\",\"docentes\",\"escuela\",\"escolar\",\n",
    "    \"universidad\",\"primaria\",\"secundaria\",\"matrícula\",\"matricula\",\"hospital\",\"atención\",\"atencion\",\n",
    "    \"paciente\",\"mental\",\"prom\",\"prem\",\"epr\",\"currículo\",\"curriculo\",\"formación\",\"formacion\"\n",
    "}\n",
    "\n",
    "# Stopwords finales\n",
    "STOP_CUSTOM = (STOP_ES | STOP_EXTRA) - ALLOWLIST_ODS\n"
   ]
  },
  {
   "cell_type": "markdown",
   "id": "10251d5e",
   "metadata": {},
   "source": [
    "### 3.2 Funciones de limpieza (con RegexpTokenizer)\n",
    "\n",
    "a) normalize_text  \n",
    "- Qué hace: convierte a minúsculas, elimina URLs, citas (OCDE 2013), paréntesis y comillas raras.  \n",
    "- Por qué: evita que el modelo confunda tokens inútiles con información relevante.  \n",
    "- Ejemplo: \"Informe de la OCDE (2013)\" → \"informe de la ocde\"\n",
    "\n",
    "b) tokenize con RegexpTokenizer \n",
    "- Qué hace: divide en palabras usando solo caracteres alfabéticos.  \n",
    "- Por qué: quita números/puntuación que no ayudan.  \n",
    "- Ejemplo: \"la educación en 2013 fue clave\" → [\"la\",\"educación\",\"en\",\"fue\",\"clave\"]\n",
    "\n",
    "c) remove_stopwords\n",
    "- Qué hace: borra stopwords pero conserva palabras críticas (ALLOWLIST).  \n",
    "- Por qué: filtra ruido pero protege la semántica de ODS.  \n",
    "- Ejemplo: [\"la\",\"educación\",\"en\",\"fue\",\"clave\"] → [\"educación\",\"clave\"]\n",
    "\n",
    "d) lemmatize_es con spaCy  \n",
    "- Qué hace: reduce palabras a su forma mas basica.  \n",
    "- Por qué: unifica variaciones (*estudiantes → estudiante, aprendiendo → aprender*).  \n",
    "- Ejemplo: [\"estudiantes\",\"aprendiendo\",\"docentes\"] → [\"estudiante\",\"aprender\",\"docente\"]\n",
    "\n",
    "e) clean_pipeline \n",
    "- Qué hace: une todos los pasos en orden → normalizar → tokenizar → stopwords → lematizar.  \n",
    "- Por qué: garantiza consistencia en todo el dataset.  \n",
    "- Ejemplo: \"Los estudiantes estaban aprendiendo en la escuela\" → [\"estudiante\",\"aprender\",\"escuela\"]\n"
   ]
  },
  {
   "cell_type": "code",
<<<<<<< HEAD
   "execution_count": 44,
=======
   "execution_count": 12,
>>>>>>> a8fe04ca27a073dbd0fa9b8c8c7b0a82fc980f07
   "id": "063e968b",
   "metadata": {},
   "outputs": [],
   "source": [
    "\n",
    "\n",
    "# Tokenizador sin punkt\n",
    "_tokenizer = RegexpTokenizer(r\"\\w+\")\n",
    "\n",
    "def normalize_text(text: str) -> str:\n",
    "    if not isinstance(text, str):\n",
    "        return \"\"\n",
    "    t = text.lower()\n",
    "    t = re.sub(r'(https?://\\S+)|(\\S+@\\S+)', ' ', t)   # URLs y correos\n",
    "    t = re.sub(r'\\([^)]*\\d{2,4}[^)]*\\)', ' ', t)      # referencias (OCDE, 2013)\n",
    "    t = re.sub(r'[“”\"«»´`]', ' ', t)                  # comillas raras\n",
    "    t = re.sub(r'\\s+', ' ', t)                        # espacios múltiples\n",
    "    return t.strip()\n",
    "\n",
    "def tokenize(text: str):\n",
    "    toks = _tokenizer.tokenize(str(text or \"\"))\n",
    "    return [t for t in toks if t.isalpha()]\n",
    "\n",
    "def remove_stopwords(tokens):\n",
    "    return [t for t in tokens if (t not in STOP_CUSTOM) or (t in ALLOWLIST_ODS)]\n",
    "\n",
    "def lemmatize_es(tokens):\n",
    "    doc = nlp(\" \".join(tokens))\n",
    "    lemmas = [t.lemma_ for t in doc if t.is_alpha]\n",
    "    lemmas = [l for l in lemmas if (l not in STOP_CUSTOM) or (l in ALLOWLIST_ODS)]\n",
    "    return lemmas\n",
    "\n",
    "def clean_pipeline(text: str):\n",
    "    t = normalize_text(text)\n",
    "    toks = tokenize(t)\n",
    "    toks = remove_stopwords(toks)\n",
    "    lemmas = lemmatize_es(toks)\n",
    "    return lemmas\n"
   ]
  },
  {
   "cell_type": "markdown",
   "id": "17934948",
   "metadata": {},
   "source": [
    "### 3.3 Aplicar el pipeline al dataset\n",
    "\n",
    "Qué hace: \n",
    "- Aplica clean_pipeline a cada fila de la columna textos.  \n",
    "- Genera columnas nuevas:  \n",
    "  - tokens: lista de palabras limpias.  \n",
    "  - texto_limpio: texto unido (para vectorización).  \n",
    "  - longitud_tokens: tamaño del texto procesado.  \n",
    "\n",
    "Por qué: \n",
    "- Necesitamos una vista humana (tokens), una vista lista para modelos (texto_limpio) y una métrica de control (longitud_tokens).  \n",
    "\n",
    "Ejemplo: \n",
    "- Entrada: \"Los estudiantes estaban aprendiendo en la escuela\" \n",
    "- Salida:  \n",
    "  - tokens → [\"estudiante\",\"aprender\",\"escuela\"]`  \n",
    "  - texto_limpio → \"estudiante aprender escuela\"`  \n",
    "  - longitud_tokens → 3\n"
   ]
  },
  {
   "cell_type": "code",
<<<<<<< HEAD
   "execution_count": 45,
=======
   "execution_count": 13,
>>>>>>> a8fe04ca27a073dbd0fa9b8c8c7b0a82fc980f07
   "id": "cabdceb8",
   "metadata": {},
   "outputs": [
    {
     "data": {
      "text/html": [
       "<div>\n",
       "<style scoped>\n",
       "    .dataframe tbody tr th:only-of-type {\n",
       "        vertical-align: middle;\n",
       "    }\n",
       "\n",
       "    .dataframe tbody tr th {\n",
       "        vertical-align: top;\n",
       "    }\n",
       "\n",
       "    .dataframe thead th {\n",
       "        text-align: right;\n",
       "    }\n",
       "</style>\n",
       "<table border=\"1\" class=\"dataframe\">\n",
       "  <thead>\n",
       "    <tr style=\"text-align: right;\">\n",
       "      <th></th>\n",
       "      <th>textos</th>\n",
       "      <th>labels</th>\n",
       "      <th>texto_limpio</th>\n",
       "      <th>longitud_tokens</th>\n",
       "    </tr>\n",
       "  </thead>\n",
       "  <tbody>\n",
       "    <tr>\n",
       "      <th>0</th>\n",
       "      <td>\"Aprendizaje\" y \"educación\" se consideran sinó...</td>\n",
       "      <td>4</td>\n",
       "      <td>aprendizaje educación considerar sinónimo esco...</td>\n",
       "      <td>25</td>\n",
       "    </tr>\n",
       "    <tr>\n",
       "      <th>1</th>\n",
       "      <td>Para los niños más pequeños (bebés y niños peq...</td>\n",
       "      <td>4</td>\n",
       "      <td>niño pequeño bebé niño pequeño capacitación es...</td>\n",
       "      <td>39</td>\n",
       "    </tr>\n",
       "    <tr>\n",
       "      <th>2</th>\n",
       "      <td>Además, la formación de especialistas en medic...</td>\n",
       "      <td>3</td>\n",
       "      <td>además formación especialista medicina general...</td>\n",
       "      <td>50</td>\n",
       "    </tr>\n",
       "    <tr>\n",
       "      <th>3</th>\n",
       "      <td>En los países de la OCDE se tiende a pasar de ...</td>\n",
       "      <td>4</td>\n",
       "      <td>país ocde tender pasar curso obligatorio optat...</td>\n",
       "      <td>55</td>\n",
       "    </tr>\n",
       "    <tr>\n",
       "      <th>4</th>\n",
       "      <td>Este grupo se centró en las personas que padec...</td>\n",
       "      <td>3</td>\n",
       "      <td>grupo centrar persona padecer trastorno mental...</td>\n",
       "      <td>52</td>\n",
       "    </tr>\n",
       "  </tbody>\n",
       "</table>\n",
       "</div>"
      ],
      "text/plain": [
       "                                              textos  labels  \\\n",
       "0  \"Aprendizaje\" y \"educación\" se consideran sinó...       4   \n",
       "1  Para los niños más pequeños (bebés y niños peq...       4   \n",
       "2  Además, la formación de especialistas en medic...       3   \n",
       "3  En los países de la OCDE se tiende a pasar de ...       4   \n",
       "4  Este grupo se centró en las personas que padec...       3   \n",
       "\n",
       "                                        texto_limpio  longitud_tokens  \n",
       "0  aprendizaje educación considerar sinónimo esco...               25  \n",
       "1  niño pequeño bebé niño pequeño capacitación es...               39  \n",
       "2  además formación especialista medicina general...               50  \n",
       "3  país ocde tender pasar curso obligatorio optat...               55  \n",
       "4  grupo centrar persona padecer trastorno mental...               52  "
      ]
     },
<<<<<<< HEAD
     "execution_count": 45,
=======
     "execution_count": 13,
>>>>>>> a8fe04ca27a073dbd0fa9b8c8c7b0a82fc980f07
     "metadata": {},
     "output_type": "execute_result"
    }
   ],
   "source": [
    "# Aplicar pipeline\n",
    "data_t[\"tokens\"] = data_t[\"textos\"].apply(clean_pipeline)\n",
    "\n",
    "# Columnas auxiliares\n",
    "data_t[\"texto_limpio\"] = data_t[\"tokens\"].apply(lambda xs: \" \".join(xs))\n",
    "data_t[\"longitud_tokens\"] = data_t[\"tokens\"].apply(len)\n",
    "\n",
    "# Vista previa\n",
    "data_t[[\"textos\",\"labels\",\"texto_limpio\",\"longitud_tokens\"]].head()\n"
   ]
  },
  {
   "cell_type": "markdown",
   "id": "a29eacf3",
   "metadata": {},
   "source": [
    "### 3.4 Chequeos básicos\n",
    "\n",
    "Qué hace: \n",
    "- Muestra info() y valores nulos → detecta problemas de integridad.  \n",
    "- Cuenta las etiquetas (labels) → revisa desbalance.  \n",
    "- Grafica histograma de longitudes → detecta outliers o textos vacíos.  \n",
    "\n",
    "Por qué: \n",
    "- Si tenemos muchos vacíos, el modelo se entrena mal.  \n",
    "- Si hay mucho desbalance (ej. más ODS 4 que ODS 1), necesitaremos técnicas de balanceo o métricas ajustadas.  \n"
   ]
  },
  {
   "cell_type": "code",
<<<<<<< HEAD
   "execution_count": 46,
=======
   "execution_count": 14,
>>>>>>> a8fe04ca27a073dbd0fa9b8c8c7b0a82fc980f07
   "id": "c1e895b9",
   "metadata": {},
   "outputs": [
    {
     "name": "stdout",
     "output_type": "stream",
     "text": [
      "<class 'pandas.core.frame.DataFrame'>\n",
      "RangeIndex: 2424 entries, 0 to 2423\n",
      "Data columns (total 6 columns):\n",
      " #   Column           Non-Null Count  Dtype \n",
      "---  ------           --------------  ----- \n",
      " 0   textos           2424 non-null   object\n",
      " 1   labels           2424 non-null   int64 \n",
      " 2   longitud         2424 non-null   int64 \n",
      " 3   tokens           2424 non-null   object\n",
      " 4   texto_limpio     2424 non-null   object\n",
      " 5   longitud_tokens  2424 non-null   int64 \n",
      "dtypes: int64(3), object(3)\n",
      "memory usage: 113.8+ KB\n",
      "None\n",
      "\n",
      "Valores nulos por columna:\n",
      "textos             0\n",
      "labels             0\n",
      "longitud           0\n",
      "tokens             0\n",
      "texto_limpio       0\n",
      "longitud_tokens    0\n",
      "dtype: int64\n",
      "\n",
      "Distribución de etiquetas (ODS):\n",
      "labels\n",
      "4    1025\n",
      "3     894\n",
      "1     505\n",
      "Name: count, dtype: int64\n"
     ]
    },
    {
     "data": {
      "image/png": "iVBORw0KGgoAAAANSUhEUgAAAjsAAAHHCAYAAABZbpmkAAAAOnRFWHRTb2Z0d2FyZQBNYXRwbG90bGliIHZlcnNpb24zLjEwLjYsIGh0dHBzOi8vbWF0cGxvdGxpYi5vcmcvq6yFwwAAAAlwSFlzAAAPYQAAD2EBqD+naQAATbpJREFUeJzt3Xl4TGf/P/D3JJGRPSI72cSSEGuQ5rGWEKFKUaVUbKVtUEtJ46laWlJLVbVKtUWrlOpjKWqJNUWEIlXE2hAliyTNHlnv3x9+OV8ji2QyyUxO3q/rmusy99k+555J8nbOfc5RCCEEiIiIiGRKT9sFEBEREVUnhh0iIiKSNYYdIiIikjWGHSIiIpI1hh0iIiKSNYYdIiIikjWGHSIiIpI1hh0iIiKSNYYdohqUm5uLJUuW4NChQ9ouhYiozmDYoWqxYMECKBSKGtlWz5490bNnT+n9iRMnoFAo8Msvv9TI9p+mUCiwYMGCMqfPnDkTW7ZsgY+PT43UM3bsWLi6umpsfTX5uVbEs599dSr+Xp04caJGtve0ZcuWwcPDA0VFRRpbZ/FnmZSUpLF1VqfSvnuurq4YO3asztSjKcnJyTAxMcFvv/1WLeuvixh26Lk2bdoEhUIhverXrw9HR0f4+/tj9erVyMjI0Mh2Hj58iAULFiAqKkoj69M1P//8M3bv3o0DBw7A0tJS2+XIkhy/Q+np6Vi6dCmCg4Ohp/fkV3Z2djYWLFigleBF1a9hw4aYOHEi5s2bp+1SZINhhyps0aJF2Lx5M9auXYupU6cCAKZPn47WrVvj8uXLKvN+8MEHyMnJqdT6Hz58iIULF1b6D9Xhw4dx+PDhSi1TXXJycvDBBx+UaBdC4J9//sGBAwfg7Oyshcrk6dnPXt3vkC7bsGEDCgoKMHLkSKktOzsbCxcurPNh58aNG/jmm2+0sm11fsdVxltvvYWLFy/i2LFj1baNusRA2wVQ7REQEICOHTtK70NCQnDs2DG89NJLePnllxEdHQ0jIyMAgIGBAQwMqvfrlZ2dDWNjYxgaGlbrdiqjfv36pbYrFArMnDmzhquRP1367KvLxo0b8fLLL5f53arLlEql1rZd3b/jPD094eXlhU2bNqFXr17Vtp26gkd2qEp69eqFefPm4d69e/jxxx+l9tLOZ4eFhaFr166wtLSEqakpWrRogblz5wJ4Mh6iU6dOAIBx48ZJp8w2bdoE4MnYDC8vL1y4cAHdu3eHsbGxtGxZ4zYKCwsxd+5c2Nvbw8TEBC+//DLu37+vMk9Z5/xLW+fjx4+xYMECNG/eHPXr14eDgwOGDBmCO3fuSPOUNmbn0qVLCAgIgLm5OUxNTdG7d2+cPXtWZZ7iU4WnT5/GzJkzYWNjAxMTE7zyyit49OhRifpKs3v3bnh5eaF+/frw8vLCrl27Sp2vqKgIq1atQqtWrVC/fn3Y2dlh8uTJ+Pfffyu0nWcVFBTgo48+gru7O5RKJVxdXTF37lzk5uaqzOfq6oqXXnoJp06dQufOnVG/fn00adIEP/zwQ4l1Xr58GT169ICRkREaN26Mjz/+GBs3boRCocDdu3el+Z7+nJ73HarMZ/3PP/9g8ODBMDExga2tLWbMmFFif4pFRkaiX79+sLCwgLGxMXr06IHTp0+rzJORkYHp06fD1dUVSqUStra26NOnDy5evFhOzwIxMTG4fPky/Pz8pLa7d+/CxsYGALBw4UJpP5/+3h07dgzdunWDiYkJLC0tMWjQIERHR5e7LQC4d+8emjZtCi8vLyQkJAAAUlNTMX36dDg5OUGpVKJp06ZYunSpyvihu3fvQqFQYMWKFVi/fr30XejUqRPOnz+vso34+HiMGzcOjRs3hlKphIODAwYNGqTyuVbUs59p8c/RqVOnMG3aNNjY2MDS0hKTJ09GXl4eUlNTMWbMGDRo0AANGjTAnDlzIIQodT8+++wzuLi4wMjICD169MCVK1dUtl3a77iK/iz88ccf8Pf3h7W1NYyMjODm5obx48eX2L8+ffpg7969KjWSenhkh6rsjTfewNy5c3H48GG8+eabpc5z9epVvPTSS2jTpg0WLVoEpVKJ27dvS38UPD09sWjRInz44YeYNGkSunXrBgD4z3/+I60jOTkZAQEBGDFiBEaPHg07O7ty61q8eDEUCgWCg4ORmJiIVatWwc/PD1FRUdIRqIoqLCzESy+9hKNHj2LEiBF49913kZGRgbCwMFy5cgXu7u5l7ne3bt1gbm6OOXPmoF69evj666/Rs2dPnDx5ssRA5alTp6JBgwaYP38+7t69i1WrVmHKlCnYvn17ufUdPnwYQ4cORcuWLREaGork5GTpD8qzJk+ejE2bNmHcuHGYNm0aYmJi8OWXX+LSpUs4ffo06tWrV6m+mThxIr7//nsMGzYMs2bNQmRkJEJDQxEdHV0icN2+fRvDhg3DhAkTEBgYiA0bNmDs2LHw9vZGq1atAAAPHjzAiy++CIVCgZCQEJiYmODbb7997v/iK/IdqoicnBz07t0bsbGxmDZtGhwdHbF58+ZSTyccO3YMAQEB8Pb2xvz586Gnp4eNGzeiV69e+P3339G5c2cAT05J/PLLL5gyZQpatmyJ5ORknDp1CtHR0ejQoUOZtZw5cwYAVOaxsbHB2rVr8fbbb+OVV17BkCFDAABt2rQBABw5cgQBAQFo0qQJFixYgJycHHzxxRfo0qULLl68WOaA9Tt37qBXr16wsrJCWFgYrK2tkZ2djR49euDBgweYPHkynJ2dcebMGYSEhCAuLg6rVq1SWcfWrVuRkZGByZMnQ6FQYNmyZRgyZAj+/vtv6Xs1dOhQXL16FVOnToWrqysSExMRFhaG2NhYjQ2mnzp1Kuzt7bFw4UKcPXsW69evh6WlJc6cOQNnZ2csWbIEv/32G5YvXw4vLy+MGTNGZfkffvgBGRkZCAoKwuPHj/H555+jV69e+Ouvv8r9vVORn4XExET07dsXNjY2eP/992FpaYm7d+9i586dJdbn7e2Nzz77DFevXoWXl5dG+qbOEkTPsXHjRgFAnD9/vsx5LCwsRPv27aX38+fPF09/vT777DMBQDx69KjMdZw/f14AEBs3biwxrUePHgKAWLduXanTevToIb0/fvy4ACAaNWok0tPTpfaff/5ZABCff/651Obi4iICAwOfu84NGzYIAGLlypUl5i0qKpL+DUDMnz9fej948GBhaGgo7ty5I7U9fPhQmJmZie7du0ttxX3s5+ensr4ZM2YIfX19kZqaWmK7T2vXrp1wcHBQme/w4cMCgHBxcZHafv/9dwFAbNmyRWX5gwcPltr+rGc/16ioKAFATJw4UWW+9957TwAQx44dk9pcXFwEABEeHi61JSYmCqVSKWbNmiW1TZ06VSgUCnHp0iWpLTk5WVhZWQkAIiYmRmp/9nMq7ztU0c961apVAoD4+eefpbasrCzRtGlTAUAcP35cCPHkc2/WrJnw9/dX+cyys7OFm5ub6NOnj9RmYWEhgoKCSmz7eT744AMBQGRkZKi0P3r0qMR3rVi7du2Era2tSE5Oltr+/PNPoaenJ8aMGSO1FX+Wjx49EtHR0cLR0VF06tRJpKSkSPN89NFHwsTERNy8eVNlG++//77Q19cXsbGxQgghYmJiBADRsGFDleX37NkjAIi9e/cKIYT4999/BQCxfPnySvfFs989IUp+psU/R89+Jr6+vkKhUIi33npLaisoKBCNGzdW+eyL98PIyEj8888/UntkZKQAIGbMmFFmPRX9Wdi1a9dzf58WO3PmjAAgtm/f/tx5qXw8jUUaYWpqWu5VWcVXH+3Zs0fty2eVSiXGjRtX4fnHjBkDMzMz6f2wYcPg4OCg1uWc//vf/2BtbS0NzH5aWZefFhYW4vDhwxg8eDCaNGkitTs4OOD111/HqVOnkJ6errLMpEmTVNbXrVs3FBYW4t69e2XWFhcXh6ioKAQGBsLCwkJq79OnD1q2bKky744dO2BhYYE+ffogKSlJenl7e8PU1BTHjx8vvyOeUdyXz45HmjVrFgBg//79Ku0tW7aUjrgAT45StGjRAn///bfUdvDgQfj6+qJdu3ZSm5WVFUaNGlWp2tT122+/wcHBAcOGDZPajI2NMWnSJJX5oqKicOvWLbz++utITk6W+jIrKwu9e/dGeHi49F23tLREZGQkHj58WKlakpOTYWBgAFNT0wrNX/xdGDt2LKysrKT2Nm3aoE+fPqV+969cuYIePXrA1dUVR44cQYMGDaRpO3bsQLdu3dCgQQOV74ufnx8KCwsRHh6usq7XXntNZfniz7r48zUyMoKhoSFOnDih9mnTipgwYYLKz5GPjw+EEJgwYYLUpq+vj44dO6p894oNHjwYjRo1kt537twZPj4+5f7uqOjPQvHvwn379iE/P7/c/Sjuy9pyewBdxrBDGpGZmakSLJ712muvoUuXLpg4cSLs7OwwYsQI/Pzzz5UKPo0aNarUgNRmzZqpvFcoFGjatKlaYwPu3LmDFi1aVGpA4qNHj5CdnY0WLVqUmObp6YmioqISY4ievVKr+JddeX8YioPQs/sLoMS2b926hbS0NNja2sLGxkbllZmZicTExIrt3FPb1tPTQ9OmTVXa7e3tYWlpWSKklXYlWoMGDVT2r3jcyLNKa6sOxdt/NsSW1pcAEBgYWKIvv/32W+Tm5iItLQ3Ak/vkXLlyBU5OTujcuTMWLFhQ6h9ZTdReWq3Ak+9ccRh72sCBA2FmZoZDhw7B3Ny8xD4ePHiwxP4VjyF69vvyvO+vUqnE0qVLceDAAdjZ2aF79+5YtmwZ4uPjq7DXJT1bR/F/ApycnEq0l/azVdrPUvPmzcv93VHRn4UePXpg6NChWLhwIaytrTFo0CBs3Lix1DFh4v+P1dGle1vVVhyzQ1X2zz//IC0trdw/RkZGRggPD8fx48exf/9+HDx4ENu3b0evXr1w+PBh6OvrP3c7lR1nUxHlHZWpSE2aVtY2hYYGKBYVFcHW1hZbtmwpdXrxwNfKqugv4+rev/Jo+rMuDurLly9XOQr1tOIjMsOHD0e3bt2wa9cuHD58GMuXL8fSpUuxc+dOBAQElLmNhg0boqCgABkZGeX+Z6Iqhg4diu+//x5btmzB5MmTVaYVFRWhT58+mDNnTqnLNm/eXOV9RT7f6dOnY+DAgdi9ezcOHTqEefPmITQ0FMeOHUP79u2ruDfl11Fau6a/e8/7WSi+4enZs2exd+9eHDp0COPHj8enn36Ks2fPqhzFKw5i1tbWGq2xLmLYoSrbvHkzAMDf37/c+fT09NC7d2/07t0bK1euxJIlS/Df//4Xx48fh5+fn8b/91L8P+9iQgjcvn1bGsgJPPmfZ2pqaoll7927p3Lqyd3dHZGRkcjPz6/wAF4bGxsYGxvjxo0bJaZdv34denp6Jf6nqQ4XFxcAJfcXQIltu7u748iRI+jSpYtGwqOLiwuKiopw69YteHp6Su0JCQlITU2VaqvsOm/fvl2ivbS2Z5X3HaroZ+3i4oIrV65ACKGyvtL6EgDMzc1VrpYqi4ODA9555x288847SExMRIcOHbB48eJyw46HhweAJ1dlPf29LWs/i/u7rO+ctbU1TExMVNqXL18OAwMDvPPOOzAzM8Prr7+uso+ZmZkV2r/KcHd3x6xZszBr1izcunUL7dq1w6effqpyRac2lfazdPPmzXIHUFf2Z+GFF17ACy+8gMWLF2Pr1q0YNWoUtm3bhokTJ0rzxMTEAIDK+kg9PI1FVXLs2DF89NFHcHNzK3dMRUpKSom24v8NFx++Lf4lXNofJHUUX1FR7JdffkFcXJzKHxd3d3ecPXsWeXl5Utu+fftKnF4aOnQokpKS8OWXX5bYTln/M9TX10ffvn2xZ88elcPfCQkJ2Lp1K7p27VritIE6HBwc0K5dO3z//ffSaRPgyaX+165dU5l3+PDhKCwsxEcffVRiPQUFBZXu+/79+wNAiatyVq5cCQAYMGBApdYHPAnNERERKjcGTElJKfNo1NPK+w5V9LPu378/Hj58qPK4kezsbKxfv15lPm9vb7i7u2PFihXIzMwssb3iWwYUFhaqfC4AYGtrC0dHxzIvZy/m6+sL4Mmlyk8zNjYudT+f/i48Pe3KlSs4fPiw9Hk9TaFQYP369Rg2bBgCAwPx66+/StOGDx+OiIiIUp/llpqaioKCgnLrf1Z2djYeP36s0ubu7g4zM7Pn9kVN2r17Nx48eCC9P3fuHCIjI8sNphX9Wfj3339L/M549ndhsQsXLsDCwkK6UpHUxyM7VGEHDhzA9evXUVBQgISEBBw7dgxhYWFwcXHBr7/+Wu5NzxYtWoTw8HAMGDAALi4uSExMxFdffYXGjRuja9euAJ780rO0tMS6detgZmYGExMT+Pj4wM3NTa16rays0LVrV4wbNw4JCQlYtWoVmjZtqnJ5/MSJE/HLL7+gX79+GD58OO7cuYMff/yxxKXkY8aMwQ8//ICZM2fi3Llz6NatG7KysnDkyBG88847GDRoUKk1fPzxx9L9hd555x0YGBjg66+/Rm5uLpYtW6bWfpUmNDQUAwYMQNeuXTF+/HikpKTgiy++QKtWrVT+EPfo0QOTJ09GaGgooqKi0LdvX9SrVw+3bt3Cjh078Pnnn6sMzH2etm3bIjAwEOvXr0dqaip69OiBc+fO4fvvv8fgwYPx4osvVnpf5syZgx9//BF9+vTB1KlTpUvPnZ2dkZKSUu7Rm/K+QxX9rN988018+eWXGDNmDC5cuAAHBwds3rxZChjF9PT08O233yIgIACtWrXCuHHj0KhRIzx48ADHjx+Hubk59u7di4yMDDRu3BjDhg1D27ZtYWpqiiNHjuD8+fP49NNPy+2LJk2awMvLC0eOHFG5D4uRkRFatmyJ7du3o3nz5rCysoKXlxe8vLywfPlyBAQEwNfXFxMmTJAuPbewsCjzuW16enr48ccfMXjwYAwfPhy//fYbevXqhdmzZ+PXX3/FSy+9JN0iICsrC3/99Rd++eUX3L17t1KnWG7evInevXtj+PDhaNmyJQwMDLBr1y4kJCRgxIgRFV5PdWvatCm6du2Kt99+G7m5uVi1ahUaNmxY5uk8oOI/C99//z2++uorvPLKK3B3d0dGRga++eYbmJublwijYWFhGDhwIMfsaIK2LgOj2qP4cs7il6GhobC3txd9+vQRn3/+ucrl3cWevSzz6NGjYtCgQcLR0VEYGhoKR0dHMXLkyBKXtO7Zs0e0bNlSGBgYqFxC3KNHD9GqVatS6yvr0vOffvpJhISECFtbW2FkZCQGDBgg7t27V2L5Tz/9VDRq1EgolUrRpUsX8ccff5RYpxBPLin+73//K9zc3ES9evWEvb29GDZsmMpl5SjlcuCLFy8Kf39/YWpqKoyNjcWLL74ozpw5U2ofP3s5avG+FF/uXJ7//e9/wtPTUyiVStGyZUuxc+dOERgYqHLpebH169cLb29vYWRkJMzMzETr1q3FnDlzxMOHD8vdRmmX/+bn54uFCxdK/eLk5CRCQkLE48ePVeZzcXERAwYMKLHO0vr60qVLolu3bkKpVIrGjRuL0NBQsXr1agFAxMfHl7tsWd8hISr+Wd+7d0+8/PLLwtjYWFhbW4t3331Xujz/2c/i0qVLYsiQIaJhw4ZCqVQKFxcXMXz4cHH06FEhhBC5ubli9uzZom3btsLMzEyYmJiItm3biq+++qqcnv4/K1euFKampiI7O1ul/cyZM8Lb21sYGhqW+N4dOXJEdOnSRRgZGQlzc3MxcOBAce3aNZXln770vFh2drbo0aOHMDU1FWfPnhVCCJGRkSFCQkJE06ZNhaGhobC2thb/+c9/xIoVK0ReXp4Q4v8u2S7tkvKna0tKShJBQUHCw8NDmJiYCAsLC+Hj46NymX9ZKnPp+bM/R6XtqxBCBAYGChMTE+n90/vx6aefCicnJ6FUKkW3bt3En3/++dx6KvKzcPHiRTFy5Ejh7OwslEqlsLW1FS+99JL4448/VNYVHR0tAIgjR448t2/o+RRC8NaMRKT7pk+fjq+//hqZmZlaGTyuLWlpaWjSpAmWLVumcuk0ad7du3fh5uaG5cuX47333tNqLdOnT0d4eDguXLjAIzsawDE7RKRznn3AYnJyMjZv3oyuXbvWqaADPLk8es6cOVi+fLna96ii2iU5ORnffvstPv74YwYdDeGYHSLSOb6+vujZsyc8PT2RkJCA7777Dunp6Zg3b562S9OK4OBgBAcHa7sMqiENGzYsddA7qY9hh4h0Tv/+/fHLL79g/fr1UCgU6NChA7777jt0795d26URUS3EMTtEREQkaxyzQ0RERLLGsENERESyxjE7ePL8l4cPH8LMzIwj34mIiGoJIQQyMjLg6OgIPb2yj98w7AB4+PChRp5RRERERDXv/v37aNy4cZnTGXYA6WnC9+/f18izioiIiKj6paenw8nJSfo7XhaGHfzfE4TNzc0ZdoiIiGqZ5w1B4QBlIiIikjWGHSIiIpI1hh0iIiKSNYYdIiIikjWGHSIiIpI1hh0iIiKSNYYdIiIikjWGHSIiIpI1hh0iIiKSNYYdIiIikjWthp3Q0FB06tQJZmZmsLW1xeDBg3Hjxg2VeXr27AmFQqHyeuutt1TmiY2NxYABA2BsbAxbW1vMnj0bBQUFNbkrREREpKO0+myskydPIigoCJ06dUJBQQHmzp2Lvn374tq1azAxMZHme/PNN7Fo0SLpvbGxsfTvwsJCDBgwAPb29jhz5gzi4uIwZswY1KtXD0uWLKnR/SEiIiLdoxBCCG0XUezRo0ewtbXFyZMn0b17dwBPjuy0a9cOq1atKnWZAwcO4KWXXsLDhw9hZ2cHAFi3bh2Cg4Px6NEjGBoallgmNzcXubm50vvip6ampaXxQaBERES1RHp6OiwsLJ7791unxuykpaUBAKysrFTat2zZAmtra3h5eSEkJATZ2dnStIiICLRu3VoKOgDg7++P9PR0XL16tdTthIaGwsLCQno5OTlVw94QERGRLtDqaaynFRUVYfr06ejSpQu8vLyk9tdffx0uLi5wdHTE5cuXERwcjBs3bmDnzp0AgPj4eJWgA0B6Hx8fX+q2QkJCMHPmTOl98ZEdotokNjYWSUlJai1rbW0NZ2dnDVdERKSbdCbsBAUF4cqVKzh16pRK+6RJk6R/t27dGg4ODujduzfu3LkDd3d3tbalVCqhVCqrVC+RNsXGxsLDwxM5OdnPn7kURkbGuH49moGHiOoEnQg7U6ZMwb59+xAeHo7GjRuXO6+Pjw8A4Pbt23B3d4e9vT3OnTunMk9CQgIAwN7evnoKJtKypKQk5ORkw2f8fJg7uFZq2fS4u4jcsBBJSUkMO0RUJ2g17AghMHXqVOzatQsnTpyAm5vbc5eJiooCADg4OAAAfH19sXjxYiQmJsLW1hYAEBYWBnNzc7Rs2bLaaifSBeYOrrBybqHtMoiIdJpWw05QUBC2bt2KPXv2wMzMTBpjY2FhASMjI9y5cwdbt25F//790bBhQ1y+fBkzZsxA9+7d0aZNGwBA37590bJlS7zxxhtYtmwZ4uPj8cEHHyAoKIinqoiIiEi7V2OtXbsWaWlp6NmzJxwcHKTX9u3bAQCGhoY4cuQI+vbtCw8PD8yaNQtDhw7F3r17pXXo6+tj37590NfXh6+vL0aPHo0xY8ao3JeHiIiI6i6tn8Yqj5OTE06ePPnc9bi4uOC3337TVFlEREQkIzp1nx0iIiIiTWPYISIiIllj2CEiIiJZY9ghIiIiWWPYISIiIllj2CEiIiJZY9ghIiIiWWPYISIiIllj2CEiIiJZY9ghIiIiWWPYISIiIllj2CEiIiJZY9ghIiIiWdPqU8+JarvY2FgkJSWptay1tTWcnZ01XBERET2LYYdITbGxsfDw8EROTrZayxsZGeP69WgGHiKiasawQ6SmpKQk5ORkw2f8fJg7uFZq2fS4u4jcsBBJSUkMO0RE1Yxhh6iKzB1cYeXcQttlEBFRGThAmYiIiGSNYYeIiIhkjWGHiIiIZI1hh4iIiGSNYYeIiIhkjWGHiIiIZI1hh4iIiGSNYYeIiIhkjWGHiIiIZI1hh4iIiGSNj4sgokrhk96JqLZh2CGiCuOT3omoNmLYIaIK45Peiag2Ytghokrjk96JqDbhAGUiIiKSNYYdIiIikjWGHSIiIpI1hh0iIiKSNYYdIiIikjWGHSIiIpI1hh0iIiKSNYYdIiIikjWGHSIiIpI1hh0iIiKSNYYdIiIikjWGHSIiIpI1hh0iIiKSNYYdIiIikjWGHSIiIpI1hh0iIiKSNYYdIiIikjWGHSIiIpI1hh0iIiKSNYYdIiIikjWGHSIiIpI1hh0iIiKSNYYdIiIikjWGHSIiIpI1hh0iIiKSNYYdIiIikjWGHSIiIpI1hh0iIiKSNa2GndDQUHTq1AlmZmawtbXF4MGDcePGDZV5Hj9+jKCgIDRs2BCmpqYYOnQoEhISVOaJjY3FgAEDYGxsDFtbW8yePRsFBQU1uStERESko7Qadk6ePImgoCCcPXsWYWFhyM/PR9++fZGVlSXNM2PGDOzduxc7duzAyZMn8fDhQwwZMkSaXlhYiAEDBiAvLw9nzpzB999/j02bNuHDDz/Uxi4RERGRjjHQ5sYPHjyo8n7Tpk2wtbXFhQsX0L17d6SlpeG7777D1q1b0atXLwDAxo0b4enpibNnz+KFF17A4cOHce3aNRw5cgR2dnZo164dPvroIwQHB2PBggUwNDTUxq4RERGRjtCpMTtpaWkAACsrKwDAhQsXkJ+fDz8/P2keDw8PODs7IyIiAgAQERGB1q1bw87OTprH398f6enpuHr1aqnbyc3NRXp6usqLiIiI5Elnwk5RURGmT5+OLl26wMvLCwAQHx8PQ0NDWFpaqsxrZ2eH+Ph4aZ6ng07x9OJppQkNDYWFhYX0cnJy0vDeEBERka7QmbATFBSEK1euYNu2bdW+rZCQEKSlpUmv+/fvV/s2iYiISDu0Oman2JQpU7Bv3z6Eh4ejcePGUru9vT3y8vKQmpqqcnQnISEB9vb20jznzp1TWV/x1VrF8zxLqVRCqVRqeC+IiIhIF2n1yI4QAlOmTMGuXbtw7NgxuLm5qUz39vZGvXr1cPToUantxo0biI2Nha+vLwDA19cXf/31FxITE6V5wsLCYG5ujpYtW9bMjhAREZHO0uqRnaCgIGzduhV79uyBmZmZNMbGwsICRkZGsLCwwIQJEzBz5kxYWVnB3NwcU6dOha+vL1544QUAQN++fdGyZUu88cYbWLZsGeLj4/HBBx8gKCiIR2+IiIhIu2Fn7dq1AICePXuqtG/cuBFjx44FAHz22WfQ09PD0KFDkZubC39/f3z11VfSvPr6+ti3bx/efvtt+Pr6wsTEBIGBgVi0aFFN7QYRERHpMK2GHSHEc+epX78+1qxZgzVr1pQ5j4uLC3777TdNlkYke9HR0TWyDBGRtunEAGUiqjk5ackAFBg9erTa68jPzdNcQURE1Yxhh6iOyc/OACDQ7vVg2Lh5VGrZuL8icOXX9Xz2HBHVKgw7RFqk7mkhTZxOMrV1hpVzi0otkx53t8rbJSKqaQw7RFqgiVNJAE8nERFVBMMOkRZU5VQSwNNJRESVwbBDpEXqnEoCeDqJiKgydObZWERERETVgWGHiIiIZI1hh4iIiGSNY3aozouNjUVSUlKll+PdhImIageGHarTYmNj4eHhiZycbLXXwcu/iYh0G8MO1WlJSUnIycmGz/j5MHdwrdSyvPybiKh2YNghAmDu4Mq7CRMRyRQHKBMREZGsMewQERGRrDHsEBERkawx7BAREZGsMewQERGRrDHsEBERkawx7BAREZGs8T47RFSj1H3MhrW1NZydnTVcDRHVBQw7RFQjctKSASgwevRotZY3MjLG9evRDDxEVGkMO0RUI/KzMwAItHs9GDZuHpVaNj3uLiI3LERSUhLDDhFVGsMOEdUoU1vnSj+ag4ioKjhAmYiIiGSNYYeIiIhkjWGHiIiIZI1hh4iIiGSNYYeIiIhkjWGHiIiIZI1hh4iIiGSNYYeIiIhkjWGHiIiIZI1hh4iIiGSNYYeIiIhkjWGHiIiIZI1hh4iIiGSNYYeIiIhkjWGHiIiIZI1hh4iIiGSNYYeIiIhkzUDbBRARVVR0dLRay1lbW8PZ2VnD1RBRbcGwQ0Q6LyctGYACo0ePVmt5IyNjXL8ezcBDVEcx7BCRzsvPzgAg0O71YNi4eVRq2fS4u4jcsBBJSUkMO0R1FMMOEdUaprbOsHJuoe0yiKiW4QBlIiIikjWGHSIiIpI1hh0iIiKSNYYdIiIikjWGHSIiIpI1hh0iIiKSNYYdIiIikjWGHSIiIpI1hh0iIiKSNYYdIiIikjWGHSIiIpI1hh0iIiKSNYYdIiIikjW1n3qelZWFkydPIjY2Fnl5eSrTpk2bVuXCiIiIiDRBrbBz6dIl9O/fH9nZ2cjKyoKVlRWSkpJgbGwMW1tbhh0iIiLSGWqdxpoxYwYGDhyIf//9F0ZGRjh79izu3bsHb29vrFixosLrCQ8Px8CBA+Ho6AiFQoHdu3erTB87diwUCoXKq1+/firzpKSkYNSoUTA3N4elpSUmTJiAzMxMdXaLiIiIZEitsBMVFYVZs2ZBT08P+vr6yM3NhZOTE5YtW4a5c+dWeD1ZWVlo27Yt1qxZU+Y8/fr1Q1xcnPT66aefVKaPGjUKV69eRVhYGPbt24fw8HBMmjRJnd0iIiIiGVLrNFa9evWgp/ckJ9na2iI2Nhaenp6wsLDA/fv3K7yegIAABAQElDuPUqmEvb19qdOio6Nx8OBBnD9/Hh07dgQAfPHFF+jfvz9WrFgBR0fHCtdCRERE8qTWkZ327dvj/PnzAIAePXrgww8/xJYtWzB9+nR4eXlptMATJ07A1tYWLVq0wNtvv43k5GRpWkREBCwtLaWgAwB+fn7Q09NDZGRkmevMzc1Fenq6youIiIjkSa2ws2TJEjg4OAAAFi9ejAYNGuDtt9/Go0ePsH79eo0V169fP/zwww84evQoli5dipMnTyIgIACFhYUAgPj4eNja2qosY2BgACsrK8THx5e53tDQUFhYWEgvJycnjdVMREREukWt01hPH0mxtbXFwYMHNVbQ00aMGCH9u3Xr1mjTpg3c3d1x4sQJ9O7dW+31hoSEYObMmdL79PR0Bh4iIiKZqlU3FWzSpAmsra1x+/ZtAIC9vT0SExNV5ikoKEBKSkqZ43yAJ+OAzM3NVV5EREQkTxU+stOhQwccPXoUDRo0QPv27aFQKMqc9+LFixop7ln//PMPkpOTpVNovr6+SE1NxYULF+Dt7Q0AOHbsGIqKiuDj41MtNRAREVHtUuGwM2jQICiVSgDA4MGDNbLxzMxM6SgNAMTExCAqKgpWVlawsrLCwoULMXToUNjb2+POnTuYM2cOmjZtCn9/fwCAp6cn+vXrhzfffBPr1q1Dfn4+pkyZghEjRvBKLCIiIgJQibAzf/78Uv9dFX/88QdefPFF6X3xOJrAwECsXbsWly9fxvfff4/U1FQ4Ojqib9+++Oijj6TQBQBbtmzBlClT0Lt3b+jp6WHo0KFYvXq1RuojIiKi2k+tAcrnz58v9VRRZGQk9PX1VQYwl6dnz54QQpQ5/dChQ89dh5WVFbZu3Vqh7REREVHdo9YA5aCgoFJvHvjgwQMEBQVVuSgiIiIiTVEr7Fy7dg0dOnQo0d6+fXtcu3atykURERERaYpaYUepVCIhIaFEe1xcHAwM1DozRkRERFQt1Ao7ffv2RUhICNLS0qS21NRUzJ07F3369NFYcURERERVpdZhmBUrVqB79+5wcXFB+/btATx5ErqdnR02b96s0QKJiIiIqkKtsNOoUSNcvnwZW7ZswZ9//gkjIyOMGzcOI0eORL169TRdIxEREZHa1B5gY2JigkmTJmmyFiIiIiKNUzvs3Lp1C8ePH0diYiKKiopUpn344YdVLoyIiIhIE9QKO9988w3efvttWFtbw97eXuU5WQqFgmGHiIiIdIZaYefjjz/G4sWLERwcrOl6iIiIiDRKrUvP//33X7z66quaroWIiIhI49QKO6+++ioOHz6s6VqIiIiINE6t01hNmzbFvHnzcPbsWbRu3brE5ebTpk3TSHFEREREVaVW2Fm/fj1MTU1x8uRJnDx5UmWaQqFg2CEiIiKdoVbYiYmJ0XQdRFUSGxuLpKSkSi8XHR1dDdUQEZEuqdJTO/Py8hATEwN3d3c+AJS0JjY2Fh4ensjJyVZ7Hfm5eRqsiIiIdIlaCSU7OxtTp07F999/DwC4efMmmjRpgqlTp6JRo0Z4//33NVokUXmSkpKQk5MNn/HzYe7gWqll4/6KwJVf16OgoKB6iiMiIq1TK+yEhITgzz//xIkTJ9CvXz+p3c/PDwsWLGDYIa0wd3CFlXOLSi2THne3eoohIiKdoVbY2b17N7Zv344XXnhB5e7JrVq1wp07dzRWHBEREVFVqXWfnUePHsHW1rZEe1ZWlkr4ISIiItI2tcJOx44dsX//ful9ccD59ttv4evrq5nKiIiIiDRArdNYS5YsQUBAAK5du4aCggJ8/vnnuHbtGs6cOVPivjtERERE2qTWkZ2uXbsiKioKBQUFaN26NQ4fPgxbW1tERETA29tb0zUSERERqU3tm+O4u7vjm2++0WQtRERERBqnVtiJjY0td7qzs7NaxRARERFpmlphx9XVtdyrrgoLC9UuiIiIiEiT1Ao7ly5dUnmfn5+PS5cuYeXKlVi8eLFGCiMiIiLSBLXCTtu2bUu0dezYEY6Ojli+fDmGDBlS5cKIiIiINEGtq7HK0qJFC5w/f16TqyQiIiKqErWO7KSnp6u8F0IgLi4OCxYsQLNmzTRSGBEREZEmqBV2LC0tSwxQFkLAyckJ27Zt00hhRERERJqgVtg5duyYStjR09ODjY0NmjZtCgMDtW/dQ0Skc2JjY5GUlKTWstbW1rwVB5EOUCuZ9OzZU8NlEBHpntjYWHh4eCInJ1ut5Y2MjHH9ejQDD5GWqRV2QkNDYWdnh/Hjx6u0b9iwAY8ePUJwcLBGiiMi0qakpCTk5GTDZ/x8mDu4VmrZ9Li7iNywEElJSQw7RFqmVtj5+uuvsXXr1hLtrVq1wogRIxh2iEjnREdHq72MuYMrrJxbaLokIqohaoWd+Ph4ODg4lGi3sbFBXFxclYsiItKUnLRkAAqMHj1a7XXk5+ZpriAiqnFqhR0nJyecPn0abm5uKu2nT5+Go6OjRgojItKE/OwMAALtXg+GjZtHpZaN+ysCV35dj4KCguopjohqhFph580338T06dORn5+PXr16AQCOHj2KOXPmYNasWRotkIhIE0xtnSt9Kio97m71FENENUqtsDN79mwkJyfjnXfeQV7ek8O79evXR3BwMEJCQjRaIBEREVFVqBV2FAoFli5dinnz5iE6OhpGRkZo1qwZlEqlpusjIiIiqpIqPRsrPj4eKSkpcHd3h1KphBBCU3URERERaYRaYSc5ORm9e/dG8+bN0b9/f+kKrAkTJnDMDhEREekUtcLOjBkzUK9ePcTGxsLY2Fhqf+2113Dw4EGNFUdERERUVWqN2Tl8+DAOHTqExo0bq7Q3a9YM9+7d00hhRERERJqg1pGdrKwslSM6xVJSUjhImYiIiHSKWmGnW7du+OGHH6T3CoUCRUVFWLZsGV588UWNFUdERERUVWqdxlq2bBl69+6NP/74A3l5eZgzZw6uXr2KlJQUnD59WtM1EhEREalNrSM7Xl5euHnzJrp27YpBgwYhKysLQ4YMwaVLl+Du7q7pGomIiIjUVukjO/n5+ejXrx/WrVuH//73v9VRExEREZHGVPrITr169XD58uXqqIWIiIhI49Q6jTV69Gh89913mq6FiIiISOPUGqBcUFCADRs24MiRI/D29oaJiYnK9JUrV2qkOCIiIqKqqlTY+fvvv+Hq6oorV66gQ4cOAICbN2+qzKNQKDRXHREREVEVVSrsNGvWDHFxcTh+/DiAJ4+HWL16Nezs7KqlOCIiIqKqqtSYnWefan7gwAFkZWVptCAiIiIiTVJrgHKxZ8MPERERka6pVNhRKBQlxuRwjA4RERHpskqN2RFCYOzYsdLDPh8/foy33nqrxNVYO3fu1FyFRERERFVQqbATGBio8n706NEaLYaIiIhI0yoVdjZu3FhddRARERFViyoNUK6q8PBwDBw4EI6OjlAoFNi9e7fKdCEEPvzwQzg4OMDIyAh+fn64deuWyjwpKSkYNWoUzM3NYWlpiQkTJiAzM7MG94KIiIh0mVbDTlZWFtq2bYs1a9aUOn3ZsmVYvXo11q1bh8jISJiYmMDf3x+PHz+W5hk1ahSuXr2KsLAw7Nu3D+Hh4Zg0aVJN7QIRERHpOLUeF6EpAQEBCAgIKHWaEAKrVq3CBx98gEGDBgEAfvjhB9jZ2WH37t0YMWIEoqOjcfDgQZw/fx4dO3YEAHzxxRfo378/VqxYAUdHx1LXnZubi9zcXOl9enq6hveMiIiIdIVWj+yUJyYmBvHx8fDz85PaLCws4OPjg4iICABAREQELC0tpaADAH5+ftDT00NkZGSZ6w4NDYWFhYX0cnJyqr4dISIiIq3S2bATHx8PACUeRWFnZydNi4+Ph62trcp0AwMDWFlZSfOUJiQkBGlpadLr/v37Gq6eiIiIdIVWT2Npi1KplO4VRERERPKms0d27O3tAQAJCQkq7QkJCdI0e3t7JCYmqkwvKChASkqKNA8RERHVbTobdtzc3GBvb4+jR49Kbenp6YiMjISvry8AwNfXF6mpqbhw4YI0z7Fjx1BUVAQfH58ar5mIiIh0j1ZPY2VmZuL27dvS+5iYGERFRcHKygrOzs6YPn06Pv74YzRr1gxubm6YN28eHB0dMXjwYACAp6cn+vXrhzfffBPr1q1Dfn4+pkyZghEjRpR5JRYRERHVLVoNO3/88QdefPFF6f3MmTMBPHksxaZNmzBnzhxkZWVh0qRJSE1NRdeuXXHw4EHUr19fWmbLli2YMmUKevfuDT09PQwdOhSrV6+u8X0hIiIi3aTVsNOzZ08IIcqcrlAosGjRIixatKjMeaysrLB169bqKI+IiIhkQGfH7BARERFpAsMOERERyRrDDhEREckaww4RERHJGsMOERERyRrDDhEREckaww4RERHJGsMOERERyRrDDhEREckaww4RERHJGsMOERERyRrDDhEREckaww4RERHJGsMOERERyRrDDhEREckaww4RERHJGsMOERERyRrDDhEREckaww4RERHJGsMOERERyZqBtgsgIpKz6OhotZaztraGs7OzhqshqpsYdoiIqkFOWjIABUaPHq3W8kZGxrh+PZqBh0gDGHaIiKpBfnYGAIF2rwfDxs2jUsumx91F5IaFSEpKYtgh0gCGHSKiamRq6wwr5xbaLoOoTuMAZSIiIpI1hh0iIiKSNYYdIiIikjWGHSIiIpI1hh0iIiKSNYYdIiIikjWGHSIiIpI1hh0iIiKSNYYdIiIikjWGHSIiIpI1hh0iIiKSNYYdIiIikjWGHSIiIpI1hh0iIiKSNYYdIiIikjWGHSIiIpI1hh0iIiKSNYYdIiIikjWGHSIiIpI1hh0iIiKSNYYdIiIikjWGHSIiIpI1hh0iIiKSNYYdIiIikjUDbRdARESli46OVms5a2trODs7a7gaotqLYYeISMfkpCUDUGD06NFqLW9kZIzr16MZeIj+P4YdIiIdk5+dAUCg3evBsHHzqNSy6XF3EblhIZKSkhh2iP4/hh0iIh1lausMK+cW2i6DqNbjAGUiIiKSNYYdIiIikjWGHSIiIpI1hh0iIiKSNYYdIiIikjWGHSIiIpI1hh0iIiKSNZ2+z86CBQuwcOFClbYWLVrg+vXrAIDHjx9j1qxZ2LZtG3Jzc+Hv74+vvvoKdnZ22iiXqig2NhZJSUmVXk7dW+oTEVHdoNNhBwBatWqFI0eOSO8NDP6v5BkzZmD//v3YsWMHLCwsMGXKFAwZMgSnT5/WRqlUBbGxsfDw8EROTrba68jPzdNgRUREJBc6H3YMDAxgb29foj0tLQ3fffcdtm7dil69egEANm7cCE9PT5w9exYvvPBCTZdKVZCUlIScnGz4jJ8PcwfXSi0b91cErvy6HgUFBdVTHBER1Wo6H3Zu3boFR0dH1K9fH76+vggNDYWzszMuXLiA/Px8+Pn5SfN6eHjA2dkZERER5Yad3Nxc5ObmSu/T09OrdR+o4swdXCt9e/z0uLvVUwwREcmCTg9Q9vHxwaZNm3Dw4EGsXbsWMTEx6NatGzIyMhAfHw9DQ0NYWlqqLGNnZ4f4+Phy1xsaGgoLCwvp5eTkVI17QURERNqk00d2AgICpH+3adMGPj4+cHFxwc8//wwjIyO11xsSEoKZM2dK79PT0xl4iIiIZEqnj+w8y9LSEs2bN8ft27dhb2+PvLw8pKamqsyTkJBQ6hifpymVSpibm6u8iIiISJ5qVdjJzMzEnTt34ODgAG9vb9SrVw9Hjx6Vpt+4cQOxsbHw9fXVYpVERESkS3T6NNZ7772HgQMHwsXFBQ8fPsT8+fOhr6+PkSNHwsLCAhMmTMDMmTNhZWUFc3NzTJ06Fb6+vrwSi4iIiCQ6HXb++ecfjBw5EsnJybCxsUHXrl1x9uxZ2NjYAAA+++wz6OnpYejQoSo3FSQiIiIqptNhZ9u2beVOr1+/PtasWYM1a9bUUEVERERU29SqMTtERERElcWwQ0RERLKm06exiIioZqn7QF4AsLa2hrOzs4YrIqo6hh0iIgJQ9QfyGhkZ4/r1aAYe0jkMO0REBKBqD+RNj7uLyA0LkZSUxLBDOodhh4iIVKjzQF4iXcYBykRERCRrDDtEREQkaww7REREJGsMO0RERCRrDDtEREQkaww7REREJGu89JyISIaio6NrZBmi2oBhh4hIRnLSkgEoMHr0aLXXkZ+bp7mCiHQAww4RkYzkZ2cAEGj3ejBs3DwqtWzcXxG48ut6FBQUVE9xRFrCsENEJEOmts6VvgtyetzdKm9X3VNhfIgoVSeGHSIiqrKqnj7jQ0SpOjHsEBFRlVXl9BkfIkrVjWGHiIg0Rp3TZ0TVjffZISIiIllj2CEiIiJZY9ghIiIiWWPYISIiIllj2CEiIiJZY9ghIiIiWWPYISIiIlnjfXaIiEgn8FETVF0YdoiISKv4qAmqbgw7RESkVXzUBFU3hh0iItIJfNQEVReGHSIiqrNiY2ORlJSk1rIcK1R7MOwQEVGdFBsbCw8PT+TkZKu1PMcK1R4MO0REVCclJSUhJycbPuPnw9zBtVLLcqxQ7cKwQ0REtZ46l60XL2Pu4MqxQjLHsENERLVWVS9bB4D83DzNFUQ6iWGHiIhqrapcth73VwSu/LoeBQUF1VMc6QyGHSIiqvXUuWw9Pe5u9RRDOofPxiIiIiJZY9ghIiIiWWPYISIiIllj2CEiIiJZY9ghIiIiWWPYISIiIllj2CEiIiJZ4312SKPUfYKwOrd6JyIiqgiGHdKYqj5BGOBt24mISPMYdkhjqvIEYd62nYhqI3WPSltbW/Np6TWIYYc0Tp0nCPO27URUm1T1AaRGRsa4fj2agaeGMOwQERFVUlUeQJoedxeRGxYiKSmJYaeGMOwQERGpSZ0HkFLN46XnREREJGs8skNERKQFHNxccxh2iIiIahAHN9c8hh0iIqIaxMHNNY9hh4iISAs4uLnmcIAyERERyRrDDhEREckaww4RERHJGsfsEBER1TK8bL1yGHaIiIhqCV62rh7ZhJ01a9Zg+fLliI+PR9u2bfHFF1+gc+fO2i4LsbGxSEpKUmvZuprAiYiodNq8bL02/z2TRdjZvn07Zs6ciXXr1sHHxwerVq2Cv78/bty4AVtbW63VFRsbCw8PT+TkZKu1fFUSeFW+lLm5uVAqlZVeTt3DqkREVDlVuWxdnd/VcXFxGDbsVTx+nKPWNrV9REkWYWflypV48803MW7cOADAunXrsH//fmzYsAHvv/++1upKSkpCTk42fMbPh7mDa6WWrUoCr2rIgkIBCKHesgDyc/PUXpaIiKpHVU+BAYD3G3Nh5dysUsvowo0Qa33YycvLw4ULFxASEiK16enpwc/PDxEREaUuk5ubi9zcXOl9WloaACA9PV2jtWVmZgIACvJyUZBbuTRckPekvgsXLkjrqagbN24gJycbLfq8DmMru0otm3I3GvciD6JJz1dhYddYrWWT70VDgcJKLZsedw8AkPbgFuoZKLisjm6by3JZLlt7l02+cwWAqNLv97zH2Wr/PcvMzNT439ni9Ynn/Qdd1HIPHjwQAMSZM2dU2mfPni06d+5c6jLz588XAPjiiy+++OKLLxm87t+/X25WqPVHdtQREhKCmTNnSu+LioqQkpKChg0bQqFQTcrp6elwcnLC/fv3YW5uXtOl1krss8pjn1Ue+6zy2GeVxz6rvJrsMyEEMjIy4OjoWO58tT7sWFtbQ19fHwkJCSrtCQkJsLe3L3UZpVJZYgCupaVludsxNzfnF72S2GeVxz6rPPZZ5bHPKo99Vnk11WcWFhbPnafW30HZ0NAQ3t7eOHr0qNRWVFSEo0ePwtfXV4uVERERkS6o9Ud2AGDmzJkIDAxEx44d0blzZ6xatQpZWVnS1VlERERUd8ki7Lz22mt49OgRPvzwQ8THx6Ndu3Y4ePAg7OwqdyVSaZRKJebPn6/WfWfqKvZZ5bHPKo99Vnnss8pjn1WeLvaZQogq3FCFiIiISMfV+jE7REREROVh2CEiIiJZY9ghIiIiWWPYISIiIllj2CnHmjVr4Orqivr168PHxwfnzp3Tdkk6IzQ0FJ06dYKZmRlsbW0xePBg3LhxQ2Wex48fIygoCA0bNoSpqSmGDh1a4uaPddknn3wChUKB6dOnS23ss5IePHiA0aNHo2HDhjAyMkLr1q3xxx9/SNOFEPjwww/h4OAAIyMj+Pn54datW1qsWLsKCwsxb948uLm5wcjICO7u7vjoo49Unh3EPgPCw8MxcOBAODo6QqFQYPfu3SrTK9JHKSkpGDVqFMzNzWFpaYkJEyZU+lmGtUl5fZafn4/g4GC0bt0aJiYmcHR0xJgxY/Dw4UOVdWirzxh2yrB9+3bMnDkT8+fPx8WLF9G2bVv4+/sjMTFR26XphJMnTyIoKAhnz55FWFgY8vPz0bdvX2RlZUnzzJgxA3v37sWOHTtw8uRJPHz4EEOGDNFi1brj/Pnz+Prrr9GmTRuVdvaZqn///RddunRBvXr1cODAAVy7dg2ffvopGjRoIM2zbNkyrF69GuvWrUNkZCRMTEzg7++Px48fa7Fy7Vm6dCnWrl2LL7/8EtHR0Vi6dCmWLVuGL774QpqHfQZkZWWhbdu2WLNmTanTK9JHo0aNwtWrVxEWFoZ9+/YhPDwckyZNqqldqHHl9Vl2djYuXryIefPm4eLFi9i5cydu3LiBl19+WWU+rfVZ1R/FKU+dO3cWQUFB0vvCwkLh6OgoQkNDtViV7kpMTBQAxMmTJ4UQQqSmpop69eqJHTt2SPNER0cLACIiIkJbZeqEjIwM0axZMxEWFiZ69Ogh3n33XSEE+6w0wcHBomvXrmVOLyoqEvb29mL58uVSW2pqqlAqleKnn36qiRJ1zoABA8T48eNV2oYMGSJGjRolhGCflQaA2LVrl/S+In107do1AUCcP39emufAgQNCoVCIBw8e1Fjt2vJsn5Xm3LlzAoC4d++eEEK7fcYjO6XIy8vDhQsX4OfnJ7Xp6enBz88PERERWqxMd6WlpQEArKysAAAXLlxAfn6+Sh96eHjA2dm5zvdhUFAQBgwYoNI3APusNL/++is6duyIV199Fba2tmjfvj2++eYbaXpMTAzi4+NV+szCwgI+Pj51ts/+85//4OjRo7h58yYA4M8//8SpU6cQEBAAgH1WERXpo4iICFhaWqJjx47SPH5+ftDT00NkZGSN16yL0tLSoFAopGdParPPZHEHZU1LSkpCYWFhiTsw29nZ4fr161qqSncVFRVh+vTp6NKlC7y8vAAA8fHxMDQ0LPGAVTs7O8THx2uhSt2wbds2XLx4EefPny8xjX1W0t9//421a9di5syZmDt3Ls6fP49p06bB0NAQgYGBUr+U9rNaV/vs/fffR3p6Ojw8PKCvr4/CwkIsXrwYo0aNAgD2WQVUpI/i4+Nha2urMt3AwABWVlbsRzwZfxgcHIyRI0dKDwPVZp8x7FCVBQUF4cqVKzh16pS2S9Fp9+/fx7vvvouwsDDUr19f2+XUCkVFRejYsSOWLFkCAGjfvj2uXLmCdevWITAwUMvV6aaff/4ZW7ZswdatW9GqVStERUVh+vTpcHR0ZJ9RjcjPz8fw4cMhhMDatWu1XQ4ADlAulbW1NfT19UtcBZOQkAB7e3stVaWbpkyZgn379uH48eNo3Lix1G5vb4+8vDykpqaqzF+X+/DChQtITExEhw4dYGBgAAMDA5w8eRKrV6+GgYEB7Ozs2GfPcHBwQMuWLVXaPD09ERsbCwBSv/Bn9f/Mnj0b77//PkaMGIHWrVvjjTfewIwZMxAaGgqAfVYRFekje3v7EhesFBQUICUlpU73Y3HQuXfvHsLCwqSjOoB2+4xhpxSGhobw9vbG0aNHpbaioiIcPXoUvr6+WqxMdwghMGXKFOzatQvHjh2Dm5ubynRvb2/Uq1dPpQ9v3LiB2NjYOtuHvXv3xl9//YWoqCjp1bFjR4waNUr6N/tMVZcuXUrc0uDmzZtwcXEBALi5ucHe3l6lz9LT0xEZGVln+yw7Oxt6eqq/2vX19VFUVASAfVYRFekjX19fpKam4sKFC9I8x44dQ1FREXx8fGq8Zl1QHHRu3bqFI0eOoGHDhirTtdpn1Tr8uRbbtm2bUCqVYtOmTeLatWti0qRJwtLSUsTHx2u7NJ3w9ttvCwsLC3HixAkRFxcnvbKzs6V53nrrLeHs7CyOHTsm/vjjD+Hr6yt8fX21WLXuefpqLCHYZ886d+6cMDAwEIsXLxa3bt0SW7ZsEcbGxuLHH3+U5vnkk0+EpaWl2LNnj7h8+bIYNGiQcHNzEzk5OVqsXHsCAwNFo0aNxL59+0RMTIzYuXOnsLa2FnPmzJHmYZ89uSry0qVL4tKlSwKAWLlypbh06ZJ05VBF+qhfv36iffv2IjIyUpw6dUo0a9ZMjBw5Ulu7VO3K67O8vDzx8ssvi8aNG4uoqCiVvwu5ubnSOrTVZww75fjiiy+Es7OzMDQ0FJ07dxZnz57Vdkk6A0Cpr40bN0rz5OTkiHfeeUc0aNBAGBsbi1deeUXExcVpr2gd9GzYYZ+VtHfvXuHl5SWUSqXw8PAQ69evV5leVFQk5s2bJ+zs7IRSqRS9e/cWN27c0FK12peeni7effdd4ezsLOrXry+aNGki/vvf/6r8wWGfCXH8+PFSf4cFBgYKISrWR8nJyWLkyJHC1NRUmJubi3HjxomMjAwt7E3NKK/PYmJiyvy7cPz4cWkd2uozhRBP3VaTiIiISGY4ZoeIiIhkjWGHiIiIZI1hh4iIiGSNYYeIiIhkjWGHiIiIZI1hh4iIiGSNYYeIiIhkjWGHiMq1a9cu/Pzzz9oug4hIbQw7RFSmc+fOYfr06XjhhRe0XUqVnThxAgqFosSDVmvCggUL0K5duxrfLhE9wbBDVEeMHTsWCoUCn3zyiUr77t27oVAoSsyflpaGiRMnYteuXXB2dq6pMnUaQwtR7cSwQ1SH1K9fH0uXLsW///773HktLCxw+fJldOjQoQYqK11eXp7Wtk1E8sGwQ1SH+Pn5wd7eHqGhoWXOU9rRi1WrVsHV1VV6P3bsWAwePBhLliyBnZ0dLC0tsWjRIhQUFGD27NmwsrJC48aNsXHjRpX13L9/H8OHD4elpSWsrKwwaNAg3L17t8R6Fy9eDEdHR7Ro0QIA8Ndff6FXr14wMjJCw4YNMWnSJGRmZpa7r7/99huaN28OIyMjvPjiiyrbKXbq1Cl069YNRkZGcHJywrRp05CVlVXq+jZt2oSFCxfizz//hEKhgEKhwKZNmwAAsbGxGDRoEExNTWFubo7hw4cjISGhzNru3LmDJk2aYMqUKRBCIDc3F++99x4aNWoEExMT+Pj44MSJEyrbtrS0xKFDh+Dp6QlTU1P069cPcXFx0jwnTpxA586dYWJiAktLS3Tp0gX37t0rt4+I6gqGHaI6RF9fH0uWLMEXX3yBf/75p0rrOnbsGB4+fIjw8HCsXLkS8+fPx0svvYQGDRogMjISb731FiZPnixtJz8/H/7+/jAzM8Pvv/+O06dPS3+0nz6Cc/ToUdy4cQNhYWHYt28fsrKy4O/vjwYNGuD8+fPYsWMHjhw5gilTppRZ2/379zFkyBAMHDgQUVFRmDhxIt5//32Vee7cuYN+/fph6NChuHz5MrZv345Tp06Vud7XXnsNs2bNQqtWrRAXF4e4uDi89tprKCoqwqBBg5CSkoKTJ08iLCwMf//9N1577bVS13P58mV07doVr7/+Or788ksoFApMmTIFERER2LZtGy5fvoxXX30V/fr1w61bt6TlsrOzsWLFCmzevBnh4eGIjY3Fe++9BwAoKCjA4MGD0aNHD1y+fBkRERGYNGlSqacnieqkan+uOhHphMDAQDFo0CAhhBAvvPCCGD9+vBBCiF27domnfxXMnz9ftG3bVmXZzz77TLi4uKisy8XFRRQWFkptLVq0EN26dZPeFxQUCBMTE/HTTz8JIYTYvHmzaNGihSgqKpLmyc3NFUZGRuLQoUPSeu3s7ERubq40z/r160WDBg1EZmam1LZ//36hp6cn4uPjS93XkJAQ0bJlS5W24OBgAUD8+++/QgghJkyYICZNmqQyz++//y709PRETk5OqestrW8OHz4s9PX1RWxsrNR29epVAUCcO3dOZbnTp0+LBg0aiBUrVkjz3rt3T+jr64sHDx6orLd3794iJCRECCHExo0bBQBx+/ZtafqaNWuEnZ2dEEKI5ORkAUCcOHGi1LqJ6joDrSYtItKKpUuXolevXtKRAXW0atUKenr/d3DYzs4OXl5e0nt9fX00bNgQiYmJAIA///wTt2/fhpmZmcp6Hj9+jDt37kjvW7duDUNDQ+l9dHQ02rZtCxMTE6mtS5cuKCoqwo0bN2BnZ1eitujoaPj4+Ki0+fr6qrz/888/cfnyZWzZskVqE0KgqKgIMTEx8PT0rFA/REdHw8nJCU5OTlJby5YtYWlpiejoaHTq1AnAk1Ndffr0weLFizF9+nRp3r/++guFhYVo3ry5ynpzc3PRsGFD6b2xsTHc3d2l9w4ODlLfWllZYezYsfD390efPn3g5+eH4cOHw8HBoUL7QCR3DDtEdVD37t3h7++PkJAQjB07VmWanp4ehBAqbfn5+SXWUa9ePZX3CoWi1LaioiIAQGZmJry9vVXCRTEbGxvp30+HmuqUmZmJyZMnY9q0aSWmVcfVZzY2NnB0dMRPP/2E8ePHw9zcXKpDX18fFy5cgL6+vsoypqam0r9L69unP6eNGzdi2rRpOHjwILZv344PPvgAYWFhsrhtAFFVMewQ1VGffPIJ2rVrJw0CLmZjY4P4+HgIIaQxH1FRUVXeXocOHbB9+3bY2tpKf+grwtPTE5s2bUJWVpYUhE6fPg09Pb0StT+9zK+//qrSdvbs2RL1XLt2DU2bNq1wLYaGhigsLCyxrfv37+P+/fvS0Z1r164hNTUVLVu2lOYzMjLCvn370L9/f/j7++Pw4cMwMzND+/btUVhYiMTERHTr1q3CtZSmffv2aN++PUJCQuDr64utW7cy7BCBA5SJ6qzWrVtj1KhRWL16tUp7z5498ejRIyxbtgx37tzBmjVrcODAgSpvb9SoUbC2tsagQYPw+++/IyYmBidOnMC0adPKHSw9atQo1K9fH4GBgbhy5QqOHz+OqVOn4o033ij1FBYAvPXWW7h16xZmz56NGzduYOvWrdKVU8WCg4Nx5swZTJkyBVFRUbh16xb27NlT7sBnV1dXxMTEICoqCklJScjNzYWfn5/UlxcvXsS5c+cwZswY9OjRAx07dlRZ3sTEBPv374eBgQECAgKQmZmJ5s2bY9SoURgzZgx27tyJmJgYnDt3DqGhodi/f3+F+jYmJgYhISGIiIjAvXv3cPjwYdy6davCp+KI5I5hh6gOW7RokXSaqZinpye++uorrFmzBm3btsW5c+eqNLanmLGxMcLDw+Hs7IwhQ4bA09MTEyZMwOPHj8s90mNsbIxDhw4hJSUFnTp1wrBhw9C7d298+eWXZS7j7OyM//3vf9i9ezfatm2LdevWYcmSJSrztGnTBidPnsTNmzfRrVs3tG/fHh9++CEcHR3LXO/QoUPRr18/vPjii7CxscFPP/0EhUKBPXv2oEGDBujevTv8/PzQpEkTbN++vdR1mJqa4sCBAxBCYMCAAcjKysLGjRsxZswYzJo1Cy1atMDgwYNx/vz5Cp9OMzY2xvXr1zF06FA0b94ckyZNQlBQECZPnlyh5YnkTiGePTlPREREJCM8skNERESyxrBDREREssawQ0RERLLGsENERESyxrBDREREssawQ0RERLLGsENERESyxrBDREREssawQ0RERLLGsENERESyxrBDREREsvb/ANyhCE9ClS3zAAAAAElFTkSuQmCC",
      "text/plain": [
       "<Figure size 640x480 with 1 Axes>"
      ]
     },
     "metadata": {},
     "output_type": "display_data"
    }
   ],
   "source": [
    "# Información del dataset\n",
    "print(data_t.info())\n",
    "\n",
    "# Valores nulos\n",
    "print(\"\\nValores nulos por columna:\")\n",
    "print(data_t.isnull().sum())\n",
    "\n",
    "# Distribución de clases\n",
    "print(\"\\nDistribución de etiquetas (ODS):\")\n",
    "print(data_t['labels'].value_counts())\n",
    "\n",
    "# Distribución de longitudes\n",
    "import matplotlib.pyplot as plt\n",
    "import seaborn as sns\n",
    "\n",
    "sns.histplot(data_t[\"longitud_tokens\"], bins=30, kde=False)\n",
    "plt.title(\"Distribución de longitudes (tokens limpios)\")\n",
    "plt.xlabel(\"Número de tokens\")\n",
    "plt.ylabel(\"Frecuencia\")\n",
    "plt.show()\n"
   ]
  },
  {
   "cell_type": "markdown",
   "id": "138b7d9d",
   "metadata": {},
   "source": [
    "### 3.5 Explorar n-gramas clave\n",
    "\n",
    "Qué hace: \n",
    "- Extrae frases frecuentes por clase.  \n",
    "\n",
    "Por qué:\n",
    "- Nos ayuda a saber que conceptos aparecen más en cada ODS.    "
   ]
  },
  {
   "cell_type": "code",
<<<<<<< HEAD
   "execution_count": 47,
=======
   "execution_count": 15,
>>>>>>> a8fe04ca27a073dbd0fa9b8c8c7b0a82fc980f07
   "id": "05a364cb",
   "metadata": {},
   "outputs": [
    {
     "name": "stdout",
     "output_type": "stream",
     "text": [
      "\n",
      "Top bigramas ODS 1:\n",
      "  pobreza infantil  (95)\n",
      "  tasa pobrezo  (80)\n",
      "  pobreza extremo  (52)\n",
      "  protección social  (47)\n",
      "  reducción pobreza  (46)\n",
      "\n",
      "Top bigramas ODS 3:\n",
      "  salud mental  (227)\n",
      "  atención primario  (206)\n",
      "  atención salud  (94)\n",
      "  sistema salud  (84)\n",
      "  servicio salud  (81)\n",
      "\n",
      "Top bigramas ODS 4:\n",
      "  sistema educativo  (116)\n",
      "  educación superior  (107)\n",
      "  secundario superior  (80)\n",
      "  educación secundario  (67)\n",
      "  educación terciario  (62)\n"
     ]
    }
   ],
   "source": [
    "\n",
    "def top_ngrams(texts, n=2, k=5):\n",
    "    counts = Counter()\n",
    "    for t in texts:\n",
    "        toks = t.split()\n",
    "        ngs = zip(*[toks[i:] for i in range(n)])\n",
    "        counts.update([\" \".join(g) for g in ngs])\n",
    "    return counts.most_common(k)\n",
    "\n",
    "for etiqueta in sorted(data_t[\"labels\"].unique()):\n",
    "    subset = data_t.loc[data_t[\"labels\"]==etiqueta, \"texto_limpio\"].tolist()\n",
    "    print(f\"\\nTop bigramas ODS {etiqueta}:\")\n",
    "    for g,c in top_ngrams(subset, n=2, k=5):\n",
    "        print(f\"  {g}  ({c})\")\n"
   ]
  },
  {
   "cell_type": "markdown",
<<<<<<< HEAD
   "id": "e44f38a9",
   "metadata": {},
   "source": [
    "## 4. Vectorización + Modelo lineal \n",
    "\n",
    "\n",
    "En este punto transformamos los textos ya limpios en representaciones numéricas (vectores) y entrenamos un primer modelo de clasificación para predecir el ODS (1, 3 o 4).\n"
=======
   "id": "7c54a684",
   "metadata": {},
   "source": [
    "## 4. Modelado"
>>>>>>> a8fe04ca27a073dbd0fa9b8c8c7b0a82fc980f07
   ]
  },
  {
   "cell_type": "markdown",
<<<<<<< HEAD
   "id": "0baa0e67",
   "metadata": {},
   "source": [
    "### 4.1 Separar datos en train/test (con estratificación)\n",
    "\n",
    "Por qué: necesitamos un conjunto para entrenar y otro para evaluar de forma honesta.\n",
    "\n",
    "Estratificación: mantiene la proporción de ODS (1/3/4) igual en train y test (importante porque está desbalanceado)."
=======
   "id": "2c674b7e",
   "metadata": {},
   "source": [
    "### 4.1. Naive Bayes (Ana Cristina Rodríguez)\n",
    "El Naive Bayes Multinomial (MNB) es un algoritmo de clasificación probabilística basado en el Teorema de Bayes.\n",
    "Su idea central es calcular la probabilidad de que un texto pertenezca a una clase (por ejemplo, ODS 1, ODS 3 u ODS 4), dadas las palabras que contiene.\n",
    "\n",
    "Al ser multinomial está especialmente diseñado para trabajar con frecuencias de palabras o representaciones TF-IDF, la cual es una técnica de representación de texto que transforma documentos en vectores numéricos, resaltando las palabras más importantes y discriminativas de cada texto.\n",
    "\n",
    "No obstante, la mayor deventaja de este algorítmo es que no capta relaciones semánticas complejas entre palabras. "
   ]
  },
  {
   "cell_type": "markdown",
   "id": "201e908b",
   "metadata": {},
   "source": [
    "Imports y configuraciones:"
>>>>>>> a8fe04ca27a073dbd0fa9b8c8c7b0a82fc980f07
   ]
  },
  {
   "cell_type": "code",
<<<<<<< HEAD
   "execution_count": 48,
   "id": "917dfecf",
   "metadata": {},
   "outputs": [
    {
     "data": {
      "text/plain": [
       "(1939,\n",
       " 485,\n",
       " labels\n",
       " 4    0.423\n",
       " 3    0.369\n",
       " 1    0.208\n",
       " Name: proportion, dtype: float64,\n",
       " labels\n",
       " 4    0.423\n",
       " 3    0.369\n",
       " 1    0.208\n",
       " Name: proportion, dtype: float64)"
      ]
     },
     "execution_count": 48,
     "metadata": {},
     "output_type": "execute_result"
    }
   ],
   "source": [
    "from sklearn.model_selection import train_test_split\n",
    "\n",
    "X = data_t[\"texto_limpio\"]   \n",
    "y = data_t[\"labels\"]         \n",
    "\n",
    "X_train, X_test, y_train, y_test = train_test_split(\n",
    "    X, y,\n",
    "    test_size=0.2,           # 80%/20%\n",
    "    random_state=42,\n",
    "    stratify=y               # mantiene proporciones por clase\n",
    ")\n",
    "\n",
    "len(X_train), len(X_test), y_train.value_counts(normalize=True).round(3), y_test.value_counts(normalize=True).round(3)\n"
   ]
  },
  {
   "cell_type": "markdown",
   "id": "7d025f2b",
   "metadata": {},
   "source": [
    "### 4.2 Vectorizar con TF-IDF\n",
    "\n",
    "Qué es: convierte cada texto en un vector de pesos (importancia de cada término).\n",
    "\n",
    "Explicacion mas larga: \n",
    "Se utilizó TF-IDF (Term Frequency – Inverse Document Frequency) para transformar los textos en vectores numéricos. TF mide cuántas veces aparece una palabra en un documento. IDF penaliza las palabras muy comunes en el corpus. Así, palabras distintivas como “pobreza” o “universidad” reciben más peso que términos generales como “el” o “de”. Además, se emplearon: Unigramas → palabras individuales (“educación”). Bigramas → pares de palabras consecutivas (“educación superior”). Esto permite capturar tanto términos aislados como combinaciones frecuentes de palabras.\n"
   ]
  },
  {
   "cell_type": "code",
   "execution_count": 49,
   "id": "496464af",
   "metadata": {},
   "outputs": [
    {
     "data": {
      "text/plain": [
       "((1939, 5000), (485, 5000))"
      ]
     },
     "execution_count": 49,
     "metadata": {},
     "output_type": "execute_result"
    }
   ],
   "source": [
    "from sklearn.feature_extraction.text import TfidfVectorizer\n",
    "\n",
    "tfidf = TfidfVectorizer(\n",
    "    ngram_range=(1,2),\n",
    "    min_df=3,\n",
    "    max_features=5000,\n",
    "    sublinear_tf=True\n",
    ")\n",
    "\n",
    "X_train_tfidf = tfidf.fit_transform(X_train)  # aprende vocabulario en TRAIN\n",
    "X_test_tfidf  = tfidf.transform(X_test)       # aplica exactamente el mismo vocabulario a TEST\n",
    "\n",
    "X_train_tfidf.shape, X_test_tfidf.shape\n"
   ]
  },
  {
   "cell_type": "markdown",
   "id": "354f07c4",
   "metadata": {},
   "source": [
    "### 4.3 Entrenar el modelo lineal: LinearSVC\n",
    "\n",
    "Por qué este modelo:\n",
    "\n",
    "- Es un SVM lineal: funciona muy bien con TF-IDF.\n",
    "\n",
    "- class_weight=\"balanced\" compensa el desbalance (da más peso a clases minoritarias).\n",
    "\n",
    "- Rápido y estable en texto.\n",
    "\n",
    "Para el modelo base se empleó un clasificador LinearSVC con el parámetro C=1.0 (valor por defecto), lo que permitió establecer una línea base de desempeño antes de realizar la optimización de hiperparámetros."
   ]
  },
  {
   "cell_type": "code",
   "execution_count": 50,
   "id": "2e42a9cc",
   "metadata": {},
   "outputs": [],
   "source": [
    "from sklearn.svm import LinearSVC\n",
    "\n",
    "clf = LinearSVC(\n",
    "    C=1.0,   \n",
    "    class_weight=\"balanced\",\n",
    "    random_state=42\n",
    ")\n",
    "\n",
    "clf.fit(X_train_tfidf, y_train)   # aprende fronteras lineales por clase (uno-vs-rest)\n",
    "y_pred = clf.predict(X_test_tfidf)\n"
   ]
  },
  {
   "cell_type": "markdown",
   "id": "a53f86a5",
   "metadata": {},
   "source": [
    "### 4.4 Evaluación (métricas y matriz de confusión)\n",
    "\n",
    "Qué miramos:\n",
    "\n",
    "- classification_report con promedio macro (no favorece a la clase grande).\n",
    "\n",
    "- Matriz de confusión para ver qué ODS se confunden."
=======
   "execution_count": 16,
   "id": "15fee35b",
   "metadata": {},
   "outputs": [],
   "source": [
    "import numpy as np\n",
    "import pandas as pd\n",
    "\n",
    "from sklearn.model_selection import train_test_split\n",
    "\n",
    "from sklearn.pipeline import Pipeline\n",
    "from sklearn.feature_extraction.text import TfidfVectorizer\n",
    "from sklearn.naive_bayes import MultinomialNB\n",
    "from sklearn.utils.class_weight import compute_class_weight\n",
    "from sklearn.model_selection import StratifiedKFold, GridSearchCV"
>>>>>>> a8fe04ca27a073dbd0fa9b8c8c7b0a82fc980f07
   ]
  },
  {
   "cell_type": "code",
<<<<<<< HEAD
   "execution_count": 51,
   "id": "5bbf79f3",
=======
   "execution_count": 17,
   "id": "31c283f8",
   "metadata": {},
   "outputs": [],
   "source": [
    "# Config\n",
    "TEXT_COL = 'texto_limpio' if 'texto_limpio' in data_t.columns else 'textos'\n",
    "LABEL_COL = 'labels'  "
   ]
  },
  {
   "cell_type": "code",
   "execution_count": 18,
   "id": "a404a042",
   "metadata": {},
   "outputs": [],
   "source": [
    "# DataFrame base para modelar (sin nulos ni vacíos)\n",
    "df = data_t[[TEXT_COL, LABEL_COL]].copy()\n",
    "df.dropna(subset=[TEXT_COL, LABEL_COL], inplace=True)\n",
    "df[TEXT_COL] = df[TEXT_COL].astype(str).str.strip()\n",
    "df = df[df[TEXT_COL].str.len() > 0].copy()"
   ]
  },
  {
   "cell_type": "code",
   "execution_count": 19,
   "id": "3ea462f7",
>>>>>>> a8fe04ca27a073dbd0fa9b8c8c7b0a82fc980f07
   "metadata": {},
   "outputs": [
    {
     "name": "stdout",
     "output_type": "stream",
     "text": [
<<<<<<< HEAD
      "              precision    recall  f1-score   support\n",
      "\n",
      "           1      0.960     0.941     0.950       101\n",
      "           3      0.967     0.972     0.969       179\n",
      "           4      0.976     0.980     0.978       205\n",
      "\n",
      "    accuracy                          0.969       485\n",
      "   macro avg      0.967     0.964     0.966       485\n",
      "weighted avg      0.969     0.969     0.969       485\n",
=======
      "                                        texto_limpio  labels\n",
      "0  aprendizaje educación considerar sinónimo esco...       4\n",
      "1  niño pequeño bebé niño pequeño capacitación es...       4\n",
      "2  además formación especialista medicina general...       3\n",
      "3  país ocde tender pasar curso obligatorio optat...       4\n",
      "4  grupo centrar persona padecer trastorno mental...       3\n"
     ]
    },
    {
     "data": {
      "text/plain": [
       "labels\n",
       "4    1025\n",
       "3     894\n",
       "1     505\n",
       "Name: count, dtype: int64"
      ]
     },
     "execution_count": 19,
     "metadata": {},
     "output_type": "execute_result"
    }
   ],
   "source": [
    "print(df[[TEXT_COL, LABEL_COL]].head())\n",
    "df[LABEL_COL].value_counts()"
   ]
  },
  {
   "cell_type": "markdown",
   "id": "2fba2dd0",
   "metadata": {},
   "source": [
    "Particiones: División de edtaset en train (70%) ,validacion (15%) y test (15%) manteniendo la misma proporción de clases en cada subconjunto. "
   ]
  },
  {
   "cell_type": "code",
   "execution_count": 20,
   "id": "6857b5d3",
   "metadata": {},
   "outputs": [
    {
     "name": "stdout",
     "output_type": "stream",
     "text": [
      "Train: 1696 | Val: 364 | Test: 364\n"
     ]
    }
   ],
   "source": [
    "X = df[TEXT_COL].values\n",
    "y = df[LABEL_COL].values\n",
    "\n",
    "# 15% test fijo\n",
    "X_trainval, X_test, y_trainval, y_test = train_test_split(\n",
    "    X, y, test_size=0.15, stratify=y, random_state=3301\n",
    ")\n",
    "# aprox. 15% valid del total\n",
    "X_train, X_val, y_train, y_val = train_test_split(\n",
    "    X_trainval, y_trainval, test_size=0.1765, stratify=y_trainval, random_state=3301\n",
    ")\n",
    "\n",
    "print(f\"Train: {len(X_train)} | Val: {len(X_val)} | Test: {len(X_test)}\")\n"
   ]
  },
  {
   "cell_type": "markdown",
   "id": "2770e082",
   "metadata": {},
   "source": [
    "Pipeline TF-IDF + MultinomialNB y búsqueda por F1-macro\n",
    "\n",
    "- Probamos analyzer en palabras y en caracteres (char_wb ayuda con typos).\n",
    "\n",
    "- Probamos n-gramas (1,1) y (1,2), min_df, max_df, sublinear_tf y alpha."
   ]
  },
  {
   "cell_type": "code",
   "execution_count": 21,
   "id": "416d8e2b",
   "metadata": {},
   "outputs": [
    {
     "name": "stdout",
     "output_type": "stream",
     "text": [
      "Fitting 5 folds for each of 144 candidates, totalling 720 fits\n",
      "Mejor configuración: {'clf__alpha': 0.1, 'tfidf__analyzer': 'word', 'tfidf__max_df': 0.9, 'tfidf__min_df': 1, 'tfidf__ngram_range': (1, 2), 'tfidf__sublinear_tf': False}\n",
      "Mejor F1-macro (CV): 0.9674\n"
     ]
    }
   ],
   "source": [
    "\n",
    "pipe_nb = Pipeline([\n",
    "    ('tfidf', TfidfVectorizer(strip_accents='unicode')),\n",
    "    ('clf', MultinomialNB())\n",
    "])\n",
    "\n",
    "param_grid = {\n",
    "    'tfidf__analyzer':    ['word', 'char_wb'],\n",
    "    'tfidf__ngram_range': [(1,1), (1,2)],\n",
    "    'tfidf__min_df':      [1, 2, 5],\n",
    "    'tfidf__max_df':      [0.9, 1.0],\n",
    "    'tfidf__sublinear_tf':[True, False],\n",
    "    'clf__alpha':         [0.1, 0.5, 1.0]\n",
    "}\n",
    "\n",
    "# Pesos por clase para atenuar desbalance (opcional pero recomendado)\n",
    "classes = np.unique(y_train)\n",
    "class_weights = compute_class_weight('balanced', classes=classes, y=y_train)\n",
    "cw_map = dict(zip(classes, class_weights))\n",
    "sample_weight_train = np.array([cw_map[yi] for yi in y_train])\n",
    "\n",
    "cv = StratifiedKFold(n_splits=5, shuffle=True, random_state=3301)\n",
    "\n",
    "grid_nb = GridSearchCV(\n",
    "    estimator=pipe_nb,\n",
    "    param_grid=param_grid,\n",
    "    scoring='f1_macro',     # robusto al desbalance\n",
    "    cv=cv,\n",
    "    n_jobs=-1,\n",
    "    verbose=1\n",
    ")\n",
    "\n",
    "# Con pesos (pasan al paso clf del pipeline)\n",
    "grid_nb.fit(X_train, y_train, clf__sample_weight=sample_weight_train)\n",
    "\n",
    "print(\"Mejor configuración:\", grid_nb.best_params_)\n",
    "print(\"Mejor F1-macro (CV):\", round(grid_nb.best_score_, 4))\n",
    "best_nb = grid_nb.best_estimator_\n"
   ]
  },
  {
   "cell_type": "markdown",
   "id": "c896623f",
   "metadata": {},
   "source": [
    "Evaluación en Validación "
   ]
  },
  {
   "cell_type": "code",
   "execution_count": 22,
   "id": "ad4546ed",
   "metadata": {},
   "outputs": [
    {
     "name": "stdout",
     "output_type": "stream",
     "text": [
      "== Validación ==\n",
      "              precision    recall  f1-score   support\n",
      "\n",
      "           1      0.912     0.961     0.936        76\n",
      "           3      1.000     0.940     0.969       134\n",
      "           4      0.956     0.981     0.968       154\n",
      "\n",
      "    accuracy                          0.962       364\n",
      "   macro avg      0.956     0.960     0.958       364\n",
      "weighted avg      0.963     0.962     0.962       364\n",
>>>>>>> a8fe04ca27a073dbd0fa9b8c8c7b0a82fc980f07
      "\n"
     ]
    },
    {
     "data": {
<<<<<<< HEAD
      "image/png": "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",
      "text/plain": [
       "<Figure size 600x500 with 2 Axes>"
=======
      "image/png": "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",
      "text/plain": [
       "<Figure size 640x480 with 2 Axes>"
>>>>>>> a8fe04ca27a073dbd0fa9b8c8c7b0a82fc980f07
      ]
     },
     "metadata": {},
     "output_type": "display_data"
    }
   ],
   "source": [
<<<<<<< HEAD
    "from sklearn.metrics import classification_report, confusion_matrix\n",
    "import seaborn as sns\n",
    "import matplotlib.pyplot as plt\n",
    "\n",
    "print(classification_report(y_test, y_pred, digits=3))\n",
    "\n",
    "cm = confusion_matrix(y_test, y_pred, labels=[1,3,4])\n",
    "plt.figure(figsize=(6,5))\n",
    "sns.heatmap(cm, annot=True, fmt=\"d\", cmap=\"Blues\",\n",
    "            xticklabels=[1,3,4], yticklabels=[1,3,4])\n",
    "plt.xlabel(\"Predicción\")\n",
    "plt.ylabel(\"Real\")\n",
    "plt.title(\"Matriz de confusión - LinearSVC + TF-IDF\")\n",
=======
    "from sklearn.metrics import classification_report, ConfusionMatrixDisplay\n",
    "import matplotlib.pyplot as plt\n",
    "\n",
    "y_val_pred = best_nb.predict(X_val)\n",
    "print(\"== Validación ==\")\n",
    "print(classification_report(y_val, y_val_pred, digits=3))\n",
    "\n",
    "ConfusionMatrixDisplay.from_predictions(y_val, y_val_pred)\n",
    "plt.title(\"Matriz de confusión - Validación (Naive Bayes)\")\n",
>>>>>>> a8fe04ca27a073dbd0fa9b8c8c7b0a82fc980f07
    "plt.show()\n"
   ]
  },
  {
<<<<<<< HEAD
   "cell_type": "markdown",
   "id": "c3619c96",
   "metadata": {},
   "source": [
    "El modelo LinearSVC con representación TF-IDF  alcanzó un desempeño sobresaliente en la tarea de clasificación de textos en los Objetivos de Desarrollo Sostenible (ODS).\n",
    "\n",
    "En términos de métricas globales, se obtuvo una exactitud (accuracy) del 96.9%, con un F1 macro de 0.966 y un F1 ponderado de 0.969. Estos valores reflejan un rendimiento consistente entre clases, sin que el modelo presente sesgo hacia la clase mayoritaria.\n",
    "\n",
    "El desglose por clase muestra valores de F1 cercanos a 0.97 en todos los ODS considerados:\n",
    "\n",
    "- ODS 1 (pobreza): F1 = 0.950\n",
    "\n",
    "- ODS 3 (salud): F1 = 0.969\n",
    "\n",
    "- ODS 4 (educación): F1 = 0.978\n",
    "\n",
    "La matriz de confusión confirma la solidez del modelo, ya que más del 97% de los textos fueron clasificados correctamente. Los errores detectados corresponden a confusiones puntuales entre ODS 1 y ODS 3, lo cual resulta comprensible dada la cercanía temática entre pobreza y salud en contextos sociales y políticos.\n",
    "\n",
    "En conclusión, el modelo LinearSVC + TF-IDF constituye una solución efectiva y balanceada para la clasificación automática de textos en los ODS, con un rendimiento altamente competitivo y confiable para aplicaciones prácticas en el análisis de políticas y documentos relacionados con el desarrollo sostenible"
   ]
  },
  {
   "cell_type": "markdown",
   "id": "347edcfe",
   "metadata": {},
   "source": [
    "### 4.5 ¿Qué palabras empujan cada clase? (interpretabilidad)\n",
    "\n",
    "Por qué: al ser un modelo lineal, cada término tiene un peso (coeficiente).\n",
    "\n",
    "Pesos grandes y positivos para una clase = términos que la favorecen."
   ]
  },
  {
   "cell_type": "code",
   "execution_count": 52,
   "id": "585abe49",
=======
   "cell_type": "code",
   "execution_count": 23,
   "id": "1808e72c",
>>>>>>> a8fe04ca27a073dbd0fa9b8c8c7b0a82fc980f07
   "metadata": {},
   "outputs": [
    {
     "name": "stdout",
     "output_type": "stream",
     "text": [
<<<<<<< HEAD
      "\n",
      "Top términos para ODS 1:\n",
      "  pobreza                   4.596\n",
      "  pobre                     2.692\n",
      "  pobrezo                   2.428\n",
      "  hogar                     1.655\n",
      "  privación                 1.647\n",
      "\n",
      "Top términos para ODS 3:\n",
      "  salud                     3.796\n",
      "  médico                    2.085\n",
      "  atención                  1.912\n",
      "  sanitario                 1.850\n",
      "  enfermedad                1.810\n",
      "\n",
      "Top términos para ODS 4:\n",
      "  educación                 3.195\n",
      "  escuela                   2.545\n",
      "  educativo                 2.198\n",
      "  estudiant                 1.861\n",
      "  docente                   1.843\n"
     ]
    }
   ],
   "source": [
    "import numpy as np\n",
    "\n",
    "feature_names = tfidf.get_feature_names_out()\n",
    "coefs = clf.coef_               \n",
    "classes = clf.classes_          \n",
    "\n",
    "def top_terms_per_class(k=5):\n",
    "    for idx, c in enumerate(classes):\n",
    "        topk = np.argsort(coefs[idx])[-k:][::-1]\n",
    "        terms = [feature_names[i] for i in topk]\n",
    "        weights = [coefs[idx][i] for i in topk]\n",
    "        print(f\"\\nTop términos para ODS {c}:\")\n",
    "        for t, w in zip(terms, weights):\n",
    "            print(f\"  {t:25s} {w:.3f}\")\n",
    "\n",
    "top_terms_per_class(k=5)\n"
   ]
  },
  {
   "cell_type": "markdown",
   "id": "2f20aed6",
   "metadata": {},
   "source": [
    "### 4.6 Pipeline integrado + GridSearch rápido\n",
    "\n",
    "Por qué: el Pipeline asegura que vectorización y modelo queden acoplados (reproducible). Además puedes afinar el hiperparámetro C (fuerza de regularización).\n",
    "\n",
    "Se exploraron otros valores de C (0.5, 1.0, 2.0) mediante validación cruzada. El mejor desempeño se obtuvo con C=0.5, lo que permitió ampliar ligeramente el margen del clasificador y mejorar la generalización del modelo"
   ]
  },
  {
   "cell_type": "code",
   "execution_count": null,
   "id": "2ca909c6",
   "metadata": {},
   "outputs": [
    {
     "name": "stdout",
     "output_type": "stream",
     "text": [
      "Mejor C: {'clf__C': 0.5}\n",
      "Mejor F1_macro: 0.971\n",
      "              precision    recall  f1-score   support\n",
      "\n",
      "           1      0.960     0.941     0.950       101\n",
      "           3      0.967     0.972     0.969       179\n",
      "           4      0.976     0.980     0.978       205\n",
      "\n",
      "    accuracy                          0.969       485\n",
      "   macro avg      0.967     0.964     0.966       485\n",
      "weighted avg      0.969     0.969     0.969       485\n",
      "\n"
     ]
    }
   ],
   "source": [
    "from sklearn.pipeline import Pipeline\n",
    "from sklearn.model_selection import GridSearchCV\n",
    "\n",
    "pipe = Pipeline([\n",
    "    (\"tfidf\", TfidfVectorizer(\n",
    "        ngram_range=(1,2),\n",
    "        min_df=3,\n",
    "        max_features=5000,\n",
    "        sublinear_tf=True\n",
    "    )),\n",
    "    (\"clf\", LinearSVC(\n",
    "        # no tenemos c para poder ajustarlo\n",
    "        class_weight=\"balanced\", \n",
    "        random_state=42))\n",
    "])\n",
    "\n",
    "#Definimos un diccionario de cs a probar.\n",
    "param_grid = {\n",
    "    \"clf__C\": [0.5, 1.0, 2.0]  # probando distintos valores de c\n",
    "}\n",
    "\n",
    "# me ayuda a buscar el mejor c\n",
    "# es como un for anidado que prueba todas las combinaciones\n",
    "\n",
    "grid = GridSearchCV(\n",
    "    pipe, param_grid,\n",
    "    scoring=\"f1_macro\",    # métrica que trata todas las clases por igual\n",
    "    #f1 macro es nuestra metrica de evalucacion\n",
    "    cv=5,  # división en 5 partes, la 5 es la que valida\n",
    "    n_jobs=-1  # usa todos los núcleos disponibles para acelerar el proceso\n",
    ")\n",
    "grid.fit(X_train, y_train)\n",
    "\n",
    "print(\"Mejor C:\", grid.best_params_)\n",
    "print(\"Mejor F1_macro:\", round(grid.best_score_, 3))\n",
    "\n",
    "# Evaluación final en TEST con el mejor pipeline\n",
    "best_pipe = grid.best_estimator_\n",
    "y_pred_gs = best_pipe.predict(X_test)\n",
    "print(classification_report(y_test, y_pred_gs, digits=3))\n"
   ]
  },
  {
   "cell_type": "markdown",
   "id": "00806a10",
   "metadata": {},
   "source": [
    "# Final\n",
    "\n",
    "| Modelo                 | Accuracy | F1 macro | Observaciones principales |\n",
    "|-------------------------|----------|----------|---------------------------|\n",
    "| **LinearSVC (TF-IDF)**  0.969    | 0.966    | Buen rendimiento, balanceado entre ODS 1, 3 y 4. Mejor C=0.5. |\n",
    "| Modelo de Cris                   |          |                           |\n",
    "| Modelo de Mesa                  |          |                           |\n"
=======
      "== Test (métricas finales) ==\n",
      "              precision    recall  f1-score   support\n",
      "\n",
      "           1      0.973     0.947     0.960        76\n",
      "           3      0.970     0.955     0.962       134\n",
      "           4      0.968     0.994     0.981       154\n",
      "\n",
      "    accuracy                          0.970       364\n",
      "   macro avg      0.970     0.965     0.968       364\n",
      "weighted avg      0.970     0.970     0.970       364\n",
      "\n",
      "F1-macro (test): 0.9677\n"
     ]
    },
    {
     "data": {
      "image/png": "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",
      "text/plain": [
       "<Figure size 640x480 with 2 Axes>"
      ]
     },
     "metadata": {},
     "output_type": "display_data"
    }
   ],
   "source": [
    "from sklearn.metrics import f1_score\n",
    "\n",
    "# Recalcular sample_weight para train+val si usaste pesos\n",
    "y_train_all = np.concatenate([y_train, y_val])\n",
    "X_train_all = np.concatenate([X_train, X_val])\n",
    "\n",
    "classes_all = np.unique(y_train_all)\n",
    "cw_all = compute_class_weight('balanced', classes=classes_all, y=y_train_all)\n",
    "cw_map_all = dict(zip(classes_all, cw_all))\n",
    "sw_trainval = np.array([cw_map_all[yi] for yi in y_train_all])\n",
    "\n",
    "best_nb.fit(X_train_all, y_train_all, clf__sample_weight=sw_trainval)\n",
    "\n",
    "y_test_pred  = best_nb.predict(X_test)\n",
    "y_test_proba = best_nb.predict_proba(X_test)  # te sirve para probabilidades\n",
    "\n",
    "print(\"== Test (métricas finales) ==\")\n",
    "print(classification_report(y_test, y_test_pred, digits=3))\n",
    "macro_f1 = f1_score(y_test, y_test_pred, average='macro')\n",
    "print(\"F1-macro (test):\", round(macro_f1, 4))\n",
    "\n",
    "ConfusionMatrixDisplay.from_predictions(y_test, y_test_pred)\n",
    "plt.title(\"Matriz de confusión - Test (Naive Bayes)\")\n",
    "plt.show()\n"
>>>>>>> a8fe04ca27a073dbd0fa9b8c8c7b0a82fc980f07
   ]
  },
  {
   "cell_type": "code",
<<<<<<< HEAD
   "execution_count": null,
   "id": "f94fa635",
   "metadata": {},
   "outputs": [],
   "source": [
    "# LinearSVC + TF-IDF \n",
    "# Cargar y preparar el conjunto de validación ---\n",
    "data_valid = pd.read_excel(\"Datos_validacion.xlsx\")\n",
    "\n",
    "# Misma limpieza que al train/test\n",
    "data_valid[\"tokens\"] = data_valid[\"textos\"].apply(clean_pipeline)\n",
    "data_valid[\"texto_limpio\"] = data_valid[\"tokens\"].apply(lambda xs: \" \".join(xs))\n",
    "\n",
    "# Vectorizar con el TF-IDF entrenado en train\n",
    "X_valid_tfidf = tfidf.transform(data_valid[\"texto_limpio\"])\n",
    "y_valid = data_valid[\"labels\"]\n",
    "\n",
    "# Evaluación del modelo de LinearSVC\n",
    "print(\"== Reporte en conjunto de validación (Juliana - LinearSVC) ==\")\n",
    "y_pred_valid = best_pipe.predict(X_valid_tfidf)\n",
    "print(classification_report(y_valid, y_pred_valid, digits=3))\n",
    "\n",
    "cm = confusion_matrix(y_valid, y_pred_valid, labels=[1,3,4])\n",
    "plt.figure(figsize=(6,5))\n",
    "sns.heatmap(cm, annot=True, fmt=\"d\", cmap=\"Blues\",\n",
    "            xticklabels=[1,3,4], yticklabels=[1,3,4])\n",
    "plt.xlabel(\"Predicción\")\n",
    "plt.ylabel(\"Real\")\n",
    "plt.title(\"Matriz de confusión - Validación (LinearSVC)\")\n",
    "plt.show()\n",
    "\n",
    "\n",
    "# --- 5.3 Espacio para Cris ---\n",
    "# >>> Cris debe definir su modelo aquí (ejemplo: clf_cris.fit(X_train_tfidf, y_train))\n",
    "# clf_cris = ...\n",
    "# y_pred_valid_cris = clf_cris.predict(X_valid_tfidf)\n",
    "# print(\"== Reporte en validación (Cris) ==\")\n",
    "# print(classification_report(y_valid, y_pred_valid_cris, digits=3))\n",
    "\n",
    "# cm_cris = confusion_matrix(y_valid, y_pred_valid_cris, labels=[1,3,4])\n",
    "# sns.heatmap(cm_cris, annot=True, fmt=\"d\", cmap=\"Greens\",\n",
    "#             xticklabels=[1,3,4], yticklabels=[1,3,4])\n",
    "# plt.title(\"Matriz de confusión - Validación (Cris)\")\n",
    "# plt.show()\n",
    "\n",
    "\n",
    "# --- 5.4 Espacio para Mesa ---\n",
    "# >>> Mesa debe definir su modelo aquí (ejemplo: clf_mesa.fit(X_train_tfidf, y_train))\n",
    "# clf_mesa = ...\n",
    "# y_pred_valid_mesa = clf_mesa.predict(X_valid_tfidf)\n",
    "# print(\"== Reporte en validación (Mesa) ==\")\n",
    "# print(classification_report(y_valid, y_pred_valid_mesa, digits=3))\n",
    "\n",
    "# cm_mesa = confusion_matrix(y_valid, y_pred_valid_mesa, labels=[1,3,4])\n",
    "# sns.heatmap(cm_mesa, annot=True, fmt=\"d\", cmap=\"Oranges\",\n",
    "#             xticklabels=[1,3,4], yticklabels=[1,3,4])\n",
    "# plt.title(\"Matriz de confusión - Validación (Mesa)\")\n",
    "# plt.show()\n"
=======
   "execution_count": 24,
   "id": "c4de5507",
   "metadata": {},
   "outputs": [
    {
     "name": "stdout",
     "output_type": "stream",
     "text": [
      "\n",
      "Top términos indicativos para clase 1:\n",
      "['pobreza' 'ingreso' 'pobre' 'hogar' 'pobrezo' 'pais' 'nino' 'tasa'\n",
      " 'social' 'infantil' 'privacion' 'persona' 'pobreza infantil'\n",
      " 'crecimiento' 'vivir' 'tasa pobrezo' 'mayor' 'familia' 'umbral' 'medida']\n",
      "\n",
      "Top términos indicativos para clase 3:\n",
      "['salud' 'atencion' 'medico' 'servicio' 'mental' 'paciente' 'sanitario'\n",
      " 'enfermedad' 'salud mental' 'pais' 'sistema' 'atencion primario'\n",
      " 'primario' 'persona' 'hospital' 'calidad' 'tratamiento' 'bajo' 'ano'\n",
      " 'mortalidad']\n",
      "\n",
      "Top términos indicativos para clase 4:\n",
      "['escuela' 'educacion' 'docente' 'estudiant' 'escolar' 'aprendizaje'\n",
      " 'evaluacion' 'educativo' 'alumno' 'ano' 'programa' 'profesor'\n",
      " 'profesional' 'nivel' 'estudiante' 'superior' 'sistema' 'el' 'habilidad'\n",
      " 'formacion']\n"
     ]
    }
   ],
   "source": [
    "vec: TfidfVectorizer = best_nb.named_steps['tfidf']\n",
    "clf: MultinomialNB    = best_nb.named_steps['clf']\n",
    "feature_names = np.array(vec.get_feature_names_out())\n",
    "\n",
    "for idx, cls in enumerate(clf.classes_):\n",
    "    top_idx = np.argsort(clf.feature_log_prob_[idx])[::-1][:20]\n",
    "    print(f\"\\nTop términos indicativos para clase {cls}:\")\n",
    "    print(feature_names[top_idx])\n"
   ]
  },
  {
   "cell_type": "code",
   "execution_count": 25,
   "id": "36a1a818",
   "metadata": {},
   "outputs": [
    {
     "data": {
      "text/html": [
       "<div>\n",
       "<style scoped>\n",
       "    .dataframe tbody tr th:only-of-type {\n",
       "        vertical-align: middle;\n",
       "    }\n",
       "\n",
       "    .dataframe tbody tr th {\n",
       "        vertical-align: top;\n",
       "    }\n",
       "\n",
       "    .dataframe thead th {\n",
       "        text-align: right;\n",
       "    }\n",
       "</style>\n",
       "<table border=\"1\" class=\"dataframe\">\n",
       "  <thead>\n",
       "    <tr style=\"text-align: right;\">\n",
       "      <th></th>\n",
       "      <th>mean_test_score</th>\n",
       "      <th>std_test_score</th>\n",
       "      <th>param_tfidf__analyzer</th>\n",
       "      <th>param_tfidf__ngram_range</th>\n",
       "      <th>param_tfidf__min_df</th>\n",
       "      <th>param_tfidf__max_df</th>\n",
       "      <th>param_tfidf__sublinear_tf</th>\n",
       "      <th>param_clf__alpha</th>\n",
       "      <th>rank_test_score</th>\n",
       "    </tr>\n",
       "  </thead>\n",
       "  <tbody>\n",
       "    <tr>\n",
       "      <th>3</th>\n",
       "      <td>0.967357</td>\n",
       "      <td>0.014181</td>\n",
       "      <td>word</td>\n",
       "      <td>(1, 2)</td>\n",
       "      <td>1</td>\n",
       "      <td>0.9</td>\n",
       "      <td>False</td>\n",
       "      <td>0.1</td>\n",
       "      <td>1</td>\n",
       "    </tr>\n",
       "    <tr>\n",
       "      <th>15</th>\n",
       "      <td>0.967357</td>\n",
       "      <td>0.014181</td>\n",
       "      <td>word</td>\n",
       "      <td>(1, 2)</td>\n",
       "      <td>1</td>\n",
       "      <td>1.0</td>\n",
       "      <td>False</td>\n",
       "      <td>0.1</td>\n",
       "      <td>1</td>\n",
       "    </tr>\n",
       "    <tr>\n",
       "      <th>14</th>\n",
       "      <td>0.967047</td>\n",
       "      <td>0.015259</td>\n",
       "      <td>word</td>\n",
       "      <td>(1, 2)</td>\n",
       "      <td>1</td>\n",
       "      <td>1.0</td>\n",
       "      <td>True</td>\n",
       "      <td>0.1</td>\n",
       "      <td>3</td>\n",
       "    </tr>\n",
       "    <tr>\n",
       "      <th>2</th>\n",
       "      <td>0.967047</td>\n",
       "      <td>0.015259</td>\n",
       "      <td>word</td>\n",
       "      <td>(1, 2)</td>\n",
       "      <td>1</td>\n",
       "      <td>0.9</td>\n",
       "      <td>True</td>\n",
       "      <td>0.1</td>\n",
       "      <td>3</td>\n",
       "    </tr>\n",
       "    <tr>\n",
       "      <th>103</th>\n",
       "      <td>0.965205</td>\n",
       "      <td>0.009686</td>\n",
       "      <td>word</td>\n",
       "      <td>(1, 2)</td>\n",
       "      <td>2</td>\n",
       "      <td>0.9</td>\n",
       "      <td>False</td>\n",
       "      <td>1.0</td>\n",
       "      <td>5</td>\n",
       "    </tr>\n",
       "    <tr>\n",
       "      <th>115</th>\n",
       "      <td>0.965205</td>\n",
       "      <td>0.009686</td>\n",
       "      <td>word</td>\n",
       "      <td>(1, 2)</td>\n",
       "      <td>2</td>\n",
       "      <td>1.0</td>\n",
       "      <td>False</td>\n",
       "      <td>1.0</td>\n",
       "      <td>5</td>\n",
       "    </tr>\n",
       "    <tr>\n",
       "      <th>7</th>\n",
       "      <td>0.965175</td>\n",
       "      <td>0.013456</td>\n",
       "      <td>word</td>\n",
       "      <td>(1, 2)</td>\n",
       "      <td>2</td>\n",
       "      <td>0.9</td>\n",
       "      <td>False</td>\n",
       "      <td>0.1</td>\n",
       "      <td>7</td>\n",
       "    </tr>\n",
       "    <tr>\n",
       "      <th>19</th>\n",
       "      <td>0.965175</td>\n",
       "      <td>0.013456</td>\n",
       "      <td>word</td>\n",
       "      <td>(1, 2)</td>\n",
       "      <td>2</td>\n",
       "      <td>1.0</td>\n",
       "      <td>False</td>\n",
       "      <td>0.1</td>\n",
       "      <td>7</td>\n",
       "    </tr>\n",
       "    <tr>\n",
       "      <th>55</th>\n",
       "      <td>0.964622</td>\n",
       "      <td>0.012367</td>\n",
       "      <td>word</td>\n",
       "      <td>(1, 2)</td>\n",
       "      <td>2</td>\n",
       "      <td>0.9</td>\n",
       "      <td>False</td>\n",
       "      <td>0.5</td>\n",
       "      <td>9</td>\n",
       "    </tr>\n",
       "    <tr>\n",
       "      <th>67</th>\n",
       "      <td>0.964622</td>\n",
       "      <td>0.012367</td>\n",
       "      <td>word</td>\n",
       "      <td>(1, 2)</td>\n",
       "      <td>2</td>\n",
       "      <td>1.0</td>\n",
       "      <td>False</td>\n",
       "      <td>0.5</td>\n",
       "      <td>9</td>\n",
       "    </tr>\n",
       "  </tbody>\n",
       "</table>\n",
       "</div>"
      ],
      "text/plain": [
       "     mean_test_score  std_test_score param_tfidf__analyzer  \\\n",
       "3           0.967357        0.014181                  word   \n",
       "15          0.967357        0.014181                  word   \n",
       "14          0.967047        0.015259                  word   \n",
       "2           0.967047        0.015259                  word   \n",
       "103         0.965205        0.009686                  word   \n",
       "115         0.965205        0.009686                  word   \n",
       "7           0.965175        0.013456                  word   \n",
       "19          0.965175        0.013456                  word   \n",
       "55          0.964622        0.012367                  word   \n",
       "67          0.964622        0.012367                  word   \n",
       "\n",
       "    param_tfidf__ngram_range  param_tfidf__min_df  param_tfidf__max_df  \\\n",
       "3                     (1, 2)                    1                  0.9   \n",
       "15                    (1, 2)                    1                  1.0   \n",
       "14                    (1, 2)                    1                  1.0   \n",
       "2                     (1, 2)                    1                  0.9   \n",
       "103                   (1, 2)                    2                  0.9   \n",
       "115                   (1, 2)                    2                  1.0   \n",
       "7                     (1, 2)                    2                  0.9   \n",
       "19                    (1, 2)                    2                  1.0   \n",
       "55                    (1, 2)                    2                  0.9   \n",
       "67                    (1, 2)                    2                  1.0   \n",
       "\n",
       "     param_tfidf__sublinear_tf  param_clf__alpha  rank_test_score  \n",
       "3                        False               0.1                1  \n",
       "15                       False               0.1                1  \n",
       "14                        True               0.1                3  \n",
       "2                         True               0.1                3  \n",
       "103                      False               1.0                5  \n",
       "115                      False               1.0                5  \n",
       "7                        False               0.1                7  \n",
       "19                       False               0.1                7  \n",
       "55                       False               0.5                9  \n",
       "67                       False               0.5                9  "
      ]
     },
     "execution_count": 25,
     "metadata": {},
     "output_type": "execute_result"
    }
   ],
   "source": [
    "cv_results = pd.DataFrame(grid_nb.cv_results_)\n",
    "cols = ['mean_test_score','std_test_score','param_tfidf__analyzer',\n",
    "        'param_tfidf__ngram_range','param_tfidf__min_df','param_tfidf__max_df',\n",
    "        'param_tfidf__sublinear_tf','param_clf__alpha','rank_test_score']\n",
    "cv_results[cols].sort_values('rank_test_score').head(10)\n"
>>>>>>> a8fe04ca27a073dbd0fa9b8c8c7b0a82fc980f07
   ]
  }
 ],
 "metadata": {
  "kernelspec": {
   "display_name": "Python 3",
   "language": "python",
   "name": "python3"
  },
  "language_info": {
   "codemirror_mode": {
    "name": "ipython",
    "version": 3
   },
   "file_extension": ".py",
   "mimetype": "text/x-python",
   "name": "python",
   "nbconvert_exporter": "python",
   "pygments_lexer": "ipython3",
   "version": "3.13.3"
  }
 },
 "nbformat": 4,
 "nbformat_minor": 5
}
