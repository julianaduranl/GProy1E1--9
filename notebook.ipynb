{
 "cells": [
  {
   "cell_type": "markdown",
   "id": "b3a39300",
   "metadata": {},
   "source": [
    "# Proyecto 1\n",
    "El Fondo de Población de las Naciones Unidas (UNFPA), en el marco de la Agenda 2030, busca \n",
    "aprovechar las opiniones ciudadanas para identificar problemáticas relacionadas con los \n",
    "Objetivos de Desarrollo Sostenible (ODS). En particular, se requiere un sistema capaz de analizar \n",
    "y clasificar textos en tres categorías:\n",
    "\n",
    "- **ODS 1**: Fin de la pobrez\n",
    "- **ODS 3**: Salud y bienestar\n",
    "- **ODS 4**: Educación de calidad\n",
    "\n",
    "El reto consiste en desarrollar un modelo de analítica de textos que reciba como entrada una \n",
    "opinión en lenguaje natural y prediga automáticamente a cuál ODS pertenece. Este modelo \n",
    "debe ser lo suficientemente robusto para manejar textos largos, con ruido (referencias, \n",
    "paréntesis, números) y en español."
   ]
  },
  {
   "cell_type": "markdown",
   "id": "c4ff7786",
   "metadata": {},
   "source": [
    "## 1. Instalación e importanción de librerías.\n"
   ]
  },
  {
   "cell_type": "code",
   "execution_count": 1,
   "id": "03aaeb9d",
   "metadata": {},
   "outputs": [
    {
     "name": "stdout",
     "output_type": "stream",
     "text": [
      "zsh:1: no such file or directory: /usr/local/opt/python@3.13/bin/python3.13\n",
      "zsh:1: no such file or directory: /usr/local/opt/python@3.13/bin/python3.13\n"
     ]
    }
   ],
   "source": [
    "!/usr/local/opt/python@3.13/bin/python3.13 -m pip install -U spacy\n",
    "!/usr/local/opt/python@3.13/bin/python3.13 -m spacy download es_core_news_md\n"
   ]
  },
  {
   "cell_type": "code",
   "execution_count": null,
   "id": "31bac332",
   "metadata": {},
   "outputs": [],
   "source": [
    "# --- Instalación (mac) ---\n",
    "# !python3 -m pip install -U nltk spacy scikit-learn matplotlib seaborn unidecode\n",
    "# !python3 -m spacy download es_core_news_md\n",
    "# !python3 -m pip install openpyxl\n",
    "# python3 -m pip install openpyxl\n",
    "\n",
    "\n",
    "# --- Imports base ---\n",
    "import re, string, unicodedata\n",
    "import pandas as pd\n",
    "import numpy as np\n",
    "\n",
    "import matplotlib.pyplot as plt\n",
    "import seaborn as sns\n",
    "\n",
    "import nltk\n",
    "from nltk.corpus import stopwords\n",
    "from nltk.tokenize import word_tokenize, sent_tokenize\n",
    "# Si quisieras stemming en español (no recomendado para el pipeline final):\n",
    "# from nltk.stem import SnowballStemmer\n",
    "\n",
    "import spacy\n",
    "# Carga del modelo de spaCy en español \n",
    "nlp = spacy.load(\"es_core_news_md\")\n",
    "\n",
    "# Utilidad: solo úsalo DESPUÉS de lematizar si quieres una segunda versión sin acentos\n",
    "import unidecode\n",
    "\n",
    "# Sklearn: vectorización y modelos\n",
    "from sklearn.model_selection import train_test_split, GridSearchCV\n",
    "from sklearn.feature_extraction.text import TfidfVectorizer, CountVectorizer\n",
    "from sklearn.pipeline import Pipeline\n",
    "from sklearn.svm import LinearSVC\n",
    "from sklearn.ensemble import RandomForestClassifier, AdaBoostClassifier\n",
    "from sklearn.naive_bayes import MultinomialNB\n",
    "from sklearn.metrics import classification_report, confusion_matrix\n",
    "\n",
    "# NLTK data \n",
    "import nltk\n",
    "from nltk.tokenize import RegexpTokenizer\n",
    "from collections import Counter\n",
    "\n",
    "# --- Hugging Face / PyTorch (para fine-tuning BERT) ---\n",
    "import torch\n",
    "from datasets import Dataset\n",
    "import evaluate\n",
    "from transformers import (\n",
    "    AutoTokenizer,\n",
    "    AutoModelForSequenceClassification,\n",
    "    TrainingArguments,\n",
    "    Trainer,\n",
    "    DataCollatorWithPadding,\n",
    "    pipeline,\n",
    ")"
   ]
  },
  {
   "cell_type": "markdown",
   "id": "ac8e264a",
   "metadata": {},
   "source": [
    "## 2. Perfilamiento y entendimiento de los datos.\n",
    "\n",
    "En esta sección realizamos la **lectura** y un primer **análisis exploratorio** de los datos \n",
    "proporcionados para el proyecto. Contamos con dos archivos principales:\n",
    "\n",
    "- Datos_proyecto.xlsx → dataset principal de opiniones ciudadanas con sus etiquetas ODS.  \n",
    "- Datos de prueba_proyecto.xlsx → dataset de prueba para evaluar el modelo seleccionado.\n"
   ]
  },
  {
   "cell_type": "markdown",
   "id": "7c05fd1f",
   "metadata": {},
   "source": [
    "### Carga de datos"
   ]
  },
  {
   "cell_type": "code",
   "execution_count": 3,
   "id": "307bd9b5",
   "metadata": {},
   "outputs": [
    {
     "data": {
      "text/html": [
       "<div>\n",
       "<style scoped>\n",
       "    .dataframe tbody tr th:only-of-type {\n",
       "        vertical-align: middle;\n",
       "    }\n",
       "\n",
       "    .dataframe tbody tr th {\n",
       "        vertical-align: top;\n",
       "    }\n",
       "\n",
       "    .dataframe thead th {\n",
       "        text-align: right;\n",
       "    }\n",
       "</style>\n",
       "<table border=\"1\" class=\"dataframe\">\n",
       "  <thead>\n",
       "    <tr style=\"text-align: right;\">\n",
       "      <th></th>\n",
       "      <th>textos</th>\n",
       "      <th>labels</th>\n",
       "    </tr>\n",
       "  </thead>\n",
       "  <tbody>\n",
       "    <tr>\n",
       "      <th>0</th>\n",
       "      <td>\"Aprendizaje\" y \"educación\" se consideran sinó...</td>\n",
       "      <td>4</td>\n",
       "    </tr>\n",
       "    <tr>\n",
       "      <th>1</th>\n",
       "      <td>Para los niños más pequeños (bebés y niños peq...</td>\n",
       "      <td>4</td>\n",
       "    </tr>\n",
       "    <tr>\n",
       "      <th>2</th>\n",
       "      <td>Además, la formación de especialistas en medic...</td>\n",
       "      <td>3</td>\n",
       "    </tr>\n",
       "    <tr>\n",
       "      <th>3</th>\n",
       "      <td>En los países de la OCDE se tiende a pasar de ...</td>\n",
       "      <td>4</td>\n",
       "    </tr>\n",
       "    <tr>\n",
       "      <th>4</th>\n",
       "      <td>Este grupo se centró en las personas que padec...</td>\n",
       "      <td>3</td>\n",
       "    </tr>\n",
       "  </tbody>\n",
       "</table>\n",
       "</div>"
      ],
      "text/plain": [
       "                                              textos  labels\n",
       "0  \"Aprendizaje\" y \"educación\" se consideran sinó...       4\n",
       "1  Para los niños más pequeños (bebés y niños peq...       4\n",
       "2  Además, la formación de especialistas en medic...       3\n",
       "3  En los países de la OCDE se tiende a pasar de ...       4\n",
       "4  Este grupo se centró en las personas que padec...       3"
      ]
     },
     "execution_count": 3,
     "metadata": {},
     "output_type": "execute_result"
    }
   ],
   "source": [
    "# Lectura del dataset principal\n",
    "data = pd.read_excel(\"Datos_proyecto.xlsx\")\n",
    "\n",
    "# Asignación a una nueva variable para trabajar\n",
    "data_t = data.copy()\n",
    "\n",
    "# Vista inicial\n",
    "data_t.head()\n"
   ]
  },
  {
   "cell_type": "code",
   "execution_count": 4,
   "id": "6693a8fe",
   "metadata": {},
   "outputs": [
    {
     "name": "stdout",
     "output_type": "stream",
     "text": [
      "<class 'pandas.core.frame.DataFrame'>\n",
      "RangeIndex: 2424 entries, 0 to 2423\n",
      "Data columns (total 2 columns):\n",
      " #   Column  Non-Null Count  Dtype \n",
      "---  ------  --------------  ----- \n",
      " 0   textos  2424 non-null   object\n",
      " 1   labels  2424 non-null   int64 \n",
      "dtypes: int64(1), object(1)\n",
      "memory usage: 38.0+ KB\n",
      "\n",
      "Valores nulos por columna:\n",
      "textos    0\n",
      "labels    0\n",
      "dtype: int64\n",
      "\n",
      "Distribución de etiquetas (ODS):\n",
      "labels\n",
      "4    1025\n",
      "3     894\n",
      "1     505\n",
      "Name: count, dtype: int64\n"
     ]
    }
   ],
   "source": [
    "# Información general: filas, columnas, tipos de datos\n",
    "data_t.info()\n",
    "\n",
    "# Valores nulos\n",
    "print(\"\\nValores nulos por columna:\")\n",
    "print(data_t.isnull().sum())\n",
    "\n",
    "# Distribución de las etiquetas\n",
    "print(\"\\nDistribución de etiquetas (ODS):\")\n",
    "print(data_t['labels'].value_counts())\n"
   ]
  },
  {
   "cell_type": "code",
   "execution_count": 5,
   "id": "188d5345",
   "metadata": {},
   "outputs": [
    {
     "name": "stdout",
     "output_type": "stream",
     "text": [
      "\n",
      "Estadísticas de la longitud de los textos:\n",
      "count    2424.000000\n",
      "mean      107.924092\n",
      "std        35.575349\n",
      "min        41.000000\n",
      "25%        81.000000\n",
      "50%       102.000000\n",
      "75%       129.000000\n",
      "max       260.000000\n",
      "Name: longitud, dtype: float64\n"
     ]
    }
   ],
   "source": [
    "# Crear columna con longitud de cada texto (en palabras)\n",
    "data_t['longitud'] = data_t['textos'].apply(lambda x: len(str(x).split()))\n",
    "\n",
    "# Estadísticas descriptivas\n",
    "print(\"\\nEstadísticas de la longitud de los textos:\")\n",
    "print(data_t['longitud'].describe())\n",
    "\n"
   ]
  },
  {
   "cell_type": "code",
   "execution_count": 6,
   "id": "c4ded381",
   "metadata": {},
   "outputs": [
    {
     "name": "stderr",
     "output_type": "stream",
     "text": [
      "/var/folders/rd/c8h4x4m10sb985f52mrcc5600000gn/T/ipykernel_39884/4150625362.py:2: FutureWarning: \n",
      "\n",
      "Passing `palette` without assigning `hue` is deprecated and will be removed in v0.14.0. Assign the `x` variable to `hue` and set `legend=False` for the same effect.\n",
      "\n",
      "  sns.countplot(x='labels', data=data_t, palette='Set2')\n"
     ]
    },
    {
     "data": {
      "image/png": "[encoded data removed]",
      "text/plain": [
       "<Figure size 640x480 with 1 Axes>"
      ]
     },
     "metadata": {},
     "output_type": "display_data"
    },
    {
     "data": {
      "image/png": "[encoded data removed]",
      "text/plain": [
       "<Figure size 640x480 with 1 Axes>"
      ]
     },
     "metadata": {},
     "output_type": "display_data"
    }
   ],
   "source": [
    "\n",
    "# Distribución de las etiquetas\n",
    "sns.countplot(x='labels', data=data_t, palette='Set2')\n",
    "plt.title(\"Distribución de opiniones por ODS\")\n",
    "plt.xlabel(\"ODS (1 = Pobreza, 3 = Salud, 4 = Educación)\")\n",
    "plt.ylabel(\"Cantidad de textos\")\n",
    "plt.show()\n",
    "\n",
    "# Histograma de longitudes de texto\n",
    "sns.histplot(data_t['longitud'], bins=30, kde=True)\n",
    "plt.title(\"Distribución de longitudes de los textos (en palabras)\")\n",
    "plt.xlabel(\"Número de palabras\")\n",
    "plt.ylabel(\"Frecuencia\")\n",
    "plt.show()\n"
   ]
  },
  {
   "cell_type": "markdown",
   "id": "74233fb0",
   "metadata": {},
   "source": [
    "## 3. Preparación de los datos\n",
    "En este paso aplicamos un pipeline de limpieza en español:\n",
    "- Normalización de texto\n",
    "- Tokenización con NLTK (RegexpTokenizer, no requiere punkt)\n",
    "- Eliminación de stopwords personalizadas\n",
    "- Lematización con spaCy\n",
    "- Generación de columnas procesadas\n"
   ]
  },
  {
   "cell_type": "markdown",
   "id": "c9214b8b",
   "metadata": {},
   "source": [
    "### 3.1 Definir stopwords y listas personalizadas\n",
    "Qué hace:\n",
    "- Crea una lista de palabras vacías en español y la adapta al dominio.  \n",
    "- Quita conectores innecesarios (*además, sin embargo…*) y protege palabras críticas de ODS (*pobreza, salud, educación*).  \n",
    "\n",
    "Por qué:\n",
    "- Si eliminamos demasiado, el modelo pierde señal.  \n",
    "- Si dejamos ruido académico, el modelo aprende cosas irrelevantes.  \n",
    "\n",
    "Ejemplo: \n",
    "- Texto original: \"La educación, sin embargo, debe mejorar\"  \n",
    "- Tras stopwords personalizadas: [\"educación\", \"mejorar\"]\n"
   ]
  },
  {
   "cell_type": "code",
   "execution_count": 7,
   "id": "b277b437",
   "metadata": {},
   "outputs": [],
   "source": [
    "# spaCy en español (usa \"lg\" si lo tienes)\n",
    "nlp = spacy.load(\"es_core_news_md\")\n",
    "\n",
    "# Stopwords base español\n",
    "try:\n",
    "    nltk.data.find(\"corpora/stopwords\")\n",
    "except LookupError:\n",
    "    nltk.download(\"stopwords\")\n",
    "STOP_ES = set(stopwords.words(\"spanish\"))\n",
    "\n",
    "# Stopwords adicionales comunes en textos académicos\n",
    "STOP_EXTRA = {\n",
    "    \"ademas\",\"asimismo\",\"sin\",\"embargo\",\"no\",\"obstante\",\"por\",\"consiguiente\",\n",
    "    \"asi\",\"mismo\",\"tambien\",\"entre\",\"otros\",\"etc\",\"respecto\",\"dicho\",\"misma\",\n",
    "    \"mismo\",\"mismas\",\"mismos\",\"puede\",\"pueden\",\"debe\",\"deben\",\"debido\",\"cual\",\n",
    "    \"cuales\",\"cualquier\",\"cada\",\"dentro\",\"fuera\",\"segun\",\"con\",\"contra\",\"hacia\",\n",
    "    \"desde\",\"sobre\",\"tras\",\"mediante\"\n",
    "}\n",
    "\n",
    "# Palabras que NO debemos eliminar (clave para ODS)\n",
    "ALLOWLIST_ODS = {\n",
    "    \"ods\",\"pobreza\",\"salud\",\"educación\",\"educacion\",\"docente\",\"docentes\",\"escuela\",\"escolar\",\n",
    "    \"universidad\",\"primaria\",\"secundaria\",\"matrícula\",\"matricula\",\"hospital\",\"atención\",\"atencion\",\n",
    "    \"paciente\",\"mental\",\"prom\",\"prem\",\"epr\",\"currículo\",\"curriculo\",\"formación\",\"formacion\"\n",
    "}\n",
    "\n",
    "# Stopwords finales\n",
    "STOP_CUSTOM = (STOP_ES | STOP_EXTRA) - ALLOWLIST_ODS\n"
   ]
  },
  {
   "cell_type": "markdown",
   "id": "10251d5e",
   "metadata": {},
   "source": [
    "### 3.2 Funciones de limpieza (con RegexpTokenizer)\n",
    "\n",
    "a) normalize_text  \n",
    "- Qué hace: convierte a minúsculas, elimina URLs, citas (OCDE 2013), paréntesis y comillas raras.  \n",
    "- Por qué: evita que el modelo confunda tokens inútiles con información relevante.  \n",
    "- Ejemplo: \"Informe de la OCDE (2013)\" → \"informe de la ocde\"\n",
    "\n",
    "b) tokenize con RegexpTokenizer \n",
    "- Qué hace: divide en palabras usando solo caracteres alfabéticos.  \n",
    "- Por qué: quita números/puntuación que no ayudan.  \n",
    "- Ejemplo: \"la educación en 2013 fue clave\" → [\"la\",\"educación\",\"en\",\"fue\",\"clave\"]\n",
    "\n",
    "c) remove_stopwords\n",
    "- Qué hace: borra stopwords pero conserva palabras críticas (ALLOWLIST).  \n",
    "- Por qué: filtra ruido pero protege la semántica de ODS.  \n",
    "- Ejemplo: [\"la\",\"educación\",\"en\",\"fue\",\"clave\"] → [\"educación\",\"clave\"]\n",
    "\n",
    "d) lemmatize_es con spaCy  \n",
    "- Qué hace: reduce palabras a su forma mas basica.  \n",
    "- Por qué: unifica variaciones (*estudiantes → estudiante, aprendiendo → aprender*).  \n",
    "- Ejemplo: [\"estudiantes\",\"aprendiendo\",\"docentes\"] → [\"estudiante\",\"aprender\",\"docente\"]\n",
    "\n",
    "e) clean_pipeline \n",
    "- Qué hace: une todos los pasos en orden → normalizar → tokenizar → stopwords → lematizar.  \n",
    "- Por qué: garantiza consistencia en todo el dataset.  \n",
    "- Ejemplo: \"Los estudiantes estaban aprendiendo en la escuela\" → [\"estudiante\",\"aprender\",\"escuela\"]\n"
   ]
  },
  {
   "cell_type": "code",
   "execution_count": 8,
   "id": "063e968b",
   "metadata": {},
   "outputs": [],
   "source": [
    "\n",
    "\n",
    "# Tokenizador sin punkt\n",
    "_tokenizer = RegexpTokenizer(r\"\\w+\")\n",
    "\n",
    "def normalize_text(text: str) -> str:\n",
    "    if not isinstance(text, str):\n",
    "        return \"\"\n",
    "    t = text.lower()\n",
    "    t = re.sub(r'(https?://\\S+)|(\\S+@\\S+)', ' ', t)   # URLs y correos\n",
    "    t = re.sub(r'\\([^)]*\\d{2,4}[^)]*\\)', ' ', t)      # referencias (OCDE, 2013)\n",
    "    t = re.sub(r'[“”\"«»´`]', ' ', t)                  # comillas raras\n",
    "    t = re.sub(r'\\s+', ' ', t)                        # espacios múltiples\n",
    "    return t.strip()\n",
    "\n",
    "def tokenize(text: str):\n",
    "    toks = _tokenizer.tokenize(str(text or \"\"))\n",
    "    return [t for t in toks if t.isalpha()]\n",
    "\n",
    "def remove_stopwords(tokens):\n",
    "    return [t for t in tokens if (t not in STOP_CUSTOM) or (t in ALLOWLIST_ODS)]\n",
    "\n",
    "def lemmatize_es(tokens):\n",
    "    doc = nlp(\" \".join(tokens))\n",
    "    lemmas = [t.lemma_ for t in doc if t.is_alpha]\n",
    "    lemmas = [l for l in lemmas if (l not in STOP_CUSTOM) or (l in ALLOWLIST_ODS)]\n",
    "    return lemmas\n",
    "\n",
    "def clean_pipeline(text: str):\n",
    "    t = normalize_text(text)\n",
    "    toks = tokenize(t)\n",
    "    toks = remove_stopwords(toks)\n",
    "    lemmas = lemmatize_es(toks)\n",
    "    return lemmas\n"
   ]
  },
  {
   "cell_type": "markdown",
   "id": "17934948",
   "metadata": {},
   "source": [
    "### 3.3 Aplicar el pipeline al dataset\n",
    "\n",
    "Qué hace: \n",
    "- Aplica clean_pipeline a cada fila de la columna textos.  \n",
    "- Genera columnas nuevas:  \n",
    "  - tokens: lista de palabras limpias.  \n",
    "  - texto_limpio: texto unido (para vectorización).  \n",
    "  - longitud_tokens: tamaño del texto procesado.  \n",
    "\n",
    "Por qué: \n",
    "- Necesitamos una vista de tokens para nosotros, una vista lista para modelos (texto_limpio) y una métrica de control (longitud_tokens).  \n",
    "\n",
    "Ejemplo: \n",
    "- Entrada: \"Los estudiantes estaban aprendiendo en la escuela\" \n",
    "- Salida:  \n",
    "  - tokens → [\"estudiante\",\"aprender\",\"escuela\"]`  \n",
    "  - texto_limpio → \"estudiante aprender escuela\"`  \n",
    "  - longitud_tokens → 3\n"
   ]
  },
  {
   "cell_type": "code",
   "execution_count": 9,
   "id": "cabdceb8",
   "metadata": {},
   "outputs": [
    {
     "data": {
      "text/html": [
       "<div>\n",
       "<style scoped>\n",
       "    .dataframe tbody tr th:only-of-type {\n",
       "        vertical-align: middle;\n",
       "    }\n",
       "\n",
       "    .dataframe tbody tr th {\n",
       "        vertical-align: top;\n",
       "    }\n",
       "\n",
       "    .dataframe thead th {\n",
       "        text-align: right;\n",
       "    }\n",
       "</style>\n",
       "<table border=\"1\" class=\"dataframe\">\n",
       "  <thead>\n",
       "    <tr style=\"text-align: right;\">\n",
       "      <th></th>\n",
       "      <th>textos</th>\n",
       "      <th>labels</th>\n",
       "      <th>texto_limpio</th>\n",
       "      <th>longitud_tokens</th>\n",
       "    </tr>\n",
       "  </thead>\n",
       "  <tbody>\n",
       "    <tr>\n",
       "      <th>0</th>\n",
       "      <td>\"Aprendizaje\" y \"educación\" se consideran sinó...</td>\n",
       "      <td>4</td>\n",
       "      <td>aprendizaje educación considerar sinónimo esco...</td>\n",
       "      <td>25</td>\n",
       "    </tr>\n",
       "    <tr>\n",
       "      <th>1</th>\n",
       "      <td>Para los niños más pequeños (bebés y niños peq...</td>\n",
       "      <td>4</td>\n",
       "      <td>niño pequeño bebé niño pequeño capacitación es...</td>\n",
       "      <td>39</td>\n",
       "    </tr>\n",
       "    <tr>\n",
       "      <th>2</th>\n",
       "      <td>Además, la formación de especialistas en medic...</td>\n",
       "      <td>3</td>\n",
       "      <td>además formación especialista medicina general...</td>\n",
       "      <td>50</td>\n",
       "    </tr>\n",
       "    <tr>\n",
       "      <th>3</th>\n",
       "      <td>En los países de la OCDE se tiende a pasar de ...</td>\n",
       "      <td>4</td>\n",
       "      <td>país ocde tender pasar curso obligatorio optat...</td>\n",
       "      <td>55</td>\n",
       "    </tr>\n",
       "    <tr>\n",
       "      <th>4</th>\n",
       "      <td>Este grupo se centró en las personas que padec...</td>\n",
       "      <td>3</td>\n",
       "      <td>grupo centrar persona padecer trastorno mental...</td>\n",
       "      <td>52</td>\n",
       "    </tr>\n",
       "  </tbody>\n",
       "</table>\n",
       "</div>"
      ],
      "text/plain": [
       "                                              textos  labels  \\\n",
       "0  \"Aprendizaje\" y \"educación\" se consideran sinó...       4   \n",
       "1  Para los niños más pequeños (bebés y niños peq...       4   \n",
       "2  Además, la formación de especialistas en medic...       3   \n",
       "3  En los países de la OCDE se tiende a pasar de ...       4   \n",
       "4  Este grupo se centró en las personas que padec...       3   \n",
       "\n",
       "                                        texto_limpio  longitud_tokens  \n",
       "0  aprendizaje educación considerar sinónimo esco...               25  \n",
       "1  niño pequeño bebé niño pequeño capacitación es...               39  \n",
       "2  además formación especialista medicina general...               50  \n",
       "3  país ocde tender pasar curso obligatorio optat...               55  \n",
       "4  grupo centrar persona padecer trastorno mental...               52  "
      ]
     },
     "execution_count": 9,
     "metadata": {},
     "output_type": "execute_result"
    }
   ],
   "source": [
    "# Aplicar pipeline\n",
    "data_t[\"tokens\"] = data_t[\"textos\"].apply(clean_pipeline)\n",
    "\n",
    "# Columnas auxiliares\n",
    "data_t[\"texto_limpio\"] = data_t[\"tokens\"].apply(lambda xs: \" \".join(xs))\n",
    "data_t[\"longitud_tokens\"] = data_t[\"tokens\"].apply(len)\n",
    "\n",
    "# Vista previa\n",
    "data_t[[\"textos\",\"labels\",\"texto_limpio\",\"longitud_tokens\"]].head()\n"
   ]
  },
  {
   "cell_type": "markdown",
   "id": "a29eacf3",
   "metadata": {},
   "source": [
    "### 3.4 Chequeos básicos\n",
    "\n",
    "Qué hace: \n",
    "- Muestra info() y valores nulos → detecta problemas de integridad.  \n",
    "- Cuenta las etiquetas (labels) → revisa desbalance.  \n",
    "- Grafica histograma de longitudes → detecta outliers o textos vacíos.  \n",
    "\n",
    "Por qué: \n",
    "- Si tenemos muchos vacíos, el modelo se entrena mal.  \n",
    "- Si hay mucho desbalance (ej. más ODS 4 que ODS 1), necesitaremos técnicas de balanceo o métricas ajustadas.  \n",
    "\n",
    "Ejemplo:\n",
    "- Histograma muestra que la mayoría de textos tienen entre 30–100 tokens.  \n",
    "- Distribución de etiquetas muestra más ODS 4 que ODS 1/3.\n"
   ]
  },
  {
   "cell_type": "code",
   "execution_count": 10,
   "id": "c1e895b9",
   "metadata": {},
   "outputs": [
    {
     "name": "stdout",
     "output_type": "stream",
     "text": [
      "<class 'pandas.core.frame.DataFrame'>\n",
      "RangeIndex: 2424 entries, 0 to 2423\n",
      "Data columns (total 6 columns):\n",
      " #   Column           Non-Null Count  Dtype \n",
      "---  ------           --------------  ----- \n",
      " 0   textos           2424 non-null   object\n",
      " 1   labels           2424 non-null   int64 \n",
      " 2   longitud         2424 non-null   int64 \n",
      " 3   tokens           2424 non-null   object\n",
      " 4   texto_limpio     2424 non-null   object\n",
      " 5   longitud_tokens  2424 non-null   int64 \n",
      "dtypes: int64(3), object(3)\n",
      "memory usage: 113.8+ KB\n",
      "None\n",
      "\n",
      "Valores nulos por columna:\n",
      "textos             0\n",
      "labels             0\n",
      "longitud           0\n",
      "tokens             0\n",
      "texto_limpio       0\n",
      "longitud_tokens    0\n",
      "dtype: int64\n",
      "\n",
      "Distribución de etiquetas (ODS):\n",
      "labels\n",
      "4    1025\n",
      "3     894\n",
      "1     505\n",
      "Name: count, dtype: int64\n"
     ]
    },
    {
     "data": {
      "image/png": "[encoded data removed]",
      "text/plain": [
       "<Figure size 640x480 with 1 Axes>"
      ]
     },
     "metadata": {},
     "output_type": "display_data"
    }
   ],
   "source": [
    "# Información del dataset\n",
    "print(data_t.info())\n",
    "\n",
    "# Valores nulos\n",
    "print(\"\\nValores nulos por columna:\")\n",
    "print(data_t.isnull().sum())\n",
    "\n",
    "# Distribución de clases\n",
    "print(\"\\nDistribución de etiquetas (ODS):\")\n",
    "print(data_t['labels'].value_counts())\n",
    "\n",
    "# Distribución de longitudes\n",
    "import matplotlib.pyplot as plt\n",
    "import seaborn as sns\n",
    "\n",
    "sns.histplot(data_t[\"longitud_tokens\"], bins=30, kde=False)\n",
    "plt.title(\"Distribución de longitudes (tokens limpios)\")\n",
    "plt.xlabel(\"Número de tokens\")\n",
    "plt.ylabel(\"Frecuencia\")\n",
    "plt.show()\n"
   ]
  },
  {
   "cell_type": "markdown",
   "id": "138b7d9d",
   "metadata": {},
   "source": [
    "### 3.5 Explorar n-gramas clave\n",
    "\n",
    "Qué hace: \n",
    "- Extrae frases frecuentes por clase.  \n",
    "\n",
    "Por qué:\n",
    "- Nos ayuda a saber que conceptos aparecen más en cada ODS.    "
   ]
  },
  {
   "cell_type": "code",
   "execution_count": 11,
   "id": "05a364cb",
   "metadata": {},
   "outputs": [
    {
     "name": "stdout",
     "output_type": "stream",
     "text": [
      "\n",
      "Top bigramas ODS 1:\n",
      "  pobreza infantil  (95)\n",
      "  tasa pobrezo  (80)\n",
      "  pobreza extremo  (52)\n",
      "  protección social  (47)\n",
      "  reducción pobreza  (46)\n",
      "\n",
      "Top bigramas ODS 3:\n",
      "  salud mental  (227)\n",
      "  atención primario  (206)\n",
      "  atención salud  (94)\n",
      "  sistema salud  (84)\n",
      "  servicio salud  (81)\n",
      "\n",
      "Top bigramas ODS 4:\n",
      "  sistema educativo  (116)\n",
      "  educación superior  (107)\n",
      "  secundario superior  (80)\n",
      "  educación secundario  (67)\n",
      "  educación terciario  (62)\n"
     ]
    }
   ],
   "source": [
    "\n",
    "def top_ngrams(texts, n=2, k=5):\n",
    "    counts = Counter()\n",
    "    for t in texts:\n",
    "        toks = t.split()\n",
    "        ngs = zip(*[toks[i:] for i in range(n)])\n",
    "        counts.update([\" \".join(g) for g in ngs])\n",
    "    return counts.most_common(k)\n",
    "\n",
    "for etiqueta in sorted(data_t[\"labels\"].unique()):\n",
    "    subset = data_t.loc[data_t[\"labels\"]==etiqueta, \"texto_limpio\"].tolist()\n",
    "    print(f\"\\nTop bigramas ODS {etiqueta}:\")\n",
    "    for g,c in top_ngrams(subset, n=2, k=5):\n",
    "        print(f\"  {g}  ({c})\")\n"
   ]
  },
  {
   "cell_type": "markdown",
   "id": "7c54a684",
   "metadata": {},
   "source": [
    "## 4. MODELO: Naive Bayes\n",
    "\n",
    "por: Ana Cristina Rodríguez\n",
    "\n",
    "El Naive Bayes Multinomial (MNB) es un algoritmo de clasificación probabilística basado en el Teorema de Bayes.\n",
    "Su idea central es calcular la probabilidad de que un texto pertenezca a una clase (por ejemplo, ODS 1, ODS 3 u ODS 4), dadas las palabras que contiene.\n",
    "\n",
    "Al ser multinomial está especialmente diseñado para trabajar con frecuencias de palabras o representaciones TF-IDF, la cual es una técnica de representación de texto que transforma documentos en vectores numéricos, resaltando las palabras más importantes y discriminativas de cada texto.\n",
    "\n",
    "No obstante, la mayor deventaja de este algorítmo es que no capta relaciones semánticas complejas entre palabras."
   ]
  },
  {
   "cell_type": "markdown",
   "id": "201e908b",
   "metadata": {},
   "source": [
    "### 4.1. Imports y configuraciones:"
   ]
  },
  {
   "cell_type": "code",
   "execution_count": 12,
   "id": "15fee35b",
   "metadata": {},
   "outputs": [],
   "source": [
    "import numpy as np\n",
    "import pandas as pd\n",
    "\n",
    "from sklearn.model_selection import train_test_split\n",
    "\n",
    "from sklearn.pipeline import Pipeline\n",
    "from sklearn.feature_extraction.text import TfidfVectorizer\n",
    "from sklearn.naive_bayes import MultinomialNB\n",
    "from sklearn.utils.class_weight import compute_class_weight\n",
    "from sklearn.model_selection import StratifiedKFold, GridSearchCV"
   ]
  },
  {
   "cell_type": "code",
   "execution_count": 13,
   "id": "31c283f8",
   "metadata": {},
   "outputs": [],
   "source": [
    "# Config\n",
    "TEXT_COL = 'texto_limpio' if 'texto_limpio' in data_t.columns else 'textos'\n",
    "LABEL_COL = 'labels'  "
   ]
  },
  {
   "cell_type": "code",
   "execution_count": 14,
   "id": "a404a042",
   "metadata": {},
   "outputs": [],
   "source": [
    "# DataFrame base para modelar (sin nulos ni vacíos)\n",
    "df = data_t[[TEXT_COL, LABEL_COL]].copy()\n",
    "df.dropna(subset=[TEXT_COL, LABEL_COL], inplace=True)\n",
    "df[TEXT_COL] = df[TEXT_COL].astype(str).str.strip()\n",
    "df = df[df[TEXT_COL].str.len() > 0].copy()"
   ]
  },
  {
   "cell_type": "code",
   "execution_count": 15,
   "id": "3ea462f7",
   "metadata": {},
   "outputs": [
    {
     "name": "stdout",
     "output_type": "stream",
     "text": [
      "                                        texto_limpio  labels\n",
      "0  aprendizaje educación considerar sinónimo esco...       4\n",
      "1  niño pequeño bebé niño pequeño capacitación es...       4\n",
      "2  además formación especialista medicina general...       3\n",
      "3  país ocde tender pasar curso obligatorio optat...       4\n",
      "4  grupo centrar persona padecer trastorno mental...       3\n"
     ]
    },
    {
     "data": {
      "text/plain": [
       "labels\n",
       "4    1025\n",
       "3     894\n",
       "1     505\n",
       "Name: count, dtype: int64"
      ]
     },
     "execution_count": 15,
     "metadata": {},
     "output_type": "execute_result"
    }
   ],
   "source": [
    "print(df[[TEXT_COL, LABEL_COL]].head())\n",
    "df[LABEL_COL].value_counts()"
   ]
  },
  {
   "cell_type": "markdown",
   "id": "2fba2dd0",
   "metadata": {},
   "source": [
    "### 4.2. Particiones\n",
    "División de edtaset en train (70%) ,validacion (15%) y test (15%) manteniendo la misma proporción de clases en cada subconjunto. "
   ]
  },
  {
   "cell_type": "code",
   "execution_count": 16,
   "id": "6857b5d3",
   "metadata": {},
   "outputs": [
    {
     "name": "stdout",
     "output_type": "stream",
     "text": [
      "Train: 1696 | Val: 364 | Test: 364\n"
     ]
    }
   ],
   "source": [
    "X = df[TEXT_COL].values\n",
    "y = df[LABEL_COL].values\n",
    "\n",
    "# 15% test fijo\n",
    "X_trainval, X_test, y_trainval, y_test = train_test_split(\n",
    "    X, y, test_size=0.15, stratify=y, random_state=3301\n",
    ")\n",
    "# aprox. 15% valid del total\n",
    "X_train, X_val, y_train, y_val = train_test_split(\n",
    "    X_trainval, y_trainval, test_size=0.1765, stratify=y_trainval, random_state=3301\n",
    ")\n",
    "\n",
    "print(f\"Train: {len(X_train)} | Val: {len(X_val)} | Test: {len(X_test)}\")\n"
   ]
  },
  {
   "cell_type": "markdown",
   "id": "2770e082",
   "metadata": {},
   "source": [
    "### 4.3. Entrenamiento y optimización Naive Bayes\n",
    "\n",
    "Pipeline TF-IDF + MultinomialNB y búsqueda por F1-macro\n",
    "\n",
    "- Probamos analyzer en palabras y en caracteres (char_wb ayuda con typos).\n",
    "\n",
    "- Probamos n-gramas (1,1) y (1,2), min_df, max_df, sublinear_tf y alpha."
   ]
  },
  {
   "cell_type": "code",
   "execution_count": 17,
   "id": "416d8e2b",
   "metadata": {},
   "outputs": [
    {
     "name": "stdout",
     "output_type": "stream",
     "text": [
      "Fitting 5 folds for each of 144 candidates, totalling 720 fits\n",
      "Mejor configuración: {'clf__alpha': 0.1, 'tfidf__analyzer': 'word', 'tfidf__max_df': 0.9, 'tfidf__min_df': 1, 'tfidf__ngram_range': (1, 2), 'tfidf__sublinear_tf': False}\n",
      "Mejor F1-macro (CV): 0.9674\n"
     ]
    }
   ],
   "source": [
    "\n",
    "#Definición del pipeline \n",
    "pipe_nb = Pipeline([\n",
    "    ('tfidf', TfidfVectorizer(strip_accents='unicode')),\n",
    "    ('clf', MultinomialNB())\n",
    "])\n",
    "\n",
    "# Hiperparámetros \n",
    "param_grid = {\n",
    "    'tfidf__analyzer':    ['word', 'char_wb'],\n",
    "    'tfidf__ngram_range': [(1,1), (1,2)],\n",
    "    'tfidf__min_df':      [1, 2, 5],\n",
    "    'tfidf__max_df':      [0.9, 1.0],\n",
    "    'tfidf__sublinear_tf':[True, False],\n",
    "    'clf__alpha':         [0.1, 0.5, 1.0]\n",
    "}\n",
    "\n",
    "# Pesos por clase para atenuar desbalance \n",
    "classes = np.unique(y_train)\n",
    "class_weights = compute_class_weight('balanced', classes=classes, y=y_train)\n",
    "cw_map = dict(zip(classes, class_weights))\n",
    "sample_weight_train = np.array([cw_map[yi] for yi in y_train])\n",
    "\n",
    "cv = StratifiedKFold(n_splits=5, shuffle=True, random_state=3301)\n",
    "\n",
    "grid_nb = GridSearchCV(\n",
    "    estimator=pipe_nb,\n",
    "    param_grid=param_grid,\n",
    "    scoring='f1_macro',     \n",
    "    cv=cv,\n",
    "    n_jobs=-1,\n",
    "    verbose=1\n",
    ")\n",
    "\n",
    "# Con pesos (pasan al paso clf del pipeline)\n",
    "grid_nb.fit(X_train, y_train, clf__sample_weight=sample_weight_train)\n",
    "\n",
    "print(\"Mejor configuración:\", grid_nb.best_params_)\n",
    "print(\"Mejor F1-macro (CV):\", round(grid_nb.best_score_, 4))\n",
    "best_nb = grid_nb.best_estimator_\n"
   ]
  },
  {
   "cell_type": "markdown",
   "id": "2adcc242",
   "metadata": {},
   "source": [
    "Se tenían 144 posibles combinaciones posibles de los parámetros. \n",
    "Cada combinación se probó 5 veces con validación cruzada estratificada. \n",
    "Dando un total de 720 entrenamientos en total. \n",
    "\n",
    "Los resultados muestran que palabras (uni+bi), sin suavizado de frecuencias, alpha bajo y filtrando palabras muy comunes dan el mejor rendimiento."
   ]
  },
  {
   "cell_type": "markdown",
   "id": "c896623f",
   "metadata": {},
   "source": [
    "### 4.4. Evaluación en Validación \n",
    "\n",
    "- Precision: Confiabilidad al clasificar en cierta clase.\n",
    "- Recall: Qué tanto logra encontrar el modelo de los casos reales de una clase.\n",
    "- F1-score: Equilibrio entre precision y recall.\n",
    "\n",
    "- Matriz de confusion: muestra cuántas predicciones se clasifican correctamente y en dónde se equivoca el modelo"
   ]
  },
  {
   "cell_type": "code",
   "execution_count": 18,
   "id": "ad4546ed",
   "metadata": {},
   "outputs": [
    {
     "name": "stdout",
     "output_type": "stream",
     "text": [
      "== Validación ==\n",
      "              precision    recall  f1-score   support\n",
      "\n",
      "           1      0.912     0.961     0.936        76\n",
      "           3      1.000     0.940     0.969       134\n",
      "           4      0.956     0.981     0.968       154\n",
      "\n",
      "    accuracy                          0.962       364\n",
      "   macro avg      0.956     0.960     0.958       364\n",
      "weighted avg      0.963     0.962     0.962       364\n",
      "\n"
     ]
    },
    {
     "data": {
      "image/png": "[encoded data removed]",
      "text/plain": [
       "<Figure size 640x480 with 2 Axes>"
      ]
     },
     "metadata": {},
     "output_type": "display_data"
    }
   ],
   "source": [
    "from sklearn.metrics import classification_report, ConfusionMatrixDisplay\n",
    "import matplotlib.pyplot as plt\n",
    "\n",
    "y_val_pred = best_nb.predict(X_val)\n",
    "print(\"== Validación ==\")\n",
    "print(classification_report(y_val, y_val_pred, digits=3))\n",
    "\n",
    "ConfusionMatrixDisplay.from_predictions(y_val, y_val_pred)\n",
    "plt.title(\"Matriz de confusión - Validación (Naive Bayes)\")\n",
    "plt.show()\n"
   ]
  },
  {
   "cell_type": "markdown",
   "id": "2bfef5ef",
   "metadata": {},
   "source": [
    "El modelo Naive Bayes, optimizado con TF-IDF (uni+bi-gramas), alcanzó un 96.2% de exactitud y un F1-macro de 0.958 en validación. Los resultados son consistentes en todas las clases (ODS1, ODS3 y ODS4), lo que evidencia que el modelo es robusto y generaliza bien sin favorecer a una categoría en particular."
   ]
  },
  {
   "cell_type": "markdown",
   "id": "855992a2",
   "metadata": {},
   "source": [
    "### 4.5. Reentrenamiento \n",
    "Reentrenamiento del modelo usando más datos (train+val) una vez elegidos los mejores hiperparámetros. "
   ]
  },
  {
   "cell_type": "code",
   "execution_count": 19,
   "id": "1808e72c",
   "metadata": {},
   "outputs": [
    {
     "name": "stdout",
     "output_type": "stream",
     "text": [
      "== Test (métricas finales) ==\n",
      "              precision    recall  f1-score   support\n",
      "\n",
      "           1      0.973     0.947     0.960        76\n",
      "           3      0.970     0.955     0.962       134\n",
      "           4      0.968     0.994     0.981       154\n",
      "\n",
      "    accuracy                          0.970       364\n",
      "   macro avg      0.970     0.965     0.968       364\n",
      "weighted avg      0.970     0.970     0.970       364\n",
      "\n",
      "F1-macro (test): 0.9677\n"
     ]
    },
    {
     "data": {
      "image/png": "[encoded data removed]",
      "text/plain": [
       "<Figure size 640x480 with 2 Axes>"
      ]
     },
     "metadata": {},
     "output_type": "display_data"
    }
   ],
   "source": [
    "from sklearn.metrics import f1_score\n",
    "\n",
    "# Recalcular sample_weight para train+val \n",
    "y_train_all = np.concatenate([y_train, y_val])\n",
    "X_train_all = np.concatenate([X_train, X_val])\n",
    "\n",
    "classes_all = np.unique(y_train_all)\n",
    "cw_all = compute_class_weight('balanced', classes=classes_all, y=y_train_all)\n",
    "cw_map_all = dict(zip(classes_all, cw_all))\n",
    "sw_trainval = np.array([cw_map_all[yi] for yi in y_train_all])\n",
    "\n",
    "best_nb.fit(X_train_all, y_train_all, clf__sample_weight=sw_trainval)\n",
    "\n",
    "y_test_pred  = best_nb.predict(X_test)\n",
    "y_test_proba = best_nb.predict_proba(X_test)  \n",
    "\n",
    "print(\"== Test (métricas finales) ==\")\n",
    "print(classification_report(y_test, y_test_pred, digits=3))\n",
    "macro_f1 = f1_score(y_test, y_test_pred, average='macro')\n",
    "print(\"F1-macro (test):\", round(macro_f1, 4))\n",
    "\n",
    "ConfusionMatrixDisplay.from_predictions(y_test, y_test_pred)\n",
    "plt.title(\"Matriz de confusión - Test (Naive Bayes)\")\n",
    "plt.show()\n"
   ]
  },
  {
   "cell_type": "markdown",
   "id": "c69ad162",
   "metadata": {},
   "source": [
    "Los resultados muestran una exactitud (accuracy) de 0.970, es decir que el 97% de los textos son clasificados correctamente en el conjunto de prueba. \n",
    "\n",
    "Para ODS1 (pobreza) alcanzó una precisión de 0.973 y un F1 de 0.960, aunque con un recall ligeramente menor (0.947), lo que indica que en algunos casos no logró identificar todos los textos de esta categoría. En ODS3 (salud) obtuvo valores equilibrados de precisión (0.970) y recall (0.955), con un F1 de 0.962, reflejando un buen balance entre aciertos y cobertura. Finalmente, en ODS4 (educación) el modelo alcanzó su mejor desempeño, con una precisión de 0.968, un recall muy alto de 0.994 y un F1 de 0.981, lo que evidencia que casi todos los textos relacionados con educación fueron correctamente clasificados."
   ]
  },
  {
   "cell_type": "markdown",
   "id": "37e7a105",
   "metadata": {},
   "source": [
    "### 4.6. Resultados: Extracción de términos populares en cada clase\n",
    "A continuación, se extraen y muestran las palabras más relevantes que Naive Bayes usa para clasificar cada ODS."
   ]
  },
  {
   "cell_type": "code",
   "execution_count": 20,
   "id": "c4de5507",
   "metadata": {},
   "outputs": [
    {
     "name": "stdout",
     "output_type": "stream",
     "text": [
      "\n",
      "Top términos indicativos para clase 1:\n",
      "['pobreza' 'ingreso' 'pobre' 'hogar' 'pobrezo' 'pais' 'nino' 'tasa'\n",
      " 'social' 'infantil' 'privacion' 'persona' 'pobreza infantil'\n",
      " 'crecimiento' 'vivir' 'tasa pobrezo' 'mayor' 'familia' 'umbral' 'medida']\n",
      "\n",
      "Top términos indicativos para clase 3:\n",
      "['salud' 'atencion' 'medico' 'servicio' 'mental' 'paciente' 'sanitario'\n",
      " 'enfermedad' 'salud mental' 'pais' 'sistema' 'atencion primario'\n",
      " 'primario' 'persona' 'hospital' 'calidad' 'tratamiento' 'bajo' 'ano'\n",
      " 'mortalidad']\n",
      "\n",
      "Top términos indicativos para clase 4:\n",
      "['escuela' 'educacion' 'docente' 'estudiant' 'escolar' 'aprendizaje'\n",
      " 'evaluacion' 'educativo' 'alumno' 'ano' 'programa' 'profesor'\n",
      " 'profesional' 'nivel' 'estudiante' 'superior' 'sistema' 'el' 'habilidad'\n",
      " 'formacion']\n"
     ]
    }
   ],
   "source": [
    "vec: TfidfVectorizer = best_nb.named_steps['tfidf']\n",
    "clf: MultinomialNB    = best_nb.named_steps['clf']\n",
    "feature_names = np.array(vec.get_feature_names_out())\n",
    "\n",
    "for idx, cls in enumerate(clf.classes_):\n",
    "    top_idx = np.argsort(clf.feature_log_prob_[idx])[::-1][:20]\n",
    "    print(f\"\\nTop términos indicativos para clase {cls}:\")\n",
    "    print(feature_names[top_idx])\n"
   ]
  },
  {
   "cell_type": "markdown",
   "id": "0d5a931c",
   "metadata": {},
   "source": [
    "### 4.7.Resultados: Visualización de mejores combinaciones de hiperparámetros\n",
    "Este bloque te da una tabla ordenada con las 10 mejores combinaciones de hiperparámetros y su desempeño en validación cruzada. Esto permite tomar la mejor decisión basada en datos para seleccionar el mejor modelo."
   ]
  },
  {
   "cell_type": "code",
   "execution_count": 21,
   "id": "36a1a818",
   "metadata": {},
   "outputs": [
    {
     "data": {
      "text/html": [
       "<div>\n",
       "<style scoped>\n",
       "    .dataframe tbody tr th:only-of-type {\n",
       "        vertical-align: middle;\n",
       "    }\n",
       "\n",
       "    .dataframe tbody tr th {\n",
       "        vertical-align: top;\n",
       "    }\n",
       "\n",
       "    .dataframe thead th {\n",
       "        text-align: right;\n",
       "    }\n",
       "</style>\n",
       "<table border=\"1\" class=\"dataframe\">\n",
       "  <thead>\n",
       "    <tr style=\"text-align: right;\">\n",
       "      <th></th>\n",
       "      <th>mean_test_score</th>\n",
       "      <th>std_test_score</th>\n",
       "      <th>param_tfidf__analyzer</th>\n",
       "      <th>param_tfidf__ngram_range</th>\n",
       "      <th>param_tfidf__min_df</th>\n",
       "      <th>param_tfidf__max_df</th>\n",
       "      <th>param_tfidf__sublinear_tf</th>\n",
       "      <th>param_clf__alpha</th>\n",
       "      <th>rank_test_score</th>\n",
       "    </tr>\n",
       "  </thead>\n",
       "  <tbody>\n",
       "    <tr>\n",
       "      <th>3</th>\n",
       "      <td>0.967357</td>\n",
       "      <td>0.014181</td>\n",
       "      <td>word</td>\n",
       "      <td>(1, 2)</td>\n",
       "      <td>1</td>\n",
       "      <td>0.9</td>\n",
       "      <td>False</td>\n",
       "      <td>0.1</td>\n",
       "      <td>1</td>\n",
       "    </tr>\n",
       "    <tr>\n",
       "      <th>15</th>\n",
       "      <td>0.967357</td>\n",
       "      <td>0.014181</td>\n",
       "      <td>word</td>\n",
       "      <td>(1, 2)</td>\n",
       "      <td>1</td>\n",
       "      <td>1.0</td>\n",
       "      <td>False</td>\n",
       "      <td>0.1</td>\n",
       "      <td>1</td>\n",
       "    </tr>\n",
       "    <tr>\n",
       "      <th>2</th>\n",
       "      <td>0.967047</td>\n",
       "      <td>0.015259</td>\n",
       "      <td>word</td>\n",
       "      <td>(1, 2)</td>\n",
       "      <td>1</td>\n",
       "      <td>0.9</td>\n",
       "      <td>True</td>\n",
       "      <td>0.1</td>\n",
       "      <td>3</td>\n",
       "    </tr>\n",
       "    <tr>\n",
       "      <th>14</th>\n",
       "      <td>0.967047</td>\n",
       "      <td>0.015259</td>\n",
       "      <td>word</td>\n",
       "      <td>(1, 2)</td>\n",
       "      <td>1</td>\n",
       "      <td>1.0</td>\n",
       "      <td>True</td>\n",
       "      <td>0.1</td>\n",
       "      <td>3</td>\n",
       "    </tr>\n",
       "    <tr>\n",
       "      <th>103</th>\n",
       "      <td>0.965205</td>\n",
       "      <td>0.009686</td>\n",
       "      <td>word</td>\n",
       "      <td>(1, 2)</td>\n",
       "      <td>2</td>\n",
       "      <td>0.9</td>\n",
       "      <td>False</td>\n",
       "      <td>1.0</td>\n",
       "      <td>5</td>\n",
       "    </tr>\n",
       "    <tr>\n",
       "      <th>115</th>\n",
       "      <td>0.965205</td>\n",
       "      <td>0.009686</td>\n",
       "      <td>word</td>\n",
       "      <td>(1, 2)</td>\n",
       "      <td>2</td>\n",
       "      <td>1.0</td>\n",
       "      <td>False</td>\n",
       "      <td>1.0</td>\n",
       "      <td>5</td>\n",
       "    </tr>\n",
       "    <tr>\n",
       "      <th>19</th>\n",
       "      <td>0.965175</td>\n",
       "      <td>0.013456</td>\n",
       "      <td>word</td>\n",
       "      <td>(1, 2)</td>\n",
       "      <td>2</td>\n",
       "      <td>1.0</td>\n",
       "      <td>False</td>\n",
       "      <td>0.1</td>\n",
       "      <td>7</td>\n",
       "    </tr>\n",
       "    <tr>\n",
       "      <th>7</th>\n",
       "      <td>0.965175</td>\n",
       "      <td>0.013456</td>\n",
       "      <td>word</td>\n",
       "      <td>(1, 2)</td>\n",
       "      <td>2</td>\n",
       "      <td>0.9</td>\n",
       "      <td>False</td>\n",
       "      <td>0.1</td>\n",
       "      <td>7</td>\n",
       "    </tr>\n",
       "    <tr>\n",
       "      <th>67</th>\n",
       "      <td>0.964622</td>\n",
       "      <td>0.012367</td>\n",
       "      <td>word</td>\n",
       "      <td>(1, 2)</td>\n",
       "      <td>2</td>\n",
       "      <td>1.0</td>\n",
       "      <td>False</td>\n",
       "      <td>0.5</td>\n",
       "      <td>9</td>\n",
       "    </tr>\n",
       "    <tr>\n",
       "      <th>55</th>\n",
       "      <td>0.964622</td>\n",
       "      <td>0.012367</td>\n",
       "      <td>word</td>\n",
       "      <td>(1, 2)</td>\n",
       "      <td>2</td>\n",
       "      <td>0.9</td>\n",
       "      <td>False</td>\n",
       "      <td>0.5</td>\n",
       "      <td>9</td>\n",
       "    </tr>\n",
       "  </tbody>\n",
       "</table>\n",
       "</div>"
      ],
      "text/plain": [
       "     mean_test_score  std_test_score param_tfidf__analyzer  \\\n",
       "3           0.967357        0.014181                  word   \n",
       "15          0.967357        0.014181                  word   \n",
       "2           0.967047        0.015259                  word   \n",
       "14          0.967047        0.015259                  word   \n",
       "103         0.965205        0.009686                  word   \n",
       "115         0.965205        0.009686                  word   \n",
       "19          0.965175        0.013456                  word   \n",
       "7           0.965175        0.013456                  word   \n",
       "67          0.964622        0.012367                  word   \n",
       "55          0.964622        0.012367                  word   \n",
       "\n",
       "    param_tfidf__ngram_range  param_tfidf__min_df  param_tfidf__max_df  \\\n",
       "3                     (1, 2)                    1                  0.9   \n",
       "15                    (1, 2)                    1                  1.0   \n",
       "2                     (1, 2)                    1                  0.9   \n",
       "14                    (1, 2)                    1                  1.0   \n",
       "103                   (1, 2)                    2                  0.9   \n",
       "115                   (1, 2)                    2                  1.0   \n",
       "19                    (1, 2)                    2                  1.0   \n",
       "7                     (1, 2)                    2                  0.9   \n",
       "67                    (1, 2)                    2                  1.0   \n",
       "55                    (1, 2)                    2                  0.9   \n",
       "\n",
       "     param_tfidf__sublinear_tf  param_clf__alpha  rank_test_score  \n",
       "3                        False               0.1                1  \n",
       "15                       False               0.1                1  \n",
       "2                         True               0.1                3  \n",
       "14                        True               0.1                3  \n",
       "103                      False               1.0                5  \n",
       "115                      False               1.0                5  \n",
       "19                       False               0.1                7  \n",
       "7                        False               0.1                7  \n",
       "67                       False               0.5                9  \n",
       "55                       False               0.5                9  "
      ]
     },
     "execution_count": 21,
     "metadata": {},
     "output_type": "execute_result"
    }
   ],
   "source": [
    "cv_results = pd.DataFrame(grid_nb.cv_results_)\n",
    "cols = ['mean_test_score','std_test_score','param_tfidf__analyzer',\n",
    "        'param_tfidf__ngram_range','param_tfidf__min_df','param_tfidf__max_df',\n",
    "        'param_tfidf__sublinear_tf','param_clf__alpha','rank_test_score']\n",
    "cv_results[cols].sort_values('rank_test_score').head(10)\n"
   ]
  },
  {
   "cell_type": "markdown",
   "id": "43bc3646",
   "metadata": {},
   "source": [
    "El ajuste de hiperparámetros mediante GridSearchCV mostró que las mejores configuraciones para Naive Bayes se alcanzan con una representación TF-IDF basada en palabras (unigramas y bigramas), con un suavizado bajo (α=0.1), min_df=1, max_df=0.9–1.0 y sin aplicar sublinear TF. Esta combinación obtuvo un F1-macro promedio de 0.967 en validación cruzada, con una desviación estándar cercana a 0.014, lo que refleja un desempeño alto y estable. \n",
    "\n",
    "Con esto en mente, el uso de bigramas y un suavizado bajo permiten la mejor combinación para maximizar la capacidad de discriminación entre las clases. "
   ]
  },
  {
   "cell_type": "markdown",
   "id": "ae7f79f0",
   "metadata": {},
   "source": [
    "## 5. MODELO: Vectorización + Modelo lineal \n",
    "Por: Juliana Durán\n",
    "\n",
    "En este punto transformamos los textos ya limpios en representaciones numéricas (vectores) y entrenamos un primer modelo de clasificación para predecir el ODS (1, 3 o 4).\n"
   ]
  },
  {
   "cell_type": "markdown",
   "id": "c8f7b410",
   "metadata": {},
   "source": [
    "### 5.1 Separar datos en train/test (con estratificación)\n",
    "\n",
    "Por qué: necesitamos un conjunto para entrenar y otro para evaluar de forma honesta.\n",
    "\n",
    "Estratificación: mantiene la proporción de ODS (1/3/4) igual en train y test (importante porque está desbalanceado)."
   ]
  },
  {
   "cell_type": "code",
   "execution_count": 22,
   "id": "ccf9ad2c",
   "metadata": {},
   "outputs": [
    {
     "data": {
      "text/plain": [
       "(1939,\n",
       " 485,\n",
       " labels\n",
       " 4    0.423\n",
       " 3    0.369\n",
       " 1    0.208\n",
       " Name: proportion, dtype: float64,\n",
       " labels\n",
       " 4    0.423\n",
       " 3    0.369\n",
       " 1    0.208\n",
       " Name: proportion, dtype: float64)"
      ]
     },
     "execution_count": 22,
     "metadata": {},
     "output_type": "execute_result"
    }
   ],
   "source": [
    "from sklearn.model_selection import train_test_split\n",
    "\n",
    "X = data_t[\"texto_limpio\"]   \n",
    "y = data_t[\"labels\"]         \n",
    "\n",
    "X_train, X_test, y_train, y_test = train_test_split(\n",
    "    X, y,\n",
    "    test_size=0.2,           # 80%/20%\n",
    "    random_state=42,\n",
    "    stratify=y               # mantiene proporciones por clase\n",
    ")\n",
    "\n",
    "len(X_train), len(X_test), y_train.value_counts(normalize=True).round(3), y_test.value_counts(normalize=True).round(3)\n"
   ]
  },
  {
   "cell_type": "markdown",
   "id": "41fc9ee4",
   "metadata": {},
   "source": [
    "### 5.2 Vectorizar con TF-IDF\n",
    "\n",
    "Qué es: convierte cada texto en un vector de pesos (importancia de cada término).\n",
    "\n",
    "Explicacion mas larga: \n",
    "Se utilizó TF-IDF (Term Frequency – Inverse Document Frequency) para transformar los textos en vectores numéricos. TF mide cuántas veces aparece una palabra en un documento. IDF penaliza las palabras muy comunes en el corpus. Así, palabras distintivas como “pobreza” o “universidad” reciben más peso que términos generales como “el” o “de”. Además, se emplearon: Unigramas → palabras individuales (“educación”). Bigramas → pares de palabras consecutivas (“educación superior”). Esto permite capturar tanto términos aislados como combinaciones frecuentes de palabras.\n"
   ]
  },
  {
   "cell_type": "code",
   "execution_count": 23,
   "id": "09b403f3",
   "metadata": {},
   "outputs": [
    {
     "data": {
      "text/plain": [
       "((1939, 5000), (485, 5000))"
      ]
     },
     "execution_count": 23,
     "metadata": {},
     "output_type": "execute_result"
    }
   ],
   "source": [
    "from sklearn.feature_extraction.text import TfidfVectorizer\n",
    "\n",
    "tfidf = TfidfVectorizer(\n",
    "    ngram_range=(1,2),\n",
    "    min_df=3,\n",
    "    max_features=5000,\n",
    "    sublinear_tf=True\n",
    ")\n",
    "\n",
    "X_train_tfidf = tfidf.fit_transform(X_train)  # aprende vocabulario en TRAIN\n",
    "X_test_tfidf  = tfidf.transform(X_test)       # aplica exactamente el mismo vocabulario a TEST\n",
    "\n",
    "X_train_tfidf.shape, X_test_tfidf.shape\n"
   ]
  },
  {
   "cell_type": "markdown",
   "id": "fc59ddb6",
   "metadata": {},
   "source": [
    "### 5.3 Entrenar el modelo lineal: LinearSVC\n",
    "\n",
    "Por qué este modelo:\n",
    "\n",
    "- Es un SVM lineal: funciona muy bien con TF-IDF.\n",
    "\n",
    "- class_weight=\"balanced\" compensa el desbalance (da más peso a clases minoritarias).\n",
    "\n",
    "- Rápido y estable en texto.\n",
    "\n",
    "Para el modelo base se empleó un clasificador LinearSVC con el parámetro C=1.0 (valor por defecto), lo que permitió establecer una línea base de desempeño antes de realizar la optimización de hiperparámetros."
   ]
  },
  {
   "cell_type": "code",
   "execution_count": 24,
   "id": "b3e80ee0",
   "metadata": {},
   "outputs": [],
   "source": [
    "from sklearn.svm import LinearSVC\n",
    "\n",
    "clf = LinearSVC(\n",
    "    C=1.0,   \n",
    "    class_weight=\"balanced\",\n",
    "    random_state=42\n",
    ")\n",
    "\n",
    "clf.fit(X_train_tfidf, y_train)   # aprende fronteras lineales por clase (uno-vs-rest)\n",
    "y_pred = clf.predict(X_test_tfidf)\n"
   ]
  },
  {
   "cell_type": "markdown",
   "id": "51f60de6",
   "metadata": {},
   "source": [
    "### 5.4 Evaluación (métricas y matriz de confusión)\n",
    "\n",
    "Qué miramos:\n",
    "\n",
    "- classification_report con promedio macro (no favorece a la clase grande).\n",
    "\n",
    "- Matriz de confusión para ver qué ODS se confunden."
   ]
  },
  {
   "cell_type": "code",
   "execution_count": 25,
   "id": "7b975760",
   "metadata": {},
   "outputs": [
    {
     "name": "stdout",
     "output_type": "stream",
     "text": [
      "              precision    recall  f1-score   support\n",
      "\n",
      "           1      0.960     0.941     0.950       101\n",
      "           3      0.967     0.972     0.969       179\n",
      "           4      0.976     0.980     0.978       205\n",
      "\n",
      "    accuracy                          0.969       485\n",
      "   macro avg      0.967     0.964     0.966       485\n",
      "weighted avg      0.969     0.969     0.969       485\n",
      "\n"
     ]
    },
    {
     "data": {
      "image/png": "[encoded data removed]",
      "text/plain": [
       "<Figure size 600x500 with 2 Axes>"
      ]
     },
     "metadata": {},
     "output_type": "display_data"
    }
   ],
   "source": [
    "from sklearn.metrics import classification_report, confusion_matrix\n",
    "import seaborn as sns\n",
    "import matplotlib.pyplot as plt\n",
    "\n",
    "print(classification_report(y_test, y_pred, digits=3))\n",
    "\n",
    "cm = confusion_matrix(y_test, y_pred, labels=[1,3,4])\n",
    "plt.figure(figsize=(6,5))\n",
    "sns.heatmap(cm, annot=True, fmt=\"d\", cmap=\"Blues\",\n",
    "            xticklabels=[1,3,4], yticklabels=[1,3,4])\n",
    "plt.xlabel(\"Predicción\")\n",
    "plt.ylabel(\"Real\")\n",
    "plt.title(\"Matriz de confusión - LinearSVC + TF-IDF\")\n",
    "plt.show()\n"
   ]
  },
  {
   "cell_type": "markdown",
   "id": "7249e06c",
   "metadata": {},
   "source": [
    "El modelo LinearSVC con representación TF-IDF  alcanzó un desempeño sobresaliente en la tarea de clasificación de textos en los Objetivos de Desarrollo Sostenible (ODS).\n",
    "\n",
    "En términos de métricas globales, se obtuvo una exactitud (accuracy) del 96.9%, con un F1 macro de 0.966 y un F1 ponderado de 0.969. Estos valores reflejan un rendimiento consistente entre clases, sin que el modelo presente sesgo hacia la clase mayoritaria.\n",
    "\n",
    "El desglose por clase muestra valores de F1 cercanos a 0.97 en todos los ODS considerados:\n",
    "\n",
    "- ODS 1 (pobreza): F1 = 0.950\n",
    "\n",
    "- ODS 3 (salud): F1 = 0.969\n",
    "\n",
    "- ODS 4 (educación): F1 = 0.978\n",
    "\n",
    "La matriz de confusión confirma la solidez del modelo, ya que más del 97% de los textos fueron clasificados correctamente. Los errores detectados corresponden a confusiones puntuales entre ODS 1 y ODS 3, lo cual resulta comprensible dada la cercanía temática entre pobreza y salud en contextos sociales y políticos.\n",
    "\n",
    "En conclusión, el modelo LinearSVC + TF-IDF constituye una solución efectiva y balanceada para la clasificación automática de textos en los ODS, con un rendimiento altamente competitivo y confiable para aplicaciones prácticas en el análisis de políticas y documentos relacionados con el desarrollo sostenible"
   ]
  },
  {
   "cell_type": "markdown",
   "id": "0e213a76",
   "metadata": {},
   "source": [
    "### 5.5 ¿Qué palabras empujan cada clase? (interpretabilidad)\n",
    "\n",
    "Por qué: al ser un modelo lineal, cada término tiene un peso (coeficiente).\n",
    "\n",
    "Pesos grandes y positivos para una clase = términos que la favorecen."
   ]
  },
  {
   "cell_type": "code",
   "execution_count": 26,
   "id": "8f11be35",
   "metadata": {},
   "outputs": [
    {
     "name": "stdout",
     "output_type": "stream",
     "text": [
      "\n",
      "Top términos para ODS 1:\n",
      "  pobreza                   4.596\n",
      "  pobre                     2.692\n",
      "  pobrezo                   2.428\n",
      "  hogar                     1.655\n",
      "  privación                 1.647\n",
      "\n",
      "Top términos para ODS 3:\n",
      "  salud                     3.796\n",
      "  médico                    2.085\n",
      "  atención                  1.912\n",
      "  sanitario                 1.850\n",
      "  enfermedad                1.810\n",
      "\n",
      "Top términos para ODS 4:\n",
      "  educación                 3.195\n",
      "  escuela                   2.545\n",
      "  educativo                 2.198\n",
      "  estudiant                 1.861\n",
      "  docente                   1.843\n"
     ]
    }
   ],
   "source": [
    "import numpy as np\n",
    "\n",
    "feature_names = tfidf.get_feature_names_out()\n",
    "coefs = clf.coef_               \n",
    "classes = clf.classes_          \n",
    "\n",
    "def top_terms_per_class(k=5):\n",
    "    for idx, c in enumerate(classes):\n",
    "        topk = np.argsort(coefs[idx])[-k:][::-1]\n",
    "        terms = [feature_names[i] for i in topk]\n",
    "        weights = [coefs[idx][i] for i in topk]\n",
    "        print(f\"\\nTop términos para ODS {c}:\")\n",
    "        for t, w in zip(terms, weights):\n",
    "            print(f\"  {t:25s} {w:.3f}\")\n",
    "\n",
    "top_terms_per_class(k=5)\n"
   ]
  },
  {
   "cell_type": "markdown",
   "id": "7dcd5dda",
   "metadata": {},
   "source": [
    "### 5.6 Pipeline integrado + GridSearch rápido\n",
    "\n",
    "Por qué: el Pipeline asegura que vectorización y modelo queden acoplados (reproducible). Además puedes afinar el hiperparámetro C (fuerza de regularización).\n",
    "\n",
    "Se exploraron otros valores de C (0.5, 1.0, 2.0) mediante validación cruzada. El mejor desempeño se obtuvo con C=0.5, lo que permitió ampliar ligeramente el margen del clasificador y mejorar la generalización del modelo"
   ]
  },
  {
   "cell_type": "code",
   "execution_count": 27,
   "id": "7d09acc9",
   "metadata": {},
   "outputs": [
    {
     "name": "stdout",
     "output_type": "stream",
     "text": [
      "Mejor C: {'clf__C': 0.5}\n",
      "Mejor F1_macro: 0.971\n",
      "              precision    recall  f1-score   support\n",
      "\n",
      "           1      0.960     0.941     0.950       101\n",
      "           3      0.967     0.972     0.969       179\n",
      "           4      0.976     0.980     0.978       205\n",
      "\n",
      "    accuracy                          0.969       485\n",
      "   macro avg      0.967     0.964     0.966       485\n",
      "weighted avg      0.969     0.969     0.969       485\n",
      "\n"
     ]
    }
   ],
   "source": [
    "from sklearn.pipeline import Pipeline\n",
    "from sklearn.model_selection import GridSearchCV\n",
    "\n",
    "pipe = Pipeline([\n",
    "    (\"tfidf\", TfidfVectorizer(\n",
    "        ngram_range=(1,2),\n",
    "        min_df=3,\n",
    "        max_features=5000,\n",
    "        sublinear_tf=True\n",
    "    )),\n",
    "    (\"clf\", LinearSVC(\n",
    "        # no tenemos c para poder ajustarlo\n",
    "        class_weight=\"balanced\", \n",
    "        random_state=42))\n",
    "])\n",
    "\n",
    "#Definimos un diccionario de cs a probar.\n",
    "param_grid = {\n",
    "    \"clf__C\": [0.5, 1.0, 2.0]  # probando distintos valores de c\n",
    "}\n",
    "\n",
    "# me ayuda a buscar el mejor c\n",
    "# es como un for anidado que prueba todas las combinaciones\n",
    "\n",
    "grid = GridSearchCV(\n",
    "    pipe, param_grid,\n",
    "    scoring=\"f1_macro\",    # métrica que trata todas las clases por igual\n",
    "    #f1 macro es nuestra metrica de evalucacion\n",
    "    cv=5,  # división en 5 partes, la 5 es la que valida\n",
    "    n_jobs=-1  # usa todos los núcleos disponibles para acelerar el proceso\n",
    ")\n",
    "grid.fit(X_train, y_train)\n",
    "\n",
    "print(\"Mejor C:\", grid.best_params_)\n",
    "print(\"Mejor F1_macro:\", round(grid.best_score_, 3))\n",
    "\n",
    "# Evaluación final en TEST con el mejor pipeline\n",
    "best_pipe = grid.best_estimator_\n",
    "y_pred_gs = best_pipe.predict(X_test)\n",
    "print(classification_report(y_test, y_pred_gs, digits=3))\n"
   ]
  },
  {
   "cell_type": "markdown",
   "id": "4c16de9f",
   "metadata": {},
   "source": [
    "## 6. Fine-tuning BERT (Hugging Face)\n",
    "\n",
    "> Clasificación de secuencias para ODS 1, 3 y 4 con dos variantes de texto:\n",
    "- Texto crudo (sin limpieza)\n",
    "- Texto limpio (pipeline spaCy/NTLK del cuaderno)\n",
    "\n",
    "Usamos Apple Silicon (MPS) si está disponible. Se reaprovechan `data_t`, `texto_limpio` y `labels`. Además, los modelos y resultados se guardan en `./hf_models/`. "
   ]
  },
  {
   "cell_type": "code",
   "execution_count": null,
   "id": "2c84a225",
   "metadata": {},
   "outputs": [],
   "source": [
    "# Dispositivo (MPS si existe)\n",
    "if torch.backends.mps.is_available():\n",
    "    device = torch.device(\"mps\")\n",
    "else:\n",
    "    device = torch.device(\"cuda\" if torch.cuda.is_available() else \"cpu\")\n",
    "print(\"Usando dispositivo:\", device)"
   ]
  },
  {
   "cell_type": "code",
   "execution_count": null,
   "id": "a36c0183",
   "metadata": {},
   "outputs": [],
   "source": [
    "# Preparar DataFrame base con columnas esperadas\n",
    "# Usamos data_t ya cargado y procesado arriba.\n",
    "df = data_t.copy()\n",
    "assert 'labels' in df.columns, \"No encontramos la columna 'labels' en data_t\"\n",
    "text_col = 'textos' if 'textos' in df.columns else None\n",
    "clean_col = 'texto_limpio' if 'texto_limpio' in df.columns else None\n",
    "assert text_col is not None, \"No encontramos la columna de texto crudo ('textos')\"\n",
    "assert clean_col is not None, \"No encontramos la columna de texto limpio ('texto_limpio')\"\n",
    "\n",
    "# Mapeo de etiquetas a ids ordenados\n",
    "unique_labels = sorted(df['labels'].unique())\n",
    "label2id = {v:i for i,v in enumerate(unique_labels)}\n",
    "id2label = {i:str(v) for v,i in label2id.items()}\n",
    "df['label_id'] = df['labels'].map(label2id)\n",
    "print('label2id:', label2id)"
   ]
  },
  {
   "cell_type": "code",
   "execution_count": null,
   "id": "d6f21d62",
   "metadata": {},
   "outputs": [],
   "source": [
    "# Tokenizador y preprocesamiento de entrada para BERT\n",
    "MODEL_NAME = \"bert-base-multilingual-cased\"  # alternativa: dccuchile/bert-base-spanish-wwm-cased\n",
    "tokenizer = AutoTokenizer.from_pretrained(MODEL_NAME)\n",
    "\n",
    "max_length = 256\n",
    "def preprocess_function(examples):\n",
    "    return tokenizer(examples[\"text\"], truncation=True, padding=False, max_length=max_length)\n",
    "\n",
    "print(\"Tokenizando datasets (raw)...\")\n",
    "hf_train_raw = hf_train_raw.map(preprocess_function, batched=True)\n",
    "hf_test_raw  = hf_test_raw.map(preprocess_function, batched=True)\n",
    "\n",
    "print(\"Tokenizando datasets (clean)...\")\n",
    "hf_train_clean = hf_train_clean.map(preprocess_function, batched=True)\n",
    "hf_test_clean  = hf_test_clean.map(preprocess_function, batched=True)\n",
    "\n",
    "data_collator = DataCollatorWithPadding(tokenizer=tokenizer)\n",
    "\n",
    "accuracy_metric = evaluate.load(\"accuracy\")\n",
    "f1_metric = evaluate.load(\"f1\")\n",
    "\n",
    "def compute_metrics(eval_pred):\n",
    "    logits, labels = eval_pred\n",
    "    preds = np.argmax(logits, axis=1)\n",
    "    acc = accuracy_metric.compute(predictions=preds, references=labels)\n",
    "    f1 = f1_metric.compute(predictions=preds, references=labels, average='weighted')\n",
    "    return {**acc, 'f1_weighted': f1['f1']}"
   ]
  },
  {
   "cell_type": "code",
   "execution_count": null,
   "id": "9d0ac44a",
   "metadata": {},
   "outputs": [],
   "source": [
    "# Tokenizador y preprocesamiento de entrada para BERT\n",
    "MODEL_NAME = \"bert-base-multilingual-cased\"  # alternativa: dccuchile/bert-base-spanish-wwm-cased\n",
    "tokenizer = AutoTokenizer.from_pretrained(MODEL_NAME)\n",
    "\n",
    "max_length = 256\n",
    "def preprocess_function(examples):\n",
    "    return tokenizer(examples[\"text\"], truncation=True, padding=False, max_length=max_length)\n",
    "\n",
    "print(\"Tokenizando datasets (raw)...\")\n",
    "hf_train_raw = hf_train_raw.map(preprocess_function, batched=True)\n",
    "hf_test_raw  = hf_test_raw.map(preprocess_function, batched=True)\n",
    "\n",
    "print(\"Tokenizando datasets (clean)...\")\n",
    "hf_train_clean = hf_train_clean.map(preprocess_function, batched=True)\n",
    "hf_test_clean  = hf_test_clean.map(preprocess_function, batched=True)\n",
    "\n",
    "data_collator = DataCollatorWithPadding(tokenizer=tokenizer)\n",
    "\n",
    "accuracy_metric = evaluate.load(\"accuracy\")\n",
    "f1_metric = evaluate.load(\"f1\")\n",
    "import numpy as np\n",
    "def compute_metrics(eval_pred):\n",
    "    logits, labels = eval_pred\n",
    "    preds = np.argmax(logits, axis=1)\n",
    "    acc = accuracy_metric.compute(predictions=preds, references=labels)\n",
    "    f1 = f1_metric.compute(predictions=preds, references=labels, average='weighted')\n",
    "    return {**acc, 'f1_weighted': f1['f1']}"
   ]
  },
  {
   "cell_type": "code",
   "execution_count": null,
   "id": "ca4422b0",
   "metadata": {},
   "outputs": [],
   "source": [
    "# Función de entrenamiento/evaluación con Trainer\n",
    "def run_experiment(train_dataset, eval_dataset, experiment_name, num_train_epochs=3, per_device_batch=8):\n",
    "    model = AutoModelForSequenceClassification.from_pretrained(\n",
    "        MODEL_NAME,\n",
    "        num_labels=len(label2id),\n",
    "        id2label=id2label,\n",
    "        label2id=label2id,\n",
    "    )\n",
    "    model.to(device)  # explícito en MPS\n",
    "    output_dir = f\"./hf_models/{experiment_name}\"\n",
    "    args = TrainingArguments(\n",
    "        output_dir=output_dir,\n",
    "        evaluation_strategy=\"epoch\",\n",
    "        save_strategy=\"epoch\",\n",
    "        learning_rate=2e-5,\n",
    "        per_device_train_batch_size=per_device_batch,\n",
    "        per_device_eval_batch_size=per_device_batch,\n",
    "        num_train_epochs=num_train_epochs,\n",
    "        weight_decay=0.01,\n",
    "        load_best_model_at_end=True,\n",
    "        metric_for_best_model='f1_weighted',\n",
    "        greater_is_better=True,\n",
    "        fp16=False,\n",
    "        push_to_hub=False,\n",
    "        report_to=[],\n",
    "        logging_steps=50,\n",
    "    )\n",
    "    trainer = Trainer(\n",
    "        model=model,\n",
    "        args=args,\n",
    "        train_dataset=train_dataset,\n",
    "        eval_dataset=eval_dataset,\n",
    "        tokenizer=tokenizer,\n",
    "        data_collator=data_collator,\n",
    "        compute_metrics=compute_metrics,\n",
    "    )\n",
    "    print(f\"Entrenando experimento: {experiment_name}\")\n",
    "    trainer.train()\n",
    "    print(\"Evaluando…\")\n",
    "    metrics = trainer.evaluate(eval_dataset=eval_dataset)\n",
    "    print(metrics)\n",
    "    trainer.save_model(output_dir)\n",
    "    tokenizer.save_pretrained(output_dir)\n",
    "    return metrics"
   ]
  },
  {
   "cell_type": "code",
   "execution_count": null,
   "id": "be178239",
   "metadata": {},
   "outputs": [],
   "source": [
    "# Ejecutar experimentos: texto crudo vs texto limpio\n",
    "import os\n",
    "os.makedirs('./hf_models', exist_ok=True)\n",
    "\n",
    "print(\"=== Experimento 1: RAW ===\")\n",
    "metrics_raw = run_experiment(hf_train_raw, hf_test_raw, experiment_name='bert_raw', num_train_epochs=3, per_device_batch=8)\n",
    "\n",
    "print(\"=== Experimento 2: CLEAN ===\")\n",
    "metrics_clean = run_experiment(hf_train_clean, hf_test_clean, experiment_name='bert_clean', num_train_epochs=3, per_device_batch=8)\n",
    "\n",
    "print(\"Resultados RAW:\\n\", metrics_raw)\n",
    "print(\"Resultados CLEAN:\\n\", metrics_clean)"
   ]
  },
  {
   "cell_type": "code",
   "execution_count": null,
   "id": "5ff2c3a5",
   "metadata": {},
   "outputs": [],
   "source": [
    "# Inferencia rápida con el mejor modelo (ajusta ruta si cambias preferencia)\n",
    "best_model_dir = './hf_models/bert_clean'\n",
    "from pathlib import Path\n",
    "if Path(best_model_dir).exists():\n",
    "    clf_pipe = pipeline('text-classification', model=best_model_dir, tokenizer=best_model_dir, device=0 if str(device).startswith('cuda') else -1)\n",
    "    ejemplos = [\n",
    "        \"Necesitamos mejorar el acceso a la educación básica en zonas rurales.\",\n",
    "        \"Proyecto para construir clínicas y mejorar salud materna.\",\n",
    "        \"Programas de transferencia monetaria para reducir la pobreza extrema.\",\n",
    "    ]\n",
    "    print(clf_pipe(ejemplos))\n",
    "else:\n",
    "    print(f\"No se encontró el directorio de modelo: {best_model_dir}\")"
   ]
  },
  {
   "cell_type": "markdown",
   "id": "5385fc93",
   "metadata": {},
   "source": [
    "# Final\n",
    "\n",
    "| Modelo                 | Accuracy | F1 macro | Observaciones principales |\n",
    "|-------------------------|----------|----------|---------------------------|\n",
    "| **LinearSVC (TF-IDF)**  0.969    | 0.966    | Buen rendimiento, balanceado entre ODS 1, 3 y 4. Mejor C=0.5. |\n",
    "| Naive Bayes                   |     0.970     |      0.968                     | Rendimiento muy bueno y estable. Bigramas y α=0.1 fueron clave. ODS1 tiene un recall ligeramente menor al resto al dejar unos falsos negativos. \n",
    "| Modelo de Mesa                  |          |                           |\n"
   ]
  }
 ],
 "metadata": {
  "kernelspec": {
   "display_name": "Python 3",
   "language": "python",
   "name": "python3"
  },
  "language_info": {
   "codemirror_mode": {
    "name": "ipython",
    "version": 3
   },
   "file_extension": ".py",
   "mimetype": "text/x-python",
   "name": "python",
   "nbconvert_exporter": "python",
   "pygments_lexer": "ipython3",
   "version": "3.11.12"
  }
 },
 "nbformat": 4,
 "nbformat_minor": 5
}
