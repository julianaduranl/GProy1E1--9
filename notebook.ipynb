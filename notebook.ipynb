{
 "cells": [
  {
   "cell_type": "markdown",
   "id": "b3a39300",
   "metadata": {},
   "source": [
    "# Proyecto 1\n",
    "El Fondo de Población de las Naciones Unidas (UNFPA), en el marco de la Agenda 2030, busca \n",
    "aprovechar las opiniones ciudadanas para identificar problemáticas relacionadas con los \n",
    "Objetivos de Desarrollo Sostenible (ODS). En particular, se requiere un sistema capaz de analizar \n",
    "y clasificar textos en tres categorías:\n",
    "\n",
    "- **ODS 1**: Fin de la pobrez\n",
    "- **ODS 3**: Salud y bienestar\n",
    "- **ODS 4**: Educación de calidad\n",
    "\n",
    "El reto consiste en desarrollar un modelo de analítica de textos que reciba como entrada una \n",
    "opinión en lenguaje natural y prediga automáticamente a cuál ODS pertenece. Este modelo \n",
    "debe ser lo suficientemente robusto para manejar textos largos, con ruido (referencias, \n",
    "paréntesis, números) y en español."
   ]
  },
  {
   "cell_type": "markdown",
   "id": "c4ff7786",
   "metadata": {},
   "source": [
    "## 1. Instalación e importanción de librerías.\n"
   ]
  },
  {
   "cell_type": "code",
   "execution_count": 35,
   "id": "03aaeb9d",
   "metadata": {},
   "outputs": [
    {
     "name": "stdout",
     "output_type": "stream",
     "text": [
      "Requirement already satisfied: pandas==2.3.2 in /Users/felipemesa/.pyenv/versions/3.11.11/lib/python3.11/site-packages (from -r requirements.txt (line 1)) (2.3.2)\n",
      "Requirement already satisfied: numpy==1.26.4 in /Users/felipemesa/.pyenv/versions/3.11.11/lib/python3.11/site-packages (from -r requirements.txt (line 2)) (1.26.4)\n",
      "Requirement already satisfied: matplotlib==3.7.2 in /Users/felipemesa/.pyenv/versions/3.11.11/lib/python3.11/site-packages (from -r requirements.txt (line 3)) (3.7.2)\n",
      "Requirement already satisfied: seaborn==0.13.2 in /Users/felipemesa/.pyenv/versions/3.11.11/lib/python3.11/site-packages (from -r requirements.txt (line 4)) (0.13.2)\n",
      "Requirement already satisfied: nltk==3.9.1 in /Users/felipemesa/.pyenv/versions/3.11.11/lib/python3.11/site-packages (from -r requirements.txt (line 5)) (3.9.1)\n",
      "Requirement already satisfied: spacy==3.7.5 in /Users/felipemesa/.pyenv/versions/3.11.11/lib/python3.11/site-packages (from -r requirements.txt (line 6)) (3.7.5)\n",
      "Requirement already satisfied: unidecode==1.4.0 in /Users/felipemesa/.pyenv/versions/3.11.11/lib/python3.11/site-packages (from -r requirements.txt (line 7)) (1.4.0)\n",
      "Requirement already satisfied: scikit-learn==1.4.2 in /Users/felipemesa/.pyenv/versions/3.11.11/lib/python3.11/site-packages (from -r requirements.txt (line 8)) (1.4.2)\n",
      "Requirement already satisfied: torch==2.4.1 in /Users/felipemesa/.pyenv/versions/3.11.11/lib/python3.11/site-packages (from -r requirements.txt (line 9)) (2.4.1)\n",
      "Requirement already satisfied: datasets==2.20.0 in /Users/felipemesa/.pyenv/versions/3.11.11/lib/python3.11/site-packages (from -r requirements.txt (line 10)) (2.20.0)\n",
      "Requirement already satisfied: evaluate==0.4.5 in /Users/felipemesa/.pyenv/versions/3.11.11/lib/python3.11/site-packages (from -r requirements.txt (line 11)) (0.4.5)\n",
      "Requirement already satisfied: transformers==4.44.1 in /Users/felipemesa/.pyenv/versions/3.11.11/lib/python3.11/site-packages (from -r requirements.txt (line 12)) (4.44.1)\n",
      "Requirement already satisfied: openpyxl==3.1.3 in /Users/felipemesa/.pyenv/versions/3.11.11/lib/python3.11/site-packages (from -r requirements.txt (line 13)) (3.1.3)\n",
      "Requirement already satisfied: accelerate==1.10.1 in /Users/felipemesa/.pyenv/versions/3.11.11/lib/python3.11/site-packages (from -r requirements.txt (line 14)) (1.10.1)\n",
      "Requirement already satisfied: python-dateutil>=2.8.2 in /Users/felipemesa/.pyenv/versions/3.11.11/lib/python3.11/site-packages (from pandas==2.3.2->-r requirements.txt (line 1)) (2.9.0.post0)\n",
      "Requirement already satisfied: pytz>=2020.1 in /Users/felipemesa/.pyenv/versions/3.11.11/lib/python3.11/site-packages (from pandas==2.3.2->-r requirements.txt (line 1)) (2025.2)\n",
      "Requirement already satisfied: tzdata>=2022.7 in /Users/felipemesa/.pyenv/versions/3.11.11/lib/python3.11/site-packages (from pandas==2.3.2->-r requirements.txt (line 1)) (2025.2)\n",
      "Requirement already satisfied: contourpy>=1.0.1 in /Users/felipemesa/.pyenv/versions/3.11.11/lib/python3.11/site-packages (from matplotlib==3.7.2->-r requirements.txt (line 3)) (1.3.3)\n",
      "Requirement already satisfied: cycler>=0.10 in /Users/felipemesa/.pyenv/versions/3.11.11/lib/python3.11/site-packages (from matplotlib==3.7.2->-r requirements.txt (line 3)) (0.12.1)\n",
      "Requirement already satisfied: fonttools>=4.22.0 in /Users/felipemesa/.pyenv/versions/3.11.11/lib/python3.11/site-packages (from matplotlib==3.7.2->-r requirements.txt (line 3)) (4.59.2)\n",
      "Requirement already satisfied: kiwisolver>=1.0.1 in /Users/felipemesa/.pyenv/versions/3.11.11/lib/python3.11/site-packages (from matplotlib==3.7.2->-r requirements.txt (line 3)) (1.4.9)\n",
      "Requirement already satisfied: packaging>=20.0 in /Users/felipemesa/.pyenv/versions/3.11.11/lib/python3.11/site-packages (from matplotlib==3.7.2->-r requirements.txt (line 3)) (25.0)\n",
      "Requirement already satisfied: pillow>=6.2.0 in /Users/felipemesa/.pyenv/versions/3.11.11/lib/python3.11/site-packages (from matplotlib==3.7.2->-r requirements.txt (line 3)) (11.3.0)\n",
      "Requirement already satisfied: pyparsing<3.1,>=2.3.1 in /Users/felipemesa/.pyenv/versions/3.11.11/lib/python3.11/site-packages (from matplotlib==3.7.2->-r requirements.txt (line 3)) (3.0.9)\n",
      "Requirement already satisfied: python-dateutil>=2.8.2 in /Users/felipemesa/.pyenv/versions/3.11.11/lib/python3.11/site-packages (from pandas==2.3.2->-r requirements.txt (line 1)) (2.9.0.post0)\n",
      "Requirement already satisfied: pytz>=2020.1 in /Users/felipemesa/.pyenv/versions/3.11.11/lib/python3.11/site-packages (from pandas==2.3.2->-r requirements.txt (line 1)) (2025.2)\n",
      "Requirement already satisfied: tzdata>=2022.7 in /Users/felipemesa/.pyenv/versions/3.11.11/lib/python3.11/site-packages (from pandas==2.3.2->-r requirements.txt (line 1)) (2025.2)\n",
      "Requirement already satisfied: contourpy>=1.0.1 in /Users/felipemesa/.pyenv/versions/3.11.11/lib/python3.11/site-packages (from matplotlib==3.7.2->-r requirements.txt (line 3)) (1.3.3)\n",
      "Requirement already satisfied: cycler>=0.10 in /Users/felipemesa/.pyenv/versions/3.11.11/lib/python3.11/site-packages (from matplotlib==3.7.2->-r requirements.txt (line 3)) (0.12.1)\n",
      "Requirement already satisfied: fonttools>=4.22.0 in /Users/felipemesa/.pyenv/versions/3.11.11/lib/python3.11/site-packages (from matplotlib==3.7.2->-r requirements.txt (line 3)) (4.59.2)\n",
      "Requirement already satisfied: kiwisolver>=1.0.1 in /Users/felipemesa/.pyenv/versions/3.11.11/lib/python3.11/site-packages (from matplotlib==3.7.2->-r requirements.txt (line 3)) (1.4.9)\n",
      "Requirement already satisfied: packaging>=20.0 in /Users/felipemesa/.pyenv/versions/3.11.11/lib/python3.11/site-packages (from matplotlib==3.7.2->-r requirements.txt (line 3)) (25.0)\n",
      "Requirement already satisfied: pillow>=6.2.0 in /Users/felipemesa/.pyenv/versions/3.11.11/lib/python3.11/site-packages (from matplotlib==3.7.2->-r requirements.txt (line 3)) (11.3.0)\n",
      "Requirement already satisfied: pyparsing<3.1,>=2.3.1 in /Users/felipemesa/.pyenv/versions/3.11.11/lib/python3.11/site-packages (from matplotlib==3.7.2->-r requirements.txt (line 3)) (3.0.9)\n",
      "Requirement already satisfied: click in /Users/felipemesa/.pyenv/versions/3.11.11/lib/python3.11/site-packages (from nltk==3.9.1->-r requirements.txt (line 5)) (8.2.1)\n",
      "Requirement already satisfied: joblib in /Users/felipemesa/.pyenv/versions/3.11.11/lib/python3.11/site-packages (from nltk==3.9.1->-r requirements.txt (line 5)) (1.5.2)\n",
      "Requirement already satisfied: regex>=2021.8.3 in /Users/felipemesa/.pyenv/versions/3.11.11/lib/python3.11/site-packages (from nltk==3.9.1->-r requirements.txt (line 5)) (2025.9.1)\n",
      "Requirement already satisfied: tqdm in /Users/felipemesa/.pyenv/versions/3.11.11/lib/python3.11/site-packages (from nltk==3.9.1->-r requirements.txt (line 5)) (4.67.1)\n",
      "Requirement already satisfied: spacy-legacy<3.1.0,>=3.0.11 in /Users/felipemesa/.pyenv/versions/3.11.11/lib/python3.11/site-packages (from spacy==3.7.5->-r requirements.txt (line 6)) (3.0.12)\n",
      "Requirement already satisfied: spacy-loggers<2.0.0,>=1.0.0 in /Users/felipemesa/.pyenv/versions/3.11.11/lib/python3.11/site-packages (from spacy==3.7.5->-r requirements.txt (line 6)) (1.0.5)\n",
      "Requirement already satisfied: murmurhash<1.1.0,>=0.28.0 in /Users/felipemesa/.pyenv/versions/3.11.11/lib/python3.11/site-packages (from spacy==3.7.5->-r requirements.txt (line 6)) (1.0.13)\n",
      "Requirement already satisfied: cymem<2.1.0,>=2.0.2 in /Users/felipemesa/.pyenv/versions/3.11.11/lib/python3.11/site-packages (from spacy==3.7.5->-r requirements.txt (line 6)) (2.0.11)\n",
      "Requirement already satisfied: preshed<3.1.0,>=3.0.2 in /Users/felipemesa/.pyenv/versions/3.11.11/lib/python3.11/site-packages (from spacy==3.7.5->-r requirements.txt (line 6)) (3.0.10)\n",
      "Requirement already satisfied: thinc<8.3.0,>=8.2.2 in /Users/felipemesa/.pyenv/versions/3.11.11/lib/python3.11/site-packages (from spacy==3.7.5->-r requirements.txt (line 6)) (8.2.5)\n",
      "Requirement already satisfied: wasabi<1.2.0,>=0.9.1 in /Users/felipemesa/.pyenv/versions/3.11.11/lib/python3.11/site-packages (from spacy==3.7.5->-r requirements.txt (line 6)) (1.1.3)\n",
      "Requirement already satisfied: srsly<3.0.0,>=2.4.3 in /Users/felipemesa/.pyenv/versions/3.11.11/lib/python3.11/site-packages (from spacy==3.7.5->-r requirements.txt (line 6)) (2.5.1)\n",
      "Requirement already satisfied: catalogue<2.1.0,>=2.0.6 in /Users/felipemesa/.pyenv/versions/3.11.11/lib/python3.11/site-packages (from spacy==3.7.5->-r requirements.txt (line 6)) (2.0.10)\n",
      "Requirement already satisfied: weasel<0.5.0,>=0.1.0 in /Users/felipemesa/.pyenv/versions/3.11.11/lib/python3.11/site-packages (from spacy==3.7.5->-r requirements.txt (line 6)) (0.4.1)\n",
      "Requirement already satisfied: typer<1.0.0,>=0.3.0 in /Users/felipemesa/.pyenv/versions/3.11.11/lib/python3.11/site-packages (from spacy==3.7.5->-r requirements.txt (line 6)) (0.17.4)\n",
      "Requirement already satisfied: requests<3.0.0,>=2.13.0 in /Users/felipemesa/.pyenv/versions/3.11.11/lib/python3.11/site-packages (from spacy==3.7.5->-r requirements.txt (line 6)) (2.32.5)\n",
      "Requirement already satisfied: pydantic!=1.8,!=1.8.1,<3.0.0,>=1.7.4 in /Users/felipemesa/.pyenv/versions/3.11.11/lib/python3.11/site-packages (from spacy==3.7.5->-r requirements.txt (line 6)) (2.11.9)\n",
      "Requirement already satisfied: jinja2 in /Users/felipemesa/.pyenv/versions/3.11.11/lib/python3.11/site-packages (from spacy==3.7.5->-r requirements.txt (line 6)) (3.1.6)\n",
      "Requirement already satisfied: setuptools in /Users/felipemesa/.pyenv/versions/3.11.11/lib/python3.11/site-packages (from spacy==3.7.5->-r requirements.txt (line 6)) (65.5.0)\n",
      "Requirement already satisfied: langcodes<4.0.0,>=3.2.0 in /Users/felipemesa/.pyenv/versions/3.11.11/lib/python3.11/site-packages (from spacy==3.7.5->-r requirements.txt (line 6)) (3.5.0)\n",
      "Requirement already satisfied: click in /Users/felipemesa/.pyenv/versions/3.11.11/lib/python3.11/site-packages (from nltk==3.9.1->-r requirements.txt (line 5)) (8.2.1)\n",
      "Requirement already satisfied: joblib in /Users/felipemesa/.pyenv/versions/3.11.11/lib/python3.11/site-packages (from nltk==3.9.1->-r requirements.txt (line 5)) (1.5.2)\n",
      "Requirement already satisfied: regex>=2021.8.3 in /Users/felipemesa/.pyenv/versions/3.11.11/lib/python3.11/site-packages (from nltk==3.9.1->-r requirements.txt (line 5)) (2025.9.1)\n",
      "Requirement already satisfied: tqdm in /Users/felipemesa/.pyenv/versions/3.11.11/lib/python3.11/site-packages (from nltk==3.9.1->-r requirements.txt (line 5)) (4.67.1)\n",
      "Requirement already satisfied: spacy-legacy<3.1.0,>=3.0.11 in /Users/felipemesa/.pyenv/versions/3.11.11/lib/python3.11/site-packages (from spacy==3.7.5->-r requirements.txt (line 6)) (3.0.12)\n",
      "Requirement already satisfied: spacy-loggers<2.0.0,>=1.0.0 in /Users/felipemesa/.pyenv/versions/3.11.11/lib/python3.11/site-packages (from spacy==3.7.5->-r requirements.txt (line 6)) (1.0.5)\n",
      "Requirement already satisfied: murmurhash<1.1.0,>=0.28.0 in /Users/felipemesa/.pyenv/versions/3.11.11/lib/python3.11/site-packages (from spacy==3.7.5->-r requirements.txt (line 6)) (1.0.13)\n",
      "Requirement already satisfied: cymem<2.1.0,>=2.0.2 in /Users/felipemesa/.pyenv/versions/3.11.11/lib/python3.11/site-packages (from spacy==3.7.5->-r requirements.txt (line 6)) (2.0.11)\n",
      "Requirement already satisfied: preshed<3.1.0,>=3.0.2 in /Users/felipemesa/.pyenv/versions/3.11.11/lib/python3.11/site-packages (from spacy==3.7.5->-r requirements.txt (line 6)) (3.0.10)\n",
      "Requirement already satisfied: thinc<8.3.0,>=8.2.2 in /Users/felipemesa/.pyenv/versions/3.11.11/lib/python3.11/site-packages (from spacy==3.7.5->-r requirements.txt (line 6)) (8.2.5)\n",
      "Requirement already satisfied: wasabi<1.2.0,>=0.9.1 in /Users/felipemesa/.pyenv/versions/3.11.11/lib/python3.11/site-packages (from spacy==3.7.5->-r requirements.txt (line 6)) (1.1.3)\n",
      "Requirement already satisfied: srsly<3.0.0,>=2.4.3 in /Users/felipemesa/.pyenv/versions/3.11.11/lib/python3.11/site-packages (from spacy==3.7.5->-r requirements.txt (line 6)) (2.5.1)\n",
      "Requirement already satisfied: catalogue<2.1.0,>=2.0.6 in /Users/felipemesa/.pyenv/versions/3.11.11/lib/python3.11/site-packages (from spacy==3.7.5->-r requirements.txt (line 6)) (2.0.10)\n",
      "Requirement already satisfied: weasel<0.5.0,>=0.1.0 in /Users/felipemesa/.pyenv/versions/3.11.11/lib/python3.11/site-packages (from spacy==3.7.5->-r requirements.txt (line 6)) (0.4.1)\n",
      "Requirement already satisfied: typer<1.0.0,>=0.3.0 in /Users/felipemesa/.pyenv/versions/3.11.11/lib/python3.11/site-packages (from spacy==3.7.5->-r requirements.txt (line 6)) (0.17.4)\n",
      "Requirement already satisfied: requests<3.0.0,>=2.13.0 in /Users/felipemesa/.pyenv/versions/3.11.11/lib/python3.11/site-packages (from spacy==3.7.5->-r requirements.txt (line 6)) (2.32.5)\n",
      "Requirement already satisfied: pydantic!=1.8,!=1.8.1,<3.0.0,>=1.7.4 in /Users/felipemesa/.pyenv/versions/3.11.11/lib/python3.11/site-packages (from spacy==3.7.5->-r requirements.txt (line 6)) (2.11.9)\n",
      "Requirement already satisfied: jinja2 in /Users/felipemesa/.pyenv/versions/3.11.11/lib/python3.11/site-packages (from spacy==3.7.5->-r requirements.txt (line 6)) (3.1.6)\n",
      "Requirement already satisfied: setuptools in /Users/felipemesa/.pyenv/versions/3.11.11/lib/python3.11/site-packages (from spacy==3.7.5->-r requirements.txt (line 6)) (65.5.0)\n",
      "Requirement already satisfied: langcodes<4.0.0,>=3.2.0 in /Users/felipemesa/.pyenv/versions/3.11.11/lib/python3.11/site-packages (from spacy==3.7.5->-r requirements.txt (line 6)) (3.5.0)\n",
      "Requirement already satisfied: scipy>=1.6.0 in /Users/felipemesa/.pyenv/versions/3.11.11/lib/python3.11/site-packages (from scikit-learn==1.4.2->-r requirements.txt (line 8)) (1.16.2)\n",
      "Requirement already satisfied: threadpoolctl>=2.0.0 in /Users/felipemesa/.pyenv/versions/3.11.11/lib/python3.11/site-packages (from scikit-learn==1.4.2->-r requirements.txt (line 8)) (3.6.0)\n",
      "Requirement already satisfied: filelock in /Users/felipemesa/.pyenv/versions/3.11.11/lib/python3.11/site-packages (from torch==2.4.1->-r requirements.txt (line 9)) (3.19.1)\n",
      "Requirement already satisfied: typing-extensions>=4.8.0 in /Users/felipemesa/.pyenv/versions/3.11.11/lib/python3.11/site-packages (from torch==2.4.1->-r requirements.txt (line 9)) (4.15.0)\n",
      "Requirement already satisfied: sympy in /Users/felipemesa/.pyenv/versions/3.11.11/lib/python3.11/site-packages (from torch==2.4.1->-r requirements.txt (line 9)) (1.14.0)\n",
      "Requirement already satisfied: networkx in /Users/felipemesa/.pyenv/versions/3.11.11/lib/python3.11/site-packages (from torch==2.4.1->-r requirements.txt (line 9)) (3.5)\n",
      "Requirement already satisfied: fsspec in /Users/felipemesa/.pyenv/versions/3.11.11/lib/python3.11/site-packages (from torch==2.4.1->-r requirements.txt (line 9)) (2024.5.0)\n",
      "Requirement already satisfied: scipy>=1.6.0 in /Users/felipemesa/.pyenv/versions/3.11.11/lib/python3.11/site-packages (from scikit-learn==1.4.2->-r requirements.txt (line 8)) (1.16.2)\n",
      "Requirement already satisfied: threadpoolctl>=2.0.0 in /Users/felipemesa/.pyenv/versions/3.11.11/lib/python3.11/site-packages (from scikit-learn==1.4.2->-r requirements.txt (line 8)) (3.6.0)\n",
      "Requirement already satisfied: filelock in /Users/felipemesa/.pyenv/versions/3.11.11/lib/python3.11/site-packages (from torch==2.4.1->-r requirements.txt (line 9)) (3.19.1)\n",
      "Requirement already satisfied: typing-extensions>=4.8.0 in /Users/felipemesa/.pyenv/versions/3.11.11/lib/python3.11/site-packages (from torch==2.4.1->-r requirements.txt (line 9)) (4.15.0)\n",
      "Requirement already satisfied: sympy in /Users/felipemesa/.pyenv/versions/3.11.11/lib/python3.11/site-packages (from torch==2.4.1->-r requirements.txt (line 9)) (1.14.0)\n",
      "Requirement already satisfied: networkx in /Users/felipemesa/.pyenv/versions/3.11.11/lib/python3.11/site-packages (from torch==2.4.1->-r requirements.txt (line 9)) (3.5)\n",
      "Requirement already satisfied: fsspec in /Users/felipemesa/.pyenv/versions/3.11.11/lib/python3.11/site-packages (from torch==2.4.1->-r requirements.txt (line 9)) (2024.5.0)\n",
      "Requirement already satisfied: pyarrow>=15.0.0 in /Users/felipemesa/.pyenv/versions/3.11.11/lib/python3.11/site-packages (from datasets==2.20.0->-r requirements.txt (line 10)) (21.0.0)\n",
      "Requirement already satisfied: pyarrow-hotfix in /Users/felipemesa/.pyenv/versions/3.11.11/lib/python3.11/site-packages (from datasets==2.20.0->-r requirements.txt (line 10)) (0.7)\n",
      "Requirement already satisfied: dill<0.3.9,>=0.3.0 in /Users/felipemesa/.pyenv/versions/3.11.11/lib/python3.11/site-packages (from datasets==2.20.0->-r requirements.txt (line 10)) (0.3.8)\n",
      "Requirement already satisfied: xxhash in /Users/felipemesa/.pyenv/versions/3.11.11/lib/python3.11/site-packages (from datasets==2.20.0->-r requirements.txt (line 10)) (3.5.0)\n",
      "Requirement already satisfied: multiprocess in /Users/felipemesa/.pyenv/versions/3.11.11/lib/python3.11/site-packages (from datasets==2.20.0->-r requirements.txt (line 10)) (0.70.16)\n",
      "Requirement already satisfied: aiohttp in /Users/felipemesa/.pyenv/versions/3.11.11/lib/python3.11/site-packages (from datasets==2.20.0->-r requirements.txt (line 10)) (3.12.15)\n",
      "Requirement already satisfied: huggingface-hub>=0.21.2 in /Users/felipemesa/.pyenv/versions/3.11.11/lib/python3.11/site-packages (from datasets==2.20.0->-r requirements.txt (line 10)) (0.34.4)\n",
      "Requirement already satisfied: pyyaml>=5.1 in /Users/felipemesa/.pyenv/versions/3.11.11/lib/python3.11/site-packages (from datasets==2.20.0->-r requirements.txt (line 10)) (6.0.2)\n",
      "Requirement already satisfied: pyarrow>=15.0.0 in /Users/felipemesa/.pyenv/versions/3.11.11/lib/python3.11/site-packages (from datasets==2.20.0->-r requirements.txt (line 10)) (21.0.0)\n",
      "Requirement already satisfied: pyarrow-hotfix in /Users/felipemesa/.pyenv/versions/3.11.11/lib/python3.11/site-packages (from datasets==2.20.0->-r requirements.txt (line 10)) (0.7)\n",
      "Requirement already satisfied: dill<0.3.9,>=0.3.0 in /Users/felipemesa/.pyenv/versions/3.11.11/lib/python3.11/site-packages (from datasets==2.20.0->-r requirements.txt (line 10)) (0.3.8)\n",
      "Requirement already satisfied: xxhash in /Users/felipemesa/.pyenv/versions/3.11.11/lib/python3.11/site-packages (from datasets==2.20.0->-r requirements.txt (line 10)) (3.5.0)\n",
      "Requirement already satisfied: multiprocess in /Users/felipemesa/.pyenv/versions/3.11.11/lib/python3.11/site-packages (from datasets==2.20.0->-r requirements.txt (line 10)) (0.70.16)\n",
      "Requirement already satisfied: aiohttp in /Users/felipemesa/.pyenv/versions/3.11.11/lib/python3.11/site-packages (from datasets==2.20.0->-r requirements.txt (line 10)) (3.12.15)\n",
      "Requirement already satisfied: huggingface-hub>=0.21.2 in /Users/felipemesa/.pyenv/versions/3.11.11/lib/python3.11/site-packages (from datasets==2.20.0->-r requirements.txt (line 10)) (0.34.4)\n",
      "Requirement already satisfied: pyyaml>=5.1 in /Users/felipemesa/.pyenv/versions/3.11.11/lib/python3.11/site-packages (from datasets==2.20.0->-r requirements.txt (line 10)) (6.0.2)\n",
      "Requirement already satisfied: safetensors>=0.4.1 in /Users/felipemesa/.pyenv/versions/3.11.11/lib/python3.11/site-packages (from transformers==4.44.1->-r requirements.txt (line 12)) (0.6.2)\n",
      "Requirement already satisfied: tokenizers<0.20,>=0.19 in /Users/felipemesa/.pyenv/versions/3.11.11/lib/python3.11/site-packages (from transformers==4.44.1->-r requirements.txt (line 12)) (0.19.1)\n",
      "Requirement already satisfied: et-xmlfile in /Users/felipemesa/.pyenv/versions/3.11.11/lib/python3.11/site-packages (from openpyxl==3.1.3->-r requirements.txt (line 13)) (2.0.0)\n",
      "Requirement already satisfied: safetensors>=0.4.1 in /Users/felipemesa/.pyenv/versions/3.11.11/lib/python3.11/site-packages (from transformers==4.44.1->-r requirements.txt (line 12)) (0.6.2)\n",
      "Requirement already satisfied: tokenizers<0.20,>=0.19 in /Users/felipemesa/.pyenv/versions/3.11.11/lib/python3.11/site-packages (from transformers==4.44.1->-r requirements.txt (line 12)) (0.19.1)\n",
      "Requirement already satisfied: et-xmlfile in /Users/felipemesa/.pyenv/versions/3.11.11/lib/python3.11/site-packages (from openpyxl==3.1.3->-r requirements.txt (line 13)) (2.0.0)\n",
      "Requirement already satisfied: psutil in /Users/felipemesa/.pyenv/versions/3.11.11/lib/python3.11/site-packages (from accelerate==1.10.1->-r requirements.txt (line 14)) (7.0.0)\n",
      "Requirement already satisfied: psutil in /Users/felipemesa/.pyenv/versions/3.11.11/lib/python3.11/site-packages (from accelerate==1.10.1->-r requirements.txt (line 14)) (7.0.0)\n",
      "Requirement already satisfied: aiohappyeyeballs>=2.5.0 in /Users/felipemesa/.pyenv/versions/3.11.11/lib/python3.11/site-packages (from aiohttp->datasets==2.20.0->-r requirements.txt (line 10)) (2.6.1)\n",
      "Requirement already satisfied: aiosignal>=1.4.0 in /Users/felipemesa/.pyenv/versions/3.11.11/lib/python3.11/site-packages (from aiohttp->datasets==2.20.0->-r requirements.txt (line 10)) (1.4.0)\n",
      "Requirement already satisfied: attrs>=17.3.0 in /Users/felipemesa/.pyenv/versions/3.11.11/lib/python3.11/site-packages (from aiohttp->datasets==2.20.0->-r requirements.txt (line 10)) (25.3.0)\n",
      "Requirement already satisfied: frozenlist>=1.1.1 in /Users/felipemesa/.pyenv/versions/3.11.11/lib/python3.11/site-packages (from aiohttp->datasets==2.20.0->-r requirements.txt (line 10)) (1.7.0)\n",
      "Requirement already satisfied: multidict<7.0,>=4.5 in /Users/felipemesa/.pyenv/versions/3.11.11/lib/python3.11/site-packages (from aiohttp->datasets==2.20.0->-r requirements.txt (line 10)) (6.6.4)\n",
      "Requirement already satisfied: propcache>=0.2.0 in /Users/felipemesa/.pyenv/versions/3.11.11/lib/python3.11/site-packages (from aiohttp->datasets==2.20.0->-r requirements.txt (line 10)) (0.3.2)\n",
      "Requirement already satisfied: yarl<2.0,>=1.17.0 in /Users/felipemesa/.pyenv/versions/3.11.11/lib/python3.11/site-packages (from aiohttp->datasets==2.20.0->-r requirements.txt (line 10)) (1.20.1)\n",
      "Requirement already satisfied: aiohappyeyeballs>=2.5.0 in /Users/felipemesa/.pyenv/versions/3.11.11/lib/python3.11/site-packages (from aiohttp->datasets==2.20.0->-r requirements.txt (line 10)) (2.6.1)\n",
      "Requirement already satisfied: aiosignal>=1.4.0 in /Users/felipemesa/.pyenv/versions/3.11.11/lib/python3.11/site-packages (from aiohttp->datasets==2.20.0->-r requirements.txt (line 10)) (1.4.0)\n",
      "Requirement already satisfied: attrs>=17.3.0 in /Users/felipemesa/.pyenv/versions/3.11.11/lib/python3.11/site-packages (from aiohttp->datasets==2.20.0->-r requirements.txt (line 10)) (25.3.0)\n",
      "Requirement already satisfied: frozenlist>=1.1.1 in /Users/felipemesa/.pyenv/versions/3.11.11/lib/python3.11/site-packages (from aiohttp->datasets==2.20.0->-r requirements.txt (line 10)) (1.7.0)\n",
      "Requirement already satisfied: multidict<7.0,>=4.5 in /Users/felipemesa/.pyenv/versions/3.11.11/lib/python3.11/site-packages (from aiohttp->datasets==2.20.0->-r requirements.txt (line 10)) (6.6.4)\n",
      "Requirement already satisfied: propcache>=0.2.0 in /Users/felipemesa/.pyenv/versions/3.11.11/lib/python3.11/site-packages (from aiohttp->datasets==2.20.0->-r requirements.txt (line 10)) (0.3.2)\n",
      "Requirement already satisfied: yarl<2.0,>=1.17.0 in /Users/felipemesa/.pyenv/versions/3.11.11/lib/python3.11/site-packages (from aiohttp->datasets==2.20.0->-r requirements.txt (line 10)) (1.20.1)\n",
      "Requirement already satisfied: hf-xet<2.0.0,>=1.1.3 in /Users/felipemesa/.pyenv/versions/3.11.11/lib/python3.11/site-packages (from huggingface-hub>=0.21.2->datasets==2.20.0->-r requirements.txt (line 10)) (1.1.10)\n",
      "Requirement already satisfied: language-data>=1.2 in /Users/felipemesa/.pyenv/versions/3.11.11/lib/python3.11/site-packages (from langcodes<4.0.0,>=3.2.0->spacy==3.7.5->-r requirements.txt (line 6)) (1.3.0)\n",
      "Requirement already satisfied: annotated-types>=0.6.0 in /Users/felipemesa/.pyenv/versions/3.11.11/lib/python3.11/site-packages (from pydantic!=1.8,!=1.8.1,<3.0.0,>=1.7.4->spacy==3.7.5->-r requirements.txt (line 6)) (0.7.0)\n",
      "Requirement already satisfied: pydantic-core==2.33.2 in /Users/felipemesa/.pyenv/versions/3.11.11/lib/python3.11/site-packages (from pydantic!=1.8,!=1.8.1,<3.0.0,>=1.7.4->spacy==3.7.5->-r requirements.txt (line 6)) (2.33.2)\n",
      "Requirement already satisfied: typing-inspection>=0.4.0 in /Users/felipemesa/.pyenv/versions/3.11.11/lib/python3.11/site-packages (from pydantic!=1.8,!=1.8.1,<3.0.0,>=1.7.4->spacy==3.7.5->-r requirements.txt (line 6)) (0.4.1)\n",
      "Requirement already satisfied: hf-xet<2.0.0,>=1.1.3 in /Users/felipemesa/.pyenv/versions/3.11.11/lib/python3.11/site-packages (from huggingface-hub>=0.21.2->datasets==2.20.0->-r requirements.txt (line 10)) (1.1.10)\n",
      "Requirement already satisfied: language-data>=1.2 in /Users/felipemesa/.pyenv/versions/3.11.11/lib/python3.11/site-packages (from langcodes<4.0.0,>=3.2.0->spacy==3.7.5->-r requirements.txt (line 6)) (1.3.0)\n",
      "Requirement already satisfied: annotated-types>=0.6.0 in /Users/felipemesa/.pyenv/versions/3.11.11/lib/python3.11/site-packages (from pydantic!=1.8,!=1.8.1,<3.0.0,>=1.7.4->spacy==3.7.5->-r requirements.txt (line 6)) (0.7.0)\n",
      "Requirement already satisfied: pydantic-core==2.33.2 in /Users/felipemesa/.pyenv/versions/3.11.11/lib/python3.11/site-packages (from pydantic!=1.8,!=1.8.1,<3.0.0,>=1.7.4->spacy==3.7.5->-r requirements.txt (line 6)) (2.33.2)\n",
      "Requirement already satisfied: typing-inspection>=0.4.0 in /Users/felipemesa/.pyenv/versions/3.11.11/lib/python3.11/site-packages (from pydantic!=1.8,!=1.8.1,<3.0.0,>=1.7.4->spacy==3.7.5->-r requirements.txt (line 6)) (0.4.1)\n",
      "Requirement already satisfied: six>=1.5 in /Users/felipemesa/.pyenv/versions/3.11.11/lib/python3.11/site-packages (from python-dateutil>=2.8.2->pandas==2.3.2->-r requirements.txt (line 1)) (1.17.0)\n",
      "Requirement already satisfied: charset_normalizer<4,>=2 in /Users/felipemesa/.pyenv/versions/3.11.11/lib/python3.11/site-packages (from requests<3.0.0,>=2.13.0->spacy==3.7.5->-r requirements.txt (line 6)) (3.4.3)\n",
      "Requirement already satisfied: idna<4,>=2.5 in /Users/felipemesa/.pyenv/versions/3.11.11/lib/python3.11/site-packages (from requests<3.0.0,>=2.13.0->spacy==3.7.5->-r requirements.txt (line 6)) (3.10)\n",
      "Requirement already satisfied: urllib3<3,>=1.21.1 in /Users/felipemesa/.pyenv/versions/3.11.11/lib/python3.11/site-packages (from requests<3.0.0,>=2.13.0->spacy==3.7.5->-r requirements.txt (line 6)) (2.5.0)\n",
      "Requirement already satisfied: certifi>=2017.4.17 in /Users/felipemesa/.pyenv/versions/3.11.11/lib/python3.11/site-packages (from requests<3.0.0,>=2.13.0->spacy==3.7.5->-r requirements.txt (line 6)) (2025.8.3)\n",
      "Requirement already satisfied: six>=1.5 in /Users/felipemesa/.pyenv/versions/3.11.11/lib/python3.11/site-packages (from python-dateutil>=2.8.2->pandas==2.3.2->-r requirements.txt (line 1)) (1.17.0)\n",
      "Requirement already satisfied: charset_normalizer<4,>=2 in /Users/felipemesa/.pyenv/versions/3.11.11/lib/python3.11/site-packages (from requests<3.0.0,>=2.13.0->spacy==3.7.5->-r requirements.txt (line 6)) (3.4.3)\n",
      "Requirement already satisfied: idna<4,>=2.5 in /Users/felipemesa/.pyenv/versions/3.11.11/lib/python3.11/site-packages (from requests<3.0.0,>=2.13.0->spacy==3.7.5->-r requirements.txt (line 6)) (3.10)\n",
      "Requirement already satisfied: urllib3<3,>=1.21.1 in /Users/felipemesa/.pyenv/versions/3.11.11/lib/python3.11/site-packages (from requests<3.0.0,>=2.13.0->spacy==3.7.5->-r requirements.txt (line 6)) (2.5.0)\n",
      "Requirement already satisfied: certifi>=2017.4.17 in /Users/felipemesa/.pyenv/versions/3.11.11/lib/python3.11/site-packages (from requests<3.0.0,>=2.13.0->spacy==3.7.5->-r requirements.txt (line 6)) (2025.8.3)\n",
      "Requirement already satisfied: blis<0.8.0,>=0.7.8 in /Users/felipemesa/.pyenv/versions/3.11.11/lib/python3.11/site-packages (from thinc<8.3.0,>=8.2.2->spacy==3.7.5->-r requirements.txt (line 6)) (0.7.11)\n",
      "Requirement already satisfied: confection<1.0.0,>=0.0.1 in /Users/felipemesa/.pyenv/versions/3.11.11/lib/python3.11/site-packages (from thinc<8.3.0,>=8.2.2->spacy==3.7.5->-r requirements.txt (line 6)) (0.1.5)\n",
      "Requirement already satisfied: shellingham>=1.3.0 in /Users/felipemesa/.pyenv/versions/3.11.11/lib/python3.11/site-packages (from typer<1.0.0,>=0.3.0->spacy==3.7.5->-r requirements.txt (line 6)) (1.5.4)\n",
      "Requirement already satisfied: blis<0.8.0,>=0.7.8 in /Users/felipemesa/.pyenv/versions/3.11.11/lib/python3.11/site-packages (from thinc<8.3.0,>=8.2.2->spacy==3.7.5->-r requirements.txt (line 6)) (0.7.11)\n",
      "Requirement already satisfied: confection<1.0.0,>=0.0.1 in /Users/felipemesa/.pyenv/versions/3.11.11/lib/python3.11/site-packages (from thinc<8.3.0,>=8.2.2->spacy==3.7.5->-r requirements.txt (line 6)) (0.1.5)\n",
      "Requirement already satisfied: shellingham>=1.3.0 in /Users/felipemesa/.pyenv/versions/3.11.11/lib/python3.11/site-packages (from typer<1.0.0,>=0.3.0->spacy==3.7.5->-r requirements.txt (line 6)) (1.5.4)\n",
      "Requirement already satisfied: rich>=10.11.0 in /Users/felipemesa/.pyenv/versions/3.11.11/lib/python3.11/site-packages (from typer<1.0.0,>=0.3.0->spacy==3.7.5->-r requirements.txt (line 6)) (14.1.0)\n",
      "Requirement already satisfied: rich>=10.11.0 in /Users/felipemesa/.pyenv/versions/3.11.11/lib/python3.11/site-packages (from typer<1.0.0,>=0.3.0->spacy==3.7.5->-r requirements.txt (line 6)) (14.1.0)\n",
      "Requirement already satisfied: cloudpathlib<1.0.0,>=0.7.0 in /Users/felipemesa/.pyenv/versions/3.11.11/lib/python3.11/site-packages (from weasel<0.5.0,>=0.1.0->spacy==3.7.5->-r requirements.txt (line 6)) (0.22.0)\n",
      "Requirement already satisfied: smart-open<8.0.0,>=5.2.1 in /Users/felipemesa/.pyenv/versions/3.11.11/lib/python3.11/site-packages (from weasel<0.5.0,>=0.1.0->spacy==3.7.5->-r requirements.txt (line 6)) (7.3.1)\n",
      "Requirement already satisfied: MarkupSafe>=2.0 in /Users/felipemesa/.pyenv/versions/3.11.11/lib/python3.11/site-packages (from jinja2->spacy==3.7.5->-r requirements.txt (line 6)) (3.0.2)\n",
      "Requirement already satisfied: cloudpathlib<1.0.0,>=0.7.0 in /Users/felipemesa/.pyenv/versions/3.11.11/lib/python3.11/site-packages (from weasel<0.5.0,>=0.1.0->spacy==3.7.5->-r requirements.txt (line 6)) (0.22.0)\n",
      "Requirement already satisfied: smart-open<8.0.0,>=5.2.1 in /Users/felipemesa/.pyenv/versions/3.11.11/lib/python3.11/site-packages (from weasel<0.5.0,>=0.1.0->spacy==3.7.5->-r requirements.txt (line 6)) (7.3.1)\n",
      "Requirement already satisfied: MarkupSafe>=2.0 in /Users/felipemesa/.pyenv/versions/3.11.11/lib/python3.11/site-packages (from jinja2->spacy==3.7.5->-r requirements.txt (line 6)) (3.0.2)\n",
      "Requirement already satisfied: mpmath<1.4,>=1.1.0 in /Users/felipemesa/.pyenv/versions/3.11.11/lib/python3.11/site-packages (from sympy->torch==2.4.1->-r requirements.txt (line 9)) (1.3.0)\n",
      "Requirement already satisfied: mpmath<1.4,>=1.1.0 in /Users/felipemesa/.pyenv/versions/3.11.11/lib/python3.11/site-packages (from sympy->torch==2.4.1->-r requirements.txt (line 9)) (1.3.0)\n",
      "Requirement already satisfied: marisa-trie>=1.1.0 in /Users/felipemesa/.pyenv/versions/3.11.11/lib/python3.11/site-packages (from language-data>=1.2->langcodes<4.0.0,>=3.2.0->spacy==3.7.5->-r requirements.txt (line 6)) (1.3.1)\n",
      "Requirement already satisfied: markdown-it-py>=2.2.0 in /Users/felipemesa/.pyenv/versions/3.11.11/lib/python3.11/site-packages (from rich>=10.11.0->typer<1.0.0,>=0.3.0->spacy==3.7.5->-r requirements.txt (line 6)) (4.0.0)\n",
      "Requirement already satisfied: pygments<3.0.0,>=2.13.0 in /Users/felipemesa/.pyenv/versions/3.11.11/lib/python3.11/site-packages (from rich>=10.11.0->typer<1.0.0,>=0.3.0->spacy==3.7.5->-r requirements.txt (line 6)) (2.19.2)\n",
      "Requirement already satisfied: wrapt in /Users/felipemesa/.pyenv/versions/3.11.11/lib/python3.11/site-packages (from smart-open<8.0.0,>=5.2.1->weasel<0.5.0,>=0.1.0->spacy==3.7.5->-r requirements.txt (line 6)) (1.17.3)\n",
      "Requirement already satisfied: marisa-trie>=1.1.0 in /Users/felipemesa/.pyenv/versions/3.11.11/lib/python3.11/site-packages (from language-data>=1.2->langcodes<4.0.0,>=3.2.0->spacy==3.7.5->-r requirements.txt (line 6)) (1.3.1)\n",
      "Requirement already satisfied: markdown-it-py>=2.2.0 in /Users/felipemesa/.pyenv/versions/3.11.11/lib/python3.11/site-packages (from rich>=10.11.0->typer<1.0.0,>=0.3.0->spacy==3.7.5->-r requirements.txt (line 6)) (4.0.0)\n",
      "Requirement already satisfied: pygments<3.0.0,>=2.13.0 in /Users/felipemesa/.pyenv/versions/3.11.11/lib/python3.11/site-packages (from rich>=10.11.0->typer<1.0.0,>=0.3.0->spacy==3.7.5->-r requirements.txt (line 6)) (2.19.2)\n",
      "Requirement already satisfied: wrapt in /Users/felipemesa/.pyenv/versions/3.11.11/lib/python3.11/site-packages (from smart-open<8.0.0,>=5.2.1->weasel<0.5.0,>=0.1.0->spacy==3.7.5->-r requirements.txt (line 6)) (1.17.3)\n",
      "Requirement already satisfied: mdurl~=0.1 in /Users/felipemesa/.pyenv/versions/3.11.11/lib/python3.11/site-packages (from markdown-it-py>=2.2.0->rich>=10.11.0->typer<1.0.0,>=0.3.0->spacy==3.7.5->-r requirements.txt (line 6)) (0.1.2)\n",
      "Requirement already satisfied: mdurl~=0.1 in /Users/felipemesa/.pyenv/versions/3.11.11/lib/python3.11/site-packages (from markdown-it-py>=2.2.0->rich>=10.11.0->typer<1.0.0,>=0.3.0->spacy==3.7.5->-r requirements.txt (line 6)) (0.1.2)\n",
      "\n",
      "\u001b[1m[\u001b[0m\u001b[34;49mnotice\u001b[0m\u001b[1;39;49m]\u001b[0m\u001b[39;49m A new release of pip is available: \u001b[0m\u001b[31;49m24.0\u001b[0m\u001b[39;49m -> \u001b[0m\u001b[32;49m25.2\u001b[0m\n",
      "\u001b[1m[\u001b[0m\u001b[34;49mnotice\u001b[0m\u001b[1;39;49m]\u001b[0m\u001b[39;49m To update, run: \u001b[0m\u001b[32;49mpip install --upgrade pip\u001b[0m\n",
      "\n",
      "\u001b[1m[\u001b[0m\u001b[34;49mnotice\u001b[0m\u001b[1;39;49m]\u001b[0m\u001b[39;49m A new release of pip is available: \u001b[0m\u001b[31;49m24.0\u001b[0m\u001b[39;49m -> \u001b[0m\u001b[32;49m25.2\u001b[0m\n",
      "\u001b[1m[\u001b[0m\u001b[34;49mnotice\u001b[0m\u001b[1;39;49m]\u001b[0m\u001b[39;49m To update, run: \u001b[0m\u001b[32;49mpip install --upgrade pip\u001b[0m\n"
     ]
    }
   ],
   "source": [
    "!pip install -r requirements.txt"
   ]
  },
  {
   "cell_type": "code",
   "execution_count": 36,
   "id": "31bac332",
   "metadata": {},
   "outputs": [
    {
     "name": "stdout",
     "output_type": "stream",
     "text": [
      "Collecting es-core-news-md==3.7.0\n",
      "  Downloading https://github.com/explosion/spacy-models/releases/download/es_core_news_md-3.7.0/es_core_news_md-3.7.0-py3-none-any.whl (42.3 MB)\n",
      "\u001b[2K     \u001b[90m━━━━━━━━━━━━━━━━━━━━━━━━━━━━━━━━━━━━━━━━\u001b[0m \u001b[32m0.4/42.3 MB\u001b[0m \u001b[31m9.3 MB/s\u001b[0m eta \u001b[36m0:00:05\u001b[0m  Downloading https://github.com/explosion/spacy-models/releases/download/es_core_news_md-3.7.0/es_core_news_md-3.7.0-py3-none-any.whl (42.3 MB)\n",
      "\u001b[2K     \u001b[90m━━━━━━━━━━━━━━━━━━━━━━━━━━━━━━━━━━━━━━━━\u001b[0m \u001b[32m42.3/42.3 MB\u001b[0m \u001b[31m10.9 MB/s\u001b[0m eta \u001b[36m0:00:00\u001b[0m00:01\u001b[0m00:01\u001b[0m\n",
      "\u001b[?25hRequirement already satisfied: spacy<3.8.0,>=3.7.0 in /Users/felipemesa/.pyenv/versions/3.11.11/lib/python3.11/site-packages (from es-core-news-md==3.7.0) (3.7.5)\n",
      "\u001b[2K     \u001b[90m━━━━━━━━━━━━━━━━━━━━━━━━━━━━━━━━━━━━━━━━\u001b[0m \u001b[32m42.3/42.3 MB\u001b[0m \u001b[31m10.9 MB/s\u001b[0m eta \u001b[36m0:00:00\u001b[0m\n",
      "\u001b[?25hRequirement already satisfied: spacy<3.8.0,>=3.7.0 in /Users/felipemesa/.pyenv/versions/3.11.11/lib/python3.11/site-packages (from es-core-news-md==3.7.0) (3.7.5)\n",
      "Requirement already satisfied: spacy-legacy<3.1.0,>=3.0.11 in /Users/felipemesa/.pyenv/versions/3.11.11/lib/python3.11/site-packages (from spacy<3.8.0,>=3.7.0->es-core-news-md==3.7.0) (3.0.12)\n",
      "Requirement already satisfied: spacy-loggers<2.0.0,>=1.0.0 in /Users/felipemesa/.pyenv/versions/3.11.11/lib/python3.11/site-packages (from spacy<3.8.0,>=3.7.0->es-core-news-md==3.7.0) (1.0.5)\n",
      "Requirement already satisfied: murmurhash<1.1.0,>=0.28.0 in /Users/felipemesa/.pyenv/versions/3.11.11/lib/python3.11/site-packages (from spacy<3.8.0,>=3.7.0->es-core-news-md==3.7.0) (1.0.13)\n",
      "Requirement already satisfied: cymem<2.1.0,>=2.0.2 in /Users/felipemesa/.pyenv/versions/3.11.11/lib/python3.11/site-packages (from spacy<3.8.0,>=3.7.0->es-core-news-md==3.7.0) (2.0.11)\n",
      "Requirement already satisfied: preshed<3.1.0,>=3.0.2 in /Users/felipemesa/.pyenv/versions/3.11.11/lib/python3.11/site-packages (from spacy<3.8.0,>=3.7.0->es-core-news-md==3.7.0) (3.0.10)\n",
      "Requirement already satisfied: thinc<8.3.0,>=8.2.2 in /Users/felipemesa/.pyenv/versions/3.11.11/lib/python3.11/site-packages (from spacy<3.8.0,>=3.7.0->es-core-news-md==3.7.0) (8.2.5)\n",
      "Requirement already satisfied: wasabi<1.2.0,>=0.9.1 in /Users/felipemesa/.pyenv/versions/3.11.11/lib/python3.11/site-packages (from spacy<3.8.0,>=3.7.0->es-core-news-md==3.7.0) (1.1.3)\n",
      "Requirement already satisfied: srsly<3.0.0,>=2.4.3 in /Users/felipemesa/.pyenv/versions/3.11.11/lib/python3.11/site-packages (from spacy<3.8.0,>=3.7.0->es-core-news-md==3.7.0) (2.5.1)\n",
      "Requirement already satisfied: catalogue<2.1.0,>=2.0.6 in /Users/felipemesa/.pyenv/versions/3.11.11/lib/python3.11/site-packages (from spacy<3.8.0,>=3.7.0->es-core-news-md==3.7.0) (2.0.10)\n",
      "Requirement already satisfied: weasel<0.5.0,>=0.1.0 in /Users/felipemesa/.pyenv/versions/3.11.11/lib/python3.11/site-packages (from spacy<3.8.0,>=3.7.0->es-core-news-md==3.7.0) (0.4.1)\n",
      "Requirement already satisfied: typer<1.0.0,>=0.3.0 in /Users/felipemesa/.pyenv/versions/3.11.11/lib/python3.11/site-packages (from spacy<3.8.0,>=3.7.0->es-core-news-md==3.7.0) (0.17.4)\n",
      "Requirement already satisfied: tqdm<5.0.0,>=4.38.0 in /Users/felipemesa/.pyenv/versions/3.11.11/lib/python3.11/site-packages (from spacy<3.8.0,>=3.7.0->es-core-news-md==3.7.0) (4.67.1)\n",
      "Requirement already satisfied: requests<3.0.0,>=2.13.0 in /Users/felipemesa/.pyenv/versions/3.11.11/lib/python3.11/site-packages (from spacy<3.8.0,>=3.7.0->es-core-news-md==3.7.0) (2.32.5)\n",
      "Requirement already satisfied: pydantic!=1.8,!=1.8.1,<3.0.0,>=1.7.4 in /Users/felipemesa/.pyenv/versions/3.11.11/lib/python3.11/site-packages (from spacy<3.8.0,>=3.7.0->es-core-news-md==3.7.0) (2.11.9)\n",
      "Requirement already satisfied: jinja2 in /Users/felipemesa/.pyenv/versions/3.11.11/lib/python3.11/site-packages (from spacy<3.8.0,>=3.7.0->es-core-news-md==3.7.0) (3.1.6)\n",
      "Requirement already satisfied: setuptools in /Users/felipemesa/.pyenv/versions/3.11.11/lib/python3.11/site-packages (from spacy<3.8.0,>=3.7.0->es-core-news-md==3.7.0) (65.5.0)\n",
      "Requirement already satisfied: packaging>=20.0 in /Users/felipemesa/.pyenv/versions/3.11.11/lib/python3.11/site-packages (from spacy<3.8.0,>=3.7.0->es-core-news-md==3.7.0) (25.0)\n",
      "Requirement already satisfied: langcodes<4.0.0,>=3.2.0 in /Users/felipemesa/.pyenv/versions/3.11.11/lib/python3.11/site-packages (from spacy<3.8.0,>=3.7.0->es-core-news-md==3.7.0) (3.5.0)\n",
      "Requirement already satisfied: numpy>=1.19.0 in /Users/felipemesa/.pyenv/versions/3.11.11/lib/python3.11/site-packages (from spacy<3.8.0,>=3.7.0->es-core-news-md==3.7.0) (1.26.4)\n",
      "Requirement already satisfied: language-data>=1.2 in /Users/felipemesa/.pyenv/versions/3.11.11/lib/python3.11/site-packages (from langcodes<4.0.0,>=3.2.0->spacy<3.8.0,>=3.7.0->es-core-news-md==3.7.0) (1.3.0)\n",
      "Requirement already satisfied: annotated-types>=0.6.0 in /Users/felipemesa/.pyenv/versions/3.11.11/lib/python3.11/site-packages (from pydantic!=1.8,!=1.8.1,<3.0.0,>=1.7.4->spacy<3.8.0,>=3.7.0->es-core-news-md==3.7.0) (0.7.0)\n",
      "Requirement already satisfied: pydantic-core==2.33.2 in /Users/felipemesa/.pyenv/versions/3.11.11/lib/python3.11/site-packages (from pydantic!=1.8,!=1.8.1,<3.0.0,>=1.7.4->spacy<3.8.0,>=3.7.0->es-core-news-md==3.7.0) (2.33.2)\n",
      "Requirement already satisfied: typing-extensions>=4.12.2 in /Users/felipemesa/.pyenv/versions/3.11.11/lib/python3.11/site-packages (from pydantic!=1.8,!=1.8.1,<3.0.0,>=1.7.4->spacy<3.8.0,>=3.7.0->es-core-news-md==3.7.0) (4.15.0)\n",
      "Requirement already satisfied: typing-inspection>=0.4.0 in /Users/felipemesa/.pyenv/versions/3.11.11/lib/python3.11/site-packages (from pydantic!=1.8,!=1.8.1,<3.0.0,>=1.7.4->spacy<3.8.0,>=3.7.0->es-core-news-md==3.7.0) (0.4.1)\n",
      "Requirement already satisfied: charset_normalizer<4,>=2 in /Users/felipemesa/.pyenv/versions/3.11.11/lib/python3.11/site-packages (from requests<3.0.0,>=2.13.0->spacy<3.8.0,>=3.7.0->es-core-news-md==3.7.0) (3.4.3)\n",
      "Requirement already satisfied: idna<4,>=2.5 in /Users/felipemesa/.pyenv/versions/3.11.11/lib/python3.11/site-packages (from requests<3.0.0,>=2.13.0->spacy<3.8.0,>=3.7.0->es-core-news-md==3.7.0) (3.10)\n",
      "Requirement already satisfied: urllib3<3,>=1.21.1 in /Users/felipemesa/.pyenv/versions/3.11.11/lib/python3.11/site-packages (from requests<3.0.0,>=2.13.0->spacy<3.8.0,>=3.7.0->es-core-news-md==3.7.0) (2.5.0)\n",
      "Requirement already satisfied: certifi>=2017.4.17 in /Users/felipemesa/.pyenv/versions/3.11.11/lib/python3.11/site-packages (from requests<3.0.0,>=2.13.0->spacy<3.8.0,>=3.7.0->es-core-news-md==3.7.0) (2025.8.3)\n",
      "Requirement already satisfied: spacy-legacy<3.1.0,>=3.0.11 in /Users/felipemesa/.pyenv/versions/3.11.11/lib/python3.11/site-packages (from spacy<3.8.0,>=3.7.0->es-core-news-md==3.7.0) (3.0.12)\n",
      "Requirement already satisfied: spacy-loggers<2.0.0,>=1.0.0 in /Users/felipemesa/.pyenv/versions/3.11.11/lib/python3.11/site-packages (from spacy<3.8.0,>=3.7.0->es-core-news-md==3.7.0) (1.0.5)\n",
      "Requirement already satisfied: murmurhash<1.1.0,>=0.28.0 in /Users/felipemesa/.pyenv/versions/3.11.11/lib/python3.11/site-packages (from spacy<3.8.0,>=3.7.0->es-core-news-md==3.7.0) (1.0.13)\n",
      "Requirement already satisfied: cymem<2.1.0,>=2.0.2 in /Users/felipemesa/.pyenv/versions/3.11.11/lib/python3.11/site-packages (from spacy<3.8.0,>=3.7.0->es-core-news-md==3.7.0) (2.0.11)\n",
      "Requirement already satisfied: preshed<3.1.0,>=3.0.2 in /Users/felipemesa/.pyenv/versions/3.11.11/lib/python3.11/site-packages (from spacy<3.8.0,>=3.7.0->es-core-news-md==3.7.0) (3.0.10)\n",
      "Requirement already satisfied: thinc<8.3.0,>=8.2.2 in /Users/felipemesa/.pyenv/versions/3.11.11/lib/python3.11/site-packages (from spacy<3.8.0,>=3.7.0->es-core-news-md==3.7.0) (8.2.5)\n",
      "Requirement already satisfied: wasabi<1.2.0,>=0.9.1 in /Users/felipemesa/.pyenv/versions/3.11.11/lib/python3.11/site-packages (from spacy<3.8.0,>=3.7.0->es-core-news-md==3.7.0) (1.1.3)\n",
      "Requirement already satisfied: srsly<3.0.0,>=2.4.3 in /Users/felipemesa/.pyenv/versions/3.11.11/lib/python3.11/site-packages (from spacy<3.8.0,>=3.7.0->es-core-news-md==3.7.0) (2.5.1)\n",
      "Requirement already satisfied: catalogue<2.1.0,>=2.0.6 in /Users/felipemesa/.pyenv/versions/3.11.11/lib/python3.11/site-packages (from spacy<3.8.0,>=3.7.0->es-core-news-md==3.7.0) (2.0.10)\n",
      "Requirement already satisfied: weasel<0.5.0,>=0.1.0 in /Users/felipemesa/.pyenv/versions/3.11.11/lib/python3.11/site-packages (from spacy<3.8.0,>=3.7.0->es-core-news-md==3.7.0) (0.4.1)\n",
      "Requirement already satisfied: typer<1.0.0,>=0.3.0 in /Users/felipemesa/.pyenv/versions/3.11.11/lib/python3.11/site-packages (from spacy<3.8.0,>=3.7.0->es-core-news-md==3.7.0) (0.17.4)\n",
      "Requirement already satisfied: tqdm<5.0.0,>=4.38.0 in /Users/felipemesa/.pyenv/versions/3.11.11/lib/python3.11/site-packages (from spacy<3.8.0,>=3.7.0->es-core-news-md==3.7.0) (4.67.1)\n",
      "Requirement already satisfied: requests<3.0.0,>=2.13.0 in /Users/felipemesa/.pyenv/versions/3.11.11/lib/python3.11/site-packages (from spacy<3.8.0,>=3.7.0->es-core-news-md==3.7.0) (2.32.5)\n",
      "Requirement already satisfied: pydantic!=1.8,!=1.8.1,<3.0.0,>=1.7.4 in /Users/felipemesa/.pyenv/versions/3.11.11/lib/python3.11/site-packages (from spacy<3.8.0,>=3.7.0->es-core-news-md==3.7.0) (2.11.9)\n",
      "Requirement already satisfied: jinja2 in /Users/felipemesa/.pyenv/versions/3.11.11/lib/python3.11/site-packages (from spacy<3.8.0,>=3.7.0->es-core-news-md==3.7.0) (3.1.6)\n",
      "Requirement already satisfied: setuptools in /Users/felipemesa/.pyenv/versions/3.11.11/lib/python3.11/site-packages (from spacy<3.8.0,>=3.7.0->es-core-news-md==3.7.0) (65.5.0)\n",
      "Requirement already satisfied: packaging>=20.0 in /Users/felipemesa/.pyenv/versions/3.11.11/lib/python3.11/site-packages (from spacy<3.8.0,>=3.7.0->es-core-news-md==3.7.0) (25.0)\n",
      "Requirement already satisfied: langcodes<4.0.0,>=3.2.0 in /Users/felipemesa/.pyenv/versions/3.11.11/lib/python3.11/site-packages (from spacy<3.8.0,>=3.7.0->es-core-news-md==3.7.0) (3.5.0)\n",
      "Requirement already satisfied: numpy>=1.19.0 in /Users/felipemesa/.pyenv/versions/3.11.11/lib/python3.11/site-packages (from spacy<3.8.0,>=3.7.0->es-core-news-md==3.7.0) (1.26.4)\n",
      "Requirement already satisfied: language-data>=1.2 in /Users/felipemesa/.pyenv/versions/3.11.11/lib/python3.11/site-packages (from langcodes<4.0.0,>=3.2.0->spacy<3.8.0,>=3.7.0->es-core-news-md==3.7.0) (1.3.0)\n",
      "Requirement already satisfied: annotated-types>=0.6.0 in /Users/felipemesa/.pyenv/versions/3.11.11/lib/python3.11/site-packages (from pydantic!=1.8,!=1.8.1,<3.0.0,>=1.7.4->spacy<3.8.0,>=3.7.0->es-core-news-md==3.7.0) (0.7.0)\n",
      "Requirement already satisfied: pydantic-core==2.33.2 in /Users/felipemesa/.pyenv/versions/3.11.11/lib/python3.11/site-packages (from pydantic!=1.8,!=1.8.1,<3.0.0,>=1.7.4->spacy<3.8.0,>=3.7.0->es-core-news-md==3.7.0) (2.33.2)\n",
      "Requirement already satisfied: typing-extensions>=4.12.2 in /Users/felipemesa/.pyenv/versions/3.11.11/lib/python3.11/site-packages (from pydantic!=1.8,!=1.8.1,<3.0.0,>=1.7.4->spacy<3.8.0,>=3.7.0->es-core-news-md==3.7.0) (4.15.0)\n",
      "Requirement already satisfied: typing-inspection>=0.4.0 in /Users/felipemesa/.pyenv/versions/3.11.11/lib/python3.11/site-packages (from pydantic!=1.8,!=1.8.1,<3.0.0,>=1.7.4->spacy<3.8.0,>=3.7.0->es-core-news-md==3.7.0) (0.4.1)\n",
      "Requirement already satisfied: charset_normalizer<4,>=2 in /Users/felipemesa/.pyenv/versions/3.11.11/lib/python3.11/site-packages (from requests<3.0.0,>=2.13.0->spacy<3.8.0,>=3.7.0->es-core-news-md==3.7.0) (3.4.3)\n",
      "Requirement already satisfied: idna<4,>=2.5 in /Users/felipemesa/.pyenv/versions/3.11.11/lib/python3.11/site-packages (from requests<3.0.0,>=2.13.0->spacy<3.8.0,>=3.7.0->es-core-news-md==3.7.0) (3.10)\n",
      "Requirement already satisfied: urllib3<3,>=1.21.1 in /Users/felipemesa/.pyenv/versions/3.11.11/lib/python3.11/site-packages (from requests<3.0.0,>=2.13.0->spacy<3.8.0,>=3.7.0->es-core-news-md==3.7.0) (2.5.0)\n",
      "Requirement already satisfied: certifi>=2017.4.17 in /Users/felipemesa/.pyenv/versions/3.11.11/lib/python3.11/site-packages (from requests<3.0.0,>=2.13.0->spacy<3.8.0,>=3.7.0->es-core-news-md==3.7.0) (2025.8.3)\n",
      "Requirement already satisfied: blis<0.8.0,>=0.7.8 in /Users/felipemesa/.pyenv/versions/3.11.11/lib/python3.11/site-packages (from thinc<8.3.0,>=8.2.2->spacy<3.8.0,>=3.7.0->es-core-news-md==3.7.0) (0.7.11)\n",
      "Requirement already satisfied: confection<1.0.0,>=0.0.1 in /Users/felipemesa/.pyenv/versions/3.11.11/lib/python3.11/site-packages (from thinc<8.3.0,>=8.2.2->spacy<3.8.0,>=3.7.0->es-core-news-md==3.7.0) (0.1.5)\n",
      "Requirement already satisfied: click>=8.0.0 in /Users/felipemesa/.pyenv/versions/3.11.11/lib/python3.11/site-packages (from typer<1.0.0,>=0.3.0->spacy<3.8.0,>=3.7.0->es-core-news-md==3.7.0) (8.2.1)\n",
      "Requirement already satisfied: shellingham>=1.3.0 in /Users/felipemesa/.pyenv/versions/3.11.11/lib/python3.11/site-packages (from typer<1.0.0,>=0.3.0->spacy<3.8.0,>=3.7.0->es-core-news-md==3.7.0) (1.5.4)\n",
      "Requirement already satisfied: rich>=10.11.0 in /Users/felipemesa/.pyenv/versions/3.11.11/lib/python3.11/site-packages (from typer<1.0.0,>=0.3.0->spacy<3.8.0,>=3.7.0->es-core-news-md==3.7.0) (14.1.0)\n",
      "Requirement already satisfied: cloudpathlib<1.0.0,>=0.7.0 in /Users/felipemesa/.pyenv/versions/3.11.11/lib/python3.11/site-packages (from weasel<0.5.0,>=0.1.0->spacy<3.8.0,>=3.7.0->es-core-news-md==3.7.0) (0.22.0)\n",
      "Requirement already satisfied: smart-open<8.0.0,>=5.2.1 in /Users/felipemesa/.pyenv/versions/3.11.11/lib/python3.11/site-packages (from weasel<0.5.0,>=0.1.0->spacy<3.8.0,>=3.7.0->es-core-news-md==3.7.0) (7.3.1)\n",
      "Requirement already satisfied: MarkupSafe>=2.0 in /Users/felipemesa/.pyenv/versions/3.11.11/lib/python3.11/site-packages (from jinja2->spacy<3.8.0,>=3.7.0->es-core-news-md==3.7.0) (3.0.2)\n",
      "Requirement already satisfied: blis<0.8.0,>=0.7.8 in /Users/felipemesa/.pyenv/versions/3.11.11/lib/python3.11/site-packages (from thinc<8.3.0,>=8.2.2->spacy<3.8.0,>=3.7.0->es-core-news-md==3.7.0) (0.7.11)\n",
      "Requirement already satisfied: confection<1.0.0,>=0.0.1 in /Users/felipemesa/.pyenv/versions/3.11.11/lib/python3.11/site-packages (from thinc<8.3.0,>=8.2.2->spacy<3.8.0,>=3.7.0->es-core-news-md==3.7.0) (0.1.5)\n",
      "Requirement already satisfied: click>=8.0.0 in /Users/felipemesa/.pyenv/versions/3.11.11/lib/python3.11/site-packages (from typer<1.0.0,>=0.3.0->spacy<3.8.0,>=3.7.0->es-core-news-md==3.7.0) (8.2.1)\n",
      "Requirement already satisfied: shellingham>=1.3.0 in /Users/felipemesa/.pyenv/versions/3.11.11/lib/python3.11/site-packages (from typer<1.0.0,>=0.3.0->spacy<3.8.0,>=3.7.0->es-core-news-md==3.7.0) (1.5.4)\n",
      "Requirement already satisfied: rich>=10.11.0 in /Users/felipemesa/.pyenv/versions/3.11.11/lib/python3.11/site-packages (from typer<1.0.0,>=0.3.0->spacy<3.8.0,>=3.7.0->es-core-news-md==3.7.0) (14.1.0)\n",
      "Requirement already satisfied: cloudpathlib<1.0.0,>=0.7.0 in /Users/felipemesa/.pyenv/versions/3.11.11/lib/python3.11/site-packages (from weasel<0.5.0,>=0.1.0->spacy<3.8.0,>=3.7.0->es-core-news-md==3.7.0) (0.22.0)\n",
      "Requirement already satisfied: smart-open<8.0.0,>=5.2.1 in /Users/felipemesa/.pyenv/versions/3.11.11/lib/python3.11/site-packages (from weasel<0.5.0,>=0.1.0->spacy<3.8.0,>=3.7.0->es-core-news-md==3.7.0) (7.3.1)\n",
      "Requirement already satisfied: MarkupSafe>=2.0 in /Users/felipemesa/.pyenv/versions/3.11.11/lib/python3.11/site-packages (from jinja2->spacy<3.8.0,>=3.7.0->es-core-news-md==3.7.0) (3.0.2)\n",
      "Requirement already satisfied: marisa-trie>=1.1.0 in /Users/felipemesa/.pyenv/versions/3.11.11/lib/python3.11/site-packages (from language-data>=1.2->langcodes<4.0.0,>=3.2.0->spacy<3.8.0,>=3.7.0->es-core-news-md==3.7.0) (1.3.1)\n",
      "Requirement already satisfied: markdown-it-py>=2.2.0 in /Users/felipemesa/.pyenv/versions/3.11.11/lib/python3.11/site-packages (from rich>=10.11.0->typer<1.0.0,>=0.3.0->spacy<3.8.0,>=3.7.0->es-core-news-md==3.7.0) (4.0.0)\n",
      "Requirement already satisfied: pygments<3.0.0,>=2.13.0 in /Users/felipemesa/.pyenv/versions/3.11.11/lib/python3.11/site-packages (from rich>=10.11.0->typer<1.0.0,>=0.3.0->spacy<3.8.0,>=3.7.0->es-core-news-md==3.7.0) (2.19.2)\n",
      "Requirement already satisfied: wrapt in /Users/felipemesa/.pyenv/versions/3.11.11/lib/python3.11/site-packages (from smart-open<8.0.0,>=5.2.1->weasel<0.5.0,>=0.1.0->spacy<3.8.0,>=3.7.0->es-core-news-md==3.7.0) (1.17.3)\n",
      "Requirement already satisfied: marisa-trie>=1.1.0 in /Users/felipemesa/.pyenv/versions/3.11.11/lib/python3.11/site-packages (from language-data>=1.2->langcodes<4.0.0,>=3.2.0->spacy<3.8.0,>=3.7.0->es-core-news-md==3.7.0) (1.3.1)\n",
      "Requirement already satisfied: markdown-it-py>=2.2.0 in /Users/felipemesa/.pyenv/versions/3.11.11/lib/python3.11/site-packages (from rich>=10.11.0->typer<1.0.0,>=0.3.0->spacy<3.8.0,>=3.7.0->es-core-news-md==3.7.0) (4.0.0)\n",
      "Requirement already satisfied: pygments<3.0.0,>=2.13.0 in /Users/felipemesa/.pyenv/versions/3.11.11/lib/python3.11/site-packages (from rich>=10.11.0->typer<1.0.0,>=0.3.0->spacy<3.8.0,>=3.7.0->es-core-news-md==3.7.0) (2.19.2)\n",
      "Requirement already satisfied: wrapt in /Users/felipemesa/.pyenv/versions/3.11.11/lib/python3.11/site-packages (from smart-open<8.0.0,>=5.2.1->weasel<0.5.0,>=0.1.0->spacy<3.8.0,>=3.7.0->es-core-news-md==3.7.0) (1.17.3)\n",
      "Requirement already satisfied: mdurl~=0.1 in /Users/felipemesa/.pyenv/versions/3.11.11/lib/python3.11/site-packages (from markdown-it-py>=2.2.0->rich>=10.11.0->typer<1.0.0,>=0.3.0->spacy<3.8.0,>=3.7.0->es-core-news-md==3.7.0) (0.1.2)\n",
      "Requirement already satisfied: mdurl~=0.1 in /Users/felipemesa/.pyenv/versions/3.11.11/lib/python3.11/site-packages (from markdown-it-py>=2.2.0->rich>=10.11.0->typer<1.0.0,>=0.3.0->spacy<3.8.0,>=3.7.0->es-core-news-md==3.7.0) (0.1.2)\n",
      "\n",
      "\u001b[1m[\u001b[0m\u001b[34;49mnotice\u001b[0m\u001b[1;39;49m]\u001b[0m\u001b[39;49m A new release of pip is available: \u001b[0m\u001b[31;49m24.0\u001b[0m\u001b[39;49m -> \u001b[0m\u001b[32;49m25.2\u001b[0m\n",
      "\u001b[1m[\u001b[0m\u001b[34;49mnotice\u001b[0m\u001b[1;39;49m]\u001b[0m\u001b[39;49m To update, run: \u001b[0m\u001b[32;49mpip install --upgrade pip\u001b[0m\n",
      "\n",
      "\u001b[1m[\u001b[0m\u001b[34;49mnotice\u001b[0m\u001b[1;39;49m]\u001b[0m\u001b[39;49m A new release of pip is available: \u001b[0m\u001b[31;49m24.0\u001b[0m\u001b[39;49m -> \u001b[0m\u001b[32;49m25.2\u001b[0m\n",
      "\u001b[1m[\u001b[0m\u001b[34;49mnotice\u001b[0m\u001b[1;39;49m]\u001b[0m\u001b[39;49m To update, run: \u001b[0m\u001b[32;49mpip install --upgrade pip\u001b[0m\n",
      "\u001b[38;5;2m✔ Download and installation successful\u001b[0m\n",
      "You can now load the package via spacy.load('es_core_news_md')\n",
      "\u001b[38;5;2m✔ Download and installation successful\u001b[0m\n",
      "You can now load the package via spacy.load('es_core_news_md')\n"
     ]
    }
   ],
   "source": [
    "# --- Instalación (mac) ---\n",
    "# !python3 -m pip install -U nltk spacy scikit-learn matplotlib seaborn unidecode\n",
    "!python3 -m spacy download es_core_news_md\n",
    "# !python3 -m pip install openpyxl\n",
    "# python3 -m pip install openpyxl\n",
    "\n",
    "\n",
    "# --- Imports base ---\n",
    "import re, string, unicodedata\n",
    "import pandas as pd\n",
    "import numpy as np\n",
    "\n",
    "import matplotlib.pyplot as plt\n",
    "import seaborn as sns\n",
    "\n",
    "import nltk\n",
    "from nltk.corpus import stopwords\n",
    "from nltk.tokenize import word_tokenize, sent_tokenize\n",
    "# Si quisieras stemming en español (no recomendado para el pipeline final):\n",
    "# from nltk.stem import SnowballStemmer\n",
    "\n",
    "import spacy\n",
    "# Carga del modelo de spaCy en español \n",
    "nlp = spacy.load(\"es_core_news_md\")\n",
    "\n",
    "# Utilidad: solo úsalo DESPUÉS de lematizar si quieres una segunda versión sin acentos\n",
    "import unidecode\n",
    "\n",
    "# Sklearn: vectorización y modelos\n",
    "from sklearn.model_selection import train_test_split, GridSearchCV\n",
    "from sklearn.feature_extraction.text import TfidfVectorizer, CountVectorizer\n",
    "from sklearn.pipeline import Pipeline\n",
    "from sklearn.svm import LinearSVC\n",
    "from sklearn.ensemble import RandomForestClassifier, AdaBoostClassifier\n",
    "from sklearn.naive_bayes import MultinomialNB\n",
    "from sklearn.metrics import classification_report, confusion_matrix\n",
    "\n",
    "# NLTK data \n",
    "import nltk\n",
    "from nltk.tokenize import RegexpTokenizer\n",
    "from collections import Counter\n",
    "\n",
    "# --- Hugging Face / PyTorch (para fine-tuning BERT) ---\n",
    "import torch\n",
    "from datasets import Dataset\n",
    "import evaluate\n",
    "from transformers import (\n",
    "    AutoTokenizer,\n",
    "    AutoModelForSequenceClassification,\n",
    "    TrainingArguments,\n",
    "    Trainer,\n",
    "    DataCollatorWithPadding,\n",
    "    pipeline,\n",
    ")"
   ]
  },
  {
   "cell_type": "markdown",
   "id": "ac8e264a",
   "metadata": {},
   "source": [
    "## 2. Perfilamiento y entendimiento de los datos.\n",
    "\n",
    "En esta sección realizamos la **lectura** y un primer **análisis exploratorio** de los datos \n",
    "proporcionados para el proyecto. Contamos con dos archivos principales:\n",
    "\n",
    "- Datos_proyecto.xlsx → dataset principal de opiniones ciudadanas con sus etiquetas ODS.  \n",
    "- Datos de prueba_proyecto.xlsx → dataset de prueba para evaluar el modelo seleccionado.\n"
   ]
  },
  {
   "cell_type": "markdown",
   "id": "7c05fd1f",
   "metadata": {},
   "source": [
    "### Carga de datos"
   ]
  },
  {
   "cell_type": "code",
   "execution_count": 37,
   "id": "307bd9b5",
   "metadata": {},
   "outputs": [
    {
     "data": {
      "text/html": [
       "<div>\n",
       "<style scoped>\n",
       "    .dataframe tbody tr th:only-of-type {\n",
       "        vertical-align: middle;\n",
       "    }\n",
       "\n",
       "    .dataframe tbody tr th {\n",
       "        vertical-align: top;\n",
       "    }\n",
       "\n",
       "    .dataframe thead th {\n",
       "        text-align: right;\n",
       "    }\n",
       "</style>\n",
       "<table border=\"1\" class=\"dataframe\">\n",
       "  <thead>\n",
       "    <tr style=\"text-align: right;\">\n",
       "      <th></th>\n",
       "      <th>textos</th>\n",
       "      <th>labels</th>\n",
       "    </tr>\n",
       "  </thead>\n",
       "  <tbody>\n",
       "    <tr>\n",
       "      <th>0</th>\n",
       "      <td>\"Aprendizaje\" y \"educación\" se consideran sinó...</td>\n",
       "      <td>4</td>\n",
       "    </tr>\n",
       "    <tr>\n",
       "      <th>1</th>\n",
       "      <td>Para los niños más pequeños (bebés y niños peq...</td>\n",
       "      <td>4</td>\n",
       "    </tr>\n",
       "    <tr>\n",
       "      <th>2</th>\n",
       "      <td>Además, la formación de especialistas en medic...</td>\n",
       "      <td>3</td>\n",
       "    </tr>\n",
       "    <tr>\n",
       "      <th>3</th>\n",
       "      <td>En los países de la OCDE se tiende a pasar de ...</td>\n",
       "      <td>4</td>\n",
       "    </tr>\n",
       "    <tr>\n",
       "      <th>4</th>\n",
       "      <td>Este grupo se centró en las personas que padec...</td>\n",
       "      <td>3</td>\n",
       "    </tr>\n",
       "  </tbody>\n",
       "</table>\n",
       "</div>"
      ],
      "text/plain": [
       "                                              textos  labels\n",
       "0  \"Aprendizaje\" y \"educación\" se consideran sinó...       4\n",
       "1  Para los niños más pequeños (bebés y niños peq...       4\n",
       "2  Además, la formación de especialistas en medic...       3\n",
       "3  En los países de la OCDE se tiende a pasar de ...       4\n",
       "4  Este grupo se centró en las personas que padec...       3"
      ]
     },
     "execution_count": 37,
     "metadata": {},
     "output_type": "execute_result"
    }
   ],
   "source": [
    "# Lectura del dataset principal\n",
    "data = pd.read_excel(\"Datos_proyecto.xlsx\")\n",
    "\n",
    "# Asignación a una nueva variable para trabajar\n",
    "data_t = data.copy()\n",
    "\n",
    "# Vista inicial\n",
    "data_t.head()\n"
   ]
  },
  {
   "cell_type": "code",
   "execution_count": 38,
   "id": "6693a8fe",
   "metadata": {},
   "outputs": [
    {
     "name": "stdout",
     "output_type": "stream",
     "text": [
      "<class 'pandas.core.frame.DataFrame'>\n",
      "RangeIndex: 2424 entries, 0 to 2423\n",
      "Data columns (total 2 columns):\n",
      " #   Column  Non-Null Count  Dtype \n",
      "---  ------  --------------  ----- \n",
      " 0   textos  2424 non-null   object\n",
      " 1   labels  2424 non-null   int64 \n",
      "dtypes: int64(1), object(1)\n",
      "memory usage: 38.0+ KB\n",
      "\n",
      "Valores nulos por columna:\n",
      "textos    0\n",
      "labels    0\n",
      "dtype: int64\n",
      "\n",
      "Distribución de etiquetas (ODS):\n",
      "labels\n",
      "4    1025\n",
      "3     894\n",
      "1     505\n",
      "Name: count, dtype: int64\n"
     ]
    }
   ],
   "source": [
    "# Información general: filas, columnas, tipos de datos\n",
    "data_t.info()\n",
    "\n",
    "# Valores nulos\n",
    "print(\"\\nValores nulos por columna:\")\n",
    "print(data_t.isnull().sum())\n",
    "\n",
    "# Distribución de las etiquetas\n",
    "print(\"\\nDistribución de etiquetas (ODS):\")\n",
    "print(data_t['labels'].value_counts())\n"
   ]
  },
  {
   "cell_type": "code",
   "execution_count": 39,
   "id": "188d5345",
   "metadata": {},
   "outputs": [
    {
     "name": "stdout",
     "output_type": "stream",
     "text": [
      "\n",
      "Estadísticas de la longitud de los textos:\n",
      "count    2424.000000\n",
      "mean      107.924092\n",
      "std        35.575349\n",
      "min        41.000000\n",
      "25%        81.000000\n",
      "50%       102.000000\n",
      "75%       129.000000\n",
      "max       260.000000\n",
      "Name: longitud, dtype: float64\n"
     ]
    }
   ],
   "source": [
    "# Crear columna con longitud de cada texto (en palabras)\n",
    "data_t['longitud'] = data_t['textos'].apply(lambda x: len(str(x).split()))\n",
    "\n",
    "# Estadísticas descriptivas\n",
    "print(\"\\nEstadísticas de la longitud de los textos:\")\n",
    "print(data_t['longitud'].describe())\n",
    "\n"
   ]
  },
  {
   "cell_type": "code",
   "execution_count": 40,
   "id": "c4ded381",
   "metadata": {},
   "outputs": [
    {
     "name": "stderr",
     "output_type": "stream",
     "text": [
      "/var/folders/rd/c8h4x4m10sb985f52mrcc5600000gn/T/ipykernel_14592/4150625362.py:2: FutureWarning: \n",
      "\n",
      "Passing `palette` without assigning `hue` is deprecated and will be removed in v0.14.0. Assign the `x` variable to `hue` and set `legend=False` for the same effect.\n",
      "\n",
      "  sns.countplot(x='labels', data=data_t, palette='Set2')\n"
     ]
    },
    {
     "data": {
      "image/png": "[encoded data removed]",
      "text/plain": [
       "<Figure size 640x480 with 1 Axes>"
      ]
     },
     "metadata": {},
     "output_type": "display_data"
    },
    {
     "data": {
      "image/png": "[encoded data removed]",
      "text/plain": [
       "<Figure size 640x480 with 1 Axes>"
      ]
     },
     "metadata": {},
     "output_type": "display_data"
    }
   ],
   "source": [
    "\n",
    "# Distribución de las etiquetas\n",
    "sns.countplot(x='labels', data=data_t, palette='Set2')\n",
    "plt.title(\"Distribución de opiniones por ODS\")\n",
    "plt.xlabel(\"ODS (1 = Pobreza, 3 = Salud, 4 = Educación)\")\n",
    "plt.ylabel(\"Cantidad de textos\")\n",
    "plt.show()\n",
    "\n",
    "# Histograma de longitudes de texto\n",
    "sns.histplot(data_t['longitud'], bins=30, kde=True)\n",
    "plt.title(\"Distribución de longitudes de los textos (en palabras)\")\n",
    "plt.xlabel(\"Número de palabras\")\n",
    "plt.ylabel(\"Frecuencia\")\n",
    "plt.show()\n"
   ]
  },
  {
   "cell_type": "markdown",
   "id": "74233fb0",
   "metadata": {},
   "source": [
    "## 3. Preparación de los datos\n",
    "En este paso aplicamos un pipeline de limpieza en español:\n",
    "- Normalización de texto\n",
    "- Tokenización con NLTK (RegexpTokenizer, no requiere punkt)\n",
    "- Eliminación de stopwords personalizadas\n",
    "- Lematización con spaCy\n",
    "- Generación de columnas procesadas\n"
   ]
  },
  {
   "cell_type": "markdown",
   "id": "c9214b8b",
   "metadata": {},
   "source": [
    "### 3.1 Definir stopwords y listas personalizadas\n",
    "Qué hace:\n",
    "- Crea una lista de palabras vacías en español y la adapta al dominio.  \n",
    "- Quita conectores innecesarios (*además, sin embargo…*) y protege palabras críticas de ODS (*pobreza, salud, educación*).  \n",
    "\n",
    "Por qué:\n",
    "- Si eliminamos demasiado, el modelo pierde señal.  \n",
    "- Si dejamos ruido académico, el modelo aprende cosas irrelevantes.  \n",
    "\n",
    "Ejemplo: \n",
    "- Texto original: \"La educación, sin embargo, debe mejorar\"  \n",
    "- Tras stopwords personalizadas: [\"educación\", \"mejorar\"]\n"
   ]
  },
  {
   "cell_type": "code",
   "execution_count": 41,
   "id": "b277b437",
   "metadata": {},
   "outputs": [],
   "source": [
    "# spaCy en español (usa \"lg\" si lo tienes)\n",
    "nlp = spacy.load(\"es_core_news_md\")\n",
    "\n",
    "# Stopwords base español\n",
    "try:\n",
    "    nltk.data.find(\"corpora/stopwords\")\n",
    "except LookupError:\n",
    "    nltk.download(\"stopwords\")\n",
    "STOP_ES = set(stopwords.words(\"spanish\"))\n",
    "\n",
    "# Stopwords adicionales comunes en textos académicos\n",
    "STOP_EXTRA = {\n",
    "    \"ademas\",\"asimismo\",\"sin\",\"embargo\",\"no\",\"obstante\",\"por\",\"consiguiente\",\n",
    "    \"asi\",\"mismo\",\"tambien\",\"entre\",\"otros\",\"etc\",\"respecto\",\"dicho\",\"misma\",\n",
    "    \"mismo\",\"mismas\",\"mismos\",\"puede\",\"pueden\",\"debe\",\"deben\",\"debido\",\"cual\",\n",
    "    \"cuales\",\"cualquier\",\"cada\",\"dentro\",\"fuera\",\"segun\",\"con\",\"contra\",\"hacia\",\n",
    "    \"desde\",\"sobre\",\"tras\",\"mediante\"\n",
    "}\n",
    "\n",
    "# Palabras que NO debemos eliminar (clave para ODS)\n",
    "ALLOWLIST_ODS = {\n",
    "    \"ods\",\"pobreza\",\"salud\",\"educación\",\"educacion\",\"docente\",\"docentes\",\"escuela\",\"escolar\",\n",
    "    \"universidad\",\"primaria\",\"secundaria\",\"matrícula\",\"matricula\",\"hospital\",\"atención\",\"atencion\",\n",
    "    \"paciente\",\"mental\",\"prom\",\"prem\",\"epr\",\"currículo\",\"curriculo\",\"formación\",\"formacion\"\n",
    "}\n",
    "\n",
    "# Stopwords finales\n",
    "STOP_CUSTOM = (STOP_ES | STOP_EXTRA) - ALLOWLIST_ODS\n"
   ]
  },
  {
   "cell_type": "markdown",
   "id": "10251d5e",
   "metadata": {},
   "source": [
    "### 3.2 Funciones de limpieza (con RegexpTokenizer)\n",
    "\n",
    "a) normalize_text  \n",
    "- Qué hace: convierte a minúsculas, elimina URLs, citas (OCDE 2013), paréntesis y comillas raras.  \n",
    "- Por qué: evita que el modelo confunda tokens inútiles con información relevante.  \n",
    "- Ejemplo: \"Informe de la OCDE (2013)\" → \"informe de la ocde\"\n",
    "\n",
    "b) tokenize con RegexpTokenizer \n",
    "- Qué hace: divide en palabras usando solo caracteres alfabéticos.  \n",
    "- Por qué: quita números/puntuación que no ayudan.  \n",
    "- Ejemplo: \"la educación en 2013 fue clave\" → [\"la\",\"educación\",\"en\",\"fue\",\"clave\"]\n",
    "\n",
    "c) remove_stopwords\n",
    "- Qué hace: borra stopwords pero conserva palabras críticas (ALLOWLIST).  \n",
    "- Por qué: filtra ruido pero protege la semántica de ODS.  \n",
    "- Ejemplo: [\"la\",\"educación\",\"en\",\"fue\",\"clave\"] → [\"educación\",\"clave\"]\n",
    "\n",
    "d) lemmatize_es con spaCy  \n",
    "- Qué hace: reduce palabras a su forma mas basica.  \n",
    "- Por qué: unifica variaciones (*estudiantes → estudiante, aprendiendo → aprender*).  \n",
    "- Ejemplo: [\"estudiantes\",\"aprendiendo\",\"docentes\"] → [\"estudiante\",\"aprender\",\"docente\"]\n",
    "\n",
    "e) clean_pipeline \n",
    "- Qué hace: une todos los pasos en orden → normalizar → tokenizar → stopwords → lematizar.  \n",
    "- Por qué: garantiza consistencia en todo el dataset.  \n",
    "- Ejemplo: \"Los estudiantes estaban aprendiendo en la escuela\" → [\"estudiante\",\"aprender\",\"escuela\"]\n"
   ]
  },
  {
   "cell_type": "code",
   "execution_count": 42,
   "id": "063e968b",
   "metadata": {},
   "outputs": [],
   "source": [
    "\n",
    "\n",
    "# Tokenizador sin punkt\n",
    "_tokenizer = RegexpTokenizer(r\"\\w+\")\n",
    "\n",
    "def normalize_text(text: str) -> str:\n",
    "    if not isinstance(text, str):\n",
    "        return \"\"\n",
    "    t = text.lower()\n",
    "    t = re.sub(r'(https?://\\S+)|(\\S+@\\S+)', ' ', t)   # URLs y correos\n",
    "    t = re.sub(r'\\([^)]*\\d{2,4}[^)]*\\)', ' ', t)      # referencias (OCDE, 2013)\n",
    "    t = re.sub(r'[“”\"«»´`]', ' ', t)                  # comillas raras\n",
    "    t = re.sub(r'\\s+', ' ', t)                        # espacios múltiples\n",
    "    return t.strip()\n",
    "\n",
    "def tokenize(text: str):\n",
    "    toks = _tokenizer.tokenize(str(text or \"\"))\n",
    "    return [t for t in toks if t.isalpha()]\n",
    "\n",
    "def remove_stopwords(tokens):\n",
    "    return [t for t in tokens if (t not in STOP_CUSTOM) or (t in ALLOWLIST_ODS)]\n",
    "\n",
    "def lemmatize_es(tokens):\n",
    "    doc = nlp(\" \".join(tokens))\n",
    "    lemmas = [t.lemma_ for t in doc if t.is_alpha]\n",
    "    lemmas = [l for l in lemmas if (l not in STOP_CUSTOM) or (l in ALLOWLIST_ODS)]\n",
    "    return lemmas\n",
    "\n",
    "def clean_pipeline(text: str):\n",
    "    t = normalize_text(text)\n",
    "    toks = tokenize(t)\n",
    "    toks = remove_stopwords(toks)\n",
    "    lemmas = lemmatize_es(toks)\n",
    "    return lemmas\n"
   ]
  },
  {
   "cell_type": "markdown",
   "id": "17934948",
   "metadata": {},
   "source": [
    "### 3.3 Aplicar el pipeline al dataset\n",
    "\n",
    "Qué hace: \n",
    "- Aplica clean_pipeline a cada fila de la columna textos.  \n",
    "- Genera columnas nuevas:  \n",
    "  - tokens: lista de palabras limpias.  \n",
    "  - texto_limpio: texto unido (para vectorización).  \n",
    "  - longitud_tokens: tamaño del texto procesado.  \n",
    "\n",
    "Por qué: \n",
    "- Necesitamos una vista de tokens para nosotros, una vista lista para modelos (texto_limpio) y una métrica de control (longitud_tokens).  \n",
    "\n",
    "Ejemplo: \n",
    "- Entrada: \"Los estudiantes estaban aprendiendo en la escuela\" \n",
    "- Salida:  \n",
    "  - tokens → [\"estudiante\",\"aprender\",\"escuela\"]`  \n",
    "  - texto_limpio → \"estudiante aprender escuela\"`  \n",
    "  - longitud_tokens → 3\n"
   ]
  },
  {
   "cell_type": "code",
   "execution_count": 43,
   "id": "cabdceb8",
   "metadata": {},
   "outputs": [
    {
     "data": {
      "text/html": [
       "<div>\n",
       "<style scoped>\n",
       "    .dataframe tbody tr th:only-of-type {\n",
       "        vertical-align: middle;\n",
       "    }\n",
       "\n",
       "    .dataframe tbody tr th {\n",
       "        vertical-align: top;\n",
       "    }\n",
       "\n",
       "    .dataframe thead th {\n",
       "        text-align: right;\n",
       "    }\n",
       "</style>\n",
       "<table border=\"1\" class=\"dataframe\">\n",
       "  <thead>\n",
       "    <tr style=\"text-align: right;\">\n",
       "      <th></th>\n",
       "      <th>textos</th>\n",
       "      <th>labels</th>\n",
       "      <th>texto_limpio</th>\n",
       "      <th>longitud_tokens</th>\n",
       "    </tr>\n",
       "  </thead>\n",
       "  <tbody>\n",
       "    <tr>\n",
       "      <th>0</th>\n",
       "      <td>\"Aprendizaje\" y \"educación\" se consideran sinó...</td>\n",
       "      <td>4</td>\n",
       "      <td>aprendizaje educación considerar sinónimo esco...</td>\n",
       "      <td>25</td>\n",
       "    </tr>\n",
       "    <tr>\n",
       "      <th>1</th>\n",
       "      <td>Para los niños más pequeños (bebés y niños peq...</td>\n",
       "      <td>4</td>\n",
       "      <td>niño pequeño bebé niño pequeño capacitación es...</td>\n",
       "      <td>39</td>\n",
       "    </tr>\n",
       "    <tr>\n",
       "      <th>2</th>\n",
       "      <td>Además, la formación de especialistas en medic...</td>\n",
       "      <td>3</td>\n",
       "      <td>además formación especialista medicina general...</td>\n",
       "      <td>50</td>\n",
       "    </tr>\n",
       "    <tr>\n",
       "      <th>3</th>\n",
       "      <td>En los países de la OCDE se tiende a pasar de ...</td>\n",
       "      <td>4</td>\n",
       "      <td>país ocde tender pasar curso obligatorio optat...</td>\n",
       "      <td>55</td>\n",
       "    </tr>\n",
       "    <tr>\n",
       "      <th>4</th>\n",
       "      <td>Este grupo se centró en las personas que padec...</td>\n",
       "      <td>3</td>\n",
       "      <td>grupo centrar persona padecer trastorno mental...</td>\n",
       "      <td>52</td>\n",
       "    </tr>\n",
       "  </tbody>\n",
       "</table>\n",
       "</div>"
      ],
      "text/plain": [
       "                                              textos  labels  \\\n",
       "0  \"Aprendizaje\" y \"educación\" se consideran sinó...       4   \n",
       "1  Para los niños más pequeños (bebés y niños peq...       4   \n",
       "2  Además, la formación de especialistas en medic...       3   \n",
       "3  En los países de la OCDE se tiende a pasar de ...       4   \n",
       "4  Este grupo se centró en las personas que padec...       3   \n",
       "\n",
       "                                        texto_limpio  longitud_tokens  \n",
       "0  aprendizaje educación considerar sinónimo esco...               25  \n",
       "1  niño pequeño bebé niño pequeño capacitación es...               39  \n",
       "2  además formación especialista medicina general...               50  \n",
       "3  país ocde tender pasar curso obligatorio optat...               55  \n",
       "4  grupo centrar persona padecer trastorno mental...               52  "
      ]
     },
     "execution_count": 43,
     "metadata": {},
     "output_type": "execute_result"
    }
   ],
   "source": [
    "# Aplicar pipeline\n",
    "data_t[\"tokens\"] = data_t[\"textos\"].apply(clean_pipeline)\n",
    "\n",
    "# Columnas auxiliares\n",
    "data_t[\"texto_limpio\"] = data_t[\"tokens\"].apply(lambda xs: \" \".join(xs))\n",
    "data_t[\"longitud_tokens\"] = data_t[\"tokens\"].apply(len)\n",
    "\n",
    "# Vista previa\n",
    "data_t[[\"textos\",\"labels\",\"texto_limpio\",\"longitud_tokens\"]].head()\n"
   ]
  },
  {
   "cell_type": "markdown",
   "id": "a29eacf3",
   "metadata": {},
   "source": [
    "### 3.4 Chequeos básicos\n",
    "\n",
    "Qué hace: \n",
    "- Muestra info() y valores nulos → detecta problemas de integridad.  \n",
    "- Cuenta las etiquetas (labels) → revisa desbalance.  \n",
    "- Grafica histograma de longitudes → detecta outliers o textos vacíos.  \n",
    "\n",
    "Por qué: \n",
    "- Si tenemos muchos vacíos, el modelo se entrena mal.  \n",
    "- Si hay mucho desbalance (ej. más ODS 4 que ODS 1), necesitaremos técnicas de balanceo o métricas ajustadas.  \n",
    "\n",
    "Ejemplo:\n",
    "- Histograma muestra que la mayoría de textos tienen entre 30–100 tokens.  \n",
    "- Distribución de etiquetas muestra más ODS 4 que ODS 1/3.\n"
   ]
  },
  {
   "cell_type": "code",
   "execution_count": 44,
   "id": "c1e895b9",
   "metadata": {},
   "outputs": [
    {
     "name": "stdout",
     "output_type": "stream",
     "text": [
      "<class 'pandas.core.frame.DataFrame'>\n",
      "RangeIndex: 2424 entries, 0 to 2423\n",
      "Data columns (total 6 columns):\n",
      " #   Column           Non-Null Count  Dtype \n",
      "---  ------           --------------  ----- \n",
      " 0   textos           2424 non-null   object\n",
      " 1   labels           2424 non-null   int64 \n",
      " 2   longitud         2424 non-null   int64 \n",
      " 3   tokens           2424 non-null   object\n",
      " 4   texto_limpio     2424 non-null   object\n",
      " 5   longitud_tokens  2424 non-null   int64 \n",
      "dtypes: int64(3), object(3)\n",
      "memory usage: 113.8+ KB\n",
      "None\n",
      "\n",
      "Valores nulos por columna:\n",
      "textos             0\n",
      "labels             0\n",
      "longitud           0\n",
      "tokens             0\n",
      "texto_limpio       0\n",
      "longitud_tokens    0\n",
      "dtype: int64\n",
      "\n",
      "Distribución de etiquetas (ODS):\n",
      "labels\n",
      "4    1025\n",
      "3     894\n",
      "1     505\n",
      "Name: count, dtype: int64\n"
     ]
    },
    {
     "data": {
      "image/png": "[encoded data removed]",
      "text/plain": [
       "<Figure size 640x480 with 1 Axes>"
      ]
     },
     "metadata": {},
     "output_type": "display_data"
    }
   ],
   "source": [
    "# Información del dataset\n",
    "print(data_t.info())\n",
    "\n",
    "# Valores nulos\n",
    "print(\"\\nValores nulos por columna:\")\n",
    "print(data_t.isnull().sum())\n",
    "\n",
    "# Distribución de clases\n",
    "print(\"\\nDistribución de etiquetas (ODS):\")\n",
    "print(data_t['labels'].value_counts())\n",
    "\n",
    "# Distribución de longitudes\n",
    "import matplotlib.pyplot as plt\n",
    "import seaborn as sns\n",
    "\n",
    "sns.histplot(data_t[\"longitud_tokens\"], bins=30, kde=False)\n",
    "plt.title(\"Distribución de longitudes (tokens limpios)\")\n",
    "plt.xlabel(\"Número de tokens\")\n",
    "plt.ylabel(\"Frecuencia\")\n",
    "plt.show()\n"
   ]
  },
  {
   "cell_type": "markdown",
   "id": "138b7d9d",
   "metadata": {},
   "source": [
    "### 3.5 Explorar n-gramas clave\n",
    "\n",
    "Qué hace: \n",
    "- Extrae frases frecuentes por clase.  \n",
    "\n",
    "Por qué:\n",
    "- Nos ayuda a saber que conceptos aparecen más en cada ODS.    "
   ]
  },
  {
   "cell_type": "code",
   "execution_count": 45,
   "id": "05a364cb",
   "metadata": {},
   "outputs": [
    {
     "name": "stdout",
     "output_type": "stream",
     "text": [
      "\n",
      "Top bigramas ODS 1:\n",
      "  pobreza infantil  (92)\n",
      "  tasa pobreza  (61)\n",
      "  tasa pobrezo  (56)\n",
      "  pobreza extremo  (50)\n",
      "  protección social  (47)\n",
      "\n",
      "Top bigramas ODS 3:\n",
      "  salud mental  (227)\n",
      "  atención primario  (211)\n",
      "  atención salud  (94)\n",
      "  sistema salud  (84)\n",
      "  servicio salud  (79)\n",
      "\n",
      "Top bigramas ODS 4:\n",
      "  sistema educativo  (116)\n",
      "  educación superior  (107)\n",
      "  secundario superior  (82)\n",
      "  educación secundario  (67)\n",
      "  educación terciario  (62)\n"
     ]
    }
   ],
   "source": [
    "\n",
    "def top_ngrams(texts, n=2, k=5):\n",
    "    counts = Counter()\n",
    "    for t in texts:\n",
    "        toks = t.split()\n",
    "        ngs = zip(*[toks[i:] for i in range(n)])\n",
    "        counts.update([\" \".join(g) for g in ngs])\n",
    "    return counts.most_common(k)\n",
    "\n",
    "for etiqueta in sorted(data_t[\"labels\"].unique()):\n",
    "    subset = data_t.loc[data_t[\"labels\"]==etiqueta, \"texto_limpio\"].tolist()\n",
    "    print(f\"\\nTop bigramas ODS {etiqueta}:\")\n",
    "    for g,c in top_ngrams(subset, n=2, k=5):\n",
    "        print(f\"  {g}  ({c})\")\n"
   ]
  },
  {
   "cell_type": "markdown",
   "id": "7c54a684",
   "metadata": {},
   "source": [
    "## 4. MODELO: Naive Bayes\n",
    "\n",
    "por: Ana Cristina Rodríguez\n",
    "\n",
    "El Naive Bayes Multinomial (MNB) es un algoritmo de clasificación probabilística basado en el Teorema de Bayes.\n",
    "Su idea central es calcular la probabilidad de que un texto pertenezca a una clase (por ejemplo, ODS 1, ODS 3 u ODS 4), dadas las palabras que contiene.\n",
    "\n",
    "Al ser multinomial está especialmente diseñado para trabajar con frecuencias de palabras o representaciones TF-IDF, la cual es una técnica de representación de texto que transforma documentos en vectores numéricos, resaltando las palabras más importantes y discriminativas de cada texto.\n",
    "\n",
    "No obstante, la mayor deventaja de este algorítmo es que no capta relaciones semánticas complejas entre palabras."
   ]
  },
  {
   "cell_type": "markdown",
   "id": "201e908b",
   "metadata": {},
   "source": [
    "### 4.1. Imports y configuraciones:"
   ]
  },
  {
   "cell_type": "code",
   "execution_count": 46,
   "id": "15fee35b",
   "metadata": {},
   "outputs": [],
   "source": [
    "import numpy as np\n",
    "import pandas as pd\n",
    "\n",
    "from sklearn.model_selection import train_test_split\n",
    "\n",
    "from sklearn.pipeline import Pipeline\n",
    "from sklearn.feature_extraction.text import TfidfVectorizer\n",
    "from sklearn.naive_bayes import MultinomialNB\n",
    "from sklearn.utils.class_weight import compute_class_weight\n",
    "from sklearn.model_selection import StratifiedKFold, GridSearchCV"
   ]
  },
  {
   "cell_type": "code",
   "execution_count": 47,
   "id": "31c283f8",
   "metadata": {},
   "outputs": [],
   "source": [
    "# Config\n",
    "TEXT_COL = 'texto_limpio' if 'texto_limpio' in data_t.columns else 'textos'\n",
    "LABEL_COL = 'labels'  "
   ]
  },
  {
   "cell_type": "code",
   "execution_count": 48,
   "id": "a404a042",
   "metadata": {},
   "outputs": [],
   "source": [
    "# DataFrame base para modelar (sin nulos ni vacíos)\n",
    "df = data_t[[TEXT_COL, LABEL_COL]].copy()\n",
    "df.dropna(subset=[TEXT_COL, LABEL_COL], inplace=True)\n",
    "df[TEXT_COL] = df[TEXT_COL].astype(str).str.strip()\n",
    "df = df[df[TEXT_COL].str.len() > 0].copy()"
   ]
  },
  {
   "cell_type": "code",
   "execution_count": 49,
   "id": "3ea462f7",
   "metadata": {},
   "outputs": [
    {
     "name": "stdout",
     "output_type": "stream",
     "text": [
      "                                        texto_limpio  labels\n",
      "0  aprendizaje educación considerar sinónimo esco...       4\n",
      "1  niño pequeño bebé niño pequeño capacitación es...       4\n",
      "2  además formación especialista medicina general...       3\n",
      "3  país ocde tender pasar curso obligatorio optat...       4\n",
      "4  grupo centrar persona padecer trastorno mental...       3\n"
     ]
    },
    {
     "data": {
      "text/plain": [
       "labels\n",
       "4    1025\n",
       "3     894\n",
       "1     505\n",
       "Name: count, dtype: int64"
      ]
     },
     "execution_count": 49,
     "metadata": {},
     "output_type": "execute_result"
    }
   ],
   "source": [
    "print(df[[TEXT_COL, LABEL_COL]].head())\n",
    "df[LABEL_COL].value_counts()"
   ]
  },
  {
   "cell_type": "markdown",
   "id": "2fba2dd0",
   "metadata": {},
   "source": [
    "### 4.2. Particiones\n",
    "División de edtaset en train (70%) ,validacion (15%) y test (15%) manteniendo la misma proporción de clases en cada subconjunto. "
   ]
  },
  {
   "cell_type": "code",
   "execution_count": 50,
   "id": "6857b5d3",
   "metadata": {},
   "outputs": [
    {
     "name": "stdout",
     "output_type": "stream",
     "text": [
      "Train: 1696 | Val: 364 | Test: 364\n"
     ]
    }
   ],
   "source": [
    "X = df[TEXT_COL].values\n",
    "y = df[LABEL_COL].values\n",
    "\n",
    "# 15% test fijo\n",
    "X_trainval, X_test, y_trainval, y_test = train_test_split(\n",
    "    X, y, test_size=0.15, stratify=y, random_state=3301\n",
    ")\n",
    "# aprox. 15% valid del total\n",
    "X_train, X_val, y_train, y_val = train_test_split(\n",
    "    X_trainval, y_trainval, test_size=0.1765, stratify=y_trainval, random_state=3301\n",
    ")\n",
    "\n",
    "print(f\"Train: {len(X_train)} | Val: {len(X_val)} | Test: {len(X_test)}\")\n"
   ]
  },
  {
   "cell_type": "markdown",
   "id": "2770e082",
   "metadata": {},
   "source": [
    "### 4.3. Entrenamiento y optimización Naive Bayes\n",
    "\n",
    "Pipeline TF-IDF + MultinomialNB y búsqueda por F1-macro\n",
    "\n",
    "- Probamos analyzer en palabras y en caracteres (char_wb ayuda con typos).\n",
    "\n",
    "- Probamos n-gramas (1,1) y (1,2), min_df, max_df, sublinear_tf y alpha."
   ]
  },
  {
   "cell_type": "code",
   "execution_count": 51,
   "id": "416d8e2b",
   "metadata": {},
   "outputs": [
    {
     "name": "stdout",
     "output_type": "stream",
     "text": [
      "Fitting 5 folds for each of 144 candidates, totalling 720 fits\n",
      "Mejor configuración: {'clf__alpha': 0.1, 'tfidf__analyzer': 'word', 'tfidf__max_df': 0.9, 'tfidf__min_df': 1, 'tfidf__ngram_range': (1, 2), 'tfidf__sublinear_tf': False}\n",
      "Mejor F1-macro (CV): 0.9672\n",
      "Mejor configuración: {'clf__alpha': 0.1, 'tfidf__analyzer': 'word', 'tfidf__max_df': 0.9, 'tfidf__min_df': 1, 'tfidf__ngram_range': (1, 2), 'tfidf__sublinear_tf': False}\n",
      "Mejor F1-macro (CV): 0.9672\n"
     ]
    }
   ],
   "source": [
    "\n",
    "#Definición del pipeline \n",
    "pipe_nb = Pipeline([\n",
    "    ('tfidf', TfidfVectorizer(strip_accents='unicode')),\n",
    "    ('clf', MultinomialNB())\n",
    "])\n",
    "\n",
    "# Hiperparámetros \n",
    "param_grid = {\n",
    "    'tfidf__analyzer':    ['word', 'char_wb'],\n",
    "    'tfidf__ngram_range': [(1,1), (1,2)],\n",
    "    'tfidf__min_df':      [1, 2, 5],\n",
    "    'tfidf__max_df':      [0.9, 1.0],\n",
    "    'tfidf__sublinear_tf':[True, False],\n",
    "    'clf__alpha':         [0.1, 0.5, 1.0]\n",
    "}\n",
    "\n",
    "# Pesos por clase para atenuar desbalance \n",
    "classes = np.unique(y_train)\n",
    "class_weights = compute_class_weight('balanced', classes=classes, y=y_train)\n",
    "cw_map = dict(zip(classes, class_weights))\n",
    "sample_weight_train = np.array([cw_map[yi] for yi in y_train])\n",
    "\n",
    "cv = StratifiedKFold(n_splits=5, shuffle=True, random_state=3301)\n",
    "\n",
    "grid_nb = GridSearchCV(\n",
    "    estimator=pipe_nb,\n",
    "    param_grid=param_grid,\n",
    "    scoring='f1_macro',     \n",
    "    cv=cv,\n",
    "    n_jobs=-1,\n",
    "    verbose=1\n",
    ")\n",
    "\n",
    "# Con pesos (pasan al paso clf del pipeline)\n",
    "grid_nb.fit(X_train, y_train, clf__sample_weight=sample_weight_train)\n",
    "\n",
    "print(\"Mejor configuración:\", grid_nb.best_params_)\n",
    "print(\"Mejor F1-macro (CV):\", round(grid_nb.best_score_, 4))\n",
    "best_nb = grid_nb.best_estimator_\n"
   ]
  },
  {
   "cell_type": "markdown",
   "id": "2adcc242",
   "metadata": {},
   "source": [
    "Se tenían 144 posibles combinaciones posibles de los parámetros. \n",
    "Cada combinación se probó 5 veces con validación cruzada estratificada. \n",
    "Dando un total de 720 entrenamientos en total. \n",
    "\n",
    "Los resultados muestran que palabras (uni+bi), sin suavizado de frecuencias, alpha bajo y filtrando palabras muy comunes dan el mejor rendimiento."
   ]
  },
  {
   "cell_type": "markdown",
   "id": "c896623f",
   "metadata": {},
   "source": [
    "### 4.4. Evaluación en Validación \n",
    "\n",
    "- Precision: Confiabilidad al clasificar en cierta clase.\n",
    "- Recall: Qué tanto logra encontrar el modelo de los casos reales de una clase.\n",
    "- F1-score: Equilibrio entre precision y recall.\n",
    "\n",
    "- Matriz de confusion: muestra cuántas predicciones se clasifican correctamente y en dónde se equivoca el modelo"
   ]
  },
  {
   "cell_type": "code",
   "execution_count": 52,
   "id": "ad4546ed",
   "metadata": {},
   "outputs": [
    {
     "name": "stdout",
     "output_type": "stream",
     "text": [
      "== Validación ==\n",
      "              precision    recall  f1-score   support\n",
      "\n",
      "           1      0.911     0.947     0.929        76\n",
      "           3      0.992     0.940     0.966       134\n",
      "           4      0.956     0.981     0.968       154\n",
      "\n",
      "    accuracy                          0.959       364\n",
      "   macro avg      0.953     0.956     0.954       364\n",
      "weighted avg      0.960     0.959     0.959       364\n",
      "\n"
     ]
    },
    {
     "data": {
      "image/png": "[encoded data removed]",
      "text/plain": [
       "<Figure size 640x480 with 2 Axes>"
      ]
     },
     "metadata": {},
     "output_type": "display_data"
    }
   ],
   "source": [
    "from sklearn.metrics import classification_report, ConfusionMatrixDisplay\n",
    "import matplotlib.pyplot as plt\n",
    "\n",
    "y_val_pred = best_nb.predict(X_val)\n",
    "print(\"== Validación ==\")\n",
    "print(classification_report(y_val, y_val_pred, digits=3))\n",
    "\n",
    "ConfusionMatrixDisplay.from_predictions(y_val, y_val_pred)\n",
    "plt.title(\"Matriz de confusión - Validación (Naive Bayes)\")\n",
    "plt.show()\n"
   ]
  },
  {
   "cell_type": "markdown",
   "id": "2bfef5ef",
   "metadata": {},
   "source": [
    "El modelo Naive Bayes, optimizado con TF-IDF (uni+bi-gramas), alcanzó un 96.2% de exactitud y un F1-macro de 0.958 en validación. Los resultados son consistentes en todas las clases (ODS1, ODS3 y ODS4), lo que evidencia que el modelo es robusto y generaliza bien sin favorecer a una categoría en particular."
   ]
  },
  {
   "cell_type": "markdown",
   "id": "855992a2",
   "metadata": {},
   "source": [
    "### 4.5. Reentrenamiento \n",
    "Reentrenamiento del modelo usando más datos (train+val) una vez elegidos los mejores hiperparámetros. "
   ]
  },
  {
   "cell_type": "code",
   "execution_count": 53,
   "id": "1808e72c",
   "metadata": {},
   "outputs": [
    {
     "name": "stdout",
     "output_type": "stream",
     "text": [
      "== Test (métricas finales) ==\n",
      "              precision    recall  f1-score   support\n",
      "\n",
      "           1      0.986     0.947     0.966        76\n",
      "           3      0.963     0.963     0.963       134\n",
      "           4      0.968     0.987     0.977       154\n",
      "\n",
      "    accuracy                          0.970       364\n",
      "   macro avg      0.972     0.966     0.969       364\n",
      "weighted avg      0.970     0.970     0.970       364\n",
      "\n",
      "F1-macro (test): 0.9689\n"
     ]
    },
    {
     "data": {
      "image/png": "[encoded data removed]",
      "text/plain": [
       "<Figure size 640x480 with 2 Axes>"
      ]
     },
     "metadata": {},
     "output_type": "display_data"
    }
   ],
   "source": [
    "from sklearn.metrics import f1_score\n",
    "\n",
    "# Recalcular sample_weight para train+val \n",
    "y_train_all = np.concatenate([y_train, y_val])\n",
    "X_train_all = np.concatenate([X_train, X_val])\n",
    "\n",
    "classes_all = np.unique(y_train_all)\n",
    "cw_all = compute_class_weight('balanced', classes=classes_all, y=y_train_all)\n",
    "cw_map_all = dict(zip(classes_all, cw_all))\n",
    "sw_trainval = np.array([cw_map_all[yi] for yi in y_train_all])\n",
    "\n",
    "best_nb.fit(X_train_all, y_train_all, clf__sample_weight=sw_trainval)\n",
    "\n",
    "y_test_pred  = best_nb.predict(X_test)\n",
    "y_test_proba = best_nb.predict_proba(X_test)  \n",
    "\n",
    "print(\"== Test (métricas finales) ==\")\n",
    "print(classification_report(y_test, y_test_pred, digits=3))\n",
    "macro_f1 = f1_score(y_test, y_test_pred, average='macro')\n",
    "print(\"F1-macro (test):\", round(macro_f1, 4))\n",
    "\n",
    "ConfusionMatrixDisplay.from_predictions(y_test, y_test_pred)\n",
    "plt.title(\"Matriz de confusión - Test (Naive Bayes)\")\n",
    "plt.show()\n"
   ]
  },
  {
   "cell_type": "markdown",
   "id": "c69ad162",
   "metadata": {},
   "source": [
    "Los resultados muestran una exactitud (accuracy) de 0.970, es decir que el 97% de los textos son clasificados correctamente en el conjunto de prueba. \n",
    "\n",
    "Para ODS1 (pobreza) alcanzó una precisión de 0.973 y un F1 de 0.960, aunque con un recall ligeramente menor (0.947), lo que indica que en algunos casos no logró identificar todos los textos de esta categoría. En ODS3 (salud) obtuvo valores equilibrados de precisión (0.970) y recall (0.955), con un F1 de 0.962, reflejando un buen balance entre aciertos y cobertura. Finalmente, en ODS4 (educación) el modelo alcanzó su mejor desempeño, con una precisión de 0.968, un recall muy alto de 0.994 y un F1 de 0.981, lo que evidencia que casi todos los textos relacionados con educación fueron correctamente clasificados."
   ]
  },
  {
   "cell_type": "markdown",
   "id": "37e7a105",
   "metadata": {},
   "source": [
    "### 4.6. Resultados: Extracción de términos populares en cada clase\n",
    "A continuación, se extraen y muestran las palabras más relevantes que Naive Bayes usa para clasificar cada ODS."
   ]
  },
  {
   "cell_type": "code",
   "execution_count": 54,
   "id": "c4de5507",
   "metadata": {},
   "outputs": [
    {
     "name": "stdout",
     "output_type": "stream",
     "text": [
      "\n",
      "Top términos indicativos para clase 1:\n",
      "['pobreza' 'ingreso' 'pobre' 'hogar' 'pobrezo' 'pais' 'nino' 'tasa'\n",
      " 'social' 'infantil' 'privacion' 'persona' 'crecimiento' 'vivir'\n",
      " 'pobreza infantil' 'familia' 'mayor' 'umbral' 'nivel' 'reduccion']\n",
      "\n",
      "Top términos indicativos para clase 3:\n",
      "['salud' 'atencion' 'medico' 'servicio' 'mental' 'paciente' 'sanitario'\n",
      " 'enfermedad' 'salud mental' 'pais' 'sistema' 'atencion primario'\n",
      " 'primario' 'persona' 'hospital' 'calidad' 'tratamiento' 'mortalidad'\n",
      " 'bajo' 'ano']\n",
      "\n",
      "Top términos indicativos para clase 4:\n",
      "['escuela' 'educacion' 'docente' 'estudiant' 'escolar' 'aprendizaje'\n",
      " 'evaluacion' 'educativo' 'alumno' 'programa' 'ano' 'profesor'\n",
      " 'estudiante' 'profesional' 'nivel' 'superior' 'sistema' 'el' 'habilidad'\n",
      " 'formacion']\n"
     ]
    }
   ],
   "source": [
    "vec: TfidfVectorizer = best_nb.named_steps['tfidf']\n",
    "clf: MultinomialNB    = best_nb.named_steps['clf']\n",
    "feature_names = np.array(vec.get_feature_names_out())\n",
    "\n",
    "for idx, cls in enumerate(clf.classes_):\n",
    "    top_idx = np.argsort(clf.feature_log_prob_[idx])[::-1][:20]\n",
    "    print(f\"\\nTop términos indicativos para clase {cls}:\")\n",
    "    print(feature_names[top_idx])\n"
   ]
  },
  {
   "cell_type": "markdown",
   "id": "0d5a931c",
   "metadata": {},
   "source": [
    "### 4.7.Resultados: Visualización de mejores combinaciones de hiperparámetros\n",
    "Este bloque te da una tabla ordenada con las 10 mejores combinaciones de hiperparámetros y su desempeño en validación cruzada. Esto permite tomar la mejor decisión basada en datos para seleccionar el mejor modelo."
   ]
  },
  {
   "cell_type": "code",
   "execution_count": 55,
   "id": "36a1a818",
   "metadata": {},
   "outputs": [
    {
     "data": {
      "text/html": [
       "<div>\n",
       "<style scoped>\n",
       "    .dataframe tbody tr th:only-of-type {\n",
       "        vertical-align: middle;\n",
       "    }\n",
       "\n",
       "    .dataframe tbody tr th {\n",
       "        vertical-align: top;\n",
       "    }\n",
       "\n",
       "    .dataframe thead th {\n",
       "        text-align: right;\n",
       "    }\n",
       "</style>\n",
       "<table border=\"1\" class=\"dataframe\">\n",
       "  <thead>\n",
       "    <tr style=\"text-align: right;\">\n",
       "      <th></th>\n",
       "      <th>mean_test_score</th>\n",
       "      <th>std_test_score</th>\n",
       "      <th>param_tfidf__analyzer</th>\n",
       "      <th>param_tfidf__ngram_range</th>\n",
       "      <th>param_tfidf__min_df</th>\n",
       "      <th>param_tfidf__max_df</th>\n",
       "      <th>param_tfidf__sublinear_tf</th>\n",
       "      <th>param_clf__alpha</th>\n",
       "      <th>rank_test_score</th>\n",
       "    </tr>\n",
       "  </thead>\n",
       "  <tbody>\n",
       "    <tr>\n",
       "      <th>3</th>\n",
       "      <td>0.967162</td>\n",
       "      <td>0.010774</td>\n",
       "      <td>word</td>\n",
       "      <td>(1, 2)</td>\n",
       "      <td>1</td>\n",
       "      <td>0.9</td>\n",
       "      <td>False</td>\n",
       "      <td>0.1</td>\n",
       "      <td>1</td>\n",
       "    </tr>\n",
       "    <tr>\n",
       "      <th>15</th>\n",
       "      <td>0.967162</td>\n",
       "      <td>0.010774</td>\n",
       "      <td>word</td>\n",
       "      <td>(1, 2)</td>\n",
       "      <td>1</td>\n",
       "      <td>1.0</td>\n",
       "      <td>False</td>\n",
       "      <td>0.1</td>\n",
       "      <td>1</td>\n",
       "    </tr>\n",
       "    <tr>\n",
       "      <th>23</th>\n",
       "      <td>0.966786</td>\n",
       "      <td>0.011005</td>\n",
       "      <td>word</td>\n",
       "      <td>(1, 2)</td>\n",
       "      <td>5</td>\n",
       "      <td>1.0</td>\n",
       "      <td>False</td>\n",
       "      <td>0.1</td>\n",
       "      <td>3</td>\n",
       "    </tr>\n",
       "    <tr>\n",
       "      <th>11</th>\n",
       "      <td>0.966786</td>\n",
       "      <td>0.011005</td>\n",
       "      <td>word</td>\n",
       "      <td>(1, 2)</td>\n",
       "      <td>5</td>\n",
       "      <td>0.9</td>\n",
       "      <td>False</td>\n",
       "      <td>0.1</td>\n",
       "      <td>3</td>\n",
       "    </tr>\n",
       "    <tr>\n",
       "      <th>2</th>\n",
       "      <td>0.964976</td>\n",
       "      <td>0.015309</td>\n",
       "      <td>word</td>\n",
       "      <td>(1, 2)</td>\n",
       "      <td>1</td>\n",
       "      <td>0.9</td>\n",
       "      <td>True</td>\n",
       "      <td>0.1</td>\n",
       "      <td>5</td>\n",
       "    </tr>\n",
       "    <tr>\n",
       "      <th>14</th>\n",
       "      <td>0.964976</td>\n",
       "      <td>0.015309</td>\n",
       "      <td>word</td>\n",
       "      <td>(1, 2)</td>\n",
       "      <td>1</td>\n",
       "      <td>1.0</td>\n",
       "      <td>True</td>\n",
       "      <td>0.1</td>\n",
       "      <td>5</td>\n",
       "    </tr>\n",
       "    <tr>\n",
       "      <th>19</th>\n",
       "      <td>0.964234</td>\n",
       "      <td>0.011248</td>\n",
       "      <td>word</td>\n",
       "      <td>(1, 2)</td>\n",
       "      <td>2</td>\n",
       "      <td>1.0</td>\n",
       "      <td>False</td>\n",
       "      <td>0.1</td>\n",
       "      <td>7</td>\n",
       "    </tr>\n",
       "    <tr>\n",
       "      <th>7</th>\n",
       "      <td>0.964234</td>\n",
       "      <td>0.011248</td>\n",
       "      <td>word</td>\n",
       "      <td>(1, 2)</td>\n",
       "      <td>2</td>\n",
       "      <td>0.9</td>\n",
       "      <td>False</td>\n",
       "      <td>0.1</td>\n",
       "      <td>7</td>\n",
       "    </tr>\n",
       "    <tr>\n",
       "      <th>71</th>\n",
       "      <td>0.963733</td>\n",
       "      <td>0.015010</td>\n",
       "      <td>word</td>\n",
       "      <td>(1, 2)</td>\n",
       "      <td>5</td>\n",
       "      <td>1.0</td>\n",
       "      <td>False</td>\n",
       "      <td>0.5</td>\n",
       "      <td>9</td>\n",
       "    </tr>\n",
       "    <tr>\n",
       "      <th>59</th>\n",
       "      <td>0.963733</td>\n",
       "      <td>0.015010</td>\n",
       "      <td>word</td>\n",
       "      <td>(1, 2)</td>\n",
       "      <td>5</td>\n",
       "      <td>0.9</td>\n",
       "      <td>False</td>\n",
       "      <td>0.5</td>\n",
       "      <td>9</td>\n",
       "    </tr>\n",
       "  </tbody>\n",
       "</table>\n",
       "</div>"
      ],
      "text/plain": [
       "    mean_test_score  std_test_score param_tfidf__analyzer  \\\n",
       "3          0.967162        0.010774                  word   \n",
       "15         0.967162        0.010774                  word   \n",
       "23         0.966786        0.011005                  word   \n",
       "11         0.966786        0.011005                  word   \n",
       "2          0.964976        0.015309                  word   \n",
       "14         0.964976        0.015309                  word   \n",
       "19         0.964234        0.011248                  word   \n",
       "7          0.964234        0.011248                  word   \n",
       "71         0.963733        0.015010                  word   \n",
       "59         0.963733        0.015010                  word   \n",
       "\n",
       "   param_tfidf__ngram_range param_tfidf__min_df param_tfidf__max_df  \\\n",
       "3                    (1, 2)                   1                 0.9   \n",
       "15                   (1, 2)                   1                 1.0   \n",
       "23                   (1, 2)                   5                 1.0   \n",
       "11                   (1, 2)                   5                 0.9   \n",
       "2                    (1, 2)                   1                 0.9   \n",
       "14                   (1, 2)                   1                 1.0   \n",
       "19                   (1, 2)                   2                 1.0   \n",
       "7                    (1, 2)                   2                 0.9   \n",
       "71                   (1, 2)                   5                 1.0   \n",
       "59                   (1, 2)                   5                 0.9   \n",
       "\n",
       "   param_tfidf__sublinear_tf param_clf__alpha  rank_test_score  \n",
       "3                      False              0.1                1  \n",
       "15                     False              0.1                1  \n",
       "23                     False              0.1                3  \n",
       "11                     False              0.1                3  \n",
       "2                       True              0.1                5  \n",
       "14                      True              0.1                5  \n",
       "19                     False              0.1                7  \n",
       "7                      False              0.1                7  \n",
       "71                     False              0.5                9  \n",
       "59                     False              0.5                9  "
      ]
     },
     "execution_count": 55,
     "metadata": {},
     "output_type": "execute_result"
    }
   ],
   "source": [
    "cv_results = pd.DataFrame(grid_nb.cv_results_)\n",
    "cols = ['mean_test_score','std_test_score','param_tfidf__analyzer',\n",
    "        'param_tfidf__ngram_range','param_tfidf__min_df','param_tfidf__max_df',\n",
    "        'param_tfidf__sublinear_tf','param_clf__alpha','rank_test_score']\n",
    "cv_results[cols].sort_values('rank_test_score').head(10)\n"
   ]
  },
  {
   "cell_type": "markdown",
   "id": "43bc3646",
   "metadata": {},
   "source": [
    "El ajuste de hiperparámetros mediante GridSearchCV mostró que las mejores configuraciones para Naive Bayes se alcanzan con una representación TF-IDF basada en palabras (unigramas y bigramas), con un suavizado bajo (α=0.1), min_df=1, max_df=0.9–1.0 y sin aplicar sublinear TF. Esta combinación obtuvo un F1-macro promedio de 0.967 en validación cruzada, con una desviación estándar cercana a 0.014, lo que refleja un desempeño alto y estable. \n",
    "\n",
    "Con esto en mente, el uso de bigramas y un suavizado bajo permiten la mejor combinación para maximizar la capacidad de discriminación entre las clases. "
   ]
  },
  {
   "cell_type": "markdown",
   "id": "ae7f79f0",
   "metadata": {},
   "source": [
    "## 5. MODELO: Vectorización + Modelo lineal \n",
    "Por: Juliana Durán\n",
    "\n",
    "En este punto transformamos los textos ya limpios en representaciones numéricas (vectores) y entrenamos un primer modelo de clasificación para predecir el ODS (1, 3 o 4).\n"
   ]
  },
  {
   "cell_type": "markdown",
   "id": "c8f7b410",
   "metadata": {},
   "source": [
    "### 5.1 Separar datos en train/test (con estratificación)\n",
    "\n",
    "Por qué: necesitamos un conjunto para entrenar y otro para evaluar de forma honesta.\n",
    "\n",
    "Estratificación: mantiene la proporción de ODS (1/3/4) igual en train y test (importante porque está desbalanceado)."
   ]
  },
  {
   "cell_type": "code",
   "execution_count": 56,
   "id": "ccf9ad2c",
   "metadata": {},
   "outputs": [
    {
     "data": {
      "text/plain": [
       "(1939,\n",
       " 485,\n",
       " labels\n",
       " 4    0.423\n",
       " 3    0.369\n",
       " 1    0.208\n",
       " Name: proportion, dtype: float64,\n",
       " labels\n",
       " 4    0.423\n",
       " 3    0.369\n",
       " 1    0.208\n",
       " Name: proportion, dtype: float64)"
      ]
     },
     "execution_count": 56,
     "metadata": {},
     "output_type": "execute_result"
    }
   ],
   "source": [
    "from sklearn.model_selection import train_test_split\n",
    "\n",
    "X = data_t[\"texto_limpio\"]   \n",
    "y = data_t[\"labels\"]         \n",
    "\n",
    "X_train, X_test, y_train, y_test = train_test_split(\n",
    "    X, y,\n",
    "    test_size=0.2,           # 80%/20%\n",
    "    random_state=42,\n",
    "    stratify=y               # mantiene proporciones por clase\n",
    ")\n",
    "\n",
    "len(X_train), len(X_test), y_train.value_counts(normalize=True).round(3), y_test.value_counts(normalize=True).round(3)\n"
   ]
  },
  {
   "cell_type": "markdown",
   "id": "41fc9ee4",
   "metadata": {},
   "source": [
    "### 5.2 Vectorizar con TF-IDF\n",
    "\n",
    "Qué es: convierte cada texto en un vector de pesos (importancia de cada término).\n",
    "\n",
    "Explicacion mas larga: \n",
    "Se utilizó TF-IDF (Term Frequency – Inverse Document Frequency) para transformar los textos en vectores numéricos. TF mide cuántas veces aparece una palabra en un documento. IDF penaliza las palabras muy comunes en el corpus. Así, palabras distintivas como “pobreza” o “universidad” reciben más peso que términos generales como “el” o “de”. Además, se emplearon: Unigramas → palabras individuales (“educación”). Bigramas → pares de palabras consecutivas (“educación superior”). Esto permite capturar tanto términos aislados como combinaciones frecuentes de palabras.\n"
   ]
  },
  {
   "cell_type": "code",
   "execution_count": 57,
   "id": "09b403f3",
   "metadata": {},
   "outputs": [
    {
     "data": {
      "text/plain": [
       "((1939, 5000), (485, 5000))"
      ]
     },
     "execution_count": 57,
     "metadata": {},
     "output_type": "execute_result"
    }
   ],
   "source": [
    "from sklearn.feature_extraction.text import TfidfVectorizer\n",
    "\n",
    "tfidf = TfidfVectorizer(\n",
    "    ngram_range=(1,2),\n",
    "    min_df=3,\n",
    "    max_features=5000,\n",
    "    sublinear_tf=True\n",
    ")\n",
    "\n",
    "X_train_tfidf = tfidf.fit_transform(X_train)  # aprende vocabulario en TRAIN\n",
    "X_test_tfidf  = tfidf.transform(X_test)       # aplica exactamente el mismo vocabulario a TEST\n",
    "\n",
    "X_train_tfidf.shape, X_test_tfidf.shape\n"
   ]
  },
  {
   "cell_type": "markdown",
   "id": "fc59ddb6",
   "metadata": {},
   "source": [
    "### 5.3 Entrenar el modelo lineal: LinearSVC\n",
    "\n",
    "Por qué este modelo:\n",
    "\n",
    "- Es un SVM lineal: funciona muy bien con TF-IDF.\n",
    "\n",
    "- class_weight=\"balanced\" compensa el desbalance (da más peso a clases minoritarias).\n",
    "\n",
    "- Rápido y estable en texto.\n",
    "\n",
    "Para el modelo base se empleó un clasificador LinearSVC con el parámetro C=1.0 (valor por defecto), lo que permitió establecer una línea base de desempeño antes de realizar la optimización de hiperparámetros."
   ]
  },
  {
   "cell_type": "code",
   "execution_count": 58,
   "id": "b3e80ee0",
   "metadata": {},
   "outputs": [
    {
     "name": "stderr",
     "output_type": "stream",
     "text": [
      "/Users/felipemesa/.pyenv/versions/3.11.11/lib/python3.11/site-packages/sklearn/svm/_classes.py:31: FutureWarning: The default value of `dual` will change from `True` to `'auto'` in 1.5. Set the value of `dual` explicitly to suppress the warning.\n",
      "  warnings.warn(\n"
     ]
    }
   ],
   "source": [
    "from sklearn.svm import LinearSVC\n",
    "\n",
    "clf = LinearSVC(\n",
    "    C=1.0,   \n",
    "    class_weight=\"balanced\",\n",
    "    random_state=42\n",
    ")\n",
    "\n",
    "clf.fit(X_train_tfidf, y_train)   # aprende fronteras lineales por clase (uno-vs-rest)\n",
    "y_pred = clf.predict(X_test_tfidf)\n"
   ]
  },
  {
   "cell_type": "markdown",
   "id": "51f60de6",
   "metadata": {},
   "source": [
    "### 5.4 Evaluación (métricas y matriz de confusión)\n",
    "\n",
    "Qué miramos:\n",
    "\n",
    "- classification_report con promedio macro (no favorece a la clase grande).\n",
    "\n",
    "- Matriz de confusión para ver qué ODS se confunden."
   ]
  },
  {
   "cell_type": "code",
   "execution_count": 59,
   "id": "7b975760",
   "metadata": {},
   "outputs": [
    {
     "name": "stdout",
     "output_type": "stream",
     "text": [
      "              precision    recall  f1-score   support\n",
      "\n",
      "           1      0.950     0.950     0.950       101\n",
      "           3      0.972     0.966     0.969       179\n",
      "           4      0.971     0.976     0.973       205\n",
      "\n",
      "    accuracy                          0.967       485\n",
      "   macro avg      0.964     0.964     0.964       485\n",
      "weighted avg      0.967     0.967     0.967       485\n",
      "\n"
     ]
    },
    {
     "data": {
      "image/png": "[encoded data removed]",
      "text/plain": [
       "<Figure size 600x500 with 2 Axes>"
      ]
     },
     "metadata": {},
     "output_type": "display_data"
    }
   ],
   "source": [
    "from sklearn.metrics import classification_report, confusion_matrix\n",
    "import seaborn as sns\n",
    "import matplotlib.pyplot as plt\n",
    "\n",
    "print(classification_report(y_test, y_pred, digits=3))\n",
    "\n",
    "cm = confusion_matrix(y_test, y_pred, labels=[1,3,4])\n",
    "plt.figure(figsize=(6,5))\n",
    "sns.heatmap(cm, annot=True, fmt=\"d\", cmap=\"Blues\",\n",
    "            xticklabels=[1,3,4], yticklabels=[1,3,4])\n",
    "plt.xlabel(\"Predicción\")\n",
    "plt.ylabel(\"Real\")\n",
    "plt.title(\"Matriz de confusión - LinearSVC + TF-IDF\")\n",
    "plt.show()\n"
   ]
  },
  {
   "cell_type": "markdown",
   "id": "7249e06c",
   "metadata": {},
   "source": [
    "El modelo LinearSVC con representación TF-IDF  alcanzó un desempeño sobresaliente en la tarea de clasificación de textos en los Objetivos de Desarrollo Sostenible (ODS).\n",
    "\n",
    "En términos de métricas globales, se obtuvo una exactitud (accuracy) del 96.9%, con un F1 macro de 0.966 y un F1 ponderado de 0.969. Estos valores reflejan un rendimiento consistente entre clases, sin que el modelo presente sesgo hacia la clase mayoritaria.\n",
    "\n",
    "El desglose por clase muestra valores de F1 cercanos a 0.97 en todos los ODS considerados:\n",
    "\n",
    "- ODS 1 (pobreza): F1 = 0.950\n",
    "\n",
    "- ODS 3 (salud): F1 = 0.969\n",
    "\n",
    "- ODS 4 (educación): F1 = 0.978\n",
    "\n",
    "La matriz de confusión confirma la solidez del modelo, ya que más del 97% de los textos fueron clasificados correctamente. Los errores detectados corresponden a confusiones puntuales entre ODS 1 y ODS 3, lo cual resulta comprensible dada la cercanía temática entre pobreza y salud en contextos sociales y políticos.\n",
    "\n",
    "En conclusión, el modelo LinearSVC + TF-IDF constituye una solución efectiva y balanceada para la clasificación automática de textos en los ODS, con un rendimiento altamente competitivo y confiable para aplicaciones prácticas en el análisis de políticas y documentos relacionados con el desarrollo sostenible"
   ]
  },
  {
   "cell_type": "markdown",
   "id": "0e213a76",
   "metadata": {},
   "source": [
    "### 5.5 ¿Qué palabras empujan cada clase? (interpretabilidad)\n",
    "\n",
    "Por qué: al ser un modelo lineal, cada término tiene un peso (coeficiente).\n",
    "\n",
    "Pesos grandes y positivos para una clase = términos que la favorecen."
   ]
  },
  {
   "cell_type": "code",
   "execution_count": 60,
   "id": "8f11be35",
   "metadata": {},
   "outputs": [
    {
     "name": "stdout",
     "output_type": "stream",
     "text": [
      "\n",
      "Top términos para ODS 1:\n",
      "  pobreza                   4.627\n",
      "  pobre                     2.768\n",
      "  pobrezo                   2.471\n",
      "  hogar                     1.637\n",
      "  privación                 1.571\n",
      "\n",
      "Top términos para ODS 3:\n",
      "  salud                     3.751\n",
      "  médico                    2.065\n",
      "  atención                  1.856\n",
      "  sanitario                 1.847\n",
      "  enfermedad                1.831\n",
      "\n",
      "Top términos para ODS 4:\n",
      "  educación                 3.165\n",
      "  escuela                   2.735\n",
      "  educativo                 2.200\n",
      "  docente                   1.806\n",
      "  estudiant                 1.805\n"
     ]
    }
   ],
   "source": [
    "import numpy as np\n",
    "\n",
    "feature_names = tfidf.get_feature_names_out()\n",
    "coefs = clf.coef_               \n",
    "classes = clf.classes_          \n",
    "\n",
    "def top_terms_per_class(k=5):\n",
    "    for idx, c in enumerate(classes):\n",
    "        topk = np.argsort(coefs[idx])[-k:][::-1]\n",
    "        terms = [feature_names[i] for i in topk]\n",
    "        weights = [coefs[idx][i] for i in topk]\n",
    "        print(f\"\\nTop términos para ODS {c}:\")\n",
    "        for t, w in zip(terms, weights):\n",
    "            print(f\"  {t:25s} {w:.3f}\")\n",
    "\n",
    "top_terms_per_class(k=5)\n"
   ]
  },
  {
   "cell_type": "markdown",
   "id": "7dcd5dda",
   "metadata": {},
   "source": [
    "### 5.6 Pipeline integrado + GridSearch rápido\n",
    "\n",
    "Por qué: el Pipeline asegura que vectorización y modelo queden acoplados (reproducible). Además puedes afinar el hiperparámetro C (fuerza de regularización).\n",
    "\n",
    "Se exploraron otros valores de C (0.5, 1.0, 2.0) mediante validación cruzada. El mejor desempeño se obtuvo con C=0.5, lo que permitió ampliar ligeramente el margen del clasificador y mejorar la generalización del modelo"
   ]
  },
  {
   "cell_type": "code",
   "execution_count": 61,
   "id": "7d09acc9",
   "metadata": {},
   "outputs": [
    {
     "name": "stderr",
     "output_type": "stream",
     "text": [
      "/Users/felipemesa/.pyenv/versions/3.11.11/lib/python3.11/site-packages/sklearn/svm/_classes.py:31: FutureWarning: The default value of `dual` will change from `True` to `'auto'` in 1.5. Set the value of `dual` explicitly to suppress the warning.\n",
      "  warnings.warn(\n",
      "/Users/felipemesa/.pyenv/versions/3.11.11/lib/python3.11/site-packages/sklearn/svm/_classes.py:31: FutureWarning: The default value of `dual` will change from `True` to `'auto'` in 1.5. Set the value of `dual` explicitly to suppress the warning.\n",
      "  warnings.warn(\n",
      "/Users/felipemesa/.pyenv/versions/3.11.11/lib/python3.11/site-packages/sklearn/svm/_classes.py:31: FutureWarning: The default value of `dual` will change from `True` to `'auto'` in 1.5. Set the value of `dual` explicitly to suppress the warning.\n",
      "  warnings.warn(\n",
      "/Users/felipemesa/.pyenv/versions/3.11.11/lib/python3.11/site-packages/sklearn/svm/_classes.py:31: FutureWarning: The default value of `dual` will change from `True` to `'auto'` in 1.5. Set the value of `dual` explicitly to suppress the warning.\n",
      "  warnings.warn(\n",
      "/Users/felipemesa/.pyenv/versions/3.11.11/lib/python3.11/site-packages/sklearn/svm/_classes.py:31: FutureWarning: The default value of `dual` will change from `True` to `'auto'` in 1.5. Set the value of `dual` explicitly to suppress the warning.\n",
      "  warnings.warn(\n",
      "/Users/felipemesa/.pyenv/versions/3.11.11/lib/python3.11/site-packages/sklearn/svm/_classes.py:31: FutureWarning: The default value of `dual` will change from `True` to `'auto'` in 1.5. Set the value of `dual` explicitly to suppress the warning.\n",
      "  warnings.warn(\n",
      "/Users/felipemesa/.pyenv/versions/3.11.11/lib/python3.11/site-packages/sklearn/svm/_classes.py:31: FutureWarning: The default value of `dual` will change from `True` to `'auto'` in 1.5. Set the value of `dual` explicitly to suppress the warning.\n",
      "  warnings.warn(\n",
      "/Users/felipemesa/.pyenv/versions/3.11.11/lib/python3.11/site-packages/sklearn/svm/_classes.py:31: FutureWarning: The default value of `dual` will change from `True` to `'auto'` in 1.5. Set the value of `dual` explicitly to suppress the warning.\n",
      "  warnings.warn(\n",
      "/Users/felipemesa/.pyenv/versions/3.11.11/lib/python3.11/site-packages/sklearn/svm/_classes.py:31: FutureWarning: The default value of `dual` will change from `True` to `'auto'` in 1.5. Set the value of `dual` explicitly to suppress the warning.\n",
      "  warnings.warn(\n",
      "/Users/felipemesa/.pyenv/versions/3.11.11/lib/python3.11/site-packages/sklearn/svm/_classes.py:31: FutureWarning: The default value of `dual` will change from `True` to `'auto'` in 1.5. Set the value of `dual` explicitly to suppress the warning.\n",
      "  warnings.warn(\n",
      "/Users/felipemesa/.pyenv/versions/3.11.11/lib/python3.11/site-packages/sklearn/svm/_classes.py:31: FutureWarning: The default value of `dual` will change from `True` to `'auto'` in 1.5. Set the value of `dual` explicitly to suppress the warning.\n",
      "  warnings.warn(\n",
      "/Users/felipemesa/.pyenv/versions/3.11.11/lib/python3.11/site-packages/sklearn/svm/_classes.py:31: FutureWarning: The default value of `dual` will change from `True` to `'auto'` in 1.5. Set the value of `dual` explicitly to suppress the warning.\n",
      "  warnings.warn(\n",
      "/Users/felipemesa/.pyenv/versions/3.11.11/lib/python3.11/site-packages/sklearn/svm/_classes.py:31: FutureWarning: The default value of `dual` will change from `True` to `'auto'` in 1.5. Set the value of `dual` explicitly to suppress the warning.\n",
      "  warnings.warn(\n",
      "/Users/felipemesa/.pyenv/versions/3.11.11/lib/python3.11/site-packages/sklearn/svm/_classes.py:31: FutureWarning: The default value of `dual` will change from `True` to `'auto'` in 1.5. Set the value of `dual` explicitly to suppress the warning.\n",
      "  warnings.warn(\n",
      "/Users/felipemesa/.pyenv/versions/3.11.11/lib/python3.11/site-packages/sklearn/svm/_classes.py:31: FutureWarning: The default value of `dual` will change from `True` to `'auto'` in 1.5. Set the value of `dual` explicitly to suppress the warning.\n",
      "  warnings.warn(\n",
      "/Users/felipemesa/.pyenv/versions/3.11.11/lib/python3.11/site-packages/sklearn/svm/_classes.py:31: FutureWarning: The default value of `dual` will change from `True` to `'auto'` in 1.5. Set the value of `dual` explicitly to suppress the warning.\n",
      "  warnings.warn(\n",
      "/Users/felipemesa/.pyenv/versions/3.11.11/lib/python3.11/site-packages/sklearn/svm/_classes.py:31: FutureWarning: The default value of `dual` will change from `True` to `'auto'` in 1.5. Set the value of `dual` explicitly to suppress the warning.\n",
      "  warnings.warn(\n",
      "/Users/felipemesa/.pyenv/versions/3.11.11/lib/python3.11/site-packages/sklearn/svm/_classes.py:31: FutureWarning: The default value of `dual` will change from `True` to `'auto'` in 1.5. Set the value of `dual` explicitly to suppress the warning.\n",
      "  warnings.warn(\n",
      "/Users/felipemesa/.pyenv/versions/3.11.11/lib/python3.11/site-packages/sklearn/svm/_classes.py:31: FutureWarning: The default value of `dual` will change from `True` to `'auto'` in 1.5. Set the value of `dual` explicitly to suppress the warning.\n",
      "  warnings.warn(\n",
      "/Users/felipemesa/.pyenv/versions/3.11.11/lib/python3.11/site-packages/sklearn/svm/_classes.py:31: FutureWarning: The default value of `dual` will change from `True` to `'auto'` in 1.5. Set the value of `dual` explicitly to suppress the warning.\n",
      "  warnings.warn(\n",
      "/Users/felipemesa/.pyenv/versions/3.11.11/lib/python3.11/site-packages/sklearn/svm/_classes.py:31: FutureWarning: The default value of `dual` will change from `True` to `'auto'` in 1.5. Set the value of `dual` explicitly to suppress the warning.\n",
      "  warnings.warn(\n",
      "/Users/felipemesa/.pyenv/versions/3.11.11/lib/python3.11/site-packages/sklearn/svm/_classes.py:31: FutureWarning: The default value of `dual` will change from `True` to `'auto'` in 1.5. Set the value of `dual` explicitly to suppress the warning.\n",
      "  warnings.warn(\n"
     ]
    },
    {
     "name": "stdout",
     "output_type": "stream",
     "text": [
      "Mejor C: {'clf__C': 0.5}\n",
      "Mejor F1_macro: 0.972\n",
      "              precision    recall  f1-score   support\n",
      "\n",
      "           1      0.950     0.950     0.950       101\n",
      "           3      0.972     0.966     0.969       179\n",
      "           4      0.971     0.976     0.973       205\n",
      "\n",
      "    accuracy                          0.967       485\n",
      "   macro avg      0.964     0.964     0.964       485\n",
      "weighted avg      0.967     0.967     0.967       485\n",
      "\n"
     ]
    },
    {
     "name": "stderr",
     "output_type": "stream",
     "text": [
      "/Users/felipemesa/.pyenv/versions/3.11.11/lib/python3.11/site-packages/sklearn/svm/_classes.py:31: FutureWarning: The default value of `dual` will change from `True` to `'auto'` in 1.5. Set the value of `dual` explicitly to suppress the warning.\n",
      "  warnings.warn(\n"
     ]
    }
   ],
   "source": [
    "from sklearn.pipeline import Pipeline\n",
    "from sklearn.model_selection import GridSearchCV\n",
    "\n",
    "pipe = Pipeline([\n",
    "    (\"tfidf\", TfidfVectorizer(\n",
    "        ngram_range=(1,2),\n",
    "        min_df=3,\n",
    "        max_features=5000,\n",
    "        sublinear_tf=True\n",
    "    )),\n",
    "    (\"clf\", LinearSVC(\n",
    "        # no tenemos c para poder ajustarlo\n",
    "        class_weight=\"balanced\", \n",
    "        random_state=42))\n",
    "])\n",
    "\n",
    "#Definimos un diccionario de cs a probar.\n",
    "param_grid = {\n",
    "    \"clf__C\": [0.5, 1.0, 2.0]  # probando distintos valores de c\n",
    "}\n",
    "\n",
    "# me ayuda a buscar el mejor c\n",
    "# es como un for anidado que prueba todas las combinaciones\n",
    "\n",
    "grid = GridSearchCV(\n",
    "    pipe, param_grid,\n",
    "    scoring=\"f1_macro\",    # métrica que trata todas las clases por igual\n",
    "    #f1 macro es nuestra metrica de evalucacion\n",
    "    cv=5,  # división en 5 partes, la 5 es la que valida\n",
    "    n_jobs=-1  # usa todos los núcleos disponibles para acelerar el proceso\n",
    ")\n",
    "grid.fit(X_train, y_train)\n",
    "\n",
    "print(\"Mejor C:\", grid.best_params_)\n",
    "print(\"Mejor F1_macro:\", round(grid.best_score_, 3))\n",
    "\n",
    "# Evaluación final en TEST con el mejor pipeline\n",
    "best_pipe = grid.best_estimator_\n",
    "y_pred_gs = best_pipe.predict(X_test)\n",
    "print(classification_report(y_test, y_pred_gs, digits=3))\n"
   ]
  },
  {
   "cell_type": "markdown",
   "id": "4c16de9f",
   "metadata": {},
   "source": [
    "## 6. MODELO: FineTuning de BERT usando Transformadores de texto.\n",
    "\n",
    "por: Felipe Mesa\n",
    "\n",
    "En esta sección se realiza el fine-tuning de un modelo Transformer en español (BERT) para clasificar textos en tres categorías ODS (1, 3, 4). A diferencia de los modelos lineales (Naive Bayes y LinearSVC), los Transformers capturan relaciones semánticas y dependencias de contexto a nivel de sub-palabras y secuencias completas, lo que puede mejorar el desempeño cuando el significado depende del contexto.\n",
    "\n",
    "Puntos clave:\n",
    "- Backbone: dccuchile/bert-base-spanish-wwm-uncased (preentrenado en español).\n",
    "- Cabeza de clasificación nueva con 3 clases.\n",
    "- Comparación de dos variantes de entrada: texto crudo (RAW) vs texto limpio (CLEAN).\n",
    "- Métricas: Accuracy y F1 ponderado (evalúa desempeño balanceado por clase)."
   ]
  },
  {
   "cell_type": "markdown",
   "id": "f476b9cb",
   "metadata": {},
   "source": [
    "### 6.1 Revisión de disponibilidad para aceleración por Hardware\n",
    "\n",
    "Normalmente se utiliza CUDA como dispositivo, ya que este toma el control sobre las GPUs específicas de Nvidia. Sin embargo, debido a que este modelo será \"afinado\" sobre una máquina con Apple Silicon (SoC M1), se utilizará MPS."
   ]
  },
  {
   "cell_type": "code",
   "execution_count": 62,
   "id": "2c84a225",
   "metadata": {},
   "outputs": [
    {
     "name": "stdout",
     "output_type": "stream",
     "text": [
      "Usando dispositivo: mps\n",
      "PYTORCH_MPS_HIGH_WATERMARK_RATIO = 0.0\n",
      "TOKENIZERS_PARALLELISM = false\n"
     ]
    }
   ],
   "source": [
    "# Set env vars to mitigate MPS OOM and disable tokenizer threads\n",
    "import os\n",
    "os.environ['TOKENIZERS_PARALLELISM'] = 'false'\n",
    "if hasattr(torch.backends, 'mps') and torch.backends.mps.is_available():\n",
    "    os.environ.setdefault('PYTORCH_MPS_HIGH_WATERMARK_RATIO', '0.0')\n",
    "\n",
    "# Dispositivo (MPS: aceleración por hardware para Mac)\n",
    "if torch.backends.mps.is_available():\n",
    "    device = torch.device(\"mps\")\n",
    "else:\n",
    "    device = torch.device(\"cuda\" if torch.cuda.is_available() else \"cpu\")\n",
    "print(\"Usando dispositivo:\", device)\n",
    "if str(device) == 'mps':\n",
    "    print(\"PYTORCH_MPS_HIGH_WATERMARK_RATIO =\", os.environ.get('PYTORCH_MPS_HIGH_WATERMARK_RATIO'))\n",
    "print(\"TOKENIZERS_PARALLELISM =\", os.environ.get('TOKENIZERS_PARALLELISM'))\n",
    "\n",
    "# Limpieza de caché y ajuste de precisión en MPS para ahorrar memoria\n",
    "\n",
    "if str(device) == 'mps':\n",
    "    torch.mps.empty_cache()"
   ]
  },
  {
   "cell_type": "markdown",
   "id": "5814bc8a",
   "metadata": {},
   "source": [
    "### 6.2 Preparación de datos (Datasets Hugging Face)\n",
    "\n",
    "Qué hace:\n",
    "- Toma el DataFrame procesado (data_t).\n",
    "- Crea particiones estratificadas train/test (85%/15%) usando label_id.\n",
    "- Construye dos datasets paralelos:\n",
    "  - RAW: usa la columna textos (texto crudo).\n",
    "  - CLEAN: usa la columna texto_limpio (lematizado/normalizado).\n",
    "\n",
    "Por qué:\n",
    "- Permite comparar si el preprocesamiento clásico ayuda o no a un Transformer (que ya tokeniza sub-palabras).\n",
    "- Mantiene consistencia de etiquetas y estratificación.\n",
    "\n",
    "Resultado:\n",
    "- hf_train_raw / hf_test_raw\n",
    "- hf_train_clean / hf_test_clean"
   ]
  },
  {
   "cell_type": "code",
   "execution_count": 63,
   "id": "a36c0183",
   "metadata": {},
   "outputs": [
    {
     "name": "stdout",
     "output_type": "stream",
     "text": [
      "label_id_map: {1: 0, 3: 1, 4: 2}\n",
      "id2label: {0: '1', 1: '3', 2: '4'}\n",
      "label2id: {'1': 0, '3': 1, '4': 2}\n"
     ]
    }
   ],
   "source": [
    "# Preparar DataFrame base con columnas esperadas\n",
    "# Usamos data_t ya cargado y procesado arriba.\n",
    "df = data_t.copy()\n",
    "assert 'labels' in df.columns, \"No encontramos la columna 'labels' en data_t\"\n",
    "text_col = 'textos' if 'textos' in df.columns else None\n",
    "clean_col = 'texto_limpio' if 'texto_limpio' in df.columns else None\n",
    "assert text_col is not None, \"No encontramos la columna de texto crudo ('textos')\"\n",
    "assert clean_col is not None, \"No encontramos la columna de texto limpio ('texto_limpio')\"\n",
    "\n",
    "# Mapeo de etiquetas a ids ordenados (tipos compatibles con JSON/HF)\n",
    "# 1) Construimos un mapa para el DataFrame usando enteros de Python\n",
    "unique_labels = sorted(df['labels'].unique())\n",
    "label_id_map = {int(v): int(i) for i, v in enumerate(unique_labels)}\n",
    "\n",
    "# 2) Diccionarios para HF: id2label (int -> str), label2id (str -> int)\n",
    "id2label = {int(i): str(v) for v, i in label_id_map.items()}\n",
    "label2id = {str(v): int(i) for v, i in label_id_map.items()}\n",
    "\n",
    "# 3) Columna de etiquetas numéricas para entrenamiento\n",
    "#    Convertimos a int para asegurar coincidencia de claves\n",
    "df['label_id'] = df['labels'].astype(int).map(label_id_map)\n",
    "print('label_id_map:', label_id_map)\n",
    "print('id2label:', id2label)\n",
    "print('label2id:', label2id)"
   ]
  },
  {
   "cell_type": "code",
   "execution_count": 64,
   "id": "4b4b7852",
   "metadata": {},
   "outputs": [
    {
     "name": "stdout",
     "output_type": "stream",
     "text": [
      "Train size: 2060 | Test size: 364\n"
     ]
    }
   ],
   "source": [
    "# Construir datasets de Hugging Face (raw y clean) a partir de df\n",
    "from datasets import Dataset\n",
    "from sklearn.model_selection import train_test_split\n",
    "\n",
    "# Asegurar que no haya nulos inesperados\n",
    "df_split = df.dropna(subset=[text_col, clean_col, 'label_id']).copy()\n",
    "\n",
    "# Partición estratificada\n",
    "train_df, test_df = train_test_split(df_split, test_size=0.15, stratify=df_split['label_id'], random_state=42)\n",
    "print(f\"Train size: {len(train_df)} | Test size: {len(test_df)}\")\n",
    "\n",
    "# Variante texto crudo\n",
    "hf_train_raw = Dataset.from_pandas(train_df[[text_col,'label_id']].rename(columns={text_col:'text','label_id':'label'}))\n",
    "hf_test_raw  = Dataset.from_pandas(test_df[[text_col,'label_id']].rename(columns={text_col:'text','label_id':'label'}))\n",
    "\n",
    "# Variante texto limpio\n",
    "hf_train_clean = Dataset.from_pandas(train_df[[clean_col,'label_id']].rename(columns={clean_col:'text','label_id':'label'}))\n",
    "hf_test_clean  = Dataset.from_pandas(test_df[[clean_col,'label_id']].rename(columns={clean_col:'text','label_id':'label'}))"
   ]
  },
  {
   "cell_type": "markdown",
   "id": "6d908b60",
   "metadata": {},
   "source": [
    "### 6.3 Modelo y tokenización\n",
    "\n",
    "Modelo:\n",
    "- dccuchile/bert-base-spanish-wwm-uncased\n",
    "- Se re-inicializa la capa de clasificación (ignore_mismatched_sizes=True).\n",
    "\n",
    "Tokenizador:\n",
    "- AutoTokenizer del mismo backbone.\n",
    "- max_length=192 (reduce memoria sin perder demasiado contexto).\n",
    "- DataCollatorWithPadding para batching dinámico.\n",
    "\n",
    "Mapeo de etiquetas:\n",
    "- label_id_map asegura correspondencia estable entre {1,3,4} y {0,1,2}.\n",
    "- id2label/label2id se pasan al modelo para reportes legibles."
   ]
  },
  {
   "cell_type": "code",
   "execution_count": 65,
   "id": "d6f21d62",
   "metadata": {},
   "outputs": [
    {
     "name": "stderr",
     "output_type": "stream",
     "text": [
      "/Users/felipemesa/.pyenv/versions/3.11.11/lib/python3.11/site-packages/transformers/tokenization_utils_base.py:1601: FutureWarning: `clean_up_tokenization_spaces` was not set. It will be set to `True` by default. This behavior will be depracted in transformers v4.45, and will be then set to `False` by default. For more details check this issue: https://github.com/huggingface/transformers/issues/31884\n",
      "  warnings.warn(\n"
     ]
    },
    {
     "name": "stdout",
     "output_type": "stream",
     "text": [
      "Tokenizando datasets (raw)...\n"
     ]
    },
    {
     "name": "stderr",
     "output_type": "stream",
     "text": [
      "Map: 100%|██████████| 2060/2060 [00:00<00:00, 2762.59 examples/s]\n",
      "Map: 100%|██████████| 2060/2060 [00:00<00:00, 2762.59 examples/s]\n",
      "Map: 100%|██████████| 364/364 [00:00<00:00, 3254.62 examples/s]\n",
      "Map: 100%|██████████| 364/364 [00:00<00:00, 3254.62 examples/s]\n"
     ]
    },
    {
     "name": "stdout",
     "output_type": "stream",
     "text": [
      "Tokenizando datasets (clean)...\n"
     ]
    },
    {
     "name": "stderr",
     "output_type": "stream",
     "text": [
      "Map: 100%|██████████| 2060/2060 [00:00<00:00, 5892.95 examples/s]\n",
      "Map: 100%|██████████| 2060/2060 [00:00<00:00, 5892.95 examples/s]\n",
      "Map: 100%|██████████| 364/364 [00:00<00:00, 5333.93 examples/s]\n",
      "\n"
     ]
    }
   ],
   "source": [
    "MODEL_NAME = \"dccuchile/bert-base-spanish-wwm-uncased\"\n",
    "\n",
    "from transformers import AutoTokenizer\n",
    "\n",
    "tokenizer = AutoTokenizer.from_pretrained(MODEL_NAME)\n",
    "\n",
    "max_length = 192\n",
    "\n",
    "def preprocess_function(examples):\n",
    "    return tokenizer(examples[\"text\"], truncation=True, padding=False, max_length=max_length)\n",
    "\n",
    "print(\"Tokenizando datasets (raw)...\")\n",
    "hf_train_raw = hf_train_raw.map(preprocess_function, batched=True)\n",
    "hf_test_raw  = hf_test_raw.map(preprocess_function, batched=True)\n",
    "\n",
    "print(\"Tokenizando datasets (clean)...\")\n",
    "hf_train_clean = hf_train_clean.map(preprocess_function, batched=True)\n",
    "hf_test_clean  = hf_test_clean.map(preprocess_function, batched=True)\n",
    "\n",
    "data_collator = DataCollatorWithPadding(tokenizer=tokenizer)\n",
    "\n",
    "accuracy_metric = evaluate.load(\"accuracy\")\n",
    "f1_metric = evaluate.load(\"f1\")\n",
    "\n",
    "def compute_metrics(eval_pred):\n",
    "    logits, labels = eval_pred\n",
    "    preds = np.argmax(logits, axis=1)\n",
    "    acc = accuracy_metric.compute(predictions=preds, references=labels)\n",
    "    f1 = f1_metric.compute(predictions=preds, references=labels, average='weighted')\n",
    "    return {**acc, 'f1_weighted': f1['f1']}"
   ]
  },
  {
   "cell_type": "markdown",
   "id": "266aaa7f",
   "metadata": {},
   "source": [
    "### 6.4 Configuración y diseño de experimentos (Trainer + RAW vs CLEAN)\n",
    "\n",
    "TrainingArguments (resumen):\n",
    "- learning_rate=2e-5, weight_decay=0.01, num_train_epochs=3.\n",
    "- eval_strategy=\"epoch\" y save_strategy=\"epoch\".\n",
    "- load_best_model_at_end=True con métrica f1_weighted (greater_is_better=True).\n",
    "- per_device_[train|eval]_batch_size reducido + gradient_accumulation_steps=2 para ahorrar memoria.\n",
    "- report_to=[] (sin trackers externos) y fp16=False (MPS/CPU).\n",
    "\n",
    "Métricas:\n",
    "- Accuracy: aciertos globales.\n",
    "- F1 ponderado: balancea por soporte de clase (robusto ante desbalance).\n",
    "\n",
    "Diseño de experimentos:\n",
    "- RAW: tokenización directa del texto crudo (columna textos).\n",
    "- CLEAN: tokenización del texto lematizado/normalizado (columna texto_limpio).\n",
    "\n",
    "Hipótesis:\n",
    "- Los Transformers suelen rendir mejor con texto crudo (retienen morfología y contexto).\n",
    "- El preprocesamiento agresivo puede eliminar señales útiles (sub-palabras, variaciones).\n",
    "\n",
    "Salida esperada:\n",
    "- metrics_raw y metrics_clean con accuracy y f1_weighted.\n",
    "- Gráfico comparativo (barras) para visualizar diferencias RAW vs CLEAN."
   ]
  },
  {
   "cell_type": "code",
   "execution_count": 66,
   "id": "ca4422b0",
   "metadata": {},
   "outputs": [],
   "source": [
    "# Función de entrenamiento/evaluación con Trainer\n",
    "from packaging import version\n",
    "\n",
    "def run_experiment(train_dataset, eval_dataset, experiment_name, num_train_epochs=3, per_device_batch=8):\n",
    "    # Cargar el backbone y crear una nueva cabeza de clasificación con 3 clases\n",
    "    model = AutoModelForSequenceClassification.from_pretrained(\n",
    "        MODEL_NAME,\n",
    "        num_labels=len(id2label),\n",
    "        id2label=id2label,\n",
    "        label2id=label2id,\n",
    "        ignore_mismatched_sizes=True,\n",
    "    )\n",
    "    if hasattr(model, \"gradient_checkpointing_enable\"):\n",
    "        model.gradient_checkpointing_enable()\n",
    "\n",
    "    model.to(device)\n",
    "    output_dir = f\"./hf_models/{experiment_name}\"\n",
    "    args = TrainingArguments(\n",
    "        output_dir=output_dir,\n",
    "        eval_strategy=\"epoch\",\n",
    "        save_strategy=\"no\",\n",
    "        learning_rate=2e-5,\n",
    "        per_device_train_batch_size=max(1, per_device_batch // 2),\n",
    "        per_device_eval_batch_size=max(1, per_device_batch // 2),\n",
    "        num_train_epochs=num_train_epochs,\n",
    "        weight_decay=0.01,\n",
    "        load_best_model_at_end=False,\n",
    "        metric_for_best_model='f1_weighted',\n",
    "        greater_is_better=True,\n",
    "        fp16=False,\n",
    "        push_to_hub=False,\n",
    "        report_to=[],\n",
    "        logging_steps=50,\n",
    "        gradient_accumulation_steps=2,\n",
    "        use_mps_device=(str(device) == 'mps'),\n",
    "        save_safetensors=True,\n",
    "        dataloader_pin_memory=False  # reduce presión de memoria en MPS\n",
    "    )\n",
    "    trainer = Trainer(\n",
    "        model=model,\n",
    "        args=args,\n",
    "        train_dataset=train_dataset,\n",
    "        eval_dataset=eval_dataset,\n",
    "        tokenizer=tokenizer,\n",
    "        data_collator=data_collator,\n",
    "        compute_metrics=compute_metrics,\n",
    "    )\n",
    "\n",
    "    # Limpiar memoria MPS antes de entrenar\n",
    "    try:\n",
    "        if str(device) == 'mps':\n",
    "            import torch\n",
    "            torch.mps.empty_cache()\n",
    "    except Exception:\n",
    "        pass\n",
    "\n",
    "    print(f\"Entrenando experimento: {experiment_name}\")\n",
    "    trainer.train()\n",
    "    print(\"Evaluando…\")\n",
    "    metrics = trainer.evaluate(eval_dataset=eval_dataset)\n",
    "    print(metrics)\n",
    "\n",
    "    # Guardar el modelo final y el tokenizer\n",
    "    trainer.save_model(output_dir)\n",
    "    tokenizer.save_pretrained(output_dir)\n",
    "    return metrics"
   ]
  },
  {
   "cell_type": "code",
   "execution_count": 67,
   "id": "be178239",
   "metadata": {},
   "outputs": [
    {
     "name": "stdout",
     "output_type": "stream",
     "text": [
      "=== Experimento 1: RAW ===\n"
     ]
    },
    {
     "name": "stderr",
     "output_type": "stream",
     "text": [
      "Some weights of BertForSequenceClassification were not initialized from the model checkpoint at dccuchile/bert-base-spanish-wwm-uncased and are newly initialized: ['bert.pooler.dense.bias', 'bert.pooler.dense.weight', 'classifier.bias', 'classifier.weight']\n",
      "You should probably TRAIN this model on a down-stream task to be able to use it for predictions and inference.\n",
      "/Users/felipemesa/.pyenv/versions/3.11.11/lib/python3.11/site-packages/transformers/training_args.py:2179: UserWarning: `use_mps_device` is deprecated and will be removed in version 5.0 of 🤗 Transformers. `mps` device will be used by default if available similar to the way `cuda` device is used.Therefore, no action from user is required. \n",
      "  warnings.warn(\n",
      "/Users/felipemesa/.pyenv/versions/3.11.11/lib/python3.11/site-packages/transformers/training_args.py:2179: UserWarning: `use_mps_device` is deprecated and will be removed in version 5.0 of 🤗 Transformers. `mps` device will be used by default if available similar to the way `cuda` device is used.Therefore, no action from user is required. \n",
      "  warnings.warn(\n"
     ]
    },
    {
     "name": "stdout",
     "output_type": "stream",
     "text": [
      "Entrenando experimento: bert_raw\n"
     ]
    },
    {
     "name": "stderr",
     "output_type": "stream",
     "text": [
      "  0%|          | 0/771 [00:00<?, ?it/s]/Users/felipemesa/.pyenv/versions/3.11.11/lib/python3.11/site-packages/torch/utils/checkpoint.py:295: FutureWarning: `torch.cpu.amp.autocast(args...)` is deprecated. Please use `torch.amp.autocast('cpu', args...)` instead.\n",
      "  with torch.enable_grad(), device_autocast_ctx, torch.cpu.amp.autocast(**ctx.cpu_autocast_kwargs):  # type: ignore[attr-defined]\n",
      "/Users/felipemesa/.pyenv/versions/3.11.11/lib/python3.11/site-packages/torch/utils/checkpoint.py:295: FutureWarning: `torch.cpu.amp.autocast(args...)` is deprecated. Please use `torch.amp.autocast('cpu', args...)` instead.\n",
      "  with torch.enable_grad(), device_autocast_ctx, torch.cpu.amp.autocast(**ctx.cpu_autocast_kwargs):  # type: ignore[attr-defined]\n",
      "  6%|▋         | 50/771 [01:10<16:37,  1.38s/it]"
     ]
    },
    {
     "name": "stdout",
     "output_type": "stream",
     "text": [
      "{'loss': 0.5799, 'grad_norm': 0.4809170067310333, 'learning_rate': 1.8702983138780806e-05, 'epoch': 0.19}\n"
     ]
    },
    {
     "name": "stderr",
     "output_type": "stream",
     "text": [
      " 13%|█▎        | 100/771 [02:21<16:13,  1.45s/it]"
     ]
    },
    {
     "name": "stdout",
     "output_type": "stream",
     "text": [
      "{'loss': 0.0932, 'grad_norm': 33.89505386352539, 'learning_rate': 1.740596627756161e-05, 'epoch': 0.39}\n"
     ]
    },
    {
     "name": "stderr",
     "output_type": "stream",
     "text": [
      " 19%|█▉        | 150/771 [03:29<14:19,  1.38s/it]"
     ]
    },
    {
     "name": "stdout",
     "output_type": "stream",
     "text": [
      "{'loss': 0.0909, 'grad_norm': 1.010230302810669, 'learning_rate': 1.6108949416342414e-05, 'epoch': 0.58}\n"
     ]
    },
    {
     "name": "stderr",
     "output_type": "stream",
     "text": [
      " 26%|██▌       | 200/771 [04:37<11:29,  1.21s/it]"
     ]
    },
    {
     "name": "stdout",
     "output_type": "stream",
     "text": [
      "{'loss': 0.0828, 'grad_norm': 0.04912591725587845, 'learning_rate': 1.4811932555123219e-05, 'epoch': 0.78}\n"
     ]
    },
    {
     "name": "stderr",
     "output_type": "stream",
     "text": [
      " 32%|███▏      | 250/771 [05:46<12:11,  1.40s/it]"
     ]
    },
    {
     "name": "stdout",
     "output_type": "stream",
     "text": [
      "{'loss': 0.1348, 'grad_norm': 3.2121846675872803, 'learning_rate': 1.3514915693904023e-05, 'epoch': 0.97}\n"
     ]
    },
    {
     "name": "stderr",
     "output_type": "stream",
     "text": [
      " 33%|███▎      | 257/771 [05:55<11:23,  1.33s/it]\n",
      " 33%|███▎      | 257/771 [06:09<11:23,  1.33s/it]\n",
      " 33%|███▎      | 257/771 [06:09<11:23,  1.33s/it]"
     ]
    },
    {
     "name": "stdout",
     "output_type": "stream",
     "text": [
      "{'eval_loss': 0.08171302825212479, 'eval_accuracy': 0.978021978021978, 'eval_f1_weighted': 0.9778046386900792, 'eval_runtime': 13.3469, 'eval_samples_per_second': 27.272, 'eval_steps_per_second': 6.818, 'epoch': 1.0}\n"
     ]
    },
    {
     "name": "stderr",
     "output_type": "stream",
     "text": [
      "/Users/felipemesa/.pyenv/versions/3.11.11/lib/python3.11/site-packages/torch/utils/checkpoint.py:295: FutureWarning: `torch.cpu.amp.autocast(args...)` is deprecated. Please use `torch.amp.autocast('cpu', args...)` instead.\n",
      "  with torch.enable_grad(), device_autocast_ctx, torch.cpu.amp.autocast(**ctx.cpu_autocast_kwargs):  # type: ignore[attr-defined]\n",
      " 39%|███▉      | 300/771 [07:10<10:52,  1.39s/it]"
     ]
    },
    {
     "name": "stdout",
     "output_type": "stream",
     "text": [
      "{'loss': 0.072, 'grad_norm': 0.01911567710340023, 'learning_rate': 1.2217898832684827e-05, 'epoch': 1.17}\n"
     ]
    },
    {
     "name": "stderr",
     "output_type": "stream",
     "text": [
      " 45%|████▌     | 350/771 [08:21<09:51,  1.41s/it]"
     ]
    },
    {
     "name": "stdout",
     "output_type": "stream",
     "text": [
      "{'loss': 0.073, 'grad_norm': 0.013400480151176453, 'learning_rate': 1.0920881971465628e-05, 'epoch': 1.36}\n"
     ]
    },
    {
     "name": "stderr",
     "output_type": "stream",
     "text": [
      " 52%|█████▏    | 400/771 [09:31<09:42,  1.57s/it]"
     ]
    },
    {
     "name": "stdout",
     "output_type": "stream",
     "text": [
      "{'loss': 0.0367, 'grad_norm': 0.012339548207819462, 'learning_rate': 9.623865110246434e-06, 'epoch': 1.55}\n"
     ]
    },
    {
     "name": "stderr",
     "output_type": "stream",
     "text": [
      " 58%|█████▊    | 450/771 [10:42<07:56,  1.48s/it]"
     ]
    },
    {
     "name": "stdout",
     "output_type": "stream",
     "text": [
      "{'loss': 0.0457, 'grad_norm': 0.021796831861138344, 'learning_rate': 8.326848249027239e-06, 'epoch': 1.75}\n"
     ]
    },
    {
     "name": "stderr",
     "output_type": "stream",
     "text": [
      " 65%|██████▍   | 500/771 [11:50<05:55,  1.31s/it]"
     ]
    },
    {
     "name": "stdout",
     "output_type": "stream",
     "text": [
      "{'loss': 0.0281, 'grad_norm': 0.020555006340146065, 'learning_rate': 7.029831387808041e-06, 'epoch': 1.94}\n"
     ]
    },
    {
     "name": "stderr",
     "output_type": "stream",
     "text": [
      " 67%|██████▋   | 515/771 [12:11<05:45,  1.35s/it]\n",
      " 67%|██████▋   | 515/771 [12:24<05:45,  1.35s/it]\n",
      " 67%|██████▋   | 515/771 [12:24<05:45,  1.35s/it]/Users/felipemesa/.pyenv/versions/3.11.11/lib/python3.11/site-packages/torch/utils/checkpoint.py:295: FutureWarning: `torch.cpu.amp.autocast(args...)` is deprecated. Please use `torch.amp.autocast('cpu', args...)` instead.\n",
      "  with torch.enable_grad(), device_autocast_ctx, torch.cpu.amp.autocast(**ctx.cpu_autocast_kwargs):  # type: ignore[attr-defined]\n",
      "/Users/felipemesa/.pyenv/versions/3.11.11/lib/python3.11/site-packages/torch/utils/checkpoint.py:295: FutureWarning: `torch.cpu.amp.autocast(args...)` is deprecated. Please use `torch.amp.autocast('cpu', args...)` instead.\n",
      "  with torch.enable_grad(), device_autocast_ctx, torch.cpu.amp.autocast(**ctx.cpu_autocast_kwargs):  # type: ignore[attr-defined]\n"
     ]
    },
    {
     "name": "stdout",
     "output_type": "stream",
     "text": [
      "{'eval_loss': 0.11091890186071396, 'eval_accuracy': 0.9752747252747253, 'eval_f1_weighted': 0.9749583687387089, 'eval_runtime': 13.5078, 'eval_samples_per_second': 26.947, 'eval_steps_per_second': 6.737, 'epoch': 2.0}\n"
     ]
    },
    {
     "name": "stderr",
     "output_type": "stream",
     "text": [
      " 71%|███████▏  | 550/771 [13:15<05:08,  1.40s/it]"
     ]
    },
    {
     "name": "stdout",
     "output_type": "stream",
     "text": [
      "{'loss': 0.0273, 'grad_norm': 0.015779739245772362, 'learning_rate': 5.732814526588845e-06, 'epoch': 2.14}\n"
     ]
    },
    {
     "name": "stderr",
     "output_type": "stream",
     "text": [
      " 78%|███████▊  | 600/771 [14:22<03:47,  1.33s/it]"
     ]
    },
    {
     "name": "stdout",
     "output_type": "stream",
     "text": [
      "{'loss': 0.017, 'grad_norm': 0.20703020691871643, 'learning_rate': 4.43579766536965e-06, 'epoch': 2.33}\n"
     ]
    },
    {
     "name": "stderr",
     "output_type": "stream",
     "text": [
      " 84%|████████▍ | 650/771 [15:31<02:58,  1.47s/it]"
     ]
    },
    {
     "name": "stdout",
     "output_type": "stream",
     "text": [
      "{'loss': 0.0043, 'grad_norm': 0.007872081361711025, 'learning_rate': 3.138780804150454e-06, 'epoch': 2.52}\n"
     ]
    },
    {
     "name": "stderr",
     "output_type": "stream",
     "text": [
      " 91%|█████████ | 700/771 [16:42<01:41,  1.43s/it]"
     ]
    },
    {
     "name": "stdout",
     "output_type": "stream",
     "text": [
      "{'loss': 0.0016, 'grad_norm': 0.01181965135037899, 'learning_rate': 1.8417639429312585e-06, 'epoch': 2.72}\n"
     ]
    },
    {
     "name": "stderr",
     "output_type": "stream",
     "text": [
      " 97%|█████████▋| 750/771 [17:54<00:32,  1.55s/it]"
     ]
    },
    {
     "name": "stdout",
     "output_type": "stream",
     "text": [
      "{'loss': 0.0151, 'grad_norm': 0.011849220842123032, 'learning_rate': 5.447470817120623e-07, 'epoch': 2.91}\n"
     ]
    },
    {
     "name": "stderr",
     "output_type": "stream",
     "text": [
      "100%|██████████| 771/771 [18:24<00:00,  1.44s/it]\n",
      "100%|██████████| 771/771 [18:39<00:00,  1.44s/it]\n",
      "100%|██████████| 771/771 [18:39<00:00,  1.45s/it]\n",
      "\n"
     ]
    },
    {
     "name": "stdout",
     "output_type": "stream",
     "text": [
      "{'eval_loss': 0.06961381435394287, 'eval_accuracy': 0.9835164835164835, 'eval_f1_weighted': 0.983363324875235, 'eval_runtime': 15.0622, 'eval_samples_per_second': 24.167, 'eval_steps_per_second': 6.042, 'epoch': 2.99}\n",
      "{'train_runtime': 1119.1842, 'train_samples_per_second': 5.522, 'train_steps_per_second': 0.689, 'train_loss': 0.08447500233612133, 'epoch': 2.99}\n",
      "Evaluando…\n"
     ]
    },
    {
     "name": "stderr",
     "output_type": "stream",
     "text": [
      "100%|██████████| 91/91 [00:14<00:00,  6.45it/s]\n",
      "\n"
     ]
    },
    {
     "name": "stdout",
     "output_type": "stream",
     "text": [
      "{'eval_loss': 0.06961381435394287, 'eval_accuracy': 0.9835164835164835, 'eval_f1_weighted': 0.983363324875235, 'eval_runtime': 14.2724, 'eval_samples_per_second': 25.504, 'eval_steps_per_second': 6.376, 'epoch': 2.994174757281553}\n",
      "=== Experimento 2: CLEAN ===\n",
      "=== Experimento 2: CLEAN ===\n"
     ]
    },
    {
     "name": "stderr",
     "output_type": "stream",
     "text": [
      "Some weights of BertForSequenceClassification were not initialized from the model checkpoint at dccuchile/bert-base-spanish-wwm-uncased and are newly initialized: ['bert.pooler.dense.bias', 'bert.pooler.dense.weight', 'classifier.bias', 'classifier.weight']\n",
      "You should probably TRAIN this model on a down-stream task to be able to use it for predictions and inference.\n",
      "/Users/felipemesa/.pyenv/versions/3.11.11/lib/python3.11/site-packages/transformers/training_args.py:2179: UserWarning: `use_mps_device` is deprecated and will be removed in version 5.0 of 🤗 Transformers. `mps` device will be used by default if available similar to the way `cuda` device is used.Therefore, no action from user is required. \n",
      "  warnings.warn(\n",
      "/Users/felipemesa/.pyenv/versions/3.11.11/lib/python3.11/site-packages/transformers/training_args.py:2179: UserWarning: `use_mps_device` is deprecated and will be removed in version 5.0 of 🤗 Transformers. `mps` device will be used by default if available similar to the way `cuda` device is used.Therefore, no action from user is required. \n",
      "  warnings.warn(\n"
     ]
    },
    {
     "name": "stdout",
     "output_type": "stream",
     "text": [
      "Entrenando experimento: bert_clean\n"
     ]
    },
    {
     "name": "stderr",
     "output_type": "stream",
     "text": [
      "  0%|          | 0/771 [00:00<?, ?it/s]/Users/felipemesa/.pyenv/versions/3.11.11/lib/python3.11/site-packages/torch/utils/checkpoint.py:295: FutureWarning: `torch.cpu.amp.autocast(args...)` is deprecated. Please use `torch.amp.autocast('cpu', args...)` instead.\n",
      "  with torch.enable_grad(), device_autocast_ctx, torch.cpu.amp.autocast(**ctx.cpu_autocast_kwargs):  # type: ignore[attr-defined]\n",
      "/Users/felipemesa/.pyenv/versions/3.11.11/lib/python3.11/site-packages/torch/utils/checkpoint.py:295: FutureWarning: `torch.cpu.amp.autocast(args...)` is deprecated. Please use `torch.amp.autocast('cpu', args...)` instead.\n",
      "  with torch.enable_grad(), device_autocast_ctx, torch.cpu.amp.autocast(**ctx.cpu_autocast_kwargs):  # type: ignore[attr-defined]\n",
      "  6%|▋         | 50/771 [00:50<10:51,  1.11it/s]"
     ]
    },
    {
     "name": "stdout",
     "output_type": "stream",
     "text": [
      "{'loss': 0.6271, 'grad_norm': 0.5965501070022583, 'learning_rate': 1.8702983138780806e-05, 'epoch': 0.19}\n"
     ]
    },
    {
     "name": "stderr",
     "output_type": "stream",
     "text": [
      " 13%|█▎        | 100/771 [01:36<09:45,  1.15it/s]"
     ]
    },
    {
     "name": "stdout",
     "output_type": "stream",
     "text": [
      "{'loss': 0.136, 'grad_norm': 3.1982715129852295, 'learning_rate': 1.740596627756161e-05, 'epoch': 0.39}\n"
     ]
    },
    {
     "name": "stderr",
     "output_type": "stream",
     "text": [
      " 19%|█▉        | 150/771 [02:22<09:02,  1.15it/s]"
     ]
    },
    {
     "name": "stdout",
     "output_type": "stream",
     "text": [
      "{'loss': 0.2092, 'grad_norm': 24.526010513305664, 'learning_rate': 1.6108949416342414e-05, 'epoch': 0.58}\n"
     ]
    },
    {
     "name": "stderr",
     "output_type": "stream",
     "text": [
      " 26%|██▌       | 200/771 [03:10<07:38,  1.24it/s]"
     ]
    },
    {
     "name": "stdout",
     "output_type": "stream",
     "text": [
      "{'loss': 0.1105, 'grad_norm': 0.0540354959666729, 'learning_rate': 1.4811932555123219e-05, 'epoch': 0.78}\n"
     ]
    },
    {
     "name": "stderr",
     "output_type": "stream",
     "text": [
      " 32%|███▏      | 250/771 [03:58<08:33,  1.02it/s]"
     ]
    },
    {
     "name": "stdout",
     "output_type": "stream",
     "text": [
      "{'loss': 0.2016, 'grad_norm': 0.08983694761991501, 'learning_rate': 1.3514915693904023e-05, 'epoch': 0.97}\n"
     ]
    },
    {
     "name": "stderr",
     "output_type": "stream",
     "text": [
      " 33%|███▎      | 257/771 [04:04<07:39,  1.12it/s]\n",
      " 33%|███▎      | 257/771 [04:12<07:39,  1.12it/s]\n",
      " 33%|███▎      | 257/771 [04:12<07:39,  1.12it/s]/Users/felipemesa/.pyenv/versions/3.11.11/lib/python3.11/site-packages/torch/utils/checkpoint.py:295: FutureWarning: `torch.cpu.amp.autocast(args...)` is deprecated. Please use `torch.amp.autocast('cpu', args...)` instead.\n",
      "  with torch.enable_grad(), device_autocast_ctx, torch.cpu.amp.autocast(**ctx.cpu_autocast_kwargs):  # type: ignore[attr-defined]\n",
      "/Users/felipemesa/.pyenv/versions/3.11.11/lib/python3.11/site-packages/torch/utils/checkpoint.py:295: FutureWarning: `torch.cpu.amp.autocast(args...)` is deprecated. Please use `torch.amp.autocast('cpu', args...)` instead.\n",
      "  with torch.enable_grad(), device_autocast_ctx, torch.cpu.amp.autocast(**ctx.cpu_autocast_kwargs):  # type: ignore[attr-defined]\n"
     ]
    },
    {
     "name": "stdout",
     "output_type": "stream",
     "text": [
      "{'eval_loss': 0.17493286728858948, 'eval_accuracy': 0.9560439560439561, 'eval_f1_weighted': 0.9555480119329454, 'eval_runtime': 8.1201, 'eval_samples_per_second': 44.827, 'eval_steps_per_second': 11.207, 'epoch': 1.0}\n"
     ]
    },
    {
     "name": "stderr",
     "output_type": "stream",
     "text": [
      " 39%|███▉      | 300/771 [04:49<06:39,  1.18it/s]"
     ]
    },
    {
     "name": "stdout",
     "output_type": "stream",
     "text": [
      "{'loss': 0.1144, 'grad_norm': 0.0436939038336277, 'learning_rate': 1.2217898832684827e-05, 'epoch': 1.17}\n"
     ]
    },
    {
     "name": "stderr",
     "output_type": "stream",
     "text": [
      " 45%|████▌     | 350/771 [05:33<06:28,  1.08it/s]"
     ]
    },
    {
     "name": "stdout",
     "output_type": "stream",
     "text": [
      "{'loss': 0.0527, 'grad_norm': 0.015525685623288155, 'learning_rate': 1.0920881971465628e-05, 'epoch': 1.36}\n"
     ]
    },
    {
     "name": "stderr",
     "output_type": "stream",
     "text": [
      " 52%|█████▏    | 400/771 [06:19<05:32,  1.12it/s]"
     ]
    },
    {
     "name": "stdout",
     "output_type": "stream",
     "text": [
      "{'loss': 0.095, 'grad_norm': 0.01853756047785282, 'learning_rate': 9.623865110246434e-06, 'epoch': 1.55}\n"
     ]
    },
    {
     "name": "stderr",
     "output_type": "stream",
     "text": [
      " 58%|█████▊    | 450/771 [07:03<04:49,  1.11it/s]"
     ]
    },
    {
     "name": "stdout",
     "output_type": "stream",
     "text": [
      "{'loss': 0.0645, 'grad_norm': 0.018757106736302376, 'learning_rate': 8.326848249027239e-06, 'epoch': 1.75}\n"
     ]
    },
    {
     "name": "stderr",
     "output_type": "stream",
     "text": [
      " 65%|██████▍   | 500/771 [07:45<03:47,  1.19it/s]"
     ]
    },
    {
     "name": "stdout",
     "output_type": "stream",
     "text": [
      "{'loss': 0.0563, 'grad_norm': 101.99250030517578, 'learning_rate': 7.029831387808041e-06, 'epoch': 1.94}\n"
     ]
    },
    {
     "name": "stderr",
     "output_type": "stream",
     "text": [
      " 67%|██████▋   | 515/771 [07:59<03:38,  1.17it/s]\n",
      " 67%|██████▋   | 515/771 [08:07<03:38,  1.17it/s]\n",
      " 67%|██████▋   | 515/771 [08:07<03:38,  1.17it/s]/Users/felipemesa/.pyenv/versions/3.11.11/lib/python3.11/site-packages/torch/utils/checkpoint.py:295: FutureWarning: `torch.cpu.amp.autocast(args...)` is deprecated. Please use `torch.amp.autocast('cpu', args...)` instead.\n",
      "  with torch.enable_grad(), device_autocast_ctx, torch.cpu.amp.autocast(**ctx.cpu_autocast_kwargs):  # type: ignore[attr-defined]\n",
      "/Users/felipemesa/.pyenv/versions/3.11.11/lib/python3.11/site-packages/torch/utils/checkpoint.py:295: FutureWarning: `torch.cpu.amp.autocast(args...)` is deprecated. Please use `torch.amp.autocast('cpu', args...)` instead.\n",
      "  with torch.enable_grad(), device_autocast_ctx, torch.cpu.amp.autocast(**ctx.cpu_autocast_kwargs):  # type: ignore[attr-defined]\n"
     ]
    },
    {
     "name": "stdout",
     "output_type": "stream",
     "text": [
      "{'eval_loss': 0.15895916521549225, 'eval_accuracy': 0.9697802197802198, 'eval_f1_weighted': 0.9696857518257891, 'eval_runtime': 7.7525, 'eval_samples_per_second': 46.953, 'eval_steps_per_second': 11.738, 'epoch': 2.0}\n"
     ]
    },
    {
     "name": "stderr",
     "output_type": "stream",
     "text": [
      " 71%|███████▏  | 550/771 [08:38<03:18,  1.11it/s]"
     ]
    },
    {
     "name": "stdout",
     "output_type": "stream",
     "text": [
      "{'loss': 0.0182, 'grad_norm': 8.939876556396484, 'learning_rate': 5.732814526588845e-06, 'epoch': 2.14}\n"
     ]
    },
    {
     "name": "stderr",
     "output_type": "stream",
     "text": [
      " 78%|███████▊  | 600/771 [09:21<02:24,  1.19it/s]"
     ]
    },
    {
     "name": "stdout",
     "output_type": "stream",
     "text": [
      "{'loss': 0.052, 'grad_norm': 0.018881116062402725, 'learning_rate': 4.43579766536965e-06, 'epoch': 2.33}\n"
     ]
    },
    {
     "name": "stderr",
     "output_type": "stream",
     "text": [
      " 84%|████████▍ | 650/771 [10:05<01:46,  1.13it/s]"
     ]
    },
    {
     "name": "stdout",
     "output_type": "stream",
     "text": [
      "{'loss': 0.0011, 'grad_norm': 0.012499183416366577, 'learning_rate': 3.138780804150454e-06, 'epoch': 2.52}\n"
     ]
    },
    {
     "name": "stderr",
     "output_type": "stream",
     "text": [
      " 91%|█████████ | 700/771 [10:49<01:02,  1.13it/s]"
     ]
    },
    {
     "name": "stdout",
     "output_type": "stream",
     "text": [
      "{'loss': 0.001, 'grad_norm': 0.012164534069597721, 'learning_rate': 1.8417639429312585e-06, 'epoch': 2.72}\n"
     ]
    },
    {
     "name": "stderr",
     "output_type": "stream",
     "text": [
      " 97%|█████████▋| 750/771 [11:32<00:20,  1.04it/s]"
     ]
    },
    {
     "name": "stdout",
     "output_type": "stream",
     "text": [
      "{'loss': 0.0228, 'grad_norm': 0.016344735398888588, 'learning_rate': 5.447470817120623e-07, 'epoch': 2.91}\n"
     ]
    },
    {
     "name": "stderr",
     "output_type": "stream",
     "text": [
      "100%|██████████| 771/771 [11:52<00:00,  1.11it/s]\n",
      "100%|██████████| 771/771 [12:00<00:00,  1.07it/s]\n",
      "100%|██████████| 771/771 [12:00<00:00,  1.07it/s]\n",
      "\n"
     ]
    },
    {
     "name": "stdout",
     "output_type": "stream",
     "text": [
      "{'eval_loss': 0.11931916326284409, 'eval_accuracy': 0.9697802197802198, 'eval_f1_weighted': 0.9696204180075148, 'eval_runtime': 7.9304, 'eval_samples_per_second': 45.899, 'eval_steps_per_second': 11.475, 'epoch': 2.99}\n",
      "{'train_runtime': 720.2486, 'train_samples_per_second': 8.58, 'train_steps_per_second': 1.07, 'train_loss': 0.11490747993558298, 'epoch': 2.99}\n",
      "Evaluando…\n"
     ]
    },
    {
     "name": "stderr",
     "output_type": "stream",
     "text": [
      "100%|██████████| 91/91 [00:07<00:00, 11.86it/s]\n",
      "\n"
     ]
    },
    {
     "name": "stdout",
     "output_type": "stream",
     "text": [
      "{'eval_loss': 0.11931916326284409, 'eval_accuracy': 0.9697802197802198, 'eval_f1_weighted': 0.9696204180075148, 'eval_runtime': 7.7478, 'eval_samples_per_second': 46.981, 'eval_steps_per_second': 11.745, 'epoch': 2.994174757281553}\n",
      "Resultados RAW:\n",
      " {'eval_loss': 0.06961381435394287, 'eval_accuracy': 0.9835164835164835, 'eval_f1_weighted': 0.983363324875235, 'eval_runtime': 14.2724, 'eval_samples_per_second': 25.504, 'eval_steps_per_second': 6.376, 'epoch': 2.994174757281553}\n",
      "Resultados CLEAN:\n",
      " {'eval_loss': 0.11931916326284409, 'eval_accuracy': 0.9697802197802198, 'eval_f1_weighted': 0.9696204180075148, 'eval_runtime': 7.7478, 'eval_samples_per_second': 46.981, 'eval_steps_per_second': 11.745, 'epoch': 2.994174757281553}\n",
      "Resultados RAW:\n",
      " {'eval_loss': 0.06961381435394287, 'eval_accuracy': 0.9835164835164835, 'eval_f1_weighted': 0.983363324875235, 'eval_runtime': 14.2724, 'eval_samples_per_second': 25.504, 'eval_steps_per_second': 6.376, 'epoch': 2.994174757281553}\n",
      "Resultados CLEAN:\n",
      " {'eval_loss': 0.11931916326284409, 'eval_accuracy': 0.9697802197802198, 'eval_f1_weighted': 0.9696204180075148, 'eval_runtime': 7.7478, 'eval_samples_per_second': 46.981, 'eval_steps_per_second': 11.745, 'epoch': 2.994174757281553}\n"
     ]
    }
   ],
   "source": [
    "# Ejecutar experimentos: texto crudo vs texto limpio\n",
    "import os\n",
    "os.makedirs('./hf_models', exist_ok=True)\n",
    "\n",
    "print(\"=== Experimento 1: RAW ===\")\n",
    "metrics_raw = run_experiment(hf_train_raw, hf_test_raw, experiment_name='bert_raw', num_train_epochs=3, per_device_batch=8)\n",
    "\n",
    "print(\"=== Experimento 2: CLEAN ===\")\n",
    "metrics_clean = run_experiment(hf_train_clean, hf_test_clean, experiment_name='bert_clean', num_train_epochs=3, per_device_batch=8)\n",
    "\n",
    "print(\"Resultados RAW:\\n\", metrics_raw)\n",
    "print(\"Resultados CLEAN:\\n\", metrics_clean)"
   ]
  },
  {
   "cell_type": "markdown",
   "id": "379784c6",
   "metadata": {},
   "source": [
    "### 6.5 Comparación de resultados (raw vs clean)\n",
    "\n",
    "Visualizamos las métricas principales (accuracy y F1 ponderado) para comparar el desempeño del fine-tuning con texto crudo versus texto limpio."
   ]
  },
  {
   "cell_type": "code",
   "execution_count": 68,
   "id": "fc696a4a",
   "metadata": {},
   "outputs": [
    {
     "data": {
      "image/png": "[encoded data removed]",
      "text/plain": [
       "<Figure size 640x480 with 1 Axes>"
      ]
     },
     "metadata": {},
     "output_type": "display_data"
    },
    {
     "name": "stderr",
     "output_type": "stream",
     "text": [
      "/Users/felipemesa/.pyenv/versions/3.11.11/lib/python3.11/site-packages/transformers/training_args.py:2179: UserWarning: `use_mps_device` is deprecated and will be removed in version 5.0 of 🤗 Transformers. `mps` device will be used by default if available similar to the way `cuda` device is used.Therefore, no action from user is required. \n",
      "  warnings.warn(\n",
      "100%|██████████| 23/23 [00:13<00:00,  1.68it/s]\n",
      "\n"
     ]
    },
    {
     "data": {
      "image/png": "[encoded data removed]",
      "text/plain": [
       "<Figure size 640x480 with 1 Axes>"
      ]
     },
     "metadata": {},
     "output_type": "display_data"
    },
    {
     "name": "stdout",
     "output_type": "stream",
     "text": [
      "== Reporte de clasificación (RAW) ==\n",
      "              precision    recall  f1-score   support\n",
      "\n",
      "           1      1.000     0.934     0.966        76\n",
      "           3      0.978     0.993     0.985       134\n",
      "           4      0.981     1.000     0.990       154\n",
      "\n",
      "    accuracy                          0.984       364\n",
      "   macro avg      0.986     0.976     0.981       364\n",
      "weighted avg      0.984     0.984     0.983       364\n",
      "\n"
     ]
    }
   ],
   "source": [
    "from sklearn.metrics import ConfusionMatrixDisplay, classification_report\n",
    "\n",
    "def metric_or_none(metrics: dict, key: str):\n",
    "    try:\n",
    "        return float(metrics.get(key, np.nan))\n",
    "    except Exception:\n",
    "        return np.nan\n",
    "\n",
    "# Métricas resumidas\n",
    "acc_raw  = metric_or_none(metrics_raw,  'eval_accuracy')     or metric_or_none(metrics_raw,  'accuracy')\n",
    "f1w_raw  = metric_or_none(metrics_raw,  'eval_f1_weighted')  or metric_or_none(metrics_raw,  'f1_weighted')\n",
    "acc_clean= metric_or_none(metrics_clean,'eval_accuracy')     or metric_or_none(metrics_clean,'accuracy')\n",
    "f1w_clean= metric_or_none(metrics_clean,'eval_f1_weighted')  or metric_or_none(metrics_clean,'f1_weighted')\n",
    "\n",
    "df_plot = pd.DataFrame(\n",
    "    {'RAW': [acc_raw, f1w_raw],\n",
    "     'CLEAN': [acc_clean, f1w_clean]},\n",
    "    index=['Accuracy', 'F1 ponderado']\n",
    ")\n",
    "ax = df_plot.plot(kind='bar')\n",
    "ax.set_ylabel('Score')\n",
    "ax.set_title('BERT: RAW vs CLEAN')\n",
    "ax.set_ylim(0, 1.0)\n",
    "plt.tight_layout()\n",
    "plt.show()\n",
    "\n",
    "# Matriz de confusión del mejor experimento (según F1 ponderado)\n",
    "score_raw = f1w_raw if np.isfinite(f1w_raw) else -1.0\n",
    "score_clean = f1w_clean if np.isfinite(f1w_clean) else -1.0\n",
    "use_raw = score_raw >= score_clean\n",
    "\n",
    "exp_name = 'bert_raw' if use_raw else 'bert_clean'\n",
    "test_ds  = hf_test_raw if use_raw else hf_test_clean\n",
    "exp_label = 'RAW' if use_raw else 'CLEAN'\n",
    "\n",
    "# Cargar mejor modelo guardado y predecir sobre el conjunto de prueba correspondiente\n",
    "from transformers import AutoModelForSequenceClassification, AutoTokenizer, Trainer, TrainingArguments, DataCollatorWithPadding\n",
    "\n",
    "model_dir = f'./hf_models/{exp_name}'\n",
    "\n",
    "tokenizer_eval = AutoTokenizer.from_pretrained(model_dir)\n",
    "model_eval = AutoModelForSequenceClassification.from_pretrained(model_dir)\n",
    "model_eval.to(device)\n",
    "\n",
    "args_eval = TrainingArguments(\n",
    "    output_dir='./tmp_eval',\n",
    "    per_device_eval_batch_size=16,\n",
    "    report_to=[],\n",
    "    fp16=False,\n",
    "    use_mps_device=(str(device) == 'mps'),\n",
    ")\n",
    "data_collator_eval = DataCollatorWithPadding(tokenizer=tokenizer_eval)\n",
    "trainer_eval = Trainer(\n",
    "    model=model_eval,\n",
    "    args=args_eval,\n",
    "    tokenizer=tokenizer_eval,\n",
    "    data_collator=data_collator_eval,\n",
    ")\n",
    "\n",
    "preds = trainer_eval.predict(test_ds)\n",
    "y_true = np.array(test_ds['label'])\n",
    "y_pred = preds.predictions.argmax(axis=1)\n",
    "\n",
    "# Orden y etiquetas legibles (ODS originales)\n",
    "ods_order = sorted(label_id_map.keys())               # [1,3,4]\n",
    "label_order = [label_id_map[v] for v in ods_order]    # [0,1,2] según mapeo\n",
    "display_labels = [str(v) for v in ods_order]\n",
    "\n",
    "ConfusionMatrixDisplay.from_predictions(\n",
    "    y_true, y_pred,\n",
    "    labels=label_order,\n",
    "    display_labels=display_labels,\n",
    "    cmap='Blues',\n",
    "    colorbar=False\n",
    ")\n",
    "plt.title(f'Matriz de confusión - BERT {exp_label}')\n",
    "plt.tight_layout()\n",
    "plt.show()\n",
    "\n",
    "print(f'== Reporte de clasificación ({exp_label}) ==')\n",
    "print(classification_report(y_true, y_pred, target_names=display_labels, digits=3))\n"
   ]
  },
  {
   "cell_type": "markdown",
   "id": "5385fc93",
   "metadata": {},
   "source": [
    "# Final\n",
    "\n",
    "|Modelo|Accuracy/Precisión|F1 macro|Observaciones principales|\n",
    "|-------------------------|----------|----------|---------------------------|\n",
    "|**LinearSVC (TF-IDF)**|0.969|0.966|Buen rendimiento, balanceado entre ODS 1, 3 y 4. Mejor C=0.5.|\n",
    "|**Naive Bayes**|0.970|0.968|Rendimiento muy bueno y estable. Bigramas y α=0.1 fueron clave. ODS1 tiene un recall ligeramente menor al resto al dejar unos falsos negativos. \n",
    "|**BERT destilado (Trasnformador de texto) sin preprocesar**|0.986|0.981|Mejor rendimiento, pero el tiempo de entrenamiento es mucho más alto. Tuvo mejores resultados con los datos \"crudos\" por encima de los limpios/preprocesados debido a que el modelo base fue preentrenado sobre texto natural/crudo.\n"
   ]
  }
 ],
 "metadata": {
  "kernelspec": {
   "display_name": "3.11.11",
   "language": "python",
   "name": "python3"
  },
  "language_info": {
   "codemirror_mode": {
    "name": "ipython",
    "version": 3
   },
   "file_extension": ".py",
   "mimetype": "text/x-python",
   "name": "python",
   "nbconvert_exporter": "python",
   "pygments_lexer": "ipython3",
   "version": "3.11.11"
  }
 },
 "nbformat": 4,
 "nbformat_minor": 5
}
